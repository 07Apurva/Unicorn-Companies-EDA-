{
 "cells": [
  {
   "cell_type": "code",
   "execution_count": 102,
   "id": "85f9ce70",
   "metadata": {},
   "outputs": [],
   "source": [
    "#Import required lib\n",
    "import pandas as pd\n",
    "import numpy as np\n",
    "import regex as re\n",
    "import matplotlib.pyplot as plt\n",
    "import plotly\n",
    "import plotly.express as px\n",
    "import seaborn as sns"
   ]
  },
  {
   "cell_type": "code",
   "execution_count": 63,
   "id": "7476b1c1",
   "metadata": {},
   "outputs": [],
   "source": [
    "#Importing the data set into dataframe \n",
    "df= pd.read_excel(\"./Unicorn_Companies.xlsx\")"
   ]
  },
  {
   "cell_type": "code",
   "execution_count": 37,
   "id": "9a0f9990",
   "metadata": {},
   "outputs": [
    {
     "data": {
      "text/html": [
       "<div>\n",
       "<style scoped>\n",
       "    .dataframe tbody tr th:only-of-type {\n",
       "        vertical-align: middle;\n",
       "    }\n",
       "\n",
       "    .dataframe tbody tr th {\n",
       "        vertical-align: top;\n",
       "    }\n",
       "\n",
       "    .dataframe thead th {\n",
       "        text-align: right;\n",
       "    }\n",
       "</style>\n",
       "<table border=\"1\" class=\"dataframe\">\n",
       "  <thead>\n",
       "    <tr style=\"text-align: right;\">\n",
       "      <th></th>\n",
       "      <th>Unicorn_Companies</th>\n",
       "      <th>Unnamed: 1</th>\n",
       "      <th>Unnamed: 2</th>\n",
       "      <th>Unnamed: 3</th>\n",
       "      <th>Unnamed: 4</th>\n",
       "      <th>Unnamed: 5</th>\n",
       "      <th>Unnamed: 6</th>\n",
       "      <th>Unnamed: 7</th>\n",
       "      <th>Unnamed: 8</th>\n",
       "      <th>Unnamed: 9</th>\n",
       "    </tr>\n",
       "  </thead>\n",
       "  <tbody>\n",
       "    <tr>\n",
       "      <th>0</th>\n",
       "      <td>Company</td>\n",
       "      <td>Valuation</td>\n",
       "      <td>Date Joined</td>\n",
       "      <td>Industry</td>\n",
       "      <td>City</td>\n",
       "      <td>Country</td>\n",
       "      <td>Continent</td>\n",
       "      <td>Year Founded</td>\n",
       "      <td>Funding</td>\n",
       "      <td>Select Investors</td>\n",
       "    </tr>\n",
       "    <tr>\n",
       "      <th>1</th>\n",
       "      <td>Bytedance</td>\n",
       "      <td>$180B</td>\n",
       "      <td>07-04-2017</td>\n",
       "      <td>Artificial intelligence</td>\n",
       "      <td>Beijing</td>\n",
       "      <td>China</td>\n",
       "      <td>Asia</td>\n",
       "      <td>2012</td>\n",
       "      <td>8</td>\n",
       "      <td>Sequoia Capital China, SIG Asia Investments, S...</td>\n",
       "    </tr>\n",
       "    <tr>\n",
       "      <th>2</th>\n",
       "      <td>SpaceX</td>\n",
       "      <td>$100B</td>\n",
       "      <td>01-12-2012</td>\n",
       "      <td>Other</td>\n",
       "      <td>Hawthorne</td>\n",
       "      <td>United States</td>\n",
       "      <td>North America</td>\n",
       "      <td>2002</td>\n",
       "      <td>7</td>\n",
       "      <td>Founders Fund, Draper Fisher Jurvetson, Rothen...</td>\n",
       "    </tr>\n",
       "    <tr>\n",
       "      <th>3</th>\n",
       "      <td>SHEIN</td>\n",
       "      <td>$100B</td>\n",
       "      <td>03-07-2018</td>\n",
       "      <td>E-commerce &amp; direct-to-consumer</td>\n",
       "      <td>Shenzhen</td>\n",
       "      <td>China</td>\n",
       "      <td>Asia</td>\n",
       "      <td>2008</td>\n",
       "      <td>2</td>\n",
       "      <td>Tiger Global Management, Sequoia Capital China...</td>\n",
       "    </tr>\n",
       "    <tr>\n",
       "      <th>4</th>\n",
       "      <td>Stripe</td>\n",
       "      <td>$95B</td>\n",
       "      <td>23-01-2014</td>\n",
       "      <td>Fintech</td>\n",
       "      <td>San Francisco</td>\n",
       "      <td>United States</td>\n",
       "      <td>North America</td>\n",
       "      <td>2010</td>\n",
       "      <td>2</td>\n",
       "      <td>Khosla Ventures, LowercaseCapital, capitalG</td>\n",
       "    </tr>\n",
       "  </tbody>\n",
       "</table>\n",
       "</div>"
      ],
      "text/plain": [
       "  Unicorn_Companies Unnamed: 1   Unnamed: 2                       Unnamed: 3  \\\n",
       "0           Company  Valuation  Date Joined                         Industry   \n",
       "1         Bytedance      $180B   07-04-2017          Artificial intelligence   \n",
       "2            SpaceX      $100B   01-12-2012                            Other   \n",
       "3             SHEIN      $100B   03-07-2018  E-commerce & direct-to-consumer   \n",
       "4            Stripe       $95B   23-01-2014                          Fintech   \n",
       "\n",
       "      Unnamed: 4     Unnamed: 5     Unnamed: 6    Unnamed: 7 Unnamed: 8  \\\n",
       "0           City        Country      Continent  Year Founded    Funding   \n",
       "1        Beijing          China           Asia          2012          8   \n",
       "2      Hawthorne  United States  North America          2002          7   \n",
       "3       Shenzhen          China           Asia          2008          2   \n",
       "4  San Francisco  United States  North America          2010          2   \n",
       "\n",
       "                                          Unnamed: 9  \n",
       "0                                   Select Investors  \n",
       "1  Sequoia Capital China, SIG Asia Investments, S...  \n",
       "2  Founders Fund, Draper Fisher Jurvetson, Rothen...  \n",
       "3  Tiger Global Management, Sequoia Capital China...  \n",
       "4        Khosla Ventures, LowercaseCapital, capitalG  "
      ]
     },
     "execution_count": 37,
     "metadata": {},
     "output_type": "execute_result"
    }
   ],
   "source": [
    "#Loading the first 5 rows of the table\n",
    "df.head(5)"
   ]
  },
  {
   "cell_type": "markdown",
   "id": "b19a9be0",
   "metadata": {},
   "source": [
    "### Data Prepration"
   ]
  },
  {
   "cell_type": "code",
   "execution_count": 68,
   "id": "8969e831",
   "metadata": {},
   "outputs": [],
   "source": [
    "#Reanming the column names \n",
    "df.rename(columns ={'Unicorn_Companies' : 'Comapny', 'Unnamed: 1' : 'Valuation', 'Unnamed: 2' : 'Date of Joining'},inplace = True)"
   ]
  },
  {
   "cell_type": "code",
   "execution_count": 69,
   "id": "a615d234",
   "metadata": {},
   "outputs": [],
   "source": [
    "df.rename(columns ={'Unnamed: 3' : 'Industry', 'Unnamed: 4' : 'City', \n",
    "                    'Unnamed: 5' : 'Country','Unnamed: 6' : 'Continent',\n",
    "                    'Unnamed: 7' : 'Year founded','Unnamed: 8' : 'Funding','Unnamed: 9' : 'Investors'},inplace = True)"
   ]
  },
  {
   "cell_type": "code",
   "execution_count": 9,
   "id": "14763a9d",
   "metadata": {},
   "outputs": [
    {
     "data": {
      "text/html": [
       "<div>\n",
       "<style scoped>\n",
       "    .dataframe tbody tr th:only-of-type {\n",
       "        vertical-align: middle;\n",
       "    }\n",
       "\n",
       "    .dataframe tbody tr th {\n",
       "        vertical-align: top;\n",
       "    }\n",
       "\n",
       "    .dataframe thead th {\n",
       "        text-align: right;\n",
       "    }\n",
       "</style>\n",
       "<table border=\"1\" class=\"dataframe\">\n",
       "  <thead>\n",
       "    <tr style=\"text-align: right;\">\n",
       "      <th></th>\n",
       "      <th>Comapny</th>\n",
       "      <th>Valuation</th>\n",
       "      <th>Date of Joining</th>\n",
       "      <th>Industry</th>\n",
       "      <th>City</th>\n",
       "      <th>Country</th>\n",
       "      <th>Continent</th>\n",
       "      <th>Year founded</th>\n",
       "      <th>Funding</th>\n",
       "      <th>Investors</th>\n",
       "    </tr>\n",
       "  </thead>\n",
       "  <tbody>\n",
       "    <tr>\n",
       "      <th>0</th>\n",
       "      <td>Company</td>\n",
       "      <td>Valuation</td>\n",
       "      <td>Date Joined</td>\n",
       "      <td>Industry</td>\n",
       "      <td>City</td>\n",
       "      <td>Country</td>\n",
       "      <td>Continent</td>\n",
       "      <td>Year Founded</td>\n",
       "      <td>Funding</td>\n",
       "      <td>Select Investors</td>\n",
       "    </tr>\n",
       "    <tr>\n",
       "      <th>1</th>\n",
       "      <td>Bytedance</td>\n",
       "      <td>$180B</td>\n",
       "      <td>07-04-2017</td>\n",
       "      <td>Artificial intelligence</td>\n",
       "      <td>Beijing</td>\n",
       "      <td>China</td>\n",
       "      <td>Asia</td>\n",
       "      <td>2012</td>\n",
       "      <td>8</td>\n",
       "      <td>Sequoia Capital China, SIG Asia Investments, S...</td>\n",
       "    </tr>\n",
       "    <tr>\n",
       "      <th>2</th>\n",
       "      <td>SpaceX</td>\n",
       "      <td>$100B</td>\n",
       "      <td>01-12-2012</td>\n",
       "      <td>Other</td>\n",
       "      <td>Hawthorne</td>\n",
       "      <td>United States</td>\n",
       "      <td>North America</td>\n",
       "      <td>2002</td>\n",
       "      <td>7</td>\n",
       "      <td>Founders Fund, Draper Fisher Jurvetson, Rothen...</td>\n",
       "    </tr>\n",
       "    <tr>\n",
       "      <th>3</th>\n",
       "      <td>SHEIN</td>\n",
       "      <td>$100B</td>\n",
       "      <td>03-07-2018</td>\n",
       "      <td>E-commerce &amp; direct-to-consumer</td>\n",
       "      <td>Shenzhen</td>\n",
       "      <td>China</td>\n",
       "      <td>Asia</td>\n",
       "      <td>2008</td>\n",
       "      <td>2</td>\n",
       "      <td>Tiger Global Management, Sequoia Capital China...</td>\n",
       "    </tr>\n",
       "    <tr>\n",
       "      <th>4</th>\n",
       "      <td>Stripe</td>\n",
       "      <td>$95B</td>\n",
       "      <td>23-01-2014</td>\n",
       "      <td>Fintech</td>\n",
       "      <td>San Francisco</td>\n",
       "      <td>United States</td>\n",
       "      <td>North America</td>\n",
       "      <td>2010</td>\n",
       "      <td>2</td>\n",
       "      <td>Khosla Ventures, LowercaseCapital, capitalG</td>\n",
       "    </tr>\n",
       "    <tr>\n",
       "      <th>...</th>\n",
       "      <td>...</td>\n",
       "      <td>...</td>\n",
       "      <td>...</td>\n",
       "      <td>...</td>\n",
       "      <td>...</td>\n",
       "      <td>...</td>\n",
       "      <td>...</td>\n",
       "      <td>...</td>\n",
       "      <td>...</td>\n",
       "      <td>...</td>\n",
       "    </tr>\n",
       "    <tr>\n",
       "      <th>1070</th>\n",
       "      <td>Zhaogang</td>\n",
       "      <td>$1B</td>\n",
       "      <td>29-06-2017</td>\n",
       "      <td>E-commerce &amp; direct-to-consumer</td>\n",
       "      <td>Shanghai</td>\n",
       "      <td>China</td>\n",
       "      <td>Asia</td>\n",
       "      <td>2012</td>\n",
       "      <td>0.379</td>\n",
       "      <td>K2 Ventures, Matrix Partners China, IDG Capital</td>\n",
       "    </tr>\n",
       "    <tr>\n",
       "      <th>1071</th>\n",
       "      <td>Zhuan Zhuan</td>\n",
       "      <td>$1B</td>\n",
       "      <td>18-04-2017</td>\n",
       "      <td>E-commerce &amp; direct-to-consumer</td>\n",
       "      <td>Beijing</td>\n",
       "      <td>China</td>\n",
       "      <td>Asia</td>\n",
       "      <td>2015</td>\n",
       "      <td>0.99</td>\n",
       "      <td>58.com, Tencent Holdings</td>\n",
       "    </tr>\n",
       "    <tr>\n",
       "      <th>1072</th>\n",
       "      <td>Zihaiguo</td>\n",
       "      <td>$1B</td>\n",
       "      <td>06-05-2021</td>\n",
       "      <td>Consumer &amp; retail</td>\n",
       "      <td>Chongqing</td>\n",
       "      <td>China</td>\n",
       "      <td>Asia</td>\n",
       "      <td>2018</td>\n",
       "      <td>0.08</td>\n",
       "      <td>Xingwang Investment Management, China Capital ...</td>\n",
       "    </tr>\n",
       "    <tr>\n",
       "      <th>1073</th>\n",
       "      <td>Zopa</td>\n",
       "      <td>$1B</td>\n",
       "      <td>19-10-2021</td>\n",
       "      <td>Fintech</td>\n",
       "      <td>London</td>\n",
       "      <td>United Kingdom</td>\n",
       "      <td>Europe</td>\n",
       "      <td>2005</td>\n",
       "      <td>0.792</td>\n",
       "      <td>IAG Capital Partners, Augmentum Fintech, North...</td>\n",
       "    </tr>\n",
       "    <tr>\n",
       "      <th>1074</th>\n",
       "      <td>Zwift</td>\n",
       "      <td>$1B</td>\n",
       "      <td>16-09-2020</td>\n",
       "      <td>E-commerce &amp; direct-to-consumer</td>\n",
       "      <td>Long Beach</td>\n",
       "      <td>United States</td>\n",
       "      <td>North America</td>\n",
       "      <td>2014</td>\n",
       "      <td>0.62</td>\n",
       "      <td>Novator Partners, True, Causeway Media Partners</td>\n",
       "    </tr>\n",
       "  </tbody>\n",
       "</table>\n",
       "<p>1075 rows × 10 columns</p>\n",
       "</div>"
      ],
      "text/plain": [
       "          Comapny  Valuation Date of Joining                         Industry  \\\n",
       "0         Company  Valuation     Date Joined                         Industry   \n",
       "1       Bytedance      $180B      07-04-2017          Artificial intelligence   \n",
       "2          SpaceX      $100B      01-12-2012                            Other   \n",
       "3           SHEIN      $100B      03-07-2018  E-commerce & direct-to-consumer   \n",
       "4          Stripe       $95B      23-01-2014                          Fintech   \n",
       "...           ...        ...             ...                              ...   \n",
       "1070     Zhaogang        $1B      29-06-2017  E-commerce & direct-to-consumer   \n",
       "1071  Zhuan Zhuan        $1B      18-04-2017  E-commerce & direct-to-consumer   \n",
       "1072     Zihaiguo        $1B      06-05-2021                Consumer & retail   \n",
       "1073         Zopa        $1B      19-10-2021                          Fintech   \n",
       "1074        Zwift        $1B      16-09-2020  E-commerce & direct-to-consumer   \n",
       "\n",
       "               City         Country      Continent  Year founded  Funding  \\\n",
       "0              City         Country      Continent  Year Founded  Funding   \n",
       "1           Beijing           China           Asia          2012        8   \n",
       "2         Hawthorne   United States  North America          2002        7   \n",
       "3          Shenzhen           China           Asia          2008        2   \n",
       "4     San Francisco   United States  North America          2010        2   \n",
       "...             ...             ...            ...           ...      ...   \n",
       "1070       Shanghai           China           Asia          2012    0.379   \n",
       "1071        Beijing           China           Asia          2015     0.99   \n",
       "1072      Chongqing           China           Asia          2018     0.08   \n",
       "1073         London  United Kingdom         Europe          2005    0.792   \n",
       "1074     Long Beach   United States  North America          2014     0.62   \n",
       "\n",
       "                                              Investors  \n",
       "0                                      Select Investors  \n",
       "1     Sequoia Capital China, SIG Asia Investments, S...  \n",
       "2     Founders Fund, Draper Fisher Jurvetson, Rothen...  \n",
       "3     Tiger Global Management, Sequoia Capital China...  \n",
       "4           Khosla Ventures, LowercaseCapital, capitalG  \n",
       "...                                                 ...  \n",
       "1070    K2 Ventures, Matrix Partners China, IDG Capital  \n",
       "1071                           58.com, Tencent Holdings  \n",
       "1072  Xingwang Investment Management, China Capital ...  \n",
       "1073  IAG Capital Partners, Augmentum Fintech, North...  \n",
       "1074    Novator Partners, True, Causeway Media Partners  \n",
       "\n",
       "[1075 rows x 10 columns]"
      ]
     },
     "execution_count": 9,
     "metadata": {},
     "output_type": "execute_result"
    }
   ],
   "source": [
    "df"
   ]
  },
  {
   "cell_type": "code",
   "execution_count": 10,
   "id": "d530888f",
   "metadata": {},
   "outputs": [
    {
     "data": {
      "text/html": [
       "<div>\n",
       "<style scoped>\n",
       "    .dataframe tbody tr th:only-of-type {\n",
       "        vertical-align: middle;\n",
       "    }\n",
       "\n",
       "    .dataframe tbody tr th {\n",
       "        vertical-align: top;\n",
       "    }\n",
       "\n",
       "    .dataframe thead th {\n",
       "        text-align: right;\n",
       "    }\n",
       "</style>\n",
       "<table border=\"1\" class=\"dataframe\">\n",
       "  <thead>\n",
       "    <tr style=\"text-align: right;\">\n",
       "      <th></th>\n",
       "      <th>Comapny</th>\n",
       "      <th>Valuation</th>\n",
       "      <th>Date of Joining</th>\n",
       "      <th>Industry</th>\n",
       "      <th>City</th>\n",
       "      <th>Country</th>\n",
       "      <th>Continent</th>\n",
       "      <th>Year founded</th>\n",
       "      <th>Funding</th>\n",
       "      <th>Investors</th>\n",
       "    </tr>\n",
       "  </thead>\n",
       "  <tbody>\n",
       "    <tr>\n",
       "      <th>1</th>\n",
       "      <td>Bytedance</td>\n",
       "      <td>$180B</td>\n",
       "      <td>07-04-2017</td>\n",
       "      <td>Artificial intelligence</td>\n",
       "      <td>Beijing</td>\n",
       "      <td>China</td>\n",
       "      <td>Asia</td>\n",
       "      <td>2012</td>\n",
       "      <td>8</td>\n",
       "      <td>Sequoia Capital China, SIG Asia Investments, S...</td>\n",
       "    </tr>\n",
       "    <tr>\n",
       "      <th>2</th>\n",
       "      <td>SpaceX</td>\n",
       "      <td>$100B</td>\n",
       "      <td>01-12-2012</td>\n",
       "      <td>Other</td>\n",
       "      <td>Hawthorne</td>\n",
       "      <td>United States</td>\n",
       "      <td>North America</td>\n",
       "      <td>2002</td>\n",
       "      <td>7</td>\n",
       "      <td>Founders Fund, Draper Fisher Jurvetson, Rothen...</td>\n",
       "    </tr>\n",
       "    <tr>\n",
       "      <th>3</th>\n",
       "      <td>SHEIN</td>\n",
       "      <td>$100B</td>\n",
       "      <td>03-07-2018</td>\n",
       "      <td>E-commerce &amp; direct-to-consumer</td>\n",
       "      <td>Shenzhen</td>\n",
       "      <td>China</td>\n",
       "      <td>Asia</td>\n",
       "      <td>2008</td>\n",
       "      <td>2</td>\n",
       "      <td>Tiger Global Management, Sequoia Capital China...</td>\n",
       "    </tr>\n",
       "    <tr>\n",
       "      <th>4</th>\n",
       "      <td>Stripe</td>\n",
       "      <td>$95B</td>\n",
       "      <td>23-01-2014</td>\n",
       "      <td>Fintech</td>\n",
       "      <td>San Francisco</td>\n",
       "      <td>United States</td>\n",
       "      <td>North America</td>\n",
       "      <td>2010</td>\n",
       "      <td>2</td>\n",
       "      <td>Khosla Ventures, LowercaseCapital, capitalG</td>\n",
       "    </tr>\n",
       "    <tr>\n",
       "      <th>5</th>\n",
       "      <td>Klarna</td>\n",
       "      <td>$46B</td>\n",
       "      <td>12-12-2011</td>\n",
       "      <td>Fintech</td>\n",
       "      <td>Stockholm</td>\n",
       "      <td>Sweden</td>\n",
       "      <td>Europe</td>\n",
       "      <td>2005</td>\n",
       "      <td>4</td>\n",
       "      <td>Institutional Venture Partners, Sequoia Capita...</td>\n",
       "    </tr>\n",
       "    <tr>\n",
       "      <th>6</th>\n",
       "      <td>Canva</td>\n",
       "      <td>$40B</td>\n",
       "      <td>08-01-2018</td>\n",
       "      <td>Internet software &amp; services</td>\n",
       "      <td>Surry Hills</td>\n",
       "      <td>Australia</td>\n",
       "      <td>Oceania</td>\n",
       "      <td>2012</td>\n",
       "      <td>0.572</td>\n",
       "      <td>Sequoia Capital China, Blackbird Ventures, Mat...</td>\n",
       "    </tr>\n",
       "    <tr>\n",
       "      <th>7</th>\n",
       "      <td>Checkout.com</td>\n",
       "      <td>$40B</td>\n",
       "      <td>02-05-2019</td>\n",
       "      <td>Fintech</td>\n",
       "      <td>London</td>\n",
       "      <td>United Kingdom</td>\n",
       "      <td>Europe</td>\n",
       "      <td>2012</td>\n",
       "      <td>2</td>\n",
       "      <td>Tiger Global Management, Insight Partners, DST...</td>\n",
       "    </tr>\n",
       "    <tr>\n",
       "      <th>8</th>\n",
       "      <td>Instacart</td>\n",
       "      <td>$39B</td>\n",
       "      <td>30-12-2014</td>\n",
       "      <td>Supply chain, logistics, &amp; delivery</td>\n",
       "      <td>San Francisco</td>\n",
       "      <td>United States</td>\n",
       "      <td>North America</td>\n",
       "      <td>2012</td>\n",
       "      <td>3</td>\n",
       "      <td>Khosla Ventures, Kleiner Perkins Caufield &amp; By...</td>\n",
       "    </tr>\n",
       "    <tr>\n",
       "      <th>9</th>\n",
       "      <td>JUUL Labs</td>\n",
       "      <td>$38B</td>\n",
       "      <td>20-12-2017</td>\n",
       "      <td>Consumer &amp; retail</td>\n",
       "      <td>San Francisco</td>\n",
       "      <td>United States</td>\n",
       "      <td>North America</td>\n",
       "      <td>2015</td>\n",
       "      <td>14</td>\n",
       "      <td>Tiger Global Management</td>\n",
       "    </tr>\n",
       "    <tr>\n",
       "      <th>10</th>\n",
       "      <td>Databricks</td>\n",
       "      <td>$38B</td>\n",
       "      <td>05-02-2019</td>\n",
       "      <td>Data management &amp; analytics</td>\n",
       "      <td>San Francisco</td>\n",
       "      <td>United States</td>\n",
       "      <td>North America</td>\n",
       "      <td>2013</td>\n",
       "      <td>3</td>\n",
       "      <td>Andreessen Horowitz, New Enterprise Associates...</td>\n",
       "    </tr>\n",
       "  </tbody>\n",
       "</table>\n",
       "</div>"
      ],
      "text/plain": [
       "         Comapny Valuation Date of Joining  \\\n",
       "1      Bytedance     $180B      07-04-2017   \n",
       "2         SpaceX     $100B      01-12-2012   \n",
       "3          SHEIN     $100B      03-07-2018   \n",
       "4         Stripe      $95B      23-01-2014   \n",
       "5         Klarna      $46B      12-12-2011   \n",
       "6          Canva      $40B      08-01-2018   \n",
       "7   Checkout.com      $40B      02-05-2019   \n",
       "8      Instacart      $39B      30-12-2014   \n",
       "9      JUUL Labs      $38B      20-12-2017   \n",
       "10    Databricks      $38B      05-02-2019   \n",
       "\n",
       "                               Industry           City         Country  \\\n",
       "1               Artificial intelligence        Beijing           China   \n",
       "2                                 Other      Hawthorne   United States   \n",
       "3       E-commerce & direct-to-consumer       Shenzhen           China   \n",
       "4                               Fintech  San Francisco   United States   \n",
       "5                               Fintech      Stockholm          Sweden   \n",
       "6          Internet software & services    Surry Hills       Australia   \n",
       "7                               Fintech         London  United Kingdom   \n",
       "8   Supply chain, logistics, & delivery  San Francisco   United States   \n",
       "9                     Consumer & retail  San Francisco   United States   \n",
       "10          Data management & analytics  San Francisco   United States   \n",
       "\n",
       "        Continent Year founded Funding  \\\n",
       "1            Asia         2012       8   \n",
       "2   North America         2002       7   \n",
       "3            Asia         2008       2   \n",
       "4   North America         2010       2   \n",
       "5          Europe         2005       4   \n",
       "6         Oceania         2012   0.572   \n",
       "7          Europe         2012       2   \n",
       "8   North America         2012       3   \n",
       "9   North America         2015      14   \n",
       "10  North America         2013       3   \n",
       "\n",
       "                                            Investors  \n",
       "1   Sequoia Capital China, SIG Asia Investments, S...  \n",
       "2   Founders Fund, Draper Fisher Jurvetson, Rothen...  \n",
       "3   Tiger Global Management, Sequoia Capital China...  \n",
       "4         Khosla Ventures, LowercaseCapital, capitalG  \n",
       "5   Institutional Venture Partners, Sequoia Capita...  \n",
       "6   Sequoia Capital China, Blackbird Ventures, Mat...  \n",
       "7   Tiger Global Management, Insight Partners, DST...  \n",
       "8   Khosla Ventures, Kleiner Perkins Caufield & By...  \n",
       "9                             Tiger Global Management  \n",
       "10  Andreessen Horowitz, New Enterprise Associates...  "
      ]
     },
     "execution_count": 10,
     "metadata": {},
     "output_type": "execute_result"
    }
   ],
   "source": [
    "df.drop(index=df.index[0], axis=0, inplace=True)\n",
    "df.head(10)"
   ]
  },
  {
   "cell_type": "code",
   "execution_count": 11,
   "id": "f195685f",
   "metadata": {},
   "outputs": [
    {
     "name": "stdout",
     "output_type": "stream",
     "text": [
      "<class 'pandas.core.frame.DataFrame'>\n",
      "RangeIndex: 1074 entries, 1 to 1074\n",
      "Data columns (total 10 columns):\n",
      " #   Column           Non-Null Count  Dtype \n",
      "---  ------           --------------  ----- \n",
      " 0   Comapny          1074 non-null   object\n",
      " 1   Valuation        1074 non-null   object\n",
      " 2   Date of Joining  1074 non-null   object\n",
      " 3   Industry         1074 non-null   object\n",
      " 4   City             1058 non-null   object\n",
      " 5   Country          1074 non-null   object\n",
      " 6   Continent        1074 non-null   object\n",
      " 7   Year founded     1074 non-null   object\n",
      " 8   Funding          1074 non-null   object\n",
      " 9   Investors        1073 non-null   object\n",
      "dtypes: object(10)\n",
      "memory usage: 84.0+ KB\n"
     ]
    }
   ],
   "source": [
    "df.info()"
   ]
  },
  {
   "cell_type": "code",
   "execution_count": 12,
   "id": "6f14db35",
   "metadata": {},
   "outputs": [
    {
     "data": {
      "text/plain": [
       "Index(['Comapny', 'Valuation', 'Date of Joining', 'Industry', 'City',\n",
       "       'Country', 'Continent', 'Year founded', 'Funding', 'Investors'],\n",
       "      dtype='object')"
      ]
     },
     "execution_count": 12,
     "metadata": {},
     "output_type": "execute_result"
    }
   ],
   "source": [
    "df.columns"
   ]
  },
  {
   "cell_type": "code",
   "execution_count": 13,
   "id": "6005ee22",
   "metadata": {},
   "outputs": [
    {
     "data": {
      "text/plain": [
       "(1074, 10)"
      ]
     },
     "execution_count": 13,
     "metadata": {},
     "output_type": "execute_result"
    }
   ],
   "source": [
    "df.shape"
   ]
  },
  {
   "cell_type": "code",
   "execution_count": 14,
   "id": "b085febe",
   "metadata": {},
   "outputs": [
    {
     "data": {
      "text/plain": [
       "(1074, 10)"
      ]
     },
     "execution_count": 14,
     "metadata": {},
     "output_type": "execute_result"
    }
   ],
   "source": [
    "# Checking for duplicate values \n",
    "df.drop_duplicates(inplace= True)\n",
    "df.shape"
   ]
  },
  {
   "cell_type": "code",
   "execution_count": 7,
   "id": "e145b1ef",
   "metadata": {},
   "outputs": [
    {
     "data": {
      "text/plain": [
       "Comapny             0\n",
       "Valuation           0\n",
       "Date of Joining     0\n",
       "Industry            0\n",
       "City               16\n",
       "Country             0\n",
       "Continent           0\n",
       "Year founded        0\n",
       "Funding             0\n",
       "Investors           1\n",
       "dtype: int64"
      ]
     },
     "execution_count": 7,
     "metadata": {},
     "output_type": "execute_result"
    }
   ],
   "source": [
    "#Checking for null values\n",
    "df.isna().sum()"
   ]
  },
  {
   "cell_type": "markdown",
   "id": "fece611c",
   "metadata": {},
   "source": [
    "### Drop all Null values\n"
   ]
  },
  {
   "cell_type": "code",
   "execution_count": 8,
   "id": "f59b4e68",
   "metadata": {},
   "outputs": [],
   "source": [
    "df.dropna(inplace=True)"
   ]
  },
  {
   "cell_type": "code",
   "execution_count": 9,
   "id": "35656dfb",
   "metadata": {},
   "outputs": [
    {
     "data": {
      "text/html": [
       "<div>\n",
       "<style scoped>\n",
       "    .dataframe tbody tr th:only-of-type {\n",
       "        vertical-align: middle;\n",
       "    }\n",
       "\n",
       "    .dataframe tbody tr th {\n",
       "        vertical-align: top;\n",
       "    }\n",
       "\n",
       "    .dataframe thead th {\n",
       "        text-align: right;\n",
       "    }\n",
       "</style>\n",
       "<table border=\"1\" class=\"dataframe\">\n",
       "  <thead>\n",
       "    <tr style=\"text-align: right;\">\n",
       "      <th></th>\n",
       "      <th>Comapny</th>\n",
       "      <th>Valuation</th>\n",
       "      <th>Date of Joining</th>\n",
       "      <th>Industry</th>\n",
       "      <th>City</th>\n",
       "      <th>Country</th>\n",
       "      <th>Continent</th>\n",
       "      <th>Year founded</th>\n",
       "      <th>Funding</th>\n",
       "      <th>Investors</th>\n",
       "    </tr>\n",
       "  </thead>\n",
       "  <tbody>\n",
       "    <tr>\n",
       "      <th>0</th>\n",
       "      <td>Company</td>\n",
       "      <td>Valuation</td>\n",
       "      <td>Date Joined</td>\n",
       "      <td>Industry</td>\n",
       "      <td>City</td>\n",
       "      <td>Country</td>\n",
       "      <td>Continent</td>\n",
       "      <td>Year Founded</td>\n",
       "      <td>Funding</td>\n",
       "      <td>Select Investors</td>\n",
       "    </tr>\n",
       "    <tr>\n",
       "      <th>1</th>\n",
       "      <td>Bytedance</td>\n",
       "      <td>$180B</td>\n",
       "      <td>07-04-2017</td>\n",
       "      <td>Artificial intelligence</td>\n",
       "      <td>Beijing</td>\n",
       "      <td>China</td>\n",
       "      <td>Asia</td>\n",
       "      <td>2012</td>\n",
       "      <td>8</td>\n",
       "      <td>Sequoia Capital China, SIG Asia Investments, S...</td>\n",
       "    </tr>\n",
       "    <tr>\n",
       "      <th>2</th>\n",
       "      <td>SpaceX</td>\n",
       "      <td>$100B</td>\n",
       "      <td>01-12-2012</td>\n",
       "      <td>Other</td>\n",
       "      <td>Hawthorne</td>\n",
       "      <td>United States</td>\n",
       "      <td>North America</td>\n",
       "      <td>2002</td>\n",
       "      <td>7</td>\n",
       "      <td>Founders Fund, Draper Fisher Jurvetson, Rothen...</td>\n",
       "    </tr>\n",
       "    <tr>\n",
       "      <th>3</th>\n",
       "      <td>SHEIN</td>\n",
       "      <td>$100B</td>\n",
       "      <td>03-07-2018</td>\n",
       "      <td>E-commerce &amp; direct-to-consumer</td>\n",
       "      <td>Shenzhen</td>\n",
       "      <td>China</td>\n",
       "      <td>Asia</td>\n",
       "      <td>2008</td>\n",
       "      <td>2</td>\n",
       "      <td>Tiger Global Management, Sequoia Capital China...</td>\n",
       "    </tr>\n",
       "    <tr>\n",
       "      <th>4</th>\n",
       "      <td>Stripe</td>\n",
       "      <td>$95B</td>\n",
       "      <td>23-01-2014</td>\n",
       "      <td>Fintech</td>\n",
       "      <td>San Francisco</td>\n",
       "      <td>United States</td>\n",
       "      <td>North America</td>\n",
       "      <td>2010</td>\n",
       "      <td>2</td>\n",
       "      <td>Khosla Ventures, LowercaseCapital, capitalG</td>\n",
       "    </tr>\n",
       "  </tbody>\n",
       "</table>\n",
       "</div>"
      ],
      "text/plain": [
       "     Comapny  Valuation Date of Joining                         Industry  \\\n",
       "0    Company  Valuation     Date Joined                         Industry   \n",
       "1  Bytedance      $180B      07-04-2017          Artificial intelligence   \n",
       "2     SpaceX      $100B      01-12-2012                            Other   \n",
       "3      SHEIN      $100B      03-07-2018  E-commerce & direct-to-consumer   \n",
       "4     Stripe       $95B      23-01-2014                          Fintech   \n",
       "\n",
       "            City        Country      Continent  Year founded  Funding  \\\n",
       "0           City        Country      Continent  Year Founded  Funding   \n",
       "1        Beijing          China           Asia          2012        8   \n",
       "2      Hawthorne  United States  North America          2002        7   \n",
       "3       Shenzhen          China           Asia          2008        2   \n",
       "4  San Francisco  United States  North America          2010        2   \n",
       "\n",
       "                                           Investors  \n",
       "0                                   Select Investors  \n",
       "1  Sequoia Capital China, SIG Asia Investments, S...  \n",
       "2  Founders Fund, Draper Fisher Jurvetson, Rothen...  \n",
       "3  Tiger Global Management, Sequoia Capital China...  \n",
       "4        Khosla Ventures, LowercaseCapital, capitalG  "
      ]
     },
     "execution_count": 9,
     "metadata": {},
     "output_type": "execute_result"
    }
   ],
   "source": [
    "df.head(5)"
   ]
  },
  {
   "cell_type": "markdown",
   "id": "8f5347a0",
   "metadata": {},
   "source": [
    "### Country-wise company check"
   ]
  },
  {
   "cell_type": "code",
   "execution_count": 10,
   "id": "a927f548",
   "metadata": {},
   "outputs": [
    {
     "data": {
      "text/html": [
       "<div>\n",
       "<style scoped>\n",
       "    .dataframe tbody tr th:only-of-type {\n",
       "        vertical-align: middle;\n",
       "    }\n",
       "\n",
       "    .dataframe tbody tr th {\n",
       "        vertical-align: top;\n",
       "    }\n",
       "\n",
       "    .dataframe thead th {\n",
       "        text-align: right;\n",
       "    }\n",
       "</style>\n",
       "<table border=\"1\" class=\"dataframe\">\n",
       "  <thead>\n",
       "    <tr style=\"text-align: right;\">\n",
       "      <th></th>\n",
       "      <th>Comapny</th>\n",
       "      <th>Valuation</th>\n",
       "      <th>Date of Joining</th>\n",
       "      <th>Industry</th>\n",
       "      <th>City</th>\n",
       "      <th>Country</th>\n",
       "      <th>Continent</th>\n",
       "      <th>Year founded</th>\n",
       "      <th>Funding</th>\n",
       "      <th>Investors</th>\n",
       "    </tr>\n",
       "  </thead>\n",
       "  <tbody>\n",
       "    <tr>\n",
       "      <th>16</th>\n",
       "      <td>BYJU's</td>\n",
       "      <td>$22B</td>\n",
       "      <td>25-07-2017</td>\n",
       "      <td>Edtech</td>\n",
       "      <td>Bengaluru</td>\n",
       "      <td>India</td>\n",
       "      <td>Asia</td>\n",
       "      <td>2008</td>\n",
       "      <td>4</td>\n",
       "      <td>Tencent Holdings, Lightspeed India Partners, S...</td>\n",
       "    </tr>\n",
       "    <tr>\n",
       "      <th>42</th>\n",
       "      <td>Swiggy</td>\n",
       "      <td>$11B</td>\n",
       "      <td>21-06-2018</td>\n",
       "      <td>Supply chain, logistics, &amp; delivery</td>\n",
       "      <td>Bengaluru</td>\n",
       "      <td>India</td>\n",
       "      <td>Asia</td>\n",
       "      <td>2014</td>\n",
       "      <td>5</td>\n",
       "      <td>Accel India, SAIF Partners, Norwest Venture Pa...</td>\n",
       "    </tr>\n",
       "    <tr>\n",
       "      <th>49</th>\n",
       "      <td>OYO Rooms</td>\n",
       "      <td>$10B</td>\n",
       "      <td>25-09-2018</td>\n",
       "      <td>Travel</td>\n",
       "      <td>Gurugram</td>\n",
       "      <td>India</td>\n",
       "      <td>Asia</td>\n",
       "      <td>2012</td>\n",
       "      <td>3</td>\n",
       "      <td>SoftBank Group, Sequoia Capital India,Lightspe...</td>\n",
       "    </tr>\n",
       "    <tr>\n",
       "      <th>72</th>\n",
       "      <td>Dream11</td>\n",
       "      <td>$8B</td>\n",
       "      <td>09-04-2019</td>\n",
       "      <td>Internet software &amp; services</td>\n",
       "      <td>Mumbai</td>\n",
       "      <td>India</td>\n",
       "      <td>Asia</td>\n",
       "      <td>2007</td>\n",
       "      <td>2</td>\n",
       "      <td>Kaalari Capital, Tencent Holdings, Steadview C...</td>\n",
       "    </tr>\n",
       "    <tr>\n",
       "      <th>75</th>\n",
       "      <td>Razorpay</td>\n",
       "      <td>$8B</td>\n",
       "      <td>11-10-2020</td>\n",
       "      <td>Fintech</td>\n",
       "      <td>Bengaluru</td>\n",
       "      <td>India</td>\n",
       "      <td>Asia</td>\n",
       "      <td>2013</td>\n",
       "      <td>0.742</td>\n",
       "      <td>Sequoia Capital India, Tiger Global Management...</td>\n",
       "    </tr>\n",
       "    <tr>\n",
       "      <th>...</th>\n",
       "      <td>...</td>\n",
       "      <td>...</td>\n",
       "      <td>...</td>\n",
       "      <td>...</td>\n",
       "      <td>...</td>\n",
       "      <td>...</td>\n",
       "      <td>...</td>\n",
       "      <td>...</td>\n",
       "      <td>...</td>\n",
       "      <td>...</td>\n",
       "    </tr>\n",
       "    <tr>\n",
       "      <th>956</th>\n",
       "      <td>Licious</td>\n",
       "      <td>$1B</td>\n",
       "      <td>05-10-2021</td>\n",
       "      <td>E-commerce &amp; direct-to-consumer</td>\n",
       "      <td>Bengaluru</td>\n",
       "      <td>India</td>\n",
       "      <td>Asia</td>\n",
       "      <td>2015</td>\n",
       "      <td>0.489</td>\n",
       "      <td>3one4 Capital Partners, Bertelsmann India Inve...</td>\n",
       "    </tr>\n",
       "    <tr>\n",
       "      <th>968</th>\n",
       "      <td>Mensa Brands</td>\n",
       "      <td>$1B</td>\n",
       "      <td>16-11-2021</td>\n",
       "      <td>Other</td>\n",
       "      <td>Bengaluru</td>\n",
       "      <td>India</td>\n",
       "      <td>Asia</td>\n",
       "      <td>2021</td>\n",
       "      <td>0.218</td>\n",
       "      <td>Accel, Falcon Edge Capital, Norwest Venture Pa...</td>\n",
       "    </tr>\n",
       "    <tr>\n",
       "      <th>982</th>\n",
       "      <td>NoBroker</td>\n",
       "      <td>$1B</td>\n",
       "      <td>23-11-2021</td>\n",
       "      <td>Internet software &amp; services</td>\n",
       "      <td>Bengaluru</td>\n",
       "      <td>India</td>\n",
       "      <td>Asia</td>\n",
       "      <td>2014</td>\n",
       "      <td>0.424</td>\n",
       "      <td>General Atlantic, Elevation Capital, BEENEXT</td>\n",
       "    </tr>\n",
       "    <tr>\n",
       "      <th>1027</th>\n",
       "      <td>Slice</td>\n",
       "      <td>$1B</td>\n",
       "      <td>28-11-2021</td>\n",
       "      <td>Fintech</td>\n",
       "      <td>Bengaluru</td>\n",
       "      <td>India</td>\n",
       "      <td>Asia</td>\n",
       "      <td>2015</td>\n",
       "      <td>0.249</td>\n",
       "      <td>Gunosy Capital, Blume Ventures, Das Capital</td>\n",
       "    </tr>\n",
       "    <tr>\n",
       "      <th>1053</th>\n",
       "      <td>Vedantu</td>\n",
       "      <td>$1B</td>\n",
       "      <td>29-09-2021</td>\n",
       "      <td>Edtech</td>\n",
       "      <td>Bengaluru</td>\n",
       "      <td>India</td>\n",
       "      <td>Asia</td>\n",
       "      <td>2014</td>\n",
       "      <td>0.292</td>\n",
       "      <td>Accel, Tiger Global Management, Omidyar Network</td>\n",
       "    </tr>\n",
       "  </tbody>\n",
       "</table>\n",
       "<p>65 rows × 10 columns</p>\n",
       "</div>"
      ],
      "text/plain": [
       "           Comapny Valuation Date of Joining  \\\n",
       "16          BYJU's      $22B      25-07-2017   \n",
       "42          Swiggy      $11B      21-06-2018   \n",
       "49       OYO Rooms      $10B      25-09-2018   \n",
       "72         Dream11       $8B      09-04-2019   \n",
       "75        Razorpay       $8B      11-10-2020   \n",
       "...            ...       ...             ...   \n",
       "956        Licious       $1B      05-10-2021   \n",
       "968   Mensa Brands       $1B      16-11-2021   \n",
       "982       NoBroker       $1B      23-11-2021   \n",
       "1027         Slice       $1B      28-11-2021   \n",
       "1053       Vedantu       $1B      29-09-2021   \n",
       "\n",
       "                                 Industry       City Country Continent  \\\n",
       "16                                 Edtech  Bengaluru   India      Asia   \n",
       "42    Supply chain, logistics, & delivery  Bengaluru   India      Asia   \n",
       "49                                 Travel   Gurugram   India      Asia   \n",
       "72           Internet software & services     Mumbai   India      Asia   \n",
       "75                                Fintech  Bengaluru   India      Asia   \n",
       "...                                   ...        ...     ...       ...   \n",
       "956       E-commerce & direct-to-consumer  Bengaluru   India      Asia   \n",
       "968                                 Other  Bengaluru   India      Asia   \n",
       "982          Internet software & services  Bengaluru   India      Asia   \n",
       "1027                              Fintech  Bengaluru   India      Asia   \n",
       "1053                               Edtech  Bengaluru   India      Asia   \n",
       "\n",
       "     Year founded Funding                                          Investors  \n",
       "16           2008       4  Tencent Holdings, Lightspeed India Partners, S...  \n",
       "42           2014       5  Accel India, SAIF Partners, Norwest Venture Pa...  \n",
       "49           2012       3  SoftBank Group, Sequoia Capital India,Lightspe...  \n",
       "72           2007       2  Kaalari Capital, Tencent Holdings, Steadview C...  \n",
       "75           2013   0.742  Sequoia Capital India, Tiger Global Management...  \n",
       "...           ...     ...                                                ...  \n",
       "956          2015   0.489  3one4 Capital Partners, Bertelsmann India Inve...  \n",
       "968          2021   0.218  Accel, Falcon Edge Capital, Norwest Venture Pa...  \n",
       "982          2014   0.424       General Atlantic, Elevation Capital, BEENEXT  \n",
       "1027         2015   0.249        Gunosy Capital, Blume Ventures, Das Capital  \n",
       "1053         2014   0.292    Accel, Tiger Global Management, Omidyar Network  \n",
       "\n",
       "[65 rows x 10 columns]"
      ]
     },
     "execution_count": 10,
     "metadata": {},
     "output_type": "execute_result"
    }
   ],
   "source": [
    "#lets talk about INDIA\n",
    "India =df[df['Country']== \"India\"]\n",
    "India"
   ]
  },
  {
   "cell_type": "code",
   "execution_count": 15,
   "id": "ab417bc9",
   "metadata": {},
   "outputs": [],
   "source": [
    "#based on valuation\n",
    "company_wise_val = df.sort_values(by= \"Valuation\", ascending= False)"
   ]
  },
  {
   "cell_type": "code",
   "execution_count": 16,
   "id": "b5d9677d",
   "metadata": {},
   "outputs": [
    {
     "data": {
      "text/html": [
       "<div>\n",
       "<style scoped>\n",
       "    .dataframe tbody tr th:only-of-type {\n",
       "        vertical-align: middle;\n",
       "    }\n",
       "\n",
       "    .dataframe tbody tr th {\n",
       "        vertical-align: top;\n",
       "    }\n",
       "\n",
       "    .dataframe thead th {\n",
       "        text-align: right;\n",
       "    }\n",
       "</style>\n",
       "<table border=\"1\" class=\"dataframe\">\n",
       "  <thead>\n",
       "    <tr style=\"text-align: right;\">\n",
       "      <th></th>\n",
       "      <th>Comapny</th>\n",
       "      <th>Valuation</th>\n",
       "      <th>Date of Joining</th>\n",
       "      <th>Industry</th>\n",
       "      <th>City</th>\n",
       "      <th>Country</th>\n",
       "      <th>Continent</th>\n",
       "      <th>Year founded</th>\n",
       "      <th>Funding</th>\n",
       "      <th>Investors</th>\n",
       "    </tr>\n",
       "  </thead>\n",
       "  <tbody>\n",
       "    <tr>\n",
       "      <th>68</th>\n",
       "      <td>N26</td>\n",
       "      <td>$9B</td>\n",
       "      <td>10-01-2019</td>\n",
       "      <td>Fintech</td>\n",
       "      <td>Berlin</td>\n",
       "      <td>Germany</td>\n",
       "      <td>Europe</td>\n",
       "      <td>2013</td>\n",
       "      <td>2</td>\n",
       "      <td>Redalpine Venture Partners, Earlybird Venture ...</td>\n",
       "    </tr>\n",
       "    <tr>\n",
       "      <th>62</th>\n",
       "      <td>Dunamu</td>\n",
       "      <td>$9B</td>\n",
       "      <td>22-07-2021</td>\n",
       "      <td>Fintech</td>\n",
       "      <td>Seoul</td>\n",
       "      <td>South Korea</td>\n",
       "      <td>Asia</td>\n",
       "      <td>2012</td>\n",
       "      <td>0.071</td>\n",
       "      <td>Qualcomm Ventures, Woori Investment, Hanwha In...</td>\n",
       "    </tr>\n",
       "    <tr>\n",
       "      <th>63</th>\n",
       "      <td>Yanolja</td>\n",
       "      <td>$9B</td>\n",
       "      <td>10-06-2019</td>\n",
       "      <td>Travel</td>\n",
       "      <td>Seoul</td>\n",
       "      <td>South Korea</td>\n",
       "      <td>Asia</td>\n",
       "      <td>2005</td>\n",
       "      <td>2</td>\n",
       "      <td>SBI Investment Korea, Partners Investment, GIC</td>\n",
       "    </tr>\n",
       "    <tr>\n",
       "      <th>64</th>\n",
       "      <td>Pony.ai</td>\n",
       "      <td>$9B</td>\n",
       "      <td>11-07-2018</td>\n",
       "      <td>Artificial intelligence</td>\n",
       "      <td>Fremont</td>\n",
       "      <td>United States</td>\n",
       "      <td>North America</td>\n",
       "      <td>2016</td>\n",
       "      <td>1</td>\n",
       "      <td>Sequoia Capital China, IDG Capital, DCM Ventures</td>\n",
       "    </tr>\n",
       "    <tr>\n",
       "      <th>65</th>\n",
       "      <td>Nuro</td>\n",
       "      <td>$9B</td>\n",
       "      <td>11-02-2019</td>\n",
       "      <td>Auto &amp; transportation</td>\n",
       "      <td>Mountain View</td>\n",
       "      <td>United States</td>\n",
       "      <td>North America</td>\n",
       "      <td>2016</td>\n",
       "      <td>2</td>\n",
       "      <td>SoftBank Group, Greylock Partners, Gaorong Cap...</td>\n",
       "    </tr>\n",
       "    <tr>\n",
       "      <th>66</th>\n",
       "      <td>Snyk</td>\n",
       "      <td>$9B</td>\n",
       "      <td>21-01-2020</td>\n",
       "      <td>Cybersecurity</td>\n",
       "      <td>Boston</td>\n",
       "      <td>United States</td>\n",
       "      <td>North America</td>\n",
       "      <td>2015</td>\n",
       "      <td>1</td>\n",
       "      <td>BOLDstart Ventures, Google Ventures, Accel</td>\n",
       "    </tr>\n",
       "    <tr>\n",
       "      <th>67</th>\n",
       "      <td>Kavak</td>\n",
       "      <td>$9B</td>\n",
       "      <td>01-10-2020</td>\n",
       "      <td>E-commerce &amp; direct-to-consumer</td>\n",
       "      <td>Lerma de Villada</td>\n",
       "      <td>Mexico</td>\n",
       "      <td>North America</td>\n",
       "      <td>2016</td>\n",
       "      <td>2</td>\n",
       "      <td>DST Global, SoftBank Group, Mountain Nazca</td>\n",
       "    </tr>\n",
       "    <tr>\n",
       "      <th>69</th>\n",
       "      <td>Klaviyo</td>\n",
       "      <td>$9B</td>\n",
       "      <td>17-11-2020</td>\n",
       "      <td>Internet software &amp; services</td>\n",
       "      <td>Boston</td>\n",
       "      <td>United States</td>\n",
       "      <td>North America</td>\n",
       "      <td>2012</td>\n",
       "      <td>0.679</td>\n",
       "      <td>Summit Partners, Accel, Astral Capital</td>\n",
       "    </tr>\n",
       "    <tr>\n",
       "      <th>70</th>\n",
       "      <td>Niantic</td>\n",
       "      <td>$9B</td>\n",
       "      <td>24-11-2017</td>\n",
       "      <td>Mobile &amp; telecommunications</td>\n",
       "      <td>San Francisco</td>\n",
       "      <td>United States</td>\n",
       "      <td>North America</td>\n",
       "      <td>2015</td>\n",
       "      <td>0.77</td>\n",
       "      <td>Nintendo, Google, Pokemon Company Internationa...</td>\n",
       "    </tr>\n",
       "    <tr>\n",
       "      <th>71</th>\n",
       "      <td>Tanium</td>\n",
       "      <td>$9B</td>\n",
       "      <td>31-03-2015</td>\n",
       "      <td>Cybersecurity</td>\n",
       "      <td>Kirkland</td>\n",
       "      <td>United States</td>\n",
       "      <td>North America</td>\n",
       "      <td>2007</td>\n",
       "      <td>0.775</td>\n",
       "      <td>Andreessen Horowitz, Nor-Cal Invest, TPG Growth</td>\n",
       "    </tr>\n",
       "  </tbody>\n",
       "</table>\n",
       "</div>"
      ],
      "text/plain": [
       "    Comapny Valuation Date of Joining                         Industry  \\\n",
       "68      N26       $9B      10-01-2019                          Fintech   \n",
       "62   Dunamu       $9B      22-07-2021                          Fintech   \n",
       "63  Yanolja       $9B      10-06-2019                           Travel   \n",
       "64  Pony.ai       $9B      11-07-2018          Artificial intelligence   \n",
       "65     Nuro       $9B      11-02-2019            Auto & transportation   \n",
       "66     Snyk       $9B      21-01-2020                    Cybersecurity   \n",
       "67    Kavak       $9B      01-10-2020  E-commerce & direct-to-consumer   \n",
       "69  Klaviyo       $9B      17-11-2020     Internet software & services   \n",
       "70  Niantic       $9B      24-11-2017      Mobile & telecommunications   \n",
       "71   Tanium       $9B      31-03-2015                    Cybersecurity   \n",
       "\n",
       "                City        Country      Continent Year founded Funding  \\\n",
       "68            Berlin        Germany         Europe         2013       2   \n",
       "62             Seoul    South Korea           Asia         2012   0.071   \n",
       "63             Seoul    South Korea           Asia         2005       2   \n",
       "64           Fremont  United States  North America         2016       1   \n",
       "65     Mountain View  United States  North America         2016       2   \n",
       "66            Boston  United States  North America         2015       1   \n",
       "67  Lerma de Villada         Mexico  North America         2016       2   \n",
       "69            Boston  United States  North America         2012   0.679   \n",
       "70     San Francisco  United States  North America         2015    0.77   \n",
       "71          Kirkland  United States  North America         2007   0.775   \n",
       "\n",
       "                                            Investors  \n",
       "68  Redalpine Venture Partners, Earlybird Venture ...  \n",
       "62  Qualcomm Ventures, Woori Investment, Hanwha In...  \n",
       "63     SBI Investment Korea, Partners Investment, GIC  \n",
       "64   Sequoia Capital China, IDG Capital, DCM Ventures  \n",
       "65  SoftBank Group, Greylock Partners, Gaorong Cap...  \n",
       "66         BOLDstart Ventures, Google Ventures, Accel  \n",
       "67         DST Global, SoftBank Group, Mountain Nazca  \n",
       "69             Summit Partners, Accel, Astral Capital  \n",
       "70  Nintendo, Google, Pokemon Company Internationa...  \n",
       "71    Andreessen Horowitz, Nor-Cal Invest, TPG Growth  "
      ]
     },
     "execution_count": 16,
     "metadata": {},
     "output_type": "execute_result"
    }
   ],
   "source": [
    "company_wise_val.head(10)"
   ]
  },
  {
   "cell_type": "code",
   "execution_count": 17,
   "id": "92cc2dd2",
   "metadata": {},
   "outputs": [
    {
     "data": {
      "text/html": [
       "<div>\n",
       "<style scoped>\n",
       "    .dataframe tbody tr th:only-of-type {\n",
       "        vertical-align: middle;\n",
       "    }\n",
       "\n",
       "    .dataframe tbody tr th {\n",
       "        vertical-align: top;\n",
       "    }\n",
       "\n",
       "    .dataframe thead th {\n",
       "        text-align: right;\n",
       "    }\n",
       "</style>\n",
       "<table border=\"1\" class=\"dataframe\">\n",
       "  <thead>\n",
       "    <tr style=\"text-align: right;\">\n",
       "      <th></th>\n",
       "      <th>Comapny</th>\n",
       "      <th>Valuation</th>\n",
       "      <th>Date of Joining</th>\n",
       "      <th>Industry</th>\n",
       "      <th>City</th>\n",
       "      <th>Country</th>\n",
       "      <th>Continent</th>\n",
       "      <th>Year founded</th>\n",
       "      <th>Funding</th>\n",
       "      <th>Investors</th>\n",
       "    </tr>\n",
       "  </thead>\n",
       "  <tbody>\n",
       "    <tr>\n",
       "      <th>6</th>\n",
       "      <td>Canva</td>\n",
       "      <td>$40B</td>\n",
       "      <td>08-01-2018</td>\n",
       "      <td>Internet software &amp; services</td>\n",
       "      <td>Surry Hills</td>\n",
       "      <td>Australia</td>\n",
       "      <td>Oceania</td>\n",
       "      <td>2012</td>\n",
       "      <td>0.572</td>\n",
       "      <td>Sequoia Capital China, Blackbird Ventures, Mat...</td>\n",
       "    </tr>\n",
       "  </tbody>\n",
       "</table>\n",
       "</div>"
      ],
      "text/plain": [
       "  Comapny Valuation Date of Joining                      Industry  \\\n",
       "6   Canva      $40B      08-01-2018  Internet software & services   \n",
       "\n",
       "          City    Country Continent Year founded Funding  \\\n",
       "6  Surry Hills  Australia   Oceania         2012   0.572   \n",
       "\n",
       "                                           Investors  \n",
       "6  Sequoia Capital China, Blackbird Ventures, Mat...  "
      ]
     },
     "execution_count": 17,
     "metadata": {},
     "output_type": "execute_result"
    }
   ],
   "source": [
    "df[df['Comapny']== \"Canva\"]"
   ]
  },
  {
   "cell_type": "markdown",
   "id": "b270d721",
   "metadata": {},
   "source": [
    "### no of unicorn company in a city"
   ]
  },
  {
   "cell_type": "code",
   "execution_count": 18,
   "id": "bcfae734",
   "metadata": {},
   "outputs": [
    {
     "data": {
      "text/plain": [
       "San Francisco    152\n",
       "New York         103\n",
       "Beijing           63\n",
       "Shanghai          44\n",
       "London            34\n",
       "Bengaluru         29\n",
       "Shenzhen          19\n",
       "Paris             19\n",
       "Palo Alto         18\n",
       "Berlin            17\n",
       "Name: City, dtype: int64"
      ]
     },
     "execution_count": 18,
     "metadata": {},
     "output_type": "execute_result"
    }
   ],
   "source": [
    "df.City.value_counts().head(10)"
   ]
  },
  {
   "cell_type": "markdown",
   "id": "aba54bf5",
   "metadata": {},
   "source": [
    "### Country based unicorn companies "
   ]
  },
  {
   "cell_type": "code",
   "execution_count": 19,
   "id": "bc04c056",
   "metadata": {},
   "outputs": [
    {
     "data": {
      "text/html": [
       "<div>\n",
       "<style scoped>\n",
       "    .dataframe tbody tr th:only-of-type {\n",
       "        vertical-align: middle;\n",
       "    }\n",
       "\n",
       "    .dataframe tbody tr th {\n",
       "        vertical-align: top;\n",
       "    }\n",
       "\n",
       "    .dataframe thead th {\n",
       "        text-align: right;\n",
       "    }\n",
       "</style>\n",
       "<table border=\"1\" class=\"dataframe\">\n",
       "  <thead>\n",
       "    <tr style=\"text-align: right;\">\n",
       "      <th></th>\n",
       "      <th>Comapny</th>\n",
       "      <th>Valuation</th>\n",
       "      <th>Industry</th>\n",
       "      <th>Year founded</th>\n",
       "    </tr>\n",
       "  </thead>\n",
       "  <tbody>\n",
       "    <tr>\n",
       "      <th>16</th>\n",
       "      <td>BYJU's</td>\n",
       "      <td>$22B</td>\n",
       "      <td>Edtech</td>\n",
       "      <td>2008</td>\n",
       "    </tr>\n",
       "    <tr>\n",
       "      <th>42</th>\n",
       "      <td>Swiggy</td>\n",
       "      <td>$11B</td>\n",
       "      <td>Supply chain, logistics, &amp; delivery</td>\n",
       "      <td>2014</td>\n",
       "    </tr>\n",
       "    <tr>\n",
       "      <th>49</th>\n",
       "      <td>OYO Rooms</td>\n",
       "      <td>$10B</td>\n",
       "      <td>Travel</td>\n",
       "      <td>2012</td>\n",
       "    </tr>\n",
       "    <tr>\n",
       "      <th>72</th>\n",
       "      <td>Dream11</td>\n",
       "      <td>$8B</td>\n",
       "      <td>Internet software &amp; services</td>\n",
       "      <td>2007</td>\n",
       "    </tr>\n",
       "    <tr>\n",
       "      <th>75</th>\n",
       "      <td>Razorpay</td>\n",
       "      <td>$8B</td>\n",
       "      <td>Fintech</td>\n",
       "      <td>2013</td>\n",
       "    </tr>\n",
       "    <tr>\n",
       "      <th>85</th>\n",
       "      <td>National Stock Exchange of India</td>\n",
       "      <td>$7B</td>\n",
       "      <td>Fintech</td>\n",
       "      <td>1998</td>\n",
       "    </tr>\n",
       "    <tr>\n",
       "      <th>88</th>\n",
       "      <td>CRED</td>\n",
       "      <td>$7B</td>\n",
       "      <td>Fintech</td>\n",
       "      <td>2018</td>\n",
       "    </tr>\n",
       "    <tr>\n",
       "      <th>90</th>\n",
       "      <td>Ola Cabs</td>\n",
       "      <td>$7B</td>\n",
       "      <td>Auto &amp; transportation</td>\n",
       "      <td>2010</td>\n",
       "    </tr>\n",
       "    <tr>\n",
       "      <th>129</th>\n",
       "      <td>DailyHunt</td>\n",
       "      <td>$5B</td>\n",
       "      <td>Internet software &amp; services</td>\n",
       "      <td>2007</td>\n",
       "    </tr>\n",
       "    <tr>\n",
       "      <th>131</th>\n",
       "      <td>Meesho</td>\n",
       "      <td>$5B</td>\n",
       "      <td>Internet software &amp; services</td>\n",
       "      <td>2015</td>\n",
       "    </tr>\n",
       "    <tr>\n",
       "      <th>161</th>\n",
       "      <td>OfBusiness</td>\n",
       "      <td>$5B</td>\n",
       "      <td>E-commerce &amp; direct-to-consumer</td>\n",
       "      <td>2015</td>\n",
       "    </tr>\n",
       "    <tr>\n",
       "      <th>162</th>\n",
       "      <td>Ola Electric Mobility</td>\n",
       "      <td>$5B</td>\n",
       "      <td>Auto &amp; transportation</td>\n",
       "      <td>2019</td>\n",
       "    </tr>\n",
       "    <tr>\n",
       "      <th>163</th>\n",
       "      <td>Pine Labs</td>\n",
       "      <td>$5B</td>\n",
       "      <td>Fintech</td>\n",
       "      <td>1998</td>\n",
       "    </tr>\n",
       "    <tr>\n",
       "      <th>175</th>\n",
       "      <td>Lenskart</td>\n",
       "      <td>$4B</td>\n",
       "      <td>E-commerce &amp; direct-to-consumer</td>\n",
       "      <td>2008</td>\n",
       "    </tr>\n",
       "    <tr>\n",
       "      <th>202</th>\n",
       "      <td>ShareChat</td>\n",
       "      <td>$4B</td>\n",
       "      <td>Internet software &amp; services</td>\n",
       "      <td>2015</td>\n",
       "    </tr>\n",
       "    <tr>\n",
       "      <th>245</th>\n",
       "      <td>Upstox</td>\n",
       "      <td>$3B</td>\n",
       "      <td>Fintech</td>\n",
       "      <td>2010</td>\n",
       "    </tr>\n",
       "    <tr>\n",
       "      <th>261</th>\n",
       "      <td>Digit Insurance</td>\n",
       "      <td>$3B</td>\n",
       "      <td>Fintech</td>\n",
       "      <td>2016</td>\n",
       "    </tr>\n",
       "    <tr>\n",
       "      <th>263</th>\n",
       "      <td>Games24x7</td>\n",
       "      <td>$3B</td>\n",
       "      <td>Internet software &amp; services</td>\n",
       "      <td>2006</td>\n",
       "    </tr>\n",
       "    <tr>\n",
       "      <th>266</th>\n",
       "      <td>Infra.Market</td>\n",
       "      <td>$3B</td>\n",
       "      <td>E-commerce &amp; direct-to-consumer</td>\n",
       "      <td>2016</td>\n",
       "    </tr>\n",
       "    <tr>\n",
       "      <th>275</th>\n",
       "      <td>Unacademy</td>\n",
       "      <td>$3B</td>\n",
       "      <td>Edtech</td>\n",
       "      <td>2015</td>\n",
       "    </tr>\n",
       "  </tbody>\n",
       "</table>\n",
       "</div>"
      ],
      "text/plain": [
       "                              Comapny Valuation  \\\n",
       "16                             BYJU's      $22B   \n",
       "42                             Swiggy      $11B   \n",
       "49                          OYO Rooms      $10B   \n",
       "72                            Dream11       $8B   \n",
       "75                           Razorpay       $8B   \n",
       "85   National Stock Exchange of India       $7B   \n",
       "88                               CRED       $7B   \n",
       "90                           Ola Cabs       $7B   \n",
       "129                         DailyHunt       $5B   \n",
       "131                            Meesho       $5B   \n",
       "161                        OfBusiness       $5B   \n",
       "162             Ola Electric Mobility       $5B   \n",
       "163                         Pine Labs       $5B   \n",
       "175                          Lenskart       $4B   \n",
       "202                         ShareChat       $4B   \n",
       "245                            Upstox       $3B   \n",
       "261                   Digit Insurance       $3B   \n",
       "263                         Games24x7       $3B   \n",
       "266                      Infra.Market       $3B   \n",
       "275                         Unacademy       $3B   \n",
       "\n",
       "                                Industry Year founded  \n",
       "16                                Edtech         2008  \n",
       "42   Supply chain, logistics, & delivery         2014  \n",
       "49                                Travel         2012  \n",
       "72          Internet software & services         2007  \n",
       "75                               Fintech         2013  \n",
       "85                               Fintech         1998  \n",
       "88                               Fintech         2018  \n",
       "90                 Auto & transportation         2010  \n",
       "129         Internet software & services         2007  \n",
       "131         Internet software & services         2015  \n",
       "161      E-commerce & direct-to-consumer         2015  \n",
       "162                Auto & transportation         2019  \n",
       "163                              Fintech         1998  \n",
       "175      E-commerce & direct-to-consumer         2008  \n",
       "202         Internet software & services         2015  \n",
       "245                              Fintech         2010  \n",
       "261                              Fintech         2016  \n",
       "263         Internet software & services         2006  \n",
       "266      E-commerce & direct-to-consumer         2016  \n",
       "275                               Edtech         2015  "
      ]
     },
     "execution_count": 19,
     "metadata": {},
     "output_type": "execute_result"
    }
   ],
   "source": [
    "df[df.Country== \"India\"][['Comapny','Valuation','Industry','Year founded',]].head(20)"
   ]
  },
  {
   "cell_type": "markdown",
   "id": "bbddf414",
   "metadata": {},
   "source": [
    "### Fintech industry based in india"
   ]
  },
  {
   "cell_type": "code",
   "execution_count": 20,
   "id": "cb4f755a",
   "metadata": {},
   "outputs": [
    {
     "data": {
      "text/plain": [
       "75                              Razorpay\n",
       "85      National Stock Exchange of India\n",
       "88                                  CRED\n",
       "163                            Pine Labs\n",
       "245                               Upstox\n",
       "261                      Digit Insurance\n",
       "313                             BharatPe\n",
       "340                                Groww\n",
       "373                         PolicyBazaar\n",
       "523                     CoinSwitch Kuber\n",
       "610                           CredAvenue\n",
       "631                             MobiKwik\n",
       "809               Acko General Insurance\n",
       "814                              CoinDCX\n",
       "1027                               Slice\n",
       "Name: Comapny, dtype: object"
      ]
     },
     "execution_count": 20,
     "metadata": {},
     "output_type": "execute_result"
    }
   ],
   "source": [
    "\n",
    "df[df.Country== 'India'][df[df.Country=='India'].Industry=='Fintech']['Comapny']"
   ]
  },
  {
   "cell_type": "markdown",
   "id": "79923d41",
   "metadata": {},
   "source": [
    "### Most Value unicorn based country"
   ]
  },
  {
   "cell_type": "code",
   "execution_count": 105,
   "id": "91f36c7d",
   "metadata": {},
   "outputs": [
    {
     "data": {
      "text/plain": [
       "Index(['Comapny', 'Valuation', 'Date of Joining', 'Industry', 'City',\n",
       "       'Country', 'Continent', 'Year founded', 'Funding', 'Investors'],\n",
       "      dtype='object')"
      ]
     },
     "execution_count": 105,
     "metadata": {},
     "output_type": "execute_result"
    }
   ],
   "source": [
    "df.columns"
   ]
  },
  {
   "cell_type": "code",
   "execution_count": 111,
   "id": "79e50ce3",
   "metadata": {},
   "outputs": [
    {
     "data": {
      "application/vnd.plotly.v1+json": {
       "config": {
        "plotlyServerURL": "https://plot.ly"
       },
       "data": [
        {
         "alignmentgroup": "True",
         "hovertemplate": "Country=%{x}<br>Valuation=%{y}<extra></extra>",
         "legendgroup": "",
         "marker": {
          "color": "#636efa",
          "pattern": {
           "shape": ""
          }
         },
         "name": "",
         "offsetgroup": "",
         "orientation": "v",
         "showlegend": false,
         "textposition": "auto",
         "type": "bar",
         "x": [
          "Country",
          "China",
          "United States",
          "China",
          "United States",
          "Sweden",
          "Australia",
          "United Kingdom",
          "United States",
          "United States",
          "United States",
          "United Kingdom",
          "United States",
          "Bahamas",
          "United States",
          "United States",
          "India",
          "Indonesia",
          "China",
          "United States",
          "China",
          "United Kingdom",
          "United States",
          "China",
          "United States",
          "United Kingdom",
          "United States",
          "United States",
          "United States",
          "United States",
          "United States",
          "Sweden",
          "United States",
          "United States",
          "United States",
          "Turkey",
          "United States",
          "China",
          "United States",
          "China",
          "China",
          "Estonia",
          "India",
          "China",
          "United Kingdom",
          "United States",
          "Germany",
          "China",
          "United States",
          "India",
          "United States",
          "United States",
          "United States",
          "China",
          "United States",
          "United States",
          "United States",
          "Hong Kong",
          "United States",
          "United States",
          "United States",
          "United States",
          "South Korea",
          "South Korea",
          "United States",
          "United States",
          "United States",
          "Mexico",
          "Germany",
          "United States",
          "United States",
          "United States",
          "India",
          "China",
          "United States",
          "India",
          "Canada",
          "United States",
          "United States",
          "United Kingdom",
          "United States",
          "United States",
          "United States",
          "United States",
          "United States",
          "India",
          "China",
          "United States",
          "India",
          "United States",
          "India",
          "United States",
          "United States",
          "South Korea",
          "China",
          "United States",
          "United States",
          "United States",
          "Canada",
          "United States",
          "United States",
          "United States",
          "United States",
          "United States",
          "China",
          "China",
          "China",
          "Australia",
          "United States",
          "Netherlands",
          "Netherlands",
          "France",
          "United States",
          "United States",
          "France",
          "United States",
          "United States",
          "Germany",
          "Finland",
          "United States",
          "United States",
          "United States",
          "China",
          "United States",
          "United States",
          "United States",
          "United States",
          "United States",
          "Israel",
          "India",
          "United Kingdom",
          "India",
          "China",
          "China",
          "China",
          "United Kingdom",
          "United States",
          "China",
          "Lithuania",
          "United Kingdom",
          "China",
          "United States",
          "United States",
          "United States",
          "United States",
          "United States",
          "Denmark",
          "Germany",
          "China",
          "Belgium",
          "Colombia",
          "United States",
          "United States",
          "Brazil",
          "United States",
          "Brazil",
          "Brazil",
          "United States",
          "Canada",
          "United States",
          "Israel",
          "India",
          "India",
          "India",
          "France",
          "United States",
          "China",
          "China",
          "United Kingdom",
          "China",
          "United Kingdom",
          "Singapore",
          "United States",
          "South Korea",
          "United States",
          "India",
          "United States",
          "China",
          "United States",
          "United States",
          "United States",
          "United States",
          "United States",
          "United States",
          "United States",
          "United States",
          "United States",
          "France",
          "United States",
          "United States",
          "Germany",
          "United States",
          "China",
          "United States",
          "United States",
          "United States",
          "United States",
          "United States",
          "United States",
          "United States",
          "United States",
          "United States",
          "India",
          "France",
          "United States",
          "United States",
          "United States",
          "United States",
          "United States",
          "United States",
          "United States",
          "United States",
          "United States",
          "United States",
          "United States",
          "United States",
          "Canada",
          "Austria",
          "United States",
          "United States",
          "China",
          "China",
          "United States",
          "United States",
          "Ireland",
          "United States",
          "United States",
          "United States",
          "United States",
          "United States",
          "China",
          "United States",
          "United States",
          "United States",
          "United States",
          "Canada",
          "United States",
          "United States",
          "United States",
          "United States",
          "United States",
          "China",
          "South Korea",
          "Singapore",
          "United States",
          "India",
          "United Arab Emirates",
          "China",
          "United States",
          "United Kingdom",
          "United States",
          "China",
          "Singapore",
          "Netherlands",
          "United States",
          "United States",
          "United States",
          "Switzerland",
          "United States",
          "China",
          "Israel",
          "India",
          "United States",
          "India",
          "Austria",
          "Australia",
          "India",
          "United States",
          "United States",
          "United States",
          "United States",
          "United States",
          "United States",
          "United States",
          "Finland",
          "India",
          "United States",
          "United States",
          "France",
          "United States",
          "United States",
          "United States",
          "United States",
          "United States",
          "United States",
          "United States",
          "China",
          "India",
          "India",
          "United States",
          "United States",
          "United States",
          "United States",
          "United States",
          "United States",
          "United States",
          "Israel",
          "United States",
          "United States",
          "Turkey",
          "United States",
          "United States",
          "United Kingdom",
          "Canada",
          "Canada",
          "United States",
          "France",
          "India",
          "United States",
          "United States",
          "United States",
          "United States",
          "United States",
          "India",
          "United States",
          "Germany",
          "United States",
          "United States",
          "Germany",
          "United States",
          "Brazil",
          "Brazil",
          "India",
          "United States",
          "United States",
          "United States",
          "Hong Kong",
          "United States",
          "United States",
          "United States",
          "United States",
          "United States",
          "United Kingdom",
          "Germany",
          "United States",
          "India",
          "Germany",
          "United States",
          "United States",
          "United States",
          "India",
          "United States",
          "China",
          "United States",
          "United States",
          "United States",
          "United States",
          "United States",
          "United States",
          "United States",
          "Vietnam",
          "China",
          "United States",
          "Indonesia",
          "Germany",
          "Brazil",
          "United States",
          "China",
          "United States",
          "United Kingdom",
          "United States",
          "China",
          "United States",
          "China",
          "China",
          "China",
          "China",
          "China",
          "China",
          "United States",
          "China",
          "China",
          "Israel",
          "India",
          "South Africa",
          "China",
          "China",
          "China",
          "United Kingdom",
          "United States",
          "United Kingdom",
          "India",
          "Switzerland",
          "Singapore",
          "United States",
          "Germany",
          "United States",
          "United Kingdom",
          "China",
          "United States",
          "United States",
          "United States",
          "United States",
          "United States",
          "Thailand",
          "United States",
          "United States",
          "United States",
          "Norway",
          "United States",
          "United States",
          "Australia",
          "United States",
          "India",
          "United Kingdom",
          "United States",
          "United States",
          "France",
          "United States",
          "United Kingdom",
          "United States",
          "United States",
          "Israel",
          "Chile",
          "Brazil",
          "United States",
          "United States",
          "United States",
          "United States",
          "United States",
          "United States",
          "Israel",
          "United States",
          "United States",
          "China",
          "United States",
          "United States",
          "Estonia",
          "United States",
          "United States",
          "United States",
          "United States",
          "India",
          "Argentina",
          "China",
          "China",
          "United States",
          "Bermuda",
          "United States",
          "United States",
          "China",
          "United States",
          "United States",
          "Canada",
          "United States",
          "United States",
          "United States",
          "United States",
          "United States",
          "United States",
          "United States",
          "United States",
          "Australia",
          "Japan",
          "United States",
          "United States",
          "United States",
          "United States",
          "Ireland",
          "China",
          "United States",
          "United States",
          "United States",
          "Israel",
          "Spain",
          "United States",
          "Germany",
          "South Korea",
          "France",
          "China",
          "France",
          "Malaysia",
          "United States",
          "India",
          "United States",
          "United States",
          "United Kingdom",
          "United States",
          "United States",
          "United States",
          "United States",
          "United States",
          "United States",
          "United States",
          "France",
          "Senegal",
          "United States",
          "United States",
          "United States",
          "United States",
          "Belgium",
          "United States",
          "United States",
          "Vietnam",
          "United States",
          "United States",
          "India",
          "Canada",
          "United States",
          "China",
          "Mexico",
          "United States",
          "United States",
          "United States",
          "China",
          "United States",
          "South Korea",
          "Germany",
          "United States",
          "United States",
          "United States",
          "Israel",
          "United States",
          "United States",
          "United Kingdom",
          "China",
          "United States",
          "China",
          "Brazil",
          "United States",
          "Germany",
          "United States",
          "United States",
          "India",
          "United States",
          "United States",
          "India",
          "Germany",
          "United Kingdom",
          "United States",
          "United States",
          "United States",
          "United States",
          "United States",
          "United Kingdom",
          "United States",
          "United States",
          "India",
          "United States",
          "United Kingdom",
          "France",
          "China",
          "Singapore",
          "Finland",
          "Indonesia",
          "United States",
          "United States",
          "United States",
          "United States",
          "France",
          "China",
          "Netherlands",
          "United States",
          "United States",
          "Canada",
          "United States",
          "Mexico",
          "United States",
          "United States",
          "United States",
          "United States",
          "United States",
          "United States",
          "France",
          "United States",
          "China",
          "United States",
          "China",
          "United States",
          "United States",
          "United States",
          "United States",
          "China",
          "Sweden",
          "Brazil",
          "United States",
          "Denmark",
          "China",
          "United States",
          "United States",
          "United States",
          "United States",
          "Philippines",
          "United States",
          "United States",
          "Luxembourg",
          "Nigeria",
          "United States",
          "Japan",
          "United States",
          "United States",
          "Japan",
          "United States",
          "Israel",
          "United States",
          "Germany",
          "Hong Kong",
          "United States",
          "United States",
          "United States",
          "China",
          "China",
          "China",
          "United Kingdom",
          "China",
          "United States",
          "South Korea",
          "United States",
          "South Africa",
          "China",
          "India",
          "China",
          "China",
          "Sweden",
          "United States",
          "United States",
          "United States",
          "United States",
          "United States",
          "China",
          "China",
          "China",
          "China",
          "China",
          "China",
          "China",
          "United States",
          "China",
          "China",
          "Colombia",
          "China",
          "India",
          "United States",
          "France",
          "United States",
          "China",
          "China",
          "United States",
          "China",
          "China",
          "China",
          "India",
          "United Kingdom",
          "China",
          "China",
          "China",
          "China",
          "United States",
          "United States",
          "China",
          "China",
          "China",
          "China",
          "China",
          "China",
          "China",
          "China",
          "France",
          "China",
          "China",
          "China",
          "United States",
          "United States",
          "United States",
          "China",
          "Israel",
          "China",
          "United States",
          "China",
          "United States",
          "India",
          "China",
          "United States",
          "China",
          "United States",
          "China",
          "France",
          "United States",
          "China",
          "China",
          "China",
          "China",
          "United States",
          "China",
          "United Kingdom",
          "United States",
          "China",
          "United States",
          "United States",
          "United States",
          "Spain",
          "United States",
          "United States",
          "France",
          "United States",
          "Belgium",
          "United States",
          "Sweden",
          "Canada",
          "Israel",
          "India",
          "United States",
          "United States",
          "China",
          "United States",
          "United States",
          "India",
          "India",
          "United States",
          "Germany",
          "United States",
          "United States",
          "United States",
          "United Kingdom",
          "United States",
          "China",
          "United States",
          "Brazil",
          "France",
          "United States",
          "United States",
          "Hong Kong",
          "China",
          "United States",
          "United Kingdom",
          "South Korea",
          "United States",
          "South Korea",
          "United States",
          "China",
          "China",
          "United States",
          "United States",
          "United States",
          "United States",
          "United States",
          "United States",
          "Israel",
          "United States",
          "United States",
          "Mexico",
          "Australia",
          "United States",
          "United States",
          "China",
          "United States",
          "Spain",
          "United States",
          "United States",
          "United Kingdom",
          "United States",
          "United States",
          "Ireland",
          "United States",
          "United States",
          "China",
          "United Kingdom",
          "United States",
          "United States",
          "United States",
          "Canada",
          "China",
          "Turkey",
          "Japan",
          "Canada",
          "United States",
          "United States",
          "United States",
          "India",
          "United States",
          "United States",
          "United States",
          "United States",
          "United States",
          "United States",
          "United States",
          "United States",
          "India",
          "Mexico",
          "United States",
          "India",
          "Norway",
          "United States",
          "United States",
          "United States",
          "United States",
          "United States",
          "United States",
          "Czech Republic",
          "United States",
          "China",
          "United States",
          "India",
          "Ireland",
          "India",
          "South Korea",
          "China",
          "China",
          "United States",
          "United States",
          "China",
          "United States",
          "United States",
          "United States",
          "United States",
          "United States",
          "United States",
          "United States",
          "China",
          "India",
          "India",
          "United States",
          "Singapore",
          "United States",
          "India",
          "United States",
          "Germany",
          "Canada",
          "United States",
          "United States",
          "United States",
          "China",
          "Germany",
          "India",
          "United States",
          "China",
          "United States",
          "India",
          "Switzerland",
          "United States",
          "United States",
          "United States",
          "Germany",
          "United States",
          "Germany",
          "United States",
          "United States",
          "United Kingdom",
          "United Kingdom",
          "China",
          "India",
          "United Kingdom",
          "India",
          "United States",
          "South Korea",
          "United States",
          "United States",
          "United States",
          "China",
          "Singapore",
          "United States",
          "United States",
          "Israel",
          "China",
          "China",
          "China",
          "Germany",
          "China",
          "United States",
          "Indonesia",
          "United States",
          "India",
          "United States",
          "United States",
          "United States",
          "United States",
          "Israel",
          "United States",
          "Canada",
          "United States",
          "Canada",
          "United States",
          "China",
          "China",
          "United Kingdom",
          "Germany",
          "Chile",
          "Netherlands",
          "India",
          "United States",
          "United States",
          "Singapore",
          "United States",
          "Israel",
          "United States",
          "United States",
          "United States",
          "United States",
          "United States",
          "Brazil",
          "Singapore",
          "United States",
          "United States",
          "United States",
          "Hong Kong",
          "Mexico",
          "United States",
          "United States",
          "United States",
          "India",
          "France",
          "China",
          "United States",
          "Israel",
          "Norway",
          "China",
          "Brazil",
          "China",
          "United States",
          "United Arab Emirates",
          "United States",
          "United States",
          "United States",
          "United States",
          "United States",
          "United States",
          "China",
          "United States",
          "Thailand",
          "China",
          "India",
          "Canada",
          "China",
          "United States",
          "China",
          "Norway",
          "United States",
          "Australia",
          "United States",
          "Israel",
          "China",
          "India",
          "China",
          "United States",
          "Finland",
          "Netherlands",
          "China",
          "United States",
          "United States",
          "China",
          "Brazil",
          "Germany",
          "Croatia",
          "United States",
          "China",
          "United States",
          "United States",
          "Israel",
          "United States",
          "United Arab Emirates",
          "China",
          "Indonesia",
          "China",
          "United States",
          "United States",
          "Ireland",
          "India",
          "China",
          "United States",
          "United States",
          "France",
          "Brazil",
          "China",
          "United States",
          "United States",
          "United States",
          "United States",
          "France",
          "India",
          "China",
          "United States",
          "China",
          "China",
          "China",
          "United States",
          "Brazil",
          "United States",
          "United States",
          "China",
          "United States",
          "United States",
          "Singapore",
          "India",
          "United States",
          "Switzerland",
          "United States",
          "Germany",
          "Singapore",
          "United States",
          "China",
          "United States",
          "United States",
          "United States",
          "United States",
          "United States",
          "Singapore",
          "United Kingdom",
          "Israel",
          "Australia",
          "United States",
          "United States",
          "United States",
          "Japan",
          "China",
          "United Kingdom",
          "United States",
          "United States",
          "United States",
          "United States",
          "Germany",
          "United States",
          "United States",
          "United States",
          "Philippines",
          "United States",
          "United Kingdom",
          "United States",
          "Italy",
          "Switzerland",
          "United States",
          "United States",
          "France",
          "United States",
          "United States",
          "United States",
          "United States",
          "United States",
          "India",
          "United States",
          "United States",
          "United States",
          "United States",
          "United States",
          "United States",
          "United States",
          "United States",
          "United States",
          "France",
          "United States",
          "United States",
          "Canada",
          "China",
          "China",
          "United States",
          "United States",
          "United Kingdom",
          "United States",
          "United Kingdom",
          "United States",
          "United States",
          "United Kingdom",
          "Brazil",
          "United States",
          "India",
          "United States",
          "United States",
          "Canada",
          "Sweden",
          "United States",
          "United States",
          "United States",
          "United States",
          "Hong Kong",
          "China",
          "United States",
          "Indonesia",
          "China",
          "China",
          "United States",
          "China",
          "China",
          "China",
          "China",
          "United Kingdom",
          "United States"
         ],
         "xaxis": "x",
         "y": [
          "Valuation",
          "$180B",
          "$100B",
          "$100B",
          "$95B",
          "$46B",
          "$40B",
          "$40B",
          "$39B",
          "$38B",
          "$38B",
          "$33B",
          "$32B",
          "$32B",
          "$27B",
          "$25B",
          "$22B",
          "$20B",
          "$20B",
          "$18B",
          "$17B",
          "$15B",
          "$15B",
          "$15B",
          "$15B",
          "$14B",
          "$13B",
          "$13B",
          "$13B",
          "$13B",
          "$12B",
          "$12B",
          "$12B",
          "$12B",
          "$12B",
          "$12B",
          "$12B",
          "$12B",
          "$12B",
          "$12B",
          "$11B",
          "$11B",
          "$11B",
          "$11B",
          "$11B",
          "$11B",
          "$11B",
          "$10B",
          "$10B",
          "$10B",
          "$10B",
          "$10B",
          "$10B",
          "$10B",
          "$10B",
          "$10B",
          "$10B",
          "$10B",
          "$10B",
          "$10B",
          "$10B",
          "$10B",
          "$9B",
          "$9B",
          "$9B",
          "$9B",
          "$9B",
          "$9B",
          "$9B",
          "$9B",
          "$9B",
          "$9B",
          "$8B",
          "$8B",
          "$8B",
          "$8B",
          "$8B",
          "$8B",
          "$8B",
          "$8B",
          "$8B",
          "$8B",
          "$8B",
          "$8B",
          "$8B",
          "$7B",
          "$7B",
          "$7B",
          "$7B",
          "$7B",
          "$7B",
          "$7B",
          "$7B",
          "$7B",
          "$7B",
          "$7B",
          "$7B",
          "$7B",
          "$7B",
          "$7B",
          "$7B",
          "$7B",
          "$7B",
          "$6B",
          "$6B",
          "$6B",
          "$6B",
          "$6B",
          "$6B",
          "$6B",
          "$6B",
          "$6B",
          "$6B",
          "$6B",
          "$6B",
          "$6B",
          "$6B",
          "$6B",
          "$6B",
          "$6B",
          "$6B",
          "$6B",
          "$6B",
          "$6B",
          "$6B",
          "$6B",
          "$6B",
          "$6B",
          "$6B",
          "$5B",
          "$5B",
          "$5B",
          "$5B",
          "$5B",
          "$5B",
          "$5B",
          "$5B",
          "$5B",
          "$5B",
          "$5B",
          "$5B",
          "$5B",
          "$5B",
          "$5B",
          "$5B",
          "$5B",
          "$5B",
          "$5B",
          "$5B",
          "$5B",
          "$5B",
          "$5B",
          "$5B",
          "$5B",
          "$5B",
          "$5B",
          "$5B",
          "$5B",
          "$5B",
          "$5B",
          "$5B",
          "$5B",
          "$5B",
          "$5B",
          "$5B",
          "$5B",
          "$5B",
          "$5B",
          "$5B",
          "$4B",
          "$4B",
          "$4B",
          "$4B",
          "$4B",
          "$4B",
          "$4B",
          "$4B",
          "$4B",
          "$4B",
          "$4B",
          "$4B",
          "$4B",
          "$4B",
          "$4B",
          "$4B",
          "$4B",
          "$4B",
          "$4B",
          "$4B",
          "$4B",
          "$4B",
          "$4B",
          "$4B",
          "$4B",
          "$4B",
          "$4B",
          "$4B",
          "$4B",
          "$4B",
          "$4B",
          "$4B",
          "$4B",
          "$4B",
          "$4B",
          "$4B",
          "$4B",
          "$4B",
          "$4B",
          "$4B",
          "$4B",
          "$4B",
          "$4B",
          "$4B",
          "$4B",
          "$4B",
          "$4B",
          "$4B",
          "$4B",
          "$4B",
          "$4B",
          "$4B",
          "$4B",
          "$4B",
          "$4B",
          "$4B",
          "$4B",
          "$4B",
          "$4B",
          "$4B",
          "$4B",
          "$4B",
          "$4B",
          "$4B",
          "$4B",
          "$4B",
          "$4B",
          "$4B",
          "$4B",
          "$4B",
          "$4B",
          "$4B",
          "$3B",
          "$3B",
          "$3B",
          "$3B",
          "$3B",
          "$3B",
          "$3B",
          "$3B",
          "$3B",
          "$3B",
          "$3B",
          "$3B",
          "$3B",
          "$3B",
          "$3B",
          "$3B",
          "$3B",
          "$3B",
          "$3B",
          "$3B",
          "$3B",
          "$3B",
          "$3B",
          "$3B",
          "$3B",
          "$3B",
          "$3B",
          "$3B",
          "$3B",
          "$3B",
          "$3B",
          "$3B",
          "$3B",
          "$3B",
          "$3B",
          "$3B",
          "$3B",
          "$3B",
          "$3B",
          "$3B",
          "$3B",
          "$3B",
          "$3B",
          "$3B",
          "$3B",
          "$3B",
          "$3B",
          "$3B",
          "$3B",
          "$3B",
          "$3B",
          "$3B",
          "$3B",
          "$3B",
          "$3B",
          "$3B",
          "$3B",
          "$3B",
          "$3B",
          "$3B",
          "$3B",
          "$3B",
          "$3B",
          "$3B",
          "$3B",
          "$3B",
          "$3B",
          "$3B",
          "$3B",
          "$3B",
          "$3B",
          "$3B",
          "$3B",
          "$3B",
          "$3B",
          "$3B",
          "$3B",
          "$3B",
          "$3B",
          "$3B",
          "$3B",
          "$3B",
          "$3B",
          "$3B",
          "$3B",
          "$3B",
          "$3B",
          "$3B",
          "$3B",
          "$3B",
          "$3B",
          "$3B",
          "$3B",
          "$3B",
          "$3B",
          "$3B",
          "$3B",
          "$3B",
          "$3B",
          "$3B",
          "$3B",
          "$3B",
          "$3B",
          "$3B",
          "$3B",
          "$3B",
          "$3B",
          "$3B",
          "$3B",
          "$3B",
          "$3B",
          "$3B",
          "$3B",
          "$3B",
          "$3B",
          "$2B",
          "$2B",
          "$2B",
          "$2B",
          "$2B",
          "$2B",
          "$2B",
          "$2B",
          "$2B",
          "$2B",
          "$2B",
          "$2B",
          "$2B",
          "$2B",
          "$2B",
          "$2B",
          "$2B",
          "$2B",
          "$2B",
          "$2B",
          "$2B",
          "$2B",
          "$2B",
          "$2B",
          "$2B",
          "$2B",
          "$2B",
          "$2B",
          "$2B",
          "$2B",
          "$2B",
          "$2B",
          "$2B",
          "$2B",
          "$2B",
          "$2B",
          "$2B",
          "$2B",
          "$2B",
          "$2B",
          "$2B",
          "$2B",
          "$2B",
          "$2B",
          "$2B",
          "$2B",
          "$2B",
          "$2B",
          "$2B",
          "$2B",
          "$2B",
          "$2B",
          "$2B",
          "$2B",
          "$2B",
          "$2B",
          "$2B",
          "$2B",
          "$2B",
          "$2B",
          "$2B",
          "$2B",
          "$2B",
          "$2B",
          "$2B",
          "$2B",
          "$2B",
          "$2B",
          "$2B",
          "$2B",
          "$2B",
          "$2B",
          "$2B",
          "$2B",
          "$2B",
          "$2B",
          "$2B",
          "$2B",
          "$2B",
          "$2B",
          "$2B",
          "$2B",
          "$2B",
          "$2B",
          "$2B",
          "$2B",
          "$2B",
          "$2B",
          "$2B",
          "$2B",
          "$2B",
          "$2B",
          "$2B",
          "$2B",
          "$2B",
          "$2B",
          "$2B",
          "$2B",
          "$2B",
          "$2B",
          "$2B",
          "$2B",
          "$2B",
          "$2B",
          "$2B",
          "$2B",
          "$2B",
          "$2B",
          "$2B",
          "$2B",
          "$2B",
          "$2B",
          "$2B",
          "$2B",
          "$2B",
          "$2B",
          "$2B",
          "$2B",
          "$2B",
          "$2B",
          "$2B",
          "$2B",
          "$2B",
          "$2B",
          "$2B",
          "$2B",
          "$2B",
          "$2B",
          "$2B",
          "$2B",
          "$2B",
          "$2B",
          "$2B",
          "$2B",
          "$2B",
          "$2B",
          "$2B",
          "$2B",
          "$2B",
          "$2B",
          "$2B",
          "$2B",
          "$2B",
          "$2B",
          "$2B",
          "$2B",
          "$2B",
          "$2B",
          "$2B",
          "$2B",
          "$2B",
          "$2B",
          "$2B",
          "$2B",
          "$2B",
          "$2B",
          "$2B",
          "$2B",
          "$2B",
          "$2B",
          "$2B",
          "$2B",
          "$2B",
          "$2B",
          "$2B",
          "$2B",
          "$2B",
          "$2B",
          "$2B",
          "$2B",
          "$2B",
          "$2B",
          "$2B",
          "$2B",
          "$2B",
          "$2B",
          "$2B",
          "$2B",
          "$2B",
          "$2B",
          "$2B",
          "$2B",
          "$2B",
          "$2B",
          "$2B",
          "$2B",
          "$2B",
          "$2B",
          "$2B",
          "$2B",
          "$2B",
          "$2B",
          "$2B",
          "$2B",
          "$2B",
          "$2B",
          "$2B",
          "$2B",
          "$2B",
          "$2B",
          "$2B",
          "$2B",
          "$2B",
          "$2B",
          "$2B",
          "$2B",
          "$2B",
          "$2B",
          "$2B",
          "$2B",
          "$2B",
          "$2B",
          "$2B",
          "$2B",
          "$2B",
          "$2B",
          "$2B",
          "$2B",
          "$2B",
          "$2B",
          "$2B",
          "$2B",
          "$2B",
          "$2B",
          "$2B",
          "$2B",
          "$2B",
          "$2B",
          "$2B",
          "$2B",
          "$2B",
          "$2B",
          "$2B",
          "$2B",
          "$2B",
          "$2B",
          "$2B",
          "$2B",
          "$2B",
          "$2B",
          "$2B",
          "$2B",
          "$2B",
          "$2B",
          "$2B",
          "$2B",
          "$2B",
          "$2B",
          "$1B",
          "$1B",
          "$1B",
          "$1B",
          "$1B",
          "$1B",
          "$1B",
          "$1B",
          "$1B",
          "$1B",
          "$1B",
          "$1B",
          "$1B",
          "$1B",
          "$1B",
          "$1B",
          "$1B",
          "$1B",
          "$1B",
          "$1B",
          "$1B",
          "$1B",
          "$1B",
          "$1B",
          "$1B",
          "$1B",
          "$1B",
          "$1B",
          "$1B",
          "$1B",
          "$1B",
          "$1B",
          "$1B",
          "$1B",
          "$1B",
          "$1B",
          "$1B",
          "$1B",
          "$1B",
          "$1B",
          "$1B",
          "$1B",
          "$1B",
          "$1B",
          "$1B",
          "$1B",
          "$1B",
          "$1B",
          "$1B",
          "$1B",
          "$1B",
          "$1B",
          "$1B",
          "$1B",
          "$1B",
          "$1B",
          "$1B",
          "$1B",
          "$1B",
          "$1B",
          "$1B",
          "$1B",
          "$1B",
          "$1B",
          "$1B",
          "$1B",
          "$1B",
          "$1B",
          "$1B",
          "$1B",
          "$1B",
          "$1B",
          "$1B",
          "$1B",
          "$1B",
          "$1B",
          "$1B",
          "$1B",
          "$1B",
          "$1B",
          "$1B",
          "$1B",
          "$1B",
          "$1B",
          "$1B",
          "$1B",
          "$1B",
          "$1B",
          "$1B",
          "$1B",
          "$1B",
          "$1B",
          "$1B",
          "$1B",
          "$1B",
          "$1B",
          "$1B",
          "$1B",
          "$1B",
          "$1B",
          "$1B",
          "$1B",
          "$1B",
          "$1B",
          "$1B",
          "$1B",
          "$1B",
          "$1B",
          "$1B",
          "$1B",
          "$1B",
          "$1B",
          "$1B",
          "$1B",
          "$1B",
          "$1B",
          "$1B",
          "$1B",
          "$1B",
          "$1B",
          "$1B",
          "$1B",
          "$1B",
          "$1B",
          "$1B",
          "$1B",
          "$1B",
          "$1B",
          "$1B",
          "$1B",
          "$1B",
          "$1B",
          "$1B",
          "$1B",
          "$1B",
          "$1B",
          "$1B",
          "$1B",
          "$1B",
          "$1B",
          "$1B",
          "$1B",
          "$1B",
          "$1B",
          "$1B",
          "$1B",
          "$1B",
          "$1B",
          "$1B",
          "$1B",
          "$1B",
          "$1B",
          "$1B",
          "$1B",
          "$1B",
          "$1B",
          "$1B",
          "$1B",
          "$1B",
          "$1B",
          "$1B",
          "$1B",
          "$1B",
          "$1B",
          "$1B",
          "$1B",
          "$1B",
          "$1B",
          "$1B",
          "$1B",
          "$1B",
          "$1B",
          "$1B",
          "$1B",
          "$1B",
          "$1B",
          "$1B",
          "$1B",
          "$1B",
          "$1B",
          "$1B",
          "$1B",
          "$1B",
          "$1B",
          "$1B",
          "$1B",
          "$1B",
          "$1B",
          "$1B",
          "$1B",
          "$1B",
          "$1B",
          "$1B",
          "$1B",
          "$1B",
          "$1B",
          "$1B",
          "$1B",
          "$1B",
          "$1B",
          "$1B",
          "$1B",
          "$1B",
          "$1B",
          "$1B",
          "$1B",
          "$1B",
          "$1B",
          "$1B",
          "$1B",
          "$1B",
          "$1B",
          "$1B",
          "$1B",
          "$1B",
          "$1B",
          "$1B",
          "$1B",
          "$1B",
          "$1B",
          "$1B",
          "$1B",
          "$1B",
          "$1B",
          "$1B",
          "$1B",
          "$1B",
          "$1B",
          "$1B",
          "$1B",
          "$1B",
          "$1B",
          "$1B",
          "$1B",
          "$1B",
          "$1B",
          "$1B",
          "$1B",
          "$1B",
          "$1B",
          "$1B",
          "$1B",
          "$1B",
          "$1B",
          "$1B",
          "$1B",
          "$1B",
          "$1B",
          "$1B",
          "$1B",
          "$1B",
          "$1B",
          "$1B",
          "$1B",
          "$1B",
          "$1B",
          "$1B",
          "$1B",
          "$1B",
          "$1B",
          "$1B",
          "$1B",
          "$1B",
          "$1B",
          "$1B",
          "$1B",
          "$1B",
          "$1B",
          "$1B",
          "$1B",
          "$1B",
          "$1B",
          "$1B",
          "$1B",
          "$1B",
          "$1B",
          "$1B",
          "$1B",
          "$1B",
          "$1B",
          "$1B",
          "$1B",
          "$1B",
          "$1B",
          "$1B",
          "$1B",
          "$1B",
          "$1B",
          "$1B",
          "$1B",
          "$1B",
          "$1B",
          "$1B",
          "$1B",
          "$1B",
          "$1B",
          "$1B",
          "$1B",
          "$1B",
          "$1B",
          "$1B",
          "$1B",
          "$1B",
          "$1B",
          "$1B",
          "$1B",
          "$1B",
          "$1B",
          "$1B",
          "$1B",
          "$1B",
          "$1B",
          "$1B",
          "$1B",
          "$1B",
          "$1B",
          "$1B",
          "$1B",
          "$1B",
          "$1B",
          "$1B",
          "$1B",
          "$1B",
          "$1B",
          "$1B",
          "$1B",
          "$1B",
          "$1B",
          "$1B",
          "$1B",
          "$1B",
          "$1B",
          "$1B",
          "$1B",
          "$1B",
          "$1B",
          "$1B",
          "$1B",
          "$1B",
          "$1B",
          "$1B",
          "$1B",
          "$1B",
          "$1B",
          "$1B",
          "$1B",
          "$1B",
          "$1B",
          "$1B",
          "$1B",
          "$1B",
          "$1B",
          "$1B",
          "$1B",
          "$1B",
          "$1B",
          "$1B",
          "$1B",
          "$1B",
          "$1B",
          "$1B",
          "$1B",
          "$1B",
          "$1B",
          "$1B",
          "$1B",
          "$1B",
          "$1B",
          "$1B",
          "$1B",
          "$1B",
          "$1B",
          "$1B",
          "$1B",
          "$1B",
          "$1B",
          "$1B",
          "$1B",
          "$1B",
          "$1B",
          "$1B",
          "$1B",
          "$1B",
          "$1B",
          "$1B",
          "$1B",
          "$1B",
          "$1B",
          "$1B",
          "$1B",
          "$1B",
          "$1B",
          "$1B",
          "$1B",
          "$1B",
          "$1B",
          "$1B",
          "$1B",
          "$1B",
          "$1B",
          "$1B",
          "$1B",
          "$1B",
          "$1B",
          "$1B",
          "$1B",
          "$1B",
          "$1B",
          "$1B",
          "$1B",
          "$1B",
          "$1B",
          "$1B",
          "$1B",
          "$1B",
          "$1B",
          "$1B",
          "$1B",
          "$1B",
          "$1B",
          "$1B",
          "$1B",
          "$1B",
          "$1B",
          "$1B",
          "$1B",
          "$1B",
          "$1B",
          "$1B",
          "$1B",
          "$1B",
          "$1B",
          "$1B",
          "$1B",
          "$1B",
          "$1B",
          "$1B",
          "$1B",
          "$1B",
          "$1B",
          "$1B",
          "$1B",
          "$1B",
          "$1B",
          "$1B",
          "$1B",
          "$1B",
          "$1B",
          "$1B",
          "$1B",
          "$1B",
          "$1B",
          "$1B",
          "$1B",
          "$1B",
          "$1B",
          "$1B",
          "$1B",
          "$1B",
          "$1B",
          "$1B",
          "$1B",
          "$1B",
          "$1B",
          "$1B",
          "$1B",
          "$1B",
          "$1B",
          "$1B",
          "$1B",
          "$1B"
         ],
         "yaxis": "y"
        }
       ],
       "layout": {
        "barmode": "relative",
        "legend": {
         "tracegroupgap": 0
        },
        "margin": {
         "t": 60
        },
        "template": {
         "data": {
          "bar": [
           {
            "error_x": {
             "color": "#2a3f5f"
            },
            "error_y": {
             "color": "#2a3f5f"
            },
            "marker": {
             "line": {
              "color": "#E5ECF6",
              "width": 0.5
             },
             "pattern": {
              "fillmode": "overlay",
              "size": 10,
              "solidity": 0.2
             }
            },
            "type": "bar"
           }
          ],
          "barpolar": [
           {
            "marker": {
             "line": {
              "color": "#E5ECF6",
              "width": 0.5
             },
             "pattern": {
              "fillmode": "overlay",
              "size": 10,
              "solidity": 0.2
             }
            },
            "type": "barpolar"
           }
          ],
          "carpet": [
           {
            "aaxis": {
             "endlinecolor": "#2a3f5f",
             "gridcolor": "white",
             "linecolor": "white",
             "minorgridcolor": "white",
             "startlinecolor": "#2a3f5f"
            },
            "baxis": {
             "endlinecolor": "#2a3f5f",
             "gridcolor": "white",
             "linecolor": "white",
             "minorgridcolor": "white",
             "startlinecolor": "#2a3f5f"
            },
            "type": "carpet"
           }
          ],
          "choropleth": [
           {
            "colorbar": {
             "outlinewidth": 0,
             "ticks": ""
            },
            "type": "choropleth"
           }
          ],
          "contour": [
           {
            "colorbar": {
             "outlinewidth": 0,
             "ticks": ""
            },
            "colorscale": [
             [
              0,
              "#0d0887"
             ],
             [
              0.1111111111111111,
              "#46039f"
             ],
             [
              0.2222222222222222,
              "#7201a8"
             ],
             [
              0.3333333333333333,
              "#9c179e"
             ],
             [
              0.4444444444444444,
              "#bd3786"
             ],
             [
              0.5555555555555556,
              "#d8576b"
             ],
             [
              0.6666666666666666,
              "#ed7953"
             ],
             [
              0.7777777777777778,
              "#fb9f3a"
             ],
             [
              0.8888888888888888,
              "#fdca26"
             ],
             [
              1,
              "#f0f921"
             ]
            ],
            "type": "contour"
           }
          ],
          "contourcarpet": [
           {
            "colorbar": {
             "outlinewidth": 0,
             "ticks": ""
            },
            "type": "contourcarpet"
           }
          ],
          "heatmap": [
           {
            "colorbar": {
             "outlinewidth": 0,
             "ticks": ""
            },
            "colorscale": [
             [
              0,
              "#0d0887"
             ],
             [
              0.1111111111111111,
              "#46039f"
             ],
             [
              0.2222222222222222,
              "#7201a8"
             ],
             [
              0.3333333333333333,
              "#9c179e"
             ],
             [
              0.4444444444444444,
              "#bd3786"
             ],
             [
              0.5555555555555556,
              "#d8576b"
             ],
             [
              0.6666666666666666,
              "#ed7953"
             ],
             [
              0.7777777777777778,
              "#fb9f3a"
             ],
             [
              0.8888888888888888,
              "#fdca26"
             ],
             [
              1,
              "#f0f921"
             ]
            ],
            "type": "heatmap"
           }
          ],
          "heatmapgl": [
           {
            "colorbar": {
             "outlinewidth": 0,
             "ticks": ""
            },
            "colorscale": [
             [
              0,
              "#0d0887"
             ],
             [
              0.1111111111111111,
              "#46039f"
             ],
             [
              0.2222222222222222,
              "#7201a8"
             ],
             [
              0.3333333333333333,
              "#9c179e"
             ],
             [
              0.4444444444444444,
              "#bd3786"
             ],
             [
              0.5555555555555556,
              "#d8576b"
             ],
             [
              0.6666666666666666,
              "#ed7953"
             ],
             [
              0.7777777777777778,
              "#fb9f3a"
             ],
             [
              0.8888888888888888,
              "#fdca26"
             ],
             [
              1,
              "#f0f921"
             ]
            ],
            "type": "heatmapgl"
           }
          ],
          "histogram": [
           {
            "marker": {
             "pattern": {
              "fillmode": "overlay",
              "size": 10,
              "solidity": 0.2
             }
            },
            "type": "histogram"
           }
          ],
          "histogram2d": [
           {
            "colorbar": {
             "outlinewidth": 0,
             "ticks": ""
            },
            "colorscale": [
             [
              0,
              "#0d0887"
             ],
             [
              0.1111111111111111,
              "#46039f"
             ],
             [
              0.2222222222222222,
              "#7201a8"
             ],
             [
              0.3333333333333333,
              "#9c179e"
             ],
             [
              0.4444444444444444,
              "#bd3786"
             ],
             [
              0.5555555555555556,
              "#d8576b"
             ],
             [
              0.6666666666666666,
              "#ed7953"
             ],
             [
              0.7777777777777778,
              "#fb9f3a"
             ],
             [
              0.8888888888888888,
              "#fdca26"
             ],
             [
              1,
              "#f0f921"
             ]
            ],
            "type": "histogram2d"
           }
          ],
          "histogram2dcontour": [
           {
            "colorbar": {
             "outlinewidth": 0,
             "ticks": ""
            },
            "colorscale": [
             [
              0,
              "#0d0887"
             ],
             [
              0.1111111111111111,
              "#46039f"
             ],
             [
              0.2222222222222222,
              "#7201a8"
             ],
             [
              0.3333333333333333,
              "#9c179e"
             ],
             [
              0.4444444444444444,
              "#bd3786"
             ],
             [
              0.5555555555555556,
              "#d8576b"
             ],
             [
              0.6666666666666666,
              "#ed7953"
             ],
             [
              0.7777777777777778,
              "#fb9f3a"
             ],
             [
              0.8888888888888888,
              "#fdca26"
             ],
             [
              1,
              "#f0f921"
             ]
            ],
            "type": "histogram2dcontour"
           }
          ],
          "mesh3d": [
           {
            "colorbar": {
             "outlinewidth": 0,
             "ticks": ""
            },
            "type": "mesh3d"
           }
          ],
          "parcoords": [
           {
            "line": {
             "colorbar": {
              "outlinewidth": 0,
              "ticks": ""
             }
            },
            "type": "parcoords"
           }
          ],
          "pie": [
           {
            "automargin": true,
            "type": "pie"
           }
          ],
          "scatter": [
           {
            "fillpattern": {
             "fillmode": "overlay",
             "size": 10,
             "solidity": 0.2
            },
            "type": "scatter"
           }
          ],
          "scatter3d": [
           {
            "line": {
             "colorbar": {
              "outlinewidth": 0,
              "ticks": ""
             }
            },
            "marker": {
             "colorbar": {
              "outlinewidth": 0,
              "ticks": ""
             }
            },
            "type": "scatter3d"
           }
          ],
          "scattercarpet": [
           {
            "marker": {
             "colorbar": {
              "outlinewidth": 0,
              "ticks": ""
             }
            },
            "type": "scattercarpet"
           }
          ],
          "scattergeo": [
           {
            "marker": {
             "colorbar": {
              "outlinewidth": 0,
              "ticks": ""
             }
            },
            "type": "scattergeo"
           }
          ],
          "scattergl": [
           {
            "marker": {
             "colorbar": {
              "outlinewidth": 0,
              "ticks": ""
             }
            },
            "type": "scattergl"
           }
          ],
          "scattermapbox": [
           {
            "marker": {
             "colorbar": {
              "outlinewidth": 0,
              "ticks": ""
             }
            },
            "type": "scattermapbox"
           }
          ],
          "scatterpolar": [
           {
            "marker": {
             "colorbar": {
              "outlinewidth": 0,
              "ticks": ""
             }
            },
            "type": "scatterpolar"
           }
          ],
          "scatterpolargl": [
           {
            "marker": {
             "colorbar": {
              "outlinewidth": 0,
              "ticks": ""
             }
            },
            "type": "scatterpolargl"
           }
          ],
          "scatterternary": [
           {
            "marker": {
             "colorbar": {
              "outlinewidth": 0,
              "ticks": ""
             }
            },
            "type": "scatterternary"
           }
          ],
          "surface": [
           {
            "colorbar": {
             "outlinewidth": 0,
             "ticks": ""
            },
            "colorscale": [
             [
              0,
              "#0d0887"
             ],
             [
              0.1111111111111111,
              "#46039f"
             ],
             [
              0.2222222222222222,
              "#7201a8"
             ],
             [
              0.3333333333333333,
              "#9c179e"
             ],
             [
              0.4444444444444444,
              "#bd3786"
             ],
             [
              0.5555555555555556,
              "#d8576b"
             ],
             [
              0.6666666666666666,
              "#ed7953"
             ],
             [
              0.7777777777777778,
              "#fb9f3a"
             ],
             [
              0.8888888888888888,
              "#fdca26"
             ],
             [
              1,
              "#f0f921"
             ]
            ],
            "type": "surface"
           }
          ],
          "table": [
           {
            "cells": {
             "fill": {
              "color": "#EBF0F8"
             },
             "line": {
              "color": "white"
             }
            },
            "header": {
             "fill": {
              "color": "#C8D4E3"
             },
             "line": {
              "color": "white"
             }
            },
            "type": "table"
           }
          ]
         },
         "layout": {
          "annotationdefaults": {
           "arrowcolor": "#2a3f5f",
           "arrowhead": 0,
           "arrowwidth": 1
          },
          "autotypenumbers": "strict",
          "coloraxis": {
           "colorbar": {
            "outlinewidth": 0,
            "ticks": ""
           }
          },
          "colorscale": {
           "diverging": [
            [
             0,
             "#8e0152"
            ],
            [
             0.1,
             "#c51b7d"
            ],
            [
             0.2,
             "#de77ae"
            ],
            [
             0.3,
             "#f1b6da"
            ],
            [
             0.4,
             "#fde0ef"
            ],
            [
             0.5,
             "#f7f7f7"
            ],
            [
             0.6,
             "#e6f5d0"
            ],
            [
             0.7,
             "#b8e186"
            ],
            [
             0.8,
             "#7fbc41"
            ],
            [
             0.9,
             "#4d9221"
            ],
            [
             1,
             "#276419"
            ]
           ],
           "sequential": [
            [
             0,
             "#0d0887"
            ],
            [
             0.1111111111111111,
             "#46039f"
            ],
            [
             0.2222222222222222,
             "#7201a8"
            ],
            [
             0.3333333333333333,
             "#9c179e"
            ],
            [
             0.4444444444444444,
             "#bd3786"
            ],
            [
             0.5555555555555556,
             "#d8576b"
            ],
            [
             0.6666666666666666,
             "#ed7953"
            ],
            [
             0.7777777777777778,
             "#fb9f3a"
            ],
            [
             0.8888888888888888,
             "#fdca26"
            ],
            [
             1,
             "#f0f921"
            ]
           ],
           "sequentialminus": [
            [
             0,
             "#0d0887"
            ],
            [
             0.1111111111111111,
             "#46039f"
            ],
            [
             0.2222222222222222,
             "#7201a8"
            ],
            [
             0.3333333333333333,
             "#9c179e"
            ],
            [
             0.4444444444444444,
             "#bd3786"
            ],
            [
             0.5555555555555556,
             "#d8576b"
            ],
            [
             0.6666666666666666,
             "#ed7953"
            ],
            [
             0.7777777777777778,
             "#fb9f3a"
            ],
            [
             0.8888888888888888,
             "#fdca26"
            ],
            [
             1,
             "#f0f921"
            ]
           ]
          },
          "colorway": [
           "#636efa",
           "#EF553B",
           "#00cc96",
           "#ab63fa",
           "#FFA15A",
           "#19d3f3",
           "#FF6692",
           "#B6E880",
           "#FF97FF",
           "#FECB52"
          ],
          "font": {
           "color": "#2a3f5f"
          },
          "geo": {
           "bgcolor": "white",
           "lakecolor": "white",
           "landcolor": "#E5ECF6",
           "showlakes": true,
           "showland": true,
           "subunitcolor": "white"
          },
          "hoverlabel": {
           "align": "left"
          },
          "hovermode": "closest",
          "mapbox": {
           "style": "light"
          },
          "paper_bgcolor": "white",
          "plot_bgcolor": "#E5ECF6",
          "polar": {
           "angularaxis": {
            "gridcolor": "white",
            "linecolor": "white",
            "ticks": ""
           },
           "bgcolor": "#E5ECF6",
           "radialaxis": {
            "gridcolor": "white",
            "linecolor": "white",
            "ticks": ""
           }
          },
          "scene": {
           "xaxis": {
            "backgroundcolor": "#E5ECF6",
            "gridcolor": "white",
            "gridwidth": 2,
            "linecolor": "white",
            "showbackground": true,
            "ticks": "",
            "zerolinecolor": "white"
           },
           "yaxis": {
            "backgroundcolor": "#E5ECF6",
            "gridcolor": "white",
            "gridwidth": 2,
            "linecolor": "white",
            "showbackground": true,
            "ticks": "",
            "zerolinecolor": "white"
           },
           "zaxis": {
            "backgroundcolor": "#E5ECF6",
            "gridcolor": "white",
            "gridwidth": 2,
            "linecolor": "white",
            "showbackground": true,
            "ticks": "",
            "zerolinecolor": "white"
           }
          },
          "shapedefaults": {
           "line": {
            "color": "#2a3f5f"
           }
          },
          "ternary": {
           "aaxis": {
            "gridcolor": "white",
            "linecolor": "white",
            "ticks": ""
           },
           "baxis": {
            "gridcolor": "white",
            "linecolor": "white",
            "ticks": ""
           },
           "bgcolor": "#E5ECF6",
           "caxis": {
            "gridcolor": "white",
            "linecolor": "white",
            "ticks": ""
           }
          },
          "title": {
           "x": 0.05
          },
          "xaxis": {
           "automargin": true,
           "gridcolor": "white",
           "linecolor": "white",
           "ticks": "",
           "title": {
            "standoff": 15
           },
           "zerolinecolor": "white",
           "zerolinewidth": 2
          },
          "yaxis": {
           "automargin": true,
           "gridcolor": "white",
           "linecolor": "white",
           "ticks": "",
           "title": {
            "standoff": 15
           },
           "zerolinecolor": "white",
           "zerolinewidth": 2
          }
         }
        },
        "xaxis": {
         "anchor": "y",
         "domain": [
          0,
          1
         ],
         "title": {
          "text": "Country"
         }
        },
        "yaxis": {
         "anchor": "x",
         "domain": [
          0,
          1
         ],
         "title": {
          "text": "Valuation"
         }
        }
       }
      },
      "text/html": [
       "<div>                            <div id=\"34641dee-e785-4f97-8388-03caedb13659\" class=\"plotly-graph-div\" style=\"height:525px; width:100%;\"></div>            <script type=\"text/javascript\">                require([\"plotly\"], function(Plotly) {                    window.PLOTLYENV=window.PLOTLYENV || {};                                    if (document.getElementById(\"34641dee-e785-4f97-8388-03caedb13659\")) {                    Plotly.newPlot(                        \"34641dee-e785-4f97-8388-03caedb13659\",                        [{\"alignmentgroup\":\"True\",\"hovertemplate\":\"Country=%{x}<br>Valuation=%{y}<extra></extra>\",\"legendgroup\":\"\",\"marker\":{\"color\":\"#636efa\",\"pattern\":{\"shape\":\"\"}},\"name\":\"\",\"offsetgroup\":\"\",\"orientation\":\"v\",\"showlegend\":false,\"textposition\":\"auto\",\"x\":[\"Country\",\"China\",\"United States\",\"China\",\"United States\",\"Sweden\",\"Australia\",\"United Kingdom\",\"United States\",\"United States\",\"United States\",\"United Kingdom\",\"United States\",\"Bahamas\",\"United States\",\"United States\",\"India\",\"Indonesia\",\"China\",\"United States\",\"China\",\"United Kingdom\",\"United States\",\"China\",\"United States\",\"United Kingdom\",\"United States\",\"United States\",\"United States\",\"United States\",\"United States\",\"Sweden\",\"United States\",\"United States\",\"United States\",\"Turkey\",\"United States\",\"China\",\"United States\",\"China\",\"China\",\"Estonia\",\"India\",\"China\",\"United Kingdom\",\"United States\",\"Germany\",\"China\",\"United States\",\"India\",\"United States\",\"United States\",\"United States\",\"China\",\"United States\",\"United States\",\"United States\",\"Hong Kong\",\"United States\",\"United States\",\"United States\",\"United States\",\"South Korea\",\"South Korea\",\"United States\",\"United States\",\"United States\",\"Mexico\",\"Germany\",\"United States\",\"United States\",\"United States\",\"India\",\"China\",\"United States\",\"India\",\"Canada\",\"United States\",\"United States\",\"United Kingdom\",\"United States\",\"United States\",\"United States\",\"United States\",\"United States\",\"India\",\"China\",\"United States\",\"India\",\"United States\",\"India\",\"United States\",\"United States\",\"South Korea\",\"China\",\"United States\",\"United States\",\"United States\",\"Canada\",\"United States\",\"United States\",\"United States\",\"United States\",\"United States\",\"China\",\"China\",\"China\",\"Australia\",\"United States\",\"Netherlands\",\"Netherlands\",\"France\",\"United States\",\"United States\",\"France\",\"United States\",\"United States\",\"Germany\",\"Finland\",\"United States\",\"United States\",\"United States\",\"China\",\"United States\",\"United States\",\"United States\",\"United States\",\"United States\",\"Israel\",\"India\",\"United Kingdom\",\"India\",\"China\",\"China\",\"China\",\"United Kingdom\",\"United States\",\"China\",\"Lithuania\",\"United Kingdom\",\"China\",\"United States\",\"United States\",\"United States\",\"United States\",\"United States\",\"Denmark\",\"Germany\",\"China\",\"Belgium\",\"Colombia\",\"United States\",\"United States\",\"Brazil\",\"United States\",\"Brazil\",\"Brazil\",\"United States\",\"Canada\",\"United States\",\"Israel\",\"India\",\"India\",\"India\",\"France\",\"United States\",\"China\",\"China\",\"United Kingdom\",\"China\",\"United Kingdom\",\"Singapore\",\"United States\",\"South Korea\",\"United States\",\"India\",\"United States\",\"China\",\"United States\",\"United States\",\"United States\",\"United States\",\"United States\",\"United States\",\"United States\",\"United States\",\"United States\",\"France\",\"United States\",\"United States\",\"Germany\",\"United States\",\"China\",\"United States\",\"United States\",\"United States\",\"United States\",\"United States\",\"United States\",\"United States\",\"United States\",\"United States\",\"India\",\"France\",\"United States\",\"United States\",\"United States\",\"United States\",\"United States\",\"United States\",\"United States\",\"United States\",\"United States\",\"United States\",\"United States\",\"United States\",\"Canada\",\"Austria\",\"United States\",\"United States\",\"China\",\"China\",\"United States\",\"United States\",\"Ireland\",\"United States\",\"United States\",\"United States\",\"United States\",\"United States\",\"China\",\"United States\",\"United States\",\"United States\",\"United States\",\"Canada\",\"United States\",\"United States\",\"United States\",\"United States\",\"United States\",\"China\",\"South Korea\",\"Singapore\",\"United States\",\"India\",\"United Arab Emirates\",\"China\",\"United States\",\"United Kingdom\",\"United States\",\"China\",\"Singapore\",\"Netherlands\",\"United States\",\"United States\",\"United States\",\"Switzerland\",\"United States\",\"China\",\"Israel\",\"India\",\"United States\",\"India\",\"Austria\",\"Australia\",\"India\",\"United States\",\"United States\",\"United States\",\"United States\",\"United States\",\"United States\",\"United States\",\"Finland\",\"India\",\"United States\",\"United States\",\"France\",\"United States\",\"United States\",\"United States\",\"United States\",\"United States\",\"United States\",\"United States\",\"China\",\"India\",\"India\",\"United States\",\"United States\",\"United States\",\"United States\",\"United States\",\"United States\",\"United States\",\"Israel\",\"United States\",\"United States\",\"Turkey\",\"United States\",\"United States\",\"United Kingdom\",\"Canada\",\"Canada\",\"United States\",\"France\",\"India\",\"United States\",\"United States\",\"United States\",\"United States\",\"United States\",\"India\",\"United States\",\"Germany\",\"United States\",\"United States\",\"Germany\",\"United States\",\"Brazil\",\"Brazil\",\"India\",\"United States\",\"United States\",\"United States\",\"Hong Kong\",\"United States\",\"United States\",\"United States\",\"United States\",\"United States\",\"United Kingdom\",\"Germany\",\"United States\",\"India\",\"Germany\",\"United States\",\"United States\",\"United States\",\"India\",\"United States\",\"China\",\"United States\",\"United States\",\"United States\",\"United States\",\"United States\",\"United States\",\"United States\",\"Vietnam\",\"China\",\"United States\",\"Indonesia\",\"Germany\",\"Brazil\",\"United States\",\"China\",\"United States\",\"United Kingdom\",\"United States\",\"China\",\"United States\",\"China\",\"China\",\"China\",\"China\",\"China\",\"China\",\"United States\",\"China\",\"China\",\"Israel\",\"India\",\"South Africa\",\"China\",\"China\",\"China\",\"United Kingdom\",\"United States\",\"United Kingdom\",\"India\",\"Switzerland\",\"Singapore\",\"United States\",\"Germany\",\"United States\",\"United Kingdom\",\"China\",\"United States\",\"United States\",\"United States\",\"United States\",\"United States\",\"Thailand\",\"United States\",\"United States\",\"United States\",\"Norway\",\"United States\",\"United States\",\"Australia\",\"United States\",\"India\",\"United Kingdom\",\"United States\",\"United States\",\"France\",\"United States\",\"United Kingdom\",\"United States\",\"United States\",\"Israel\",\"Chile\",\"Brazil\",\"United States\",\"United States\",\"United States\",\"United States\",\"United States\",\"United States\",\"Israel\",\"United States\",\"United States\",\"China\",\"United States\",\"United States\",\"Estonia\",\"United States\",\"United States\",\"United States\",\"United States\",\"India\",\"Argentina\",\"China\",\"China\",\"United States\",\"Bermuda\",\"United States\",\"United States\",\"China\",\"United States\",\"United States\",\"Canada\",\"United States\",\"United States\",\"United States\",\"United States\",\"United States\",\"United States\",\"United States\",\"United States\",\"Australia\",\"Japan\",\"United States\",\"United States\",\"United States\",\"United States\",\"Ireland\",\"China\",\"United States\",\"United States\",\"United States\",\"Israel\",\"Spain\",\"United States\",\"Germany\",\"South Korea\",\"France\",\"China\",\"France\",\"Malaysia\",\"United States\",\"India\",\"United States\",\"United States\",\"United Kingdom\",\"United States\",\"United States\",\"United States\",\"United States\",\"United States\",\"United States\",\"United States\",\"France\",\"Senegal\",\"United States\",\"United States\",\"United States\",\"United States\",\"Belgium\",\"United States\",\"United States\",\"Vietnam\",\"United States\",\"United States\",\"India\",\"Canada\",\"United States\",\"China\",\"Mexico\",\"United States\",\"United States\",\"United States\",\"China\",\"United States\",\"South Korea\",\"Germany\",\"United States\",\"United States\",\"United States\",\"Israel\",\"United States\",\"United States\",\"United Kingdom\",\"China\",\"United States\",\"China\",\"Brazil\",\"United States\",\"Germany\",\"United States\",\"United States\",\"India\",\"United States\",\"United States\",\"India\",\"Germany\",\"United Kingdom\",\"United States\",\"United States\",\"United States\",\"United States\",\"United States\",\"United Kingdom\",\"United States\",\"United States\",\"India\",\"United States\",\"United Kingdom\",\"France\",\"China\",\"Singapore\",\"Finland\",\"Indonesia\",\"United States\",\"United States\",\"United States\",\"United States\",\"France\",\"China\",\"Netherlands\",\"United States\",\"United States\",\"Canada\",\"United States\",\"Mexico\",\"United States\",\"United States\",\"United States\",\"United States\",\"United States\",\"United States\",\"France\",\"United States\",\"China\",\"United States\",\"China\",\"United States\",\"United States\",\"United States\",\"United States\",\"China\",\"Sweden\",\"Brazil\",\"United States\",\"Denmark\",\"China\",\"United States\",\"United States\",\"United States\",\"United States\",\"Philippines\",\"United States\",\"United States\",\"Luxembourg\",\"Nigeria\",\"United States\",\"Japan\",\"United States\",\"United States\",\"Japan\",\"United States\",\"Israel\",\"United States\",\"Germany\",\"Hong Kong\",\"United States\",\"United States\",\"United States\",\"China\",\"China\",\"China\",\"United Kingdom\",\"China\",\"United States\",\"South Korea\",\"United States\",\"South Africa\",\"China\",\"India\",\"China\",\"China\",\"Sweden\",\"United States\",\"United States\",\"United States\",\"United States\",\"United States\",\"China\",\"China\",\"China\",\"China\",\"China\",\"China\",\"China\",\"United States\",\"China\",\"China\",\"Colombia\",\"China\",\"India\",\"United States\",\"France\",\"United States\",\"China\",\"China\",\"United States\",\"China\",\"China\",\"China\",\"India\",\"United Kingdom\",\"China\",\"China\",\"China\",\"China\",\"United States\",\"United States\",\"China\",\"China\",\"China\",\"China\",\"China\",\"China\",\"China\",\"China\",\"France\",\"China\",\"China\",\"China\",\"United States\",\"United States\",\"United States\",\"China\",\"Israel\",\"China\",\"United States\",\"China\",\"United States\",\"India\",\"China\",\"United States\",\"China\",\"United States\",\"China\",\"France\",\"United States\",\"China\",\"China\",\"China\",\"China\",\"United States\",\"China\",\"United Kingdom\",\"United States\",\"China\",\"United States\",\"United States\",\"United States\",\"Spain\",\"United States\",\"United States\",\"France\",\"United States\",\"Belgium\",\"United States\",\"Sweden\",\"Canada\",\"Israel\",\"India\",\"United States\",\"United States\",\"China\",\"United States\",\"United States\",\"India\",\"India\",\"United States\",\"Germany\",\"United States\",\"United States\",\"United States\",\"United Kingdom\",\"United States\",\"China\",\"United States\",\"Brazil\",\"France\",\"United States\",\"United States\",\"Hong Kong\",\"China\",\"United States\",\"United Kingdom\",\"South Korea\",\"United States\",\"South Korea\",\"United States\",\"China\",\"China\",\"United States\",\"United States\",\"United States\",\"United States\",\"United States\",\"United States\",\"Israel\",\"United States\",\"United States\",\"Mexico\",\"Australia\",\"United States\",\"United States\",\"China\",\"United States\",\"Spain\",\"United States\",\"United States\",\"United Kingdom\",\"United States\",\"United States\",\"Ireland\",\"United States\",\"United States\",\"China\",\"United Kingdom\",\"United States\",\"United States\",\"United States\",\"Canada\",\"China\",\"Turkey\",\"Japan\",\"Canada\",\"United States\",\"United States\",\"United States\",\"India\",\"United States\",\"United States\",\"United States\",\"United States\",\"United States\",\"United States\",\"United States\",\"United States\",\"India\",\"Mexico\",\"United States\",\"India\",\"Norway\",\"United States\",\"United States\",\"United States\",\"United States\",\"United States\",\"United States\",\"Czech Republic\",\"United States\",\"China\",\"United States\",\"India\",\"Ireland\",\"India\",\"South Korea\",\"China\",\"China\",\"United States\",\"United States\",\"China\",\"United States\",\"United States\",\"United States\",\"United States\",\"United States\",\"United States\",\"United States\",\"China\",\"India\",\"India\",\"United States\",\"Singapore\",\"United States\",\"India\",\"United States\",\"Germany\",\"Canada\",\"United States\",\"United States\",\"United States\",\"China\",\"Germany\",\"India\",\"United States\",\"China\",\"United States\",\"India\",\"Switzerland\",\"United States\",\"United States\",\"United States\",\"Germany\",\"United States\",\"Germany\",\"United States\",\"United States\",\"United Kingdom\",\"United Kingdom\",\"China\",\"India\",\"United Kingdom\",\"India\",\"United States\",\"South Korea\",\"United States\",\"United States\",\"United States\",\"China\",\"Singapore\",\"United States\",\"United States\",\"Israel\",\"China\",\"China\",\"China\",\"Germany\",\"China\",\"United States\",\"Indonesia\",\"United States\",\"India\",\"United States\",\"United States\",\"United States\",\"United States\",\"Israel\",\"United States\",\"Canada\",\"United States\",\"Canada\",\"United States\",\"China\",\"China\",\"United Kingdom\",\"Germany\",\"Chile\",\"Netherlands\",\"India\",\"United States\",\"United States\",\"Singapore\",\"United States\",\"Israel\",\"United States\",\"United States\",\"United States\",\"United States\",\"United States\",\"Brazil\",\"Singapore\",\"United States\",\"United States\",\"United States\",\"Hong Kong\",\"Mexico\",\"United States\",\"United States\",\"United States\",\"India\",\"France\",\"China\",\"United States\",\"Israel\",\"Norway\",\"China\",\"Brazil\",\"China\",\"United States\",\"United Arab Emirates\",\"United States\",\"United States\",\"United States\",\"United States\",\"United States\",\"United States\",\"China\",\"United States\",\"Thailand\",\"China\",\"India\",\"Canada\",\"China\",\"United States\",\"China\",\"Norway\",\"United States\",\"Australia\",\"United States\",\"Israel\",\"China\",\"India\",\"China\",\"United States\",\"Finland\",\"Netherlands\",\"China\",\"United States\",\"United States\",\"China\",\"Brazil\",\"Germany\",\"Croatia\",\"United States\",\"China\",\"United States\",\"United States\",\"Israel\",\"United States\",\"United Arab Emirates\",\"China\",\"Indonesia\",\"China\",\"United States\",\"United States\",\"Ireland\",\"India\",\"China\",\"United States\",\"United States\",\"France\",\"Brazil\",\"China\",\"United States\",\"United States\",\"United States\",\"United States\",\"France\",\"India\",\"China\",\"United States\",\"China\",\"China\",\"China\",\"United States\",\"Brazil\",\"United States\",\"United States\",\"China\",\"United States\",\"United States\",\"Singapore\",\"India\",\"United States\",\"Switzerland\",\"United States\",\"Germany\",\"Singapore\",\"United States\",\"China\",\"United States\",\"United States\",\"United States\",\"United States\",\"United States\",\"Singapore\",\"United Kingdom\",\"Israel\",\"Australia\",\"United States\",\"United States\",\"United States\",\"Japan\",\"China\",\"United Kingdom\",\"United States\",\"United States\",\"United States\",\"United States\",\"Germany\",\"United States\",\"United States\",\"United States\",\"Philippines\",\"United States\",\"United Kingdom\",\"United States\",\"Italy\",\"Switzerland\",\"United States\",\"United States\",\"France\",\"United States\",\"United States\",\"United States\",\"United States\",\"United States\",\"India\",\"United States\",\"United States\",\"United States\",\"United States\",\"United States\",\"United States\",\"United States\",\"United States\",\"United States\",\"France\",\"United States\",\"United States\",\"Canada\",\"China\",\"China\",\"United States\",\"United States\",\"United Kingdom\",\"United States\",\"United Kingdom\",\"United States\",\"United States\",\"United Kingdom\",\"Brazil\",\"United States\",\"India\",\"United States\",\"United States\",\"Canada\",\"Sweden\",\"United States\",\"United States\",\"United States\",\"United States\",\"Hong Kong\",\"China\",\"United States\",\"Indonesia\",\"China\",\"China\",\"United States\",\"China\",\"China\",\"China\",\"China\",\"United Kingdom\",\"United States\"],\"xaxis\":\"x\",\"y\":[\"Valuation\",\"$180B\",\"$100B\",\"$100B\",\"$95B\",\"$46B\",\"$40B\",\"$40B\",\"$39B\",\"$38B\",\"$38B\",\"$33B\",\"$32B\",\"$32B\",\"$27B\",\"$25B\",\"$22B\",\"$20B\",\"$20B\",\"$18B\",\"$17B\",\"$15B\",\"$15B\",\"$15B\",\"$15B\",\"$14B\",\"$13B\",\"$13B\",\"$13B\",\"$13B\",\"$12B\",\"$12B\",\"$12B\",\"$12B\",\"$12B\",\"$12B\",\"$12B\",\"$12B\",\"$12B\",\"$12B\",\"$11B\",\"$11B\",\"$11B\",\"$11B\",\"$11B\",\"$11B\",\"$11B\",\"$10B\",\"$10B\",\"$10B\",\"$10B\",\"$10B\",\"$10B\",\"$10B\",\"$10B\",\"$10B\",\"$10B\",\"$10B\",\"$10B\",\"$10B\",\"$10B\",\"$10B\",\"$9B\",\"$9B\",\"$9B\",\"$9B\",\"$9B\",\"$9B\",\"$9B\",\"$9B\",\"$9B\",\"$9B\",\"$8B\",\"$8B\",\"$8B\",\"$8B\",\"$8B\",\"$8B\",\"$8B\",\"$8B\",\"$8B\",\"$8B\",\"$8B\",\"$8B\",\"$8B\",\"$7B\",\"$7B\",\"$7B\",\"$7B\",\"$7B\",\"$7B\",\"$7B\",\"$7B\",\"$7B\",\"$7B\",\"$7B\",\"$7B\",\"$7B\",\"$7B\",\"$7B\",\"$7B\",\"$7B\",\"$7B\",\"$6B\",\"$6B\",\"$6B\",\"$6B\",\"$6B\",\"$6B\",\"$6B\",\"$6B\",\"$6B\",\"$6B\",\"$6B\",\"$6B\",\"$6B\",\"$6B\",\"$6B\",\"$6B\",\"$6B\",\"$6B\",\"$6B\",\"$6B\",\"$6B\",\"$6B\",\"$6B\",\"$6B\",\"$6B\",\"$6B\",\"$5B\",\"$5B\",\"$5B\",\"$5B\",\"$5B\",\"$5B\",\"$5B\",\"$5B\",\"$5B\",\"$5B\",\"$5B\",\"$5B\",\"$5B\",\"$5B\",\"$5B\",\"$5B\",\"$5B\",\"$5B\",\"$5B\",\"$5B\",\"$5B\",\"$5B\",\"$5B\",\"$5B\",\"$5B\",\"$5B\",\"$5B\",\"$5B\",\"$5B\",\"$5B\",\"$5B\",\"$5B\",\"$5B\",\"$5B\",\"$5B\",\"$5B\",\"$5B\",\"$5B\",\"$5B\",\"$5B\",\"$4B\",\"$4B\",\"$4B\",\"$4B\",\"$4B\",\"$4B\",\"$4B\",\"$4B\",\"$4B\",\"$4B\",\"$4B\",\"$4B\",\"$4B\",\"$4B\",\"$4B\",\"$4B\",\"$4B\",\"$4B\",\"$4B\",\"$4B\",\"$4B\",\"$4B\",\"$4B\",\"$4B\",\"$4B\",\"$4B\",\"$4B\",\"$4B\",\"$4B\",\"$4B\",\"$4B\",\"$4B\",\"$4B\",\"$4B\",\"$4B\",\"$4B\",\"$4B\",\"$4B\",\"$4B\",\"$4B\",\"$4B\",\"$4B\",\"$4B\",\"$4B\",\"$4B\",\"$4B\",\"$4B\",\"$4B\",\"$4B\",\"$4B\",\"$4B\",\"$4B\",\"$4B\",\"$4B\",\"$4B\",\"$4B\",\"$4B\",\"$4B\",\"$4B\",\"$4B\",\"$4B\",\"$4B\",\"$4B\",\"$4B\",\"$4B\",\"$4B\",\"$4B\",\"$4B\",\"$4B\",\"$4B\",\"$4B\",\"$4B\",\"$3B\",\"$3B\",\"$3B\",\"$3B\",\"$3B\",\"$3B\",\"$3B\",\"$3B\",\"$3B\",\"$3B\",\"$3B\",\"$3B\",\"$3B\",\"$3B\",\"$3B\",\"$3B\",\"$3B\",\"$3B\",\"$3B\",\"$3B\",\"$3B\",\"$3B\",\"$3B\",\"$3B\",\"$3B\",\"$3B\",\"$3B\",\"$3B\",\"$3B\",\"$3B\",\"$3B\",\"$3B\",\"$3B\",\"$3B\",\"$3B\",\"$3B\",\"$3B\",\"$3B\",\"$3B\",\"$3B\",\"$3B\",\"$3B\",\"$3B\",\"$3B\",\"$3B\",\"$3B\",\"$3B\",\"$3B\",\"$3B\",\"$3B\",\"$3B\",\"$3B\",\"$3B\",\"$3B\",\"$3B\",\"$3B\",\"$3B\",\"$3B\",\"$3B\",\"$3B\",\"$3B\",\"$3B\",\"$3B\",\"$3B\",\"$3B\",\"$3B\",\"$3B\",\"$3B\",\"$3B\",\"$3B\",\"$3B\",\"$3B\",\"$3B\",\"$3B\",\"$3B\",\"$3B\",\"$3B\",\"$3B\",\"$3B\",\"$3B\",\"$3B\",\"$3B\",\"$3B\",\"$3B\",\"$3B\",\"$3B\",\"$3B\",\"$3B\",\"$3B\",\"$3B\",\"$3B\",\"$3B\",\"$3B\",\"$3B\",\"$3B\",\"$3B\",\"$3B\",\"$3B\",\"$3B\",\"$3B\",\"$3B\",\"$3B\",\"$3B\",\"$3B\",\"$3B\",\"$3B\",\"$3B\",\"$3B\",\"$3B\",\"$3B\",\"$3B\",\"$3B\",\"$3B\",\"$3B\",\"$3B\",\"$2B\",\"$2B\",\"$2B\",\"$2B\",\"$2B\",\"$2B\",\"$2B\",\"$2B\",\"$2B\",\"$2B\",\"$2B\",\"$2B\",\"$2B\",\"$2B\",\"$2B\",\"$2B\",\"$2B\",\"$2B\",\"$2B\",\"$2B\",\"$2B\",\"$2B\",\"$2B\",\"$2B\",\"$2B\",\"$2B\",\"$2B\",\"$2B\",\"$2B\",\"$2B\",\"$2B\",\"$2B\",\"$2B\",\"$2B\",\"$2B\",\"$2B\",\"$2B\",\"$2B\",\"$2B\",\"$2B\",\"$2B\",\"$2B\",\"$2B\",\"$2B\",\"$2B\",\"$2B\",\"$2B\",\"$2B\",\"$2B\",\"$2B\",\"$2B\",\"$2B\",\"$2B\",\"$2B\",\"$2B\",\"$2B\",\"$2B\",\"$2B\",\"$2B\",\"$2B\",\"$2B\",\"$2B\",\"$2B\",\"$2B\",\"$2B\",\"$2B\",\"$2B\",\"$2B\",\"$2B\",\"$2B\",\"$2B\",\"$2B\",\"$2B\",\"$2B\",\"$2B\",\"$2B\",\"$2B\",\"$2B\",\"$2B\",\"$2B\",\"$2B\",\"$2B\",\"$2B\",\"$2B\",\"$2B\",\"$2B\",\"$2B\",\"$2B\",\"$2B\",\"$2B\",\"$2B\",\"$2B\",\"$2B\",\"$2B\",\"$2B\",\"$2B\",\"$2B\",\"$2B\",\"$2B\",\"$2B\",\"$2B\",\"$2B\",\"$2B\",\"$2B\",\"$2B\",\"$2B\",\"$2B\",\"$2B\",\"$2B\",\"$2B\",\"$2B\",\"$2B\",\"$2B\",\"$2B\",\"$2B\",\"$2B\",\"$2B\",\"$2B\",\"$2B\",\"$2B\",\"$2B\",\"$2B\",\"$2B\",\"$2B\",\"$2B\",\"$2B\",\"$2B\",\"$2B\",\"$2B\",\"$2B\",\"$2B\",\"$2B\",\"$2B\",\"$2B\",\"$2B\",\"$2B\",\"$2B\",\"$2B\",\"$2B\",\"$2B\",\"$2B\",\"$2B\",\"$2B\",\"$2B\",\"$2B\",\"$2B\",\"$2B\",\"$2B\",\"$2B\",\"$2B\",\"$2B\",\"$2B\",\"$2B\",\"$2B\",\"$2B\",\"$2B\",\"$2B\",\"$2B\",\"$2B\",\"$2B\",\"$2B\",\"$2B\",\"$2B\",\"$2B\",\"$2B\",\"$2B\",\"$2B\",\"$2B\",\"$2B\",\"$2B\",\"$2B\",\"$2B\",\"$2B\",\"$2B\",\"$2B\",\"$2B\",\"$2B\",\"$2B\",\"$2B\",\"$2B\",\"$2B\",\"$2B\",\"$2B\",\"$2B\",\"$2B\",\"$2B\",\"$2B\",\"$2B\",\"$2B\",\"$2B\",\"$2B\",\"$2B\",\"$2B\",\"$2B\",\"$2B\",\"$2B\",\"$2B\",\"$2B\",\"$2B\",\"$2B\",\"$2B\",\"$2B\",\"$2B\",\"$2B\",\"$2B\",\"$2B\",\"$2B\",\"$2B\",\"$2B\",\"$2B\",\"$2B\",\"$2B\",\"$2B\",\"$2B\",\"$2B\",\"$2B\",\"$2B\",\"$2B\",\"$2B\",\"$2B\",\"$2B\",\"$2B\",\"$2B\",\"$2B\",\"$2B\",\"$2B\",\"$2B\",\"$2B\",\"$2B\",\"$2B\",\"$2B\",\"$2B\",\"$2B\",\"$2B\",\"$2B\",\"$2B\",\"$2B\",\"$2B\",\"$2B\",\"$2B\",\"$2B\",\"$2B\",\"$2B\",\"$2B\",\"$2B\",\"$2B\",\"$2B\",\"$2B\",\"$1B\",\"$1B\",\"$1B\",\"$1B\",\"$1B\",\"$1B\",\"$1B\",\"$1B\",\"$1B\",\"$1B\",\"$1B\",\"$1B\",\"$1B\",\"$1B\",\"$1B\",\"$1B\",\"$1B\",\"$1B\",\"$1B\",\"$1B\",\"$1B\",\"$1B\",\"$1B\",\"$1B\",\"$1B\",\"$1B\",\"$1B\",\"$1B\",\"$1B\",\"$1B\",\"$1B\",\"$1B\",\"$1B\",\"$1B\",\"$1B\",\"$1B\",\"$1B\",\"$1B\",\"$1B\",\"$1B\",\"$1B\",\"$1B\",\"$1B\",\"$1B\",\"$1B\",\"$1B\",\"$1B\",\"$1B\",\"$1B\",\"$1B\",\"$1B\",\"$1B\",\"$1B\",\"$1B\",\"$1B\",\"$1B\",\"$1B\",\"$1B\",\"$1B\",\"$1B\",\"$1B\",\"$1B\",\"$1B\",\"$1B\",\"$1B\",\"$1B\",\"$1B\",\"$1B\",\"$1B\",\"$1B\",\"$1B\",\"$1B\",\"$1B\",\"$1B\",\"$1B\",\"$1B\",\"$1B\",\"$1B\",\"$1B\",\"$1B\",\"$1B\",\"$1B\",\"$1B\",\"$1B\",\"$1B\",\"$1B\",\"$1B\",\"$1B\",\"$1B\",\"$1B\",\"$1B\",\"$1B\",\"$1B\",\"$1B\",\"$1B\",\"$1B\",\"$1B\",\"$1B\",\"$1B\",\"$1B\",\"$1B\",\"$1B\",\"$1B\",\"$1B\",\"$1B\",\"$1B\",\"$1B\",\"$1B\",\"$1B\",\"$1B\",\"$1B\",\"$1B\",\"$1B\",\"$1B\",\"$1B\",\"$1B\",\"$1B\",\"$1B\",\"$1B\",\"$1B\",\"$1B\",\"$1B\",\"$1B\",\"$1B\",\"$1B\",\"$1B\",\"$1B\",\"$1B\",\"$1B\",\"$1B\",\"$1B\",\"$1B\",\"$1B\",\"$1B\",\"$1B\",\"$1B\",\"$1B\",\"$1B\",\"$1B\",\"$1B\",\"$1B\",\"$1B\",\"$1B\",\"$1B\",\"$1B\",\"$1B\",\"$1B\",\"$1B\",\"$1B\",\"$1B\",\"$1B\",\"$1B\",\"$1B\",\"$1B\",\"$1B\",\"$1B\",\"$1B\",\"$1B\",\"$1B\",\"$1B\",\"$1B\",\"$1B\",\"$1B\",\"$1B\",\"$1B\",\"$1B\",\"$1B\",\"$1B\",\"$1B\",\"$1B\",\"$1B\",\"$1B\",\"$1B\",\"$1B\",\"$1B\",\"$1B\",\"$1B\",\"$1B\",\"$1B\",\"$1B\",\"$1B\",\"$1B\",\"$1B\",\"$1B\",\"$1B\",\"$1B\",\"$1B\",\"$1B\",\"$1B\",\"$1B\",\"$1B\",\"$1B\",\"$1B\",\"$1B\",\"$1B\",\"$1B\",\"$1B\",\"$1B\",\"$1B\",\"$1B\",\"$1B\",\"$1B\",\"$1B\",\"$1B\",\"$1B\",\"$1B\",\"$1B\",\"$1B\",\"$1B\",\"$1B\",\"$1B\",\"$1B\",\"$1B\",\"$1B\",\"$1B\",\"$1B\",\"$1B\",\"$1B\",\"$1B\",\"$1B\",\"$1B\",\"$1B\",\"$1B\",\"$1B\",\"$1B\",\"$1B\",\"$1B\",\"$1B\",\"$1B\",\"$1B\",\"$1B\",\"$1B\",\"$1B\",\"$1B\",\"$1B\",\"$1B\",\"$1B\",\"$1B\",\"$1B\",\"$1B\",\"$1B\",\"$1B\",\"$1B\",\"$1B\",\"$1B\",\"$1B\",\"$1B\",\"$1B\",\"$1B\",\"$1B\",\"$1B\",\"$1B\",\"$1B\",\"$1B\",\"$1B\",\"$1B\",\"$1B\",\"$1B\",\"$1B\",\"$1B\",\"$1B\",\"$1B\",\"$1B\",\"$1B\",\"$1B\",\"$1B\",\"$1B\",\"$1B\",\"$1B\",\"$1B\",\"$1B\",\"$1B\",\"$1B\",\"$1B\",\"$1B\",\"$1B\",\"$1B\",\"$1B\",\"$1B\",\"$1B\",\"$1B\",\"$1B\",\"$1B\",\"$1B\",\"$1B\",\"$1B\",\"$1B\",\"$1B\",\"$1B\",\"$1B\",\"$1B\",\"$1B\",\"$1B\",\"$1B\",\"$1B\",\"$1B\",\"$1B\",\"$1B\",\"$1B\",\"$1B\",\"$1B\",\"$1B\",\"$1B\",\"$1B\",\"$1B\",\"$1B\",\"$1B\",\"$1B\",\"$1B\",\"$1B\",\"$1B\",\"$1B\",\"$1B\",\"$1B\",\"$1B\",\"$1B\",\"$1B\",\"$1B\",\"$1B\",\"$1B\",\"$1B\",\"$1B\",\"$1B\",\"$1B\",\"$1B\",\"$1B\",\"$1B\",\"$1B\",\"$1B\",\"$1B\",\"$1B\",\"$1B\",\"$1B\",\"$1B\",\"$1B\",\"$1B\",\"$1B\",\"$1B\",\"$1B\",\"$1B\",\"$1B\",\"$1B\",\"$1B\",\"$1B\",\"$1B\",\"$1B\",\"$1B\",\"$1B\",\"$1B\",\"$1B\",\"$1B\",\"$1B\",\"$1B\",\"$1B\",\"$1B\",\"$1B\",\"$1B\",\"$1B\",\"$1B\",\"$1B\",\"$1B\",\"$1B\",\"$1B\",\"$1B\",\"$1B\",\"$1B\",\"$1B\",\"$1B\",\"$1B\",\"$1B\",\"$1B\",\"$1B\",\"$1B\",\"$1B\",\"$1B\",\"$1B\",\"$1B\",\"$1B\",\"$1B\",\"$1B\",\"$1B\",\"$1B\",\"$1B\",\"$1B\",\"$1B\",\"$1B\",\"$1B\",\"$1B\",\"$1B\",\"$1B\",\"$1B\",\"$1B\",\"$1B\",\"$1B\",\"$1B\",\"$1B\",\"$1B\",\"$1B\",\"$1B\",\"$1B\",\"$1B\",\"$1B\",\"$1B\",\"$1B\",\"$1B\",\"$1B\",\"$1B\",\"$1B\",\"$1B\",\"$1B\",\"$1B\",\"$1B\",\"$1B\",\"$1B\",\"$1B\",\"$1B\",\"$1B\",\"$1B\",\"$1B\",\"$1B\",\"$1B\",\"$1B\",\"$1B\",\"$1B\",\"$1B\",\"$1B\",\"$1B\",\"$1B\",\"$1B\",\"$1B\",\"$1B\",\"$1B\",\"$1B\",\"$1B\",\"$1B\",\"$1B\",\"$1B\",\"$1B\",\"$1B\",\"$1B\",\"$1B\",\"$1B\",\"$1B\",\"$1B\",\"$1B\",\"$1B\",\"$1B\",\"$1B\",\"$1B\",\"$1B\",\"$1B\",\"$1B\",\"$1B\",\"$1B\",\"$1B\",\"$1B\",\"$1B\",\"$1B\",\"$1B\",\"$1B\",\"$1B\",\"$1B\",\"$1B\",\"$1B\",\"$1B\",\"$1B\",\"$1B\",\"$1B\",\"$1B\",\"$1B\",\"$1B\"],\"yaxis\":\"y\",\"type\":\"bar\"}],                        {\"template\":{\"data\":{\"histogram2dcontour\":[{\"type\":\"histogram2dcontour\",\"colorbar\":{\"outlinewidth\":0,\"ticks\":\"\"},\"colorscale\":[[0.0,\"#0d0887\"],[0.1111111111111111,\"#46039f\"],[0.2222222222222222,\"#7201a8\"],[0.3333333333333333,\"#9c179e\"],[0.4444444444444444,\"#bd3786\"],[0.5555555555555556,\"#d8576b\"],[0.6666666666666666,\"#ed7953\"],[0.7777777777777778,\"#fb9f3a\"],[0.8888888888888888,\"#fdca26\"],[1.0,\"#f0f921\"]]}],\"choropleth\":[{\"type\":\"choropleth\",\"colorbar\":{\"outlinewidth\":0,\"ticks\":\"\"}}],\"histogram2d\":[{\"type\":\"histogram2d\",\"colorbar\":{\"outlinewidth\":0,\"ticks\":\"\"},\"colorscale\":[[0.0,\"#0d0887\"],[0.1111111111111111,\"#46039f\"],[0.2222222222222222,\"#7201a8\"],[0.3333333333333333,\"#9c179e\"],[0.4444444444444444,\"#bd3786\"],[0.5555555555555556,\"#d8576b\"],[0.6666666666666666,\"#ed7953\"],[0.7777777777777778,\"#fb9f3a\"],[0.8888888888888888,\"#fdca26\"],[1.0,\"#f0f921\"]]}],\"heatmap\":[{\"type\":\"heatmap\",\"colorbar\":{\"outlinewidth\":0,\"ticks\":\"\"},\"colorscale\":[[0.0,\"#0d0887\"],[0.1111111111111111,\"#46039f\"],[0.2222222222222222,\"#7201a8\"],[0.3333333333333333,\"#9c179e\"],[0.4444444444444444,\"#bd3786\"],[0.5555555555555556,\"#d8576b\"],[0.6666666666666666,\"#ed7953\"],[0.7777777777777778,\"#fb9f3a\"],[0.8888888888888888,\"#fdca26\"],[1.0,\"#f0f921\"]]}],\"heatmapgl\":[{\"type\":\"heatmapgl\",\"colorbar\":{\"outlinewidth\":0,\"ticks\":\"\"},\"colorscale\":[[0.0,\"#0d0887\"],[0.1111111111111111,\"#46039f\"],[0.2222222222222222,\"#7201a8\"],[0.3333333333333333,\"#9c179e\"],[0.4444444444444444,\"#bd3786\"],[0.5555555555555556,\"#d8576b\"],[0.6666666666666666,\"#ed7953\"],[0.7777777777777778,\"#fb9f3a\"],[0.8888888888888888,\"#fdca26\"],[1.0,\"#f0f921\"]]}],\"contourcarpet\":[{\"type\":\"contourcarpet\",\"colorbar\":{\"outlinewidth\":0,\"ticks\":\"\"}}],\"contour\":[{\"type\":\"contour\",\"colorbar\":{\"outlinewidth\":0,\"ticks\":\"\"},\"colorscale\":[[0.0,\"#0d0887\"],[0.1111111111111111,\"#46039f\"],[0.2222222222222222,\"#7201a8\"],[0.3333333333333333,\"#9c179e\"],[0.4444444444444444,\"#bd3786\"],[0.5555555555555556,\"#d8576b\"],[0.6666666666666666,\"#ed7953\"],[0.7777777777777778,\"#fb9f3a\"],[0.8888888888888888,\"#fdca26\"],[1.0,\"#f0f921\"]]}],\"surface\":[{\"type\":\"surface\",\"colorbar\":{\"outlinewidth\":0,\"ticks\":\"\"},\"colorscale\":[[0.0,\"#0d0887\"],[0.1111111111111111,\"#46039f\"],[0.2222222222222222,\"#7201a8\"],[0.3333333333333333,\"#9c179e\"],[0.4444444444444444,\"#bd3786\"],[0.5555555555555556,\"#d8576b\"],[0.6666666666666666,\"#ed7953\"],[0.7777777777777778,\"#fb9f3a\"],[0.8888888888888888,\"#fdca26\"],[1.0,\"#f0f921\"]]}],\"mesh3d\":[{\"type\":\"mesh3d\",\"colorbar\":{\"outlinewidth\":0,\"ticks\":\"\"}}],\"scatter\":[{\"fillpattern\":{\"fillmode\":\"overlay\",\"size\":10,\"solidity\":0.2},\"type\":\"scatter\"}],\"parcoords\":[{\"type\":\"parcoords\",\"line\":{\"colorbar\":{\"outlinewidth\":0,\"ticks\":\"\"}}}],\"scatterpolargl\":[{\"type\":\"scatterpolargl\",\"marker\":{\"colorbar\":{\"outlinewidth\":0,\"ticks\":\"\"}}}],\"bar\":[{\"error_x\":{\"color\":\"#2a3f5f\"},\"error_y\":{\"color\":\"#2a3f5f\"},\"marker\":{\"line\":{\"color\":\"#E5ECF6\",\"width\":0.5},\"pattern\":{\"fillmode\":\"overlay\",\"size\":10,\"solidity\":0.2}},\"type\":\"bar\"}],\"scattergeo\":[{\"type\":\"scattergeo\",\"marker\":{\"colorbar\":{\"outlinewidth\":0,\"ticks\":\"\"}}}],\"scatterpolar\":[{\"type\":\"scatterpolar\",\"marker\":{\"colorbar\":{\"outlinewidth\":0,\"ticks\":\"\"}}}],\"histogram\":[{\"marker\":{\"pattern\":{\"fillmode\":\"overlay\",\"size\":10,\"solidity\":0.2}},\"type\":\"histogram\"}],\"scattergl\":[{\"type\":\"scattergl\",\"marker\":{\"colorbar\":{\"outlinewidth\":0,\"ticks\":\"\"}}}],\"scatter3d\":[{\"type\":\"scatter3d\",\"line\":{\"colorbar\":{\"outlinewidth\":0,\"ticks\":\"\"}},\"marker\":{\"colorbar\":{\"outlinewidth\":0,\"ticks\":\"\"}}}],\"scattermapbox\":[{\"type\":\"scattermapbox\",\"marker\":{\"colorbar\":{\"outlinewidth\":0,\"ticks\":\"\"}}}],\"scatterternary\":[{\"type\":\"scatterternary\",\"marker\":{\"colorbar\":{\"outlinewidth\":0,\"ticks\":\"\"}}}],\"scattercarpet\":[{\"type\":\"scattercarpet\",\"marker\":{\"colorbar\":{\"outlinewidth\":0,\"ticks\":\"\"}}}],\"carpet\":[{\"aaxis\":{\"endlinecolor\":\"#2a3f5f\",\"gridcolor\":\"white\",\"linecolor\":\"white\",\"minorgridcolor\":\"white\",\"startlinecolor\":\"#2a3f5f\"},\"baxis\":{\"endlinecolor\":\"#2a3f5f\",\"gridcolor\":\"white\",\"linecolor\":\"white\",\"minorgridcolor\":\"white\",\"startlinecolor\":\"#2a3f5f\"},\"type\":\"carpet\"}],\"table\":[{\"cells\":{\"fill\":{\"color\":\"#EBF0F8\"},\"line\":{\"color\":\"white\"}},\"header\":{\"fill\":{\"color\":\"#C8D4E3\"},\"line\":{\"color\":\"white\"}},\"type\":\"table\"}],\"barpolar\":[{\"marker\":{\"line\":{\"color\":\"#E5ECF6\",\"width\":0.5},\"pattern\":{\"fillmode\":\"overlay\",\"size\":10,\"solidity\":0.2}},\"type\":\"barpolar\"}],\"pie\":[{\"automargin\":true,\"type\":\"pie\"}]},\"layout\":{\"autotypenumbers\":\"strict\",\"colorway\":[\"#636efa\",\"#EF553B\",\"#00cc96\",\"#ab63fa\",\"#FFA15A\",\"#19d3f3\",\"#FF6692\",\"#B6E880\",\"#FF97FF\",\"#FECB52\"],\"font\":{\"color\":\"#2a3f5f\"},\"hovermode\":\"closest\",\"hoverlabel\":{\"align\":\"left\"},\"paper_bgcolor\":\"white\",\"plot_bgcolor\":\"#E5ECF6\",\"polar\":{\"bgcolor\":\"#E5ECF6\",\"angularaxis\":{\"gridcolor\":\"white\",\"linecolor\":\"white\",\"ticks\":\"\"},\"radialaxis\":{\"gridcolor\":\"white\",\"linecolor\":\"white\",\"ticks\":\"\"}},\"ternary\":{\"bgcolor\":\"#E5ECF6\",\"aaxis\":{\"gridcolor\":\"white\",\"linecolor\":\"white\",\"ticks\":\"\"},\"baxis\":{\"gridcolor\":\"white\",\"linecolor\":\"white\",\"ticks\":\"\"},\"caxis\":{\"gridcolor\":\"white\",\"linecolor\":\"white\",\"ticks\":\"\"}},\"coloraxis\":{\"colorbar\":{\"outlinewidth\":0,\"ticks\":\"\"}},\"colorscale\":{\"sequential\":[[0.0,\"#0d0887\"],[0.1111111111111111,\"#46039f\"],[0.2222222222222222,\"#7201a8\"],[0.3333333333333333,\"#9c179e\"],[0.4444444444444444,\"#bd3786\"],[0.5555555555555556,\"#d8576b\"],[0.6666666666666666,\"#ed7953\"],[0.7777777777777778,\"#fb9f3a\"],[0.8888888888888888,\"#fdca26\"],[1.0,\"#f0f921\"]],\"sequentialminus\":[[0.0,\"#0d0887\"],[0.1111111111111111,\"#46039f\"],[0.2222222222222222,\"#7201a8\"],[0.3333333333333333,\"#9c179e\"],[0.4444444444444444,\"#bd3786\"],[0.5555555555555556,\"#d8576b\"],[0.6666666666666666,\"#ed7953\"],[0.7777777777777778,\"#fb9f3a\"],[0.8888888888888888,\"#fdca26\"],[1.0,\"#f0f921\"]],\"diverging\":[[0,\"#8e0152\"],[0.1,\"#c51b7d\"],[0.2,\"#de77ae\"],[0.3,\"#f1b6da\"],[0.4,\"#fde0ef\"],[0.5,\"#f7f7f7\"],[0.6,\"#e6f5d0\"],[0.7,\"#b8e186\"],[0.8,\"#7fbc41\"],[0.9,\"#4d9221\"],[1,\"#276419\"]]},\"xaxis\":{\"gridcolor\":\"white\",\"linecolor\":\"white\",\"ticks\":\"\",\"title\":{\"standoff\":15},\"zerolinecolor\":\"white\",\"automargin\":true,\"zerolinewidth\":2},\"yaxis\":{\"gridcolor\":\"white\",\"linecolor\":\"white\",\"ticks\":\"\",\"title\":{\"standoff\":15},\"zerolinecolor\":\"white\",\"automargin\":true,\"zerolinewidth\":2},\"scene\":{\"xaxis\":{\"backgroundcolor\":\"#E5ECF6\",\"gridcolor\":\"white\",\"linecolor\":\"white\",\"showbackground\":true,\"ticks\":\"\",\"zerolinecolor\":\"white\",\"gridwidth\":2},\"yaxis\":{\"backgroundcolor\":\"#E5ECF6\",\"gridcolor\":\"white\",\"linecolor\":\"white\",\"showbackground\":true,\"ticks\":\"\",\"zerolinecolor\":\"white\",\"gridwidth\":2},\"zaxis\":{\"backgroundcolor\":\"#E5ECF6\",\"gridcolor\":\"white\",\"linecolor\":\"white\",\"showbackground\":true,\"ticks\":\"\",\"zerolinecolor\":\"white\",\"gridwidth\":2}},\"shapedefaults\":{\"line\":{\"color\":\"#2a3f5f\"}},\"annotationdefaults\":{\"arrowcolor\":\"#2a3f5f\",\"arrowhead\":0,\"arrowwidth\":1},\"geo\":{\"bgcolor\":\"white\",\"landcolor\":\"#E5ECF6\",\"subunitcolor\":\"white\",\"showland\":true,\"showlakes\":true,\"lakecolor\":\"white\"},\"title\":{\"x\":0.05},\"mapbox\":{\"style\":\"light\"}}},\"xaxis\":{\"anchor\":\"y\",\"domain\":[0.0,1.0],\"title\":{\"text\":\"Country\"}},\"yaxis\":{\"anchor\":\"x\",\"domain\":[0.0,1.0],\"title\":{\"text\":\"Valuation\"}},\"legend\":{\"tracegroupgap\":0},\"margin\":{\"t\":60},\"barmode\":\"relative\"},                        {\"responsive\": true}                    ).then(function(){\n",
       "                            \n",
       "var gd = document.getElementById('34641dee-e785-4f97-8388-03caedb13659');\n",
       "var x = new MutationObserver(function (mutations, observer) {{\n",
       "        var display = window.getComputedStyle(gd).display;\n",
       "        if (!display || display === 'none') {{\n",
       "            console.log([gd, 'removed!']);\n",
       "            Plotly.purge(gd);\n",
       "            observer.disconnect();\n",
       "        }}\n",
       "}});\n",
       "\n",
       "// Listen for the removal of the full notebook cells\n",
       "var notebookContainer = gd.closest('#notebook-container');\n",
       "if (notebookContainer) {{\n",
       "    x.observe(notebookContainer, {childList: true});\n",
       "}}\n",
       "\n",
       "// Listen for the clearing of the current output cell\n",
       "var outputEl = gd.closest('.output');\n",
       "if (outputEl) {{\n",
       "    x.observe(outputEl, {childList: true});\n",
       "}}\n",
       "\n",
       "                        })                };                });            </script>        </div>"
      ]
     },
     "metadata": {},
     "output_type": "display_data"
    }
   ],
   "source": [
    "y=df.groupby('Country').sum().sort_values(by='Valuation',ascending=True ).head(10)\n",
    "\n",
    "px.bar(df,x='Country',y='Valuation')"
   ]
  },
  {
   "cell_type": "markdown",
   "id": "21fd612f",
   "metadata": {},
   "source": [
    "### Unicorn compnies in diffrent industry sector"
   ]
  },
  {
   "cell_type": "code",
   "execution_count": 94,
   "id": "b601b04f",
   "metadata": {},
   "outputs": [
    {
     "data": {
      "application/vnd.plotly.v1+json": {
       "config": {
        "plotlyServerURL": "https://plot.ly"
       },
       "data": [
        {
         "domain": {
          "x": [
           0,
           1
          ],
          "y": [
           0,
           1
          ]
         },
         "hovertemplate": "Industry=%{label}<extra></extra>",
         "labels": [
          "Industry",
          "Artificial intelligence",
          "Other",
          "E-commerce & direct-to-consumer",
          "Fintech",
          "Fintech",
          "Internet software & services",
          "Fintech",
          "Supply chain, logistics, & delivery",
          "Consumer & retail",
          "Data management & analytics",
          "Fintech",
          "Other",
          "Fintech",
          "E-commerce & direct-to-consumer",
          "Fintech",
          "Edtech",
          "Supply chain, logistics, & delivery",
          "E-commerce & direct-to-consumer",
          "Internet software & services",
          "Edtech",
          "Fintech",
          "Internet software & services",
          "Consumer & retail",
          "E-commerce & direct-to-consumer",
          "Fintech",
          "Fintech",
          "Health",
          "E-commerce & direct-to-consumer",
          "Internet software & services",
          "Artificial intelligence",
          "Other",
          "Artificial intelligence",
          "Internet software & services",
          "Fintech",
          "E-commerce & direct-to-consumer",
          "Health",
          "Hardware",
          "Internet software & services",
          "E-commerce & direct-to-consumer",
          "Auto & transportation",
          "Auto & transportation",
          "Supply chain, logistics, & delivery",
          "Consumer & retail",
          "Hardware",
          "Fintech",
          "Data management & analytics",
          "Edtech",
          "Fintech",
          "Travel",
          "Internet software & services",
          "Internet software & services",
          "Fintech",
          "E-commerce & direct-to-consumer",
          "Fintech",
          "Internet software & services",
          "Fintech",
          "Supply chain, logistics, & delivery",
          "Internet software & services",
          "Internet software & services",
          "Internet software & services",
          "Other",
          "Fintech",
          "Travel",
          "Artificial intelligence",
          "Auto & transportation",
          "Cybersecurity",
          "E-commerce & direct-to-consumer",
          "Fintech",
          "Internet software & services",
          "Mobile & telecommunications",
          "Cybersecurity",
          "Internet software & services",
          "Hardware",
          "Cybersecurity",
          "Fintech",
          "Fintech",
          "Cybersecurity",
          "Fintech",
          "Internet software & services",
          "Health",
          "Fintech",
          "Health",
          "Fintech",
          "Supply chain, logistics, & delivery",
          "Fintech",
          "Mobile & telecommunications",
          "Consumer & retail",
          "Fintech",
          "Mobile & telecommunications",
          "Auto & transportation",
          "Internet software & services",
          "Fintech",
          "Fintech",
          "E-commerce & direct-to-consumer",
          "Artificial intelligence",
          "Artificial intelligence",
          "Travel",
          "Cybersecurity",
          "Artificial intelligence",
          "Fintech",
          "Fintech",
          "Health",
          "Other",
          "Consumer & retail",
          "Health",
          "Auto & transportation",
          "Fintech",
          "Fintech",
          "Fintech",
          "Fintech",
          "Health",
          "Data management & analytics",
          "Internet software & services",
          "E-commerce & direct-to-consumer",
          "Health",
          "Artificial intelligence",
          "Internet software & services",
          "Supply chain, logistics, & delivery",
          "Internet software & services",
          "Internet software & services",
          "Fintech",
          "E-commerce & direct-to-consumer",
          "Health",
          "Health",
          "Internet software & services",
          "Fintech",
          "Fintech",
          "Cybersecurity",
          "Internet software & services",
          "Other",
          "Internet software & services",
          "Hardware",
          "Artificial intelligence",
          "Hardware",
          "Fintech",
          "Cybersecurity",
          "Edtech",
          "E-commerce & direct-to-consumer",
          "Fintech",
          "Hardware",
          "Artificial intelligence",
          "Internet software & services",
          "Health",
          "Internet software & services",
          "Internet software & services",
          "Fintech",
          "Fintech",
          "Hardware",
          "Data management & analytics",
          "Supply chain, logistics, & delivery",
          "Artificial intelligence",
          "Health",
          "Fintech",
          "Internet software & services",
          "E-commerce & direct-to-consumer",
          "Fintech",
          "Data management & analytics",
          "Travel",
          "Artificial intelligence",
          "Mobile & telecommunications",
          "E-commerce & direct-to-consumer",
          "Auto & transportation",
          "Fintech",
          "Fintech",
          "Data management & analytics",
          "Health",
          "Auto & transportation",
          "Fintech",
          "Health",
          "Fintech",
          "Mobile & telecommunications",
          "Health",
          "Mobile & telecommunications",
          "Internet software & services",
          "E-commerce & direct-to-consumer",
          "Fintech",
          "Artificial intelligence",
          "Fintech",
          "Fintech",
          "Fintech",
          "Cybersecurity",
          "Internet software & services",
          "Hardware",
          "Internet software & services",
          "Internet software & services",
          "Artificial intelligence",
          "E-commerce & direct-to-consumer",
          "Internet software & services",
          "Internet software & services",
          "Health",
          "Internet software & services",
          "Auto & transportation",
          "Data management & analytics",
          "Edtech",
          "Internet software & services",
          "E-commerce & direct-to-consumer",
          "Cybersecurity",
          "E-commerce & direct-to-consumer",
          "Health",
          "Internet software & services",
          "Other",
          "Internet software & services",
          "E-commerce & direct-to-consumer",
          "Data management & analytics",
          "Edtech",
          "E-commerce & direct-to-consumer",
          "Fintech",
          "Internet software & services",
          "Fintech",
          "Data management & analytics",
          "Internet software & services",
          "Health",
          "Other",
          "E-commerce & direct-to-consumer",
          "Internet software & services",
          "E-commerce & direct-to-consumer",
          "Fintech",
          "Artificial intelligence",
          "Supply chain, logistics, & delivery",
          "Health",
          "Auto & transportation",
          "Internet software & services",
          "Mobile & telecommunications",
          "Internet software & services",
          "Hardware",
          "Internet software & services",
          "Mobile & telecommunications",
          "Other",
          "E-commerce & direct-to-consumer",
          "Artificial intelligence",
          "Fintech",
          "Fintech",
          "Internet software & services",
          "Internet software & services",
          "Internet software & services",
          "Data management & analytics",
          "E-commerce & direct-to-consumer",
          "Internet software & services",
          "Fintech",
          "Internet software & services",
          "Other",
          "Supply chain, logistics, & delivery",
          "E-commerce & direct-to-consumer",
          "Artificial intelligence",
          "Fintech",
          "Other",
          "Mobile & telecommunications",
          "Internet software & services",
          "Fintech",
          "Fintech",
          "Supply chain, logistics, & delivery",
          "Artificial intelligence",
          "Mobile & telecommunications",
          "Data management & analytics",
          "Cybersecurity",
          "Other",
          "Cybersecurity",
          "Cybersecurity",
          "Auto & transportation",
          "Cybersecurity",
          "Fintech",
          "E-commerce & direct-to-consumer",
          "Internet software & services",
          "Edtech",
          "Fintech",
          "E-commerce & direct-to-consumer",
          "Internet software & services",
          "Hardware",
          "Health",
          "Cybersecurity",
          "Artificial Intelligence",
          "Fintech",
          "Internet software & services",
          "Health",
          "Edtech",
          "Cybersecurity",
          "Internet software & services",
          "E-commerce & direct-to-consumer",
          "Internet software & services",
          "Internet software & services",
          "Data management & analytics",
          "Supply chain, logistics, & delivery",
          "Internet software & services",
          "Data management & analytics",
          "Data management & analytics",
          "Auto & transportation",
          "Internet software & services",
          "E-commerce & direct-to-consumer",
          "Fintech",
          "Health",
          "Internet software & services",
          "Artificial intelligence",
          "Mobile & telecommunications",
          "Other",
          "Auto & transportation",
          "Cybersecurity",
          "Fintech",
          "Supply chain, logistics, & delivery",
          "Mobile & telecommunications",
          "Cybersecurity",
          "Edtech",
          "Artificial intelligence",
          "Edtech",
          "Fintech",
          "Fintech",
          "Internet software & services",
          "Edtech",
          "Health",
          "Internet software & services",
          "E-commerce & direct-to-consumer",
          "E-commerce & direct-to-consumer",
          "Supply chain, logistics, & delivery",
          "Fintech",
          "Fintech",
          "E-commerce & direct-to-consumer",
          "Hardware",
          "Fintech",
          "E-commerce & direct-to-consumer",
          "Fintech",
          "E-commerce & direct-to-consumer",
          "E-commerce & direct-to-consumer",
          "Supply chain, logistics, & delivery",
          "Internet software & services",
          "Internet software & services",
          "Edtech",
          "Fintech",
          "Fintech",
          "Fintech",
          "Internet software & services",
          "Health",
          "Fintech",
          "Health",
          "Internet software & services",
          "Fintech",
          "Supply chain, logistics, & delivery",
          "Auto & transportation",
          "Fintech",
          "Cybersecurity",
          "Internet software & services",
          "Fintech",
          "Fintech",
          "E-commerce & direct-to-consumer",
          "Internet software & services",
          "Internet software & services",
          "Internet software & services",
          "Edtech",
          "Internet software & services",
          "Fintech",
          "Internet software & services",
          "Internet software & services",
          "E-commerce & direct-to-consumer",
          "Fintech",
          "Travel",
          "Fintech",
          "Other",
          "Internet software & services",
          "Fintech",
          "Fintech",
          "Fintech",
          "Mobile & telecommunications",
          "E-commerce & direct-to-consumer",
          "Fintech",
          "Fintech",
          "Edtech",
          "E-commerce & direct-to-consumer",
          "Auto & transportation",
          "Edtech",
          "Artificial intelligence",
          "E-commerce & direct-to-consumer",
          "Hardware",
          "Data management & analytics",
          "Fintech",
          "Fintech",
          "Consumer & retail",
          "E-commerce & direct-to-consumer",
          "Mobile & telecommunications",
          "Other",
          "Fintech",
          "Cybersecurity",
          "Other",
          "Mobile & telecommunications",
          "Health",
          "Supply chain, logistics, & delivery",
          "Internet software & services",
          "E-commerce & direct-to-consumer",
          "E-commerce & direct-to-consumer",
          "Consumer & retail",
          "Hardware",
          "Fintech",
          "Health",
          "Fintech",
          "Internet software & services",
          "Internet software & services",
          "Fintech",
          "Health",
          "Internet software & services",
          "Fintech",
          "Data management & analytics",
          "Fintech",
          "Fintech",
          "Internet software & services",
          "Data management & analytics",
          "Supply chain, logistics, & delivery",
          "Auto & transportation",
          "Cybersecurity",
          "Internet software & services",
          "Hardware",
          "Internet software & services",
          "Data management & analytics",
          "Artificial intelligence",
          "Data management & analytics",
          "Hardware",
          "Artificial Intelligence",
          "E-commerce & direct-to-consumer",
          "Fintech",
          "Internet software & services",
          "Cybersecurity",
          "Internet software & services",
          "Fintech",
          "Other",
          "Other",
          "Internet software & services",
          "Internet software & services",
          "Travel",
          "Other",
          "Supply chain, logistics, & delivery",
          "Artificial intelligence",
          "E-commerce & direct-to-consumer",
          "Internet software & services",
          "Fintech",
          "Internet software & services",
          "Internet software & services",
          "Fintech",
          "Other",
          "Auto & transportation",
          "Other",
          "Artificial intelligence",
          "Artificial intelligence",
          "Cybersecurity",
          "Auto & transportation",
          "Fintech",
          "Hardware",
          "Internet software & services",
          "Artificial Intelligence",
          "Cybersecurity",
          "Supply chain, logistics, & delivery",
          "Fintech",
          "Internet software & services",
          "Hardware",
          "Fintech",
          "Fintech",
          "Internet software & services",
          "Fintech",
          "E-commerce & direct-to-consumer",
          "Health",
          "Health",
          "Cybersecurity",
          "Fintech",
          "Internet software & services",
          "Health",
          "Other",
          "Consumer & retail",
          "Internet software & services",
          "Internet software & services",
          "Internet software & services",
          "Fintech",
          "E-commerce & direct-to-consumer",
          "Fintech",
          "Hardware",
          "Other",
          "E-commerce & direct-to-consumer",
          "Internet software & services",
          "E-commerce & direct-to-consumer",
          "Health",
          "Cybersecurity",
          "Supply chain, logistics, & delivery",
          "Artificial intelligence",
          "Artificial intelligence",
          "Consumer & retail",
          "Consumer & retail",
          "Internet software & services",
          "Data management & analytics",
          "Fintech",
          "E-commerce & direct-to-consumer",
          "Fintech",
          "Fintech",
          "Other",
          "Fintech",
          "Supply chain, logistics, & delivery",
          "Internet software & services",
          "Other",
          "Artificial intelligence",
          "Fintech",
          "Internet software & services",
          "Internet software & services",
          "E-commerce & direct-to-consumer",
          "Cybersecurity",
          "Consumer & retail",
          "Auto & transportation",
          "Fintech",
          "Artificial intelligence",
          "Fintech",
          "Internet software & services",
          "Supply chain, logistics, & delivery",
          "Internet software & services",
          "E-commerce & direct-to-consumer",
          "Other",
          "Health",
          "Other",
          "Internet software & services",
          "Artificial intelligence",
          "Hardware",
          "Health",
          "Other",
          "Mobile & telecommunications",
          "Fintech",
          "Artificial intelligence",
          "Fintech",
          "Internet software & services",
          "Auto & transportation",
          "Fintech",
          "Health",
          "Fintech",
          "Artificial Intelligence",
          "Internet software & services",
          "E-commerce & direct-to-consumer",
          "Supply chain, logistics, & delivery",
          "Fintech",
          "Internet software & services",
          "Fintech",
          "Internet software & services",
          "Artificial intelligence",
          "Fintech",
          "Fintech",
          "Fintech",
          "Fintech",
          "E-commerce & direct-to-consumer",
          "Internet software & services",
          "Fintech",
          "E-commerce & direct-to-consumer",
          "Artificial intelligence",
          "Artificial intelligence",
          "Internet software & services",
          "E-commerce & direct-to-consumer",
          "Other",
          "Mobile & telecommunications",
          "Artificial intelligence",
          "Internet software & services",
          "Auto & transportation",
          "Artificial intelligence",
          "Fintech",
          "Consumer & retail",
          "Fintech",
          "Fintech",
          "Data management & analytics",
          "Fintech",
          "Internet software & services",
          "Supply chain, logistics, & delivery",
          "Fintech",
          "Data management & analytics",
          "Data management & analytics",
          "Internet software & services",
          "Hardware",
          "Hardware",
          "Consumer & retail",
          "Artificial intelligence",
          "E-commerce & direct-to-consumer",
          "Supply chain, logistics, & delivery",
          "Internet software & services",
          "Internet software & services",
          "Cybersecurity",
          "Mobile & telecommunications",
          "Health",
          "Supply chain, logistics, & delivery",
          "Internet software & services",
          "Fintech",
          "Travel",
          "Hardware",
          "E-commerce & direct-to-consumer",
          "Fintech",
          "Internet software & services",
          "Fintech",
          "Data management & analytics",
          "Internet software & services",
          "Other",
          "Fintech",
          "Fintech",
          "Artificial intelligence",
          "Internet software & services",
          "Data management & analytics",
          "Mobile & telecommunications",
          "Health",
          "Cybersecurity",
          "Health",
          "Travel",
          "Consumer & retail",
          "Fintech",
          "Artificial intelligence",
          "Health",
          "Internet software & services",
          "E-commerce & direct-to-consumer",
          "Artificial intelligence",
          "Fintech",
          "Supply chain, logistics, & delivery",
          "Health",
          "Health",
          "Data management & analytics",
          "Mobile & telecommunications",
          "Hardware",
          "Fintech",
          "Artificial intelligence",
          "Health",
          "Auto & transportation",
          "Health",
          "E-commerce & direct-to-consumer",
          "Auto & transportation",
          "Internet software & services",
          "Artificial intelligence",
          "E-commerce & direct-to-consumer",
          "Fintech",
          "Edtech",
          "Fintech",
          "Edtech",
          "Fintech",
          "Supply chain, logistics, & delivery",
          "Internet software & services",
          "Supply chain, logistics, & delivery",
          "Supply chain, logistics, & delivery",
          "Other",
          "Mobile & telecommunications",
          "Fintech",
          "Health",
          "Other",
          "Internet software & services",
          "Edtech",
          "Internet software & services",
          "Auto & transportation",
          "Artificial Intelligence",
          "Health",
          "Other",
          "E-commerce & direct-to-consumer",
          "Fintech",
          "Mobile & telecommunications",
          "Artificial Intelligence",
          "Supply chain, logistics, & delivery",
          "Health",
          "Artificial intelligence",
          "Cybersecurity",
          "Mobile & telecommunications",
          "Fintech",
          "Internet software & services",
          "Fintech",
          "Internet software & services",
          "Supply chain, logistics, & delivery",
          "Supply chain, logistics, & delivery",
          "E-commerce & direct-to-consumer",
          "Other",
          "Auto & transportation",
          "E-commerce & direct-to-consumer",
          "Auto & transportation",
          "Consumer & retail",
          "Fintech",
          "Fintech",
          "Internet software & services",
          "Fintech",
          "Internet software & services",
          "Cybersecurity",
          "Mobile & telecommunications",
          "Fintech",
          "Health",
          "Data management & analytics",
          "E-commerce & direct-to-consumer",
          "E-commerce & direct-to-consumer",
          "Health",
          "E-commerce & direct-to-consumer",
          "Fintech",
          "Fintech",
          "Travel",
          "Consumer & retail",
          "Supply chain, logistics, & delivery",
          "Auto & transportation",
          "Cybersecurity",
          "Hardware",
          "E-commerce & direct-to-consumer",
          "Fintech",
          "Internet software & services",
          "Health",
          "Mobile & telecommunications",
          "E-commerce & direct-to-consumer",
          "Auto & transportation",
          "Health",
          "Internet software & services",
          "Internet software & services",
          "Edtech",
          "Fintech",
          "Internet software & services",
          "Internet software & services",
          "Internet software & services",
          "Data management & analytics",
          "Other",
          "Internet software & services",
          "Internet software & services",
          "E-commerce & direct-to-consumer",
          "Cybersecurity",
          "Health",
          "Health",
          "E-commerce & direct-to-consumer",
          "Cybersecurity",
          "Fintech",
          "Artificial intelligence",
          "Fintech",
          "Fintech",
          "Mobile & telecommunications",
          "Internet software & services",
          "Mobile & telecommunications",
          "Internet software & services",
          "Fintech",
          "E-commerce & direct-to-consumer",
          "Fintech",
          "Other",
          "Travel",
          "Health",
          "Fintech",
          "E-commerce & direct-to-consumer",
          "E-commerce & direct-to-consumer",
          "Health",
          "Other",
          "E-commerce & direct-to-consumer",
          "Cybersecurity",
          "Artificial intelligence",
          "Fintech",
          "Other",
          "Fintech",
          "Internet software & services",
          "Internet software & services",
          "Supply chain, logistics, & delivery",
          "Health",
          "Internet software & services",
          "Fintech",
          "Fintech",
          "Internet software & services",
          "Supply chain, logistics, & delivery",
          "Fintech",
          "Other",
          "Other",
          "Travel",
          "Data management & analytics",
          "Internet software & services",
          "Other",
          "Cybersecurity",
          "Fintech",
          "Internet software & services",
          "Internet software & services",
          "Cybersecurity",
          "Internet software & services",
          "Fintech",
          "Internet software & services",
          "Supply chain, logistics, & delivery",
          "Internet software & services",
          "Other",
          "Mobile & telecommunications",
          "Internet software & services",
          "Other",
          "Artificial intelligence",
          "Fintech",
          "Internet software & services",
          "Artificial intelligence",
          "E-commerce & direct-to-consumer",
          "Data management & analytics",
          "Fintech",
          "Fintech",
          "Internet software & services",
          "E-commerce & direct-to-consumer",
          "Internet software & services",
          "Other",
          "E-commerce & direct-to-consumer",
          "E-commerce & direct-to-consumer",
          "E-commerce & direct-to-consumer",
          "Internet software & services",
          "E-commerce & direct-to-consumer",
          "E-commerce & direct-to-consumer",
          "Internet software & services",
          "Fintech",
          "Fintech",
          "Health",
          "Fintech",
          "Data management & analytics",
          "Supply chain, logistics, & delivery",
          "Internet software & services",
          "Artificial Intelligence",
          "Internet software & services",
          "Edtech",
          "Internet software & services",
          "Supply chain, logistics, & delivery",
          "Consumer & retail",
          "Artificial intelligence",
          "Edtech",
          "Internet software & services",
          "Health",
          "Auto & transportation",
          "Data management & analytics",
          "Health",
          "Fintech",
          "Fintech",
          "Artificial intelligence",
          "Supply chain, logistics, & delivery",
          "Fintech",
          "Fintech",
          "Fintech",
          "Internet software & services",
          "Cybersecurity",
          "E-commerce & direct-to-consumer",
          "Other",
          "Fintech",
          "E-commerce & direct-to-consumer",
          "Internet software & services",
          "Cybersecurity",
          "Other",
          "Fintech",
          "Internet software & services",
          "Hardware",
          "Travel",
          "E-commerce & direct-to-consumer",
          "Fintech",
          "E-commerce & direct-to-consumer",
          "Internet software & services",
          "Edtech",
          "Data management & analytics",
          "Internet software & services",
          "E-commerce & direct-to-consumer",
          "Health",
          "Supply chain, logistics, & delivery",
          "Data management & analytics",
          "Internet software & services",
          "Fintech",
          "Mobile & telecommunications",
          "Fintech",
          "Fintech",
          "Internet software & services",
          "E-commerce & direct-to-consumer",
          "Fintech",
          "Supply chain, logistics, & delivery",
          "Other",
          "Auto & transportation",
          "Fintech",
          "Hardware",
          "Data management & analytics",
          "E-commerce & direct-to-consumer",
          "Fintech",
          "Internet software & services",
          "Mobile & telecommunications",
          "Artificial intelligence",
          "Auto & transportation",
          "Hardware",
          "Internet software & services",
          "Hardware",
          "Artificial intelligence",
          "Internet software & services",
          "Fintech",
          "Health",
          "Internet software & services",
          "Fintech",
          "Artificial intelligence",
          "Artificial Intelligence",
          "Internet software & services",
          "Cybersecurity",
          "Internet software & services",
          "Supply chain, logistics, & delivery",
          "Artificial intelligence",
          "Internet software & services",
          "Other",
          "Auto & transportation",
          "E-commerce & direct-to-consumer",
          "Artificial intelligence",
          "E-commerce & direct-to-consumer",
          "Artificial intelligence",
          "Hardware",
          "Supply chain, logistics, & delivery",
          "Artificial intelligence",
          "Cybersecurity",
          "Fintech",
          "Other",
          "Supply chain, logistics, & delivery",
          "Fintech",
          "Health",
          "Fintech",
          "Internet software & services",
          "Health",
          "Supply chain, logistics, & delivery",
          "E-commerce & direct-to-consumer",
          "Fintech",
          "Cybersecurity",
          "Data management & analytics",
          "E-commerce & direct-to-consumer",
          "Fintech",
          "Fintech",
          "Artificial Intelligence",
          "Cybersecurity",
          "Internet software & services",
          "Health",
          "E-commerce & direct-to-consumer",
          "Cybersecurity",
          "Internet software & services",
          "Data management & analytics",
          "Health",
          "Fintech",
          "Hardware",
          "Cybersecurity",
          "Other",
          "Fintech",
          "Health",
          "Cybersecurity",
          "Supply chain, logistics, & delivery",
          "Artificial intelligence",
          "Internet software & services",
          "Health",
          "Fintech",
          "Supply chain, logistics, & delivery",
          "Supply chain, logistics, & delivery",
          "Data management & analytics",
          "Fintech",
          "Mobile & telecommunications",
          "Fintech",
          "Hardware",
          "E-commerce & direct-to-consumer",
          "Fintech",
          "Internet software & services",
          "Artificial intelligence",
          "Artificial intelligence",
          "Artificial Intelligence",
          "Internet software & services",
          "Consumer & retail",
          "E-commerce & direct-to-consumer",
          "Mobile & telecommunications",
          "E-commerce & direct-to-consumer",
          "Edtech",
          "Fintech",
          "Fintech",
          "Artificial intelligence",
          "Supply chain, logistics, & delivery",
          "Other",
          "Mobile & telecommunications",
          "Fintech",
          "Artificial intelligence",
          "Fintech",
          "Data management & analytics",
          "Edtech",
          "Consumer & retail",
          "Supply chain, logistics, & delivery",
          "Edtech",
          "Consumer & retail",
          "E-commerce & direct-to-consumer",
          "Internet software & services",
          "Internet software & services",
          "Health",
          "E-commerce & direct-to-consumer",
          "Health",
          "Hardware",
          "Cybersecurity",
          "Fintech",
          "E-commerce & direct-to-consumer",
          "Mobile & telecommunications",
          "Health",
          "Fintech",
          "Health",
          "Internet software & services",
          "Artificial intelligence",
          "Other",
          "E-commerce & direct-to-consumer",
          "Data management & analytics",
          "Consumer & retail",
          "Internet software & services",
          "Artificial intelligence",
          "Internet software & services",
          "Mobile & telecommunications",
          "Internet software & services",
          "Other",
          "E-commerce & direct-to-consumer",
          "Internet software & services",
          "Internet software & services",
          "Fintech",
          "Internet software & services",
          "Cybersecurity",
          "Fintech",
          "Health",
          "Travel",
          "Internet software & services",
          "Internet software & services",
          "Hardware",
          "Health",
          "Fintech",
          "Artificial Intelligence",
          "Internet software & services",
          "Consumer & retail",
          "Internet software & services",
          "Fintech",
          "Cybersecurity",
          "E-commerce & direct-to-consumer",
          "Mobile & telecommunications",
          "Internet software & services",
          "Artificial intelligence",
          "Other",
          "Mobile & telecommunications",
          "Fintech",
          "Other",
          "Data management & analytics",
          "Edtech",
          "Internet software & services",
          "Consumer & retail",
          "Other",
          "Supply chain, logistics, & delivery",
          "Cybersecurity",
          "Other",
          "Consumer & retail",
          "Fintech",
          "E-commerce & direct-to-consumer",
          "Fintech",
          "Supply chain, logistics, & delivery",
          "Other",
          "Artificial intelligence",
          "Artificial intelligence",
          "Supply chain, logistics, & delivery",
          "Supply chain, logistics, & delivery",
          "Fintech",
          "Artificial intelligence",
          "Supply chain, logistics, & delivery",
          "Fintech",
          "Fintech",
          "Internet software & services",
          "Internet software & services",
          "Artificial intelligence",
          "Internet software & services",
          "Artificial intelligence",
          "Internet software & services",
          "Artificial intelligence",
          "Cybersecurity",
          "Fintech",
          "Mobile & telecommunications",
          "E-commerce & direct-to-consumer",
          "Artificial intelligence",
          "Hardware",
          "Internet software & services",
          "E-commerce & direct-to-consumer",
          "Health",
          "Fintech",
          "Internet software & services",
          "Artificial intelligence",
          "Fintech",
          "Health",
          "Fintech",
          "Artificial intelligence",
          "Internet software & services",
          "Edtech",
          "Internet software & services",
          "Fintech",
          "Internet software & services",
          "Travel",
          "Internet software & services",
          "Internet software & services",
          "Internet software & services",
          "Internet software & services",
          "Fintech",
          "E-commerce & direct-to-consumer",
          "Fintech",
          "Fintech",
          "Internet software & services",
          "Supply chain, logistics, & delivery",
          "Internet software & services",
          "Edtech",
          "E-commerce & direct-to-consumer",
          "E-commerce & direct-to-consumer",
          "Consumer & retail",
          "Fintech",
          "E-commerce & direct-to-consumer"
         ],
         "legendgroup": "",
         "name": "",
         "showlegend": true,
         "type": "pie"
        }
       ],
       "layout": {
        "legend": {
         "tracegroupgap": 0
        },
        "margin": {
         "t": 60
        },
        "template": {
         "data": {
          "bar": [
           {
            "error_x": {
             "color": "#2a3f5f"
            },
            "error_y": {
             "color": "#2a3f5f"
            },
            "marker": {
             "line": {
              "color": "#E5ECF6",
              "width": 0.5
             },
             "pattern": {
              "fillmode": "overlay",
              "size": 10,
              "solidity": 0.2
             }
            },
            "type": "bar"
           }
          ],
          "barpolar": [
           {
            "marker": {
             "line": {
              "color": "#E5ECF6",
              "width": 0.5
             },
             "pattern": {
              "fillmode": "overlay",
              "size": 10,
              "solidity": 0.2
             }
            },
            "type": "barpolar"
           }
          ],
          "carpet": [
           {
            "aaxis": {
             "endlinecolor": "#2a3f5f",
             "gridcolor": "white",
             "linecolor": "white",
             "minorgridcolor": "white",
             "startlinecolor": "#2a3f5f"
            },
            "baxis": {
             "endlinecolor": "#2a3f5f",
             "gridcolor": "white",
             "linecolor": "white",
             "minorgridcolor": "white",
             "startlinecolor": "#2a3f5f"
            },
            "type": "carpet"
           }
          ],
          "choropleth": [
           {
            "colorbar": {
             "outlinewidth": 0,
             "ticks": ""
            },
            "type": "choropleth"
           }
          ],
          "contour": [
           {
            "colorbar": {
             "outlinewidth": 0,
             "ticks": ""
            },
            "colorscale": [
             [
              0,
              "#0d0887"
             ],
             [
              0.1111111111111111,
              "#46039f"
             ],
             [
              0.2222222222222222,
              "#7201a8"
             ],
             [
              0.3333333333333333,
              "#9c179e"
             ],
             [
              0.4444444444444444,
              "#bd3786"
             ],
             [
              0.5555555555555556,
              "#d8576b"
             ],
             [
              0.6666666666666666,
              "#ed7953"
             ],
             [
              0.7777777777777778,
              "#fb9f3a"
             ],
             [
              0.8888888888888888,
              "#fdca26"
             ],
             [
              1,
              "#f0f921"
             ]
            ],
            "type": "contour"
           }
          ],
          "contourcarpet": [
           {
            "colorbar": {
             "outlinewidth": 0,
             "ticks": ""
            },
            "type": "contourcarpet"
           }
          ],
          "heatmap": [
           {
            "colorbar": {
             "outlinewidth": 0,
             "ticks": ""
            },
            "colorscale": [
             [
              0,
              "#0d0887"
             ],
             [
              0.1111111111111111,
              "#46039f"
             ],
             [
              0.2222222222222222,
              "#7201a8"
             ],
             [
              0.3333333333333333,
              "#9c179e"
             ],
             [
              0.4444444444444444,
              "#bd3786"
             ],
             [
              0.5555555555555556,
              "#d8576b"
             ],
             [
              0.6666666666666666,
              "#ed7953"
             ],
             [
              0.7777777777777778,
              "#fb9f3a"
             ],
             [
              0.8888888888888888,
              "#fdca26"
             ],
             [
              1,
              "#f0f921"
             ]
            ],
            "type": "heatmap"
           }
          ],
          "heatmapgl": [
           {
            "colorbar": {
             "outlinewidth": 0,
             "ticks": ""
            },
            "colorscale": [
             [
              0,
              "#0d0887"
             ],
             [
              0.1111111111111111,
              "#46039f"
             ],
             [
              0.2222222222222222,
              "#7201a8"
             ],
             [
              0.3333333333333333,
              "#9c179e"
             ],
             [
              0.4444444444444444,
              "#bd3786"
             ],
             [
              0.5555555555555556,
              "#d8576b"
             ],
             [
              0.6666666666666666,
              "#ed7953"
             ],
             [
              0.7777777777777778,
              "#fb9f3a"
             ],
             [
              0.8888888888888888,
              "#fdca26"
             ],
             [
              1,
              "#f0f921"
             ]
            ],
            "type": "heatmapgl"
           }
          ],
          "histogram": [
           {
            "marker": {
             "pattern": {
              "fillmode": "overlay",
              "size": 10,
              "solidity": 0.2
             }
            },
            "type": "histogram"
           }
          ],
          "histogram2d": [
           {
            "colorbar": {
             "outlinewidth": 0,
             "ticks": ""
            },
            "colorscale": [
             [
              0,
              "#0d0887"
             ],
             [
              0.1111111111111111,
              "#46039f"
             ],
             [
              0.2222222222222222,
              "#7201a8"
             ],
             [
              0.3333333333333333,
              "#9c179e"
             ],
             [
              0.4444444444444444,
              "#bd3786"
             ],
             [
              0.5555555555555556,
              "#d8576b"
             ],
             [
              0.6666666666666666,
              "#ed7953"
             ],
             [
              0.7777777777777778,
              "#fb9f3a"
             ],
             [
              0.8888888888888888,
              "#fdca26"
             ],
             [
              1,
              "#f0f921"
             ]
            ],
            "type": "histogram2d"
           }
          ],
          "histogram2dcontour": [
           {
            "colorbar": {
             "outlinewidth": 0,
             "ticks": ""
            },
            "colorscale": [
             [
              0,
              "#0d0887"
             ],
             [
              0.1111111111111111,
              "#46039f"
             ],
             [
              0.2222222222222222,
              "#7201a8"
             ],
             [
              0.3333333333333333,
              "#9c179e"
             ],
             [
              0.4444444444444444,
              "#bd3786"
             ],
             [
              0.5555555555555556,
              "#d8576b"
             ],
             [
              0.6666666666666666,
              "#ed7953"
             ],
             [
              0.7777777777777778,
              "#fb9f3a"
             ],
             [
              0.8888888888888888,
              "#fdca26"
             ],
             [
              1,
              "#f0f921"
             ]
            ],
            "type": "histogram2dcontour"
           }
          ],
          "mesh3d": [
           {
            "colorbar": {
             "outlinewidth": 0,
             "ticks": ""
            },
            "type": "mesh3d"
           }
          ],
          "parcoords": [
           {
            "line": {
             "colorbar": {
              "outlinewidth": 0,
              "ticks": ""
             }
            },
            "type": "parcoords"
           }
          ],
          "pie": [
           {
            "automargin": true,
            "type": "pie"
           }
          ],
          "scatter": [
           {
            "fillpattern": {
             "fillmode": "overlay",
             "size": 10,
             "solidity": 0.2
            },
            "type": "scatter"
           }
          ],
          "scatter3d": [
           {
            "line": {
             "colorbar": {
              "outlinewidth": 0,
              "ticks": ""
             }
            },
            "marker": {
             "colorbar": {
              "outlinewidth": 0,
              "ticks": ""
             }
            },
            "type": "scatter3d"
           }
          ],
          "scattercarpet": [
           {
            "marker": {
             "colorbar": {
              "outlinewidth": 0,
              "ticks": ""
             }
            },
            "type": "scattercarpet"
           }
          ],
          "scattergeo": [
           {
            "marker": {
             "colorbar": {
              "outlinewidth": 0,
              "ticks": ""
             }
            },
            "type": "scattergeo"
           }
          ],
          "scattergl": [
           {
            "marker": {
             "colorbar": {
              "outlinewidth": 0,
              "ticks": ""
             }
            },
            "type": "scattergl"
           }
          ],
          "scattermapbox": [
           {
            "marker": {
             "colorbar": {
              "outlinewidth": 0,
              "ticks": ""
             }
            },
            "type": "scattermapbox"
           }
          ],
          "scatterpolar": [
           {
            "marker": {
             "colorbar": {
              "outlinewidth": 0,
              "ticks": ""
             }
            },
            "type": "scatterpolar"
           }
          ],
          "scatterpolargl": [
           {
            "marker": {
             "colorbar": {
              "outlinewidth": 0,
              "ticks": ""
             }
            },
            "type": "scatterpolargl"
           }
          ],
          "scatterternary": [
           {
            "marker": {
             "colorbar": {
              "outlinewidth": 0,
              "ticks": ""
             }
            },
            "type": "scatterternary"
           }
          ],
          "surface": [
           {
            "colorbar": {
             "outlinewidth": 0,
             "ticks": ""
            },
            "colorscale": [
             [
              0,
              "#0d0887"
             ],
             [
              0.1111111111111111,
              "#46039f"
             ],
             [
              0.2222222222222222,
              "#7201a8"
             ],
             [
              0.3333333333333333,
              "#9c179e"
             ],
             [
              0.4444444444444444,
              "#bd3786"
             ],
             [
              0.5555555555555556,
              "#d8576b"
             ],
             [
              0.6666666666666666,
              "#ed7953"
             ],
             [
              0.7777777777777778,
              "#fb9f3a"
             ],
             [
              0.8888888888888888,
              "#fdca26"
             ],
             [
              1,
              "#f0f921"
             ]
            ],
            "type": "surface"
           }
          ],
          "table": [
           {
            "cells": {
             "fill": {
              "color": "#EBF0F8"
             },
             "line": {
              "color": "white"
             }
            },
            "header": {
             "fill": {
              "color": "#C8D4E3"
             },
             "line": {
              "color": "white"
             }
            },
            "type": "table"
           }
          ]
         },
         "layout": {
          "annotationdefaults": {
           "arrowcolor": "#2a3f5f",
           "arrowhead": 0,
           "arrowwidth": 1
          },
          "autotypenumbers": "strict",
          "coloraxis": {
           "colorbar": {
            "outlinewidth": 0,
            "ticks": ""
           }
          },
          "colorscale": {
           "diverging": [
            [
             0,
             "#8e0152"
            ],
            [
             0.1,
             "#c51b7d"
            ],
            [
             0.2,
             "#de77ae"
            ],
            [
             0.3,
             "#f1b6da"
            ],
            [
             0.4,
             "#fde0ef"
            ],
            [
             0.5,
             "#f7f7f7"
            ],
            [
             0.6,
             "#e6f5d0"
            ],
            [
             0.7,
             "#b8e186"
            ],
            [
             0.8,
             "#7fbc41"
            ],
            [
             0.9,
             "#4d9221"
            ],
            [
             1,
             "#276419"
            ]
           ],
           "sequential": [
            [
             0,
             "#0d0887"
            ],
            [
             0.1111111111111111,
             "#46039f"
            ],
            [
             0.2222222222222222,
             "#7201a8"
            ],
            [
             0.3333333333333333,
             "#9c179e"
            ],
            [
             0.4444444444444444,
             "#bd3786"
            ],
            [
             0.5555555555555556,
             "#d8576b"
            ],
            [
             0.6666666666666666,
             "#ed7953"
            ],
            [
             0.7777777777777778,
             "#fb9f3a"
            ],
            [
             0.8888888888888888,
             "#fdca26"
            ],
            [
             1,
             "#f0f921"
            ]
           ],
           "sequentialminus": [
            [
             0,
             "#0d0887"
            ],
            [
             0.1111111111111111,
             "#46039f"
            ],
            [
             0.2222222222222222,
             "#7201a8"
            ],
            [
             0.3333333333333333,
             "#9c179e"
            ],
            [
             0.4444444444444444,
             "#bd3786"
            ],
            [
             0.5555555555555556,
             "#d8576b"
            ],
            [
             0.6666666666666666,
             "#ed7953"
            ],
            [
             0.7777777777777778,
             "#fb9f3a"
            ],
            [
             0.8888888888888888,
             "#fdca26"
            ],
            [
             1,
             "#f0f921"
            ]
           ]
          },
          "colorway": [
           "#636efa",
           "#EF553B",
           "#00cc96",
           "#ab63fa",
           "#FFA15A",
           "#19d3f3",
           "#FF6692",
           "#B6E880",
           "#FF97FF",
           "#FECB52"
          ],
          "font": {
           "color": "#2a3f5f"
          },
          "geo": {
           "bgcolor": "white",
           "lakecolor": "white",
           "landcolor": "#E5ECF6",
           "showlakes": true,
           "showland": true,
           "subunitcolor": "white"
          },
          "hoverlabel": {
           "align": "left"
          },
          "hovermode": "closest",
          "mapbox": {
           "style": "light"
          },
          "paper_bgcolor": "white",
          "plot_bgcolor": "#E5ECF6",
          "polar": {
           "angularaxis": {
            "gridcolor": "white",
            "linecolor": "white",
            "ticks": ""
           },
           "bgcolor": "#E5ECF6",
           "radialaxis": {
            "gridcolor": "white",
            "linecolor": "white",
            "ticks": ""
           }
          },
          "scene": {
           "xaxis": {
            "backgroundcolor": "#E5ECF6",
            "gridcolor": "white",
            "gridwidth": 2,
            "linecolor": "white",
            "showbackground": true,
            "ticks": "",
            "zerolinecolor": "white"
           },
           "yaxis": {
            "backgroundcolor": "#E5ECF6",
            "gridcolor": "white",
            "gridwidth": 2,
            "linecolor": "white",
            "showbackground": true,
            "ticks": "",
            "zerolinecolor": "white"
           },
           "zaxis": {
            "backgroundcolor": "#E5ECF6",
            "gridcolor": "white",
            "gridwidth": 2,
            "linecolor": "white",
            "showbackground": true,
            "ticks": "",
            "zerolinecolor": "white"
           }
          },
          "shapedefaults": {
           "line": {
            "color": "#2a3f5f"
           }
          },
          "ternary": {
           "aaxis": {
            "gridcolor": "white",
            "linecolor": "white",
            "ticks": ""
           },
           "baxis": {
            "gridcolor": "white",
            "linecolor": "white",
            "ticks": ""
           },
           "bgcolor": "#E5ECF6",
           "caxis": {
            "gridcolor": "white",
            "linecolor": "white",
            "ticks": ""
           }
          },
          "title": {
           "x": 0.05
          },
          "xaxis": {
           "automargin": true,
           "gridcolor": "white",
           "linecolor": "white",
           "ticks": "",
           "title": {
            "standoff": 15
           },
           "zerolinecolor": "white",
           "zerolinewidth": 2
          },
          "yaxis": {
           "automargin": true,
           "gridcolor": "white",
           "linecolor": "white",
           "ticks": "",
           "title": {
            "standoff": 15
           },
           "zerolinecolor": "white",
           "zerolinewidth": 2
          }
         }
        }
       }
      },
      "text/html": [
       "<div>                            <div id=\"e2702c87-3000-4133-ba39-7b7982968302\" class=\"plotly-graph-div\" style=\"height:525px; width:100%;\"></div>            <script type=\"text/javascript\">                require([\"plotly\"], function(Plotly) {                    window.PLOTLYENV=window.PLOTLYENV || {};                                    if (document.getElementById(\"e2702c87-3000-4133-ba39-7b7982968302\")) {                    Plotly.newPlot(                        \"e2702c87-3000-4133-ba39-7b7982968302\",                        [{\"domain\":{\"x\":[0.0,1.0],\"y\":[0.0,1.0]},\"hovertemplate\":\"Industry=%{label}<extra></extra>\",\"labels\":[\"Industry\",\"Artificial intelligence\",\"Other\",\"E-commerce & direct-to-consumer\",\"Fintech\",\"Fintech\",\"Internet software & services\",\"Fintech\",\"Supply chain, logistics, & delivery\",\"Consumer & retail\",\"Data management & analytics\",\"Fintech\",\"Other\",\"Fintech\",\"E-commerce & direct-to-consumer\",\"Fintech\",\"Edtech\",\"Supply chain, logistics, & delivery\",\"E-commerce & direct-to-consumer\",\"Internet software & services\",\"Edtech\",\"Fintech\",\"Internet software & services\",\"Consumer & retail\",\"E-commerce & direct-to-consumer\",\"Fintech\",\"Fintech\",\"Health\",\"E-commerce & direct-to-consumer\",\"Internet software & services\",\"Artificial intelligence\",\"Other\",\"Artificial intelligence\",\"Internet software & services\",\"Fintech\",\"E-commerce & direct-to-consumer\",\"Health\",\"Hardware\",\"Internet software & services\",\"E-commerce & direct-to-consumer\",\"Auto & transportation\",\"Auto & transportation\",\"Supply chain, logistics, & delivery\",\"Consumer & retail\",\"Hardware\",\"Fintech\",\"Data management & analytics\",\"Edtech\",\"Fintech\",\"Travel\",\"Internet software & services\",\"Internet software & services\",\"Fintech\",\"E-commerce & direct-to-consumer\",\"Fintech\",\"Internet software & services\",\"Fintech\",\"Supply chain, logistics, & delivery\",\"Internet software & services\",\"Internet software & services\",\"Internet software & services\",\"Other\",\"Fintech\",\"Travel\",\"Artificial intelligence\",\"Auto & transportation\",\"Cybersecurity\",\"E-commerce & direct-to-consumer\",\"Fintech\",\"Internet software & services\",\"Mobile & telecommunications\",\"Cybersecurity\",\"Internet software & services\",\"Hardware\",\"Cybersecurity\",\"Fintech\",\"Fintech\",\"Cybersecurity\",\"Fintech\",\"Internet software & services\",\"Health\",\"Fintech\",\"Health\",\"Fintech\",\"Supply chain, logistics, & delivery\",\"Fintech\",\"Mobile & telecommunications\",\"Consumer & retail\",\"Fintech\",\"Mobile & telecommunications\",\"Auto & transportation\",\"Internet software & services\",\"Fintech\",\"Fintech\",\"E-commerce & direct-to-consumer\",\"Artificial intelligence\",\"Artificial intelligence\",\"Travel\",\"Cybersecurity\",\"Artificial intelligence\",\"Fintech\",\"Fintech\",\"Health\",\"Other\",\"Consumer & retail\",\"Health\",\"Auto & transportation\",\"Fintech\",\"Fintech\",\"Fintech\",\"Fintech\",\"Health\",\"Data management & analytics\",\"Internet software & services\",\"E-commerce & direct-to-consumer\",\"Health\",\"Artificial intelligence\",\"Internet software & services\",\"Supply chain, logistics, & delivery\",\"Internet software & services\",\"Internet software & services\",\"Fintech\",\"E-commerce & direct-to-consumer\",\"Health\",\"Health\",\"Internet software & services\",\"Fintech\",\"Fintech\",\"Cybersecurity\",\"Internet software & services\",\"Other\",\"Internet software & services\",\"Hardware\",\"Artificial intelligence\",\"Hardware\",\"Fintech\",\"Cybersecurity\",\"Edtech\",\"E-commerce & direct-to-consumer\",\"Fintech\",\"Hardware\",\"Artificial intelligence\",\"Internet software & services\",\"Health\",\"Internet software & services\",\"Internet software & services\",\"Fintech\",\"Fintech\",\"Hardware\",\"Data management & analytics\",\"Supply chain, logistics, & delivery\",\"Artificial intelligence\",\"Health\",\"Fintech\",\"Internet software & services\",\"E-commerce & direct-to-consumer\",\"Fintech\",\"Data management & analytics\",\"Travel\",\"Artificial intelligence\",\"Mobile & telecommunications\",\"E-commerce & direct-to-consumer\",\"Auto & transportation\",\"Fintech\",\"Fintech\",\"Data management & analytics\",\"Health\",\"Auto & transportation\",\"Fintech\",\"Health\",\"Fintech\",\"Mobile & telecommunications\",\"Health\",\"Mobile & telecommunications\",\"Internet software & services\",\"E-commerce & direct-to-consumer\",\"Fintech\",\"Artificial intelligence\",\"Fintech\",\"Fintech\",\"Fintech\",\"Cybersecurity\",\"Internet software & services\",\"Hardware\",\"Internet software & services\",\"Internet software & services\",\"Artificial intelligence\",\"E-commerce & direct-to-consumer\",\"Internet software & services\",\"Internet software & services\",\"Health\",\"Internet software & services\",\"Auto & transportation\",\"Data management & analytics\",\"Edtech\",\"Internet software & services\",\"E-commerce & direct-to-consumer\",\"Cybersecurity\",\"E-commerce & direct-to-consumer\",\"Health\",\"Internet software & services\",\"Other\",\"Internet software & services\",\"E-commerce & direct-to-consumer\",\"Data management & analytics\",\"Edtech\",\"E-commerce & direct-to-consumer\",\"Fintech\",\"Internet software & services\",\"Fintech\",\"Data management & analytics\",\"Internet software & services\",\"Health\",\"Other\",\"E-commerce & direct-to-consumer\",\"Internet software & services\",\"E-commerce & direct-to-consumer\",\"Fintech\",\"Artificial intelligence\",\"Supply chain, logistics, & delivery\",\"Health\",\"Auto & transportation\",\"Internet software & services\",\"Mobile & telecommunications\",\"Internet software & services\",\"Hardware\",\"Internet software & services\",\"Mobile & telecommunications\",\"Other\",\"E-commerce & direct-to-consumer\",\"Artificial intelligence\",\"Fintech\",\"Fintech\",\"Internet software & services\",\"Internet software & services\",\"Internet software & services\",\"Data management & analytics\",\"E-commerce & direct-to-consumer\",\"Internet software & services\",\"Fintech\",\"Internet software & services\",\"Other\",\"Supply chain, logistics, & delivery\",\"E-commerce & direct-to-consumer\",\"Artificial intelligence\",\"Fintech\",\"Other\",\"Mobile & telecommunications\",\"Internet software & services\",\"Fintech\",\"Fintech\",\"Supply chain, logistics, & delivery\",\"Artificial intelligence\",\"Mobile & telecommunications\",\"Data management & analytics\",\"Cybersecurity\",\"Other\",\"Cybersecurity\",\"Cybersecurity\",\"Auto & transportation\",\"Cybersecurity\",\"Fintech\",\"E-commerce & direct-to-consumer\",\"Internet software & services\",\"Edtech\",\"Fintech\",\"E-commerce & direct-to-consumer\",\"Internet software & services\",\"Hardware\",\"Health\",\"Cybersecurity\",\"Artificial Intelligence\",\"Fintech\",\"Internet software & services\",\"Health\",\"Edtech\",\"Cybersecurity\",\"Internet software & services\",\"E-commerce & direct-to-consumer\",\"Internet software & services\",\"Internet software & services\",\"Data management & analytics\",\"Supply chain, logistics, & delivery\",\"Internet software & services\",\"Data management & analytics\",\"Data management & analytics\",\"Auto & transportation\",\"Internet software & services\",\"E-commerce & direct-to-consumer\",\"Fintech\",\"Health\",\"Internet software & services\",\"Artificial intelligence\",\"Mobile & telecommunications\",\"Other\",\"Auto & transportation\",\"Cybersecurity\",\"Fintech\",\"Supply chain, logistics, & delivery\",\"Mobile & telecommunications\",\"Cybersecurity\",\"Edtech\",\"Artificial intelligence\",\"Edtech\",\"Fintech\",\"Fintech\",\"Internet software & services\",\"Edtech\",\"Health\",\"Internet software & services\",\"E-commerce & direct-to-consumer\",\"E-commerce & direct-to-consumer\",\"Supply chain, logistics, & delivery\",\"Fintech\",\"Fintech\",\"E-commerce & direct-to-consumer\",\"Hardware\",\"Fintech\",\"E-commerce & direct-to-consumer\",\"Fintech\",\"E-commerce & direct-to-consumer\",\"E-commerce & direct-to-consumer\",\"Supply chain, logistics, & delivery\",\"Internet software & services\",\"Internet software & services\",\"Edtech\",\"Fintech\",\"Fintech\",\"Fintech\",\"Internet software & services\",\"Health\",\"Fintech\",\"Health\",\"Internet software & services\",\"Fintech\",\"Supply chain, logistics, & delivery\",\"Auto & transportation\",\"Fintech\",\"Cybersecurity\",\"Internet software & services\",\"Fintech\",\"Fintech\",\"E-commerce & direct-to-consumer\",\"Internet software & services\",\"Internet software & services\",\"Internet software & services\",\"Edtech\",\"Internet software & services\",\"Fintech\",\"Internet software & services\",\"Internet software & services\",\"E-commerce & direct-to-consumer\",\"Fintech\",\"Travel\",\"Fintech\",\"Other\",\"Internet software & services\",\"Fintech\",\"Fintech\",\"Fintech\",\"Mobile & telecommunications\",\"E-commerce & direct-to-consumer\",\"Fintech\",\"Fintech\",\"Edtech\",\"E-commerce & direct-to-consumer\",\"Auto & transportation\",\"Edtech\",\"Artificial intelligence\",\"E-commerce & direct-to-consumer\",\"Hardware\",\"Data management & analytics\",\"Fintech\",\"Fintech\",\"Consumer & retail\",\"E-commerce & direct-to-consumer\",\"Mobile & telecommunications\",\"Other\",\"Fintech\",\"Cybersecurity\",\"Other\",\"Mobile & telecommunications\",\"Health\",\"Supply chain, logistics, & delivery\",\"Internet software & services\",\"E-commerce & direct-to-consumer\",\"E-commerce & direct-to-consumer\",\"Consumer & retail\",\"Hardware\",\"Fintech\",\"Health\",\"Fintech\",\"Internet software & services\",\"Internet software & services\",\"Fintech\",\"Health\",\"Internet software & services\",\"Fintech\",\"Data management & analytics\",\"Fintech\",\"Fintech\",\"Internet software & services\",\"Data management & analytics\",\"Supply chain, logistics, & delivery\",\"Auto & transportation\",\"Cybersecurity\",\"Internet software & services\",\"Hardware\",\"Internet software & services\",\"Data management & analytics\",\"Artificial intelligence\",\"Data management & analytics\",\"Hardware\",\"Artificial Intelligence\",\"E-commerce & direct-to-consumer\",\"Fintech\",\"Internet software & services\",\"Cybersecurity\",\"Internet software & services\",\"Fintech\",\"Other\",\"Other\",\"Internet software & services\",\"Internet software & services\",\"Travel\",\"Other\",\"Supply chain, logistics, & delivery\",\"Artificial intelligence\",\"E-commerce & direct-to-consumer\",\"Internet software & services\",\"Fintech\",\"Internet software & services\",\"Internet software & services\",\"Fintech\",\"Other\",\"Auto & transportation\",\"Other\",\"Artificial intelligence\",\"Artificial intelligence\",\"Cybersecurity\",\"Auto & transportation\",\"Fintech\",\"Hardware\",\"Internet software & services\",\"Artificial Intelligence\",\"Cybersecurity\",\"Supply chain, logistics, & delivery\",\"Fintech\",\"Internet software & services\",\"Hardware\",\"Fintech\",\"Fintech\",\"Internet software & services\",\"Fintech\",\"E-commerce & direct-to-consumer\",\"Health\",\"Health\",\"Cybersecurity\",\"Fintech\",\"Internet software & services\",\"Health\",\"Other\",\"Consumer & retail\",\"Internet software & services\",\"Internet software & services\",\"Internet software & services\",\"Fintech\",\"E-commerce & direct-to-consumer\",\"Fintech\",\"Hardware\",\"Other\",\"E-commerce & direct-to-consumer\",\"Internet software & services\",\"E-commerce & direct-to-consumer\",\"Health\",\"Cybersecurity\",\"Supply chain, logistics, & delivery\",\"Artificial intelligence\",\"Artificial intelligence\",\"Consumer & retail\",\"Consumer & retail\",\"Internet software & services\",\"Data management & analytics\",\"Fintech\",\"E-commerce & direct-to-consumer\",\"Fintech\",\"Fintech\",\"Other\",\"Fintech\",\"Supply chain, logistics, & delivery\",\"Internet software & services\",\"Other\",\"Artificial intelligence\",\"Fintech\",\"Internet software & services\",\"Internet software & services\",\"E-commerce & direct-to-consumer\",\"Cybersecurity\",\"Consumer & retail\",\"Auto & transportation\",\"Fintech\",\"Artificial intelligence\",\"Fintech\",\"Internet software & services\",\"Supply chain, logistics, & delivery\",\"Internet software & services\",\"E-commerce & direct-to-consumer\",\"Other\",\"Health\",\"Other\",\"Internet software & services\",\"Artificial intelligence\",\"Hardware\",\"Health\",\"Other\",\"Mobile & telecommunications\",\"Fintech\",\"Artificial intelligence\",\"Fintech\",\"Internet software & services\",\"Auto & transportation\",\"Fintech\",\"Health\",\"Fintech\",\"Artificial Intelligence\",\"Internet software & services\",\"E-commerce & direct-to-consumer\",\"Supply chain, logistics, & delivery\",\"Fintech\",\"Internet software & services\",\"Fintech\",\"Internet software & services\",\"Artificial intelligence\",\"Fintech\",\"Fintech\",\"Fintech\",\"Fintech\",\"E-commerce & direct-to-consumer\",\"Internet software & services\",\"Fintech\",\"E-commerce & direct-to-consumer\",\"Artificial intelligence\",\"Artificial intelligence\",\"Internet software & services\",\"E-commerce & direct-to-consumer\",\"Other\",\"Mobile & telecommunications\",\"Artificial intelligence\",\"Internet software & services\",\"Auto & transportation\",\"Artificial intelligence\",\"Fintech\",\"Consumer & retail\",\"Fintech\",\"Fintech\",\"Data management & analytics\",\"Fintech\",\"Internet software & services\",\"Supply chain, logistics, & delivery\",\"Fintech\",\"Data management & analytics\",\"Data management & analytics\",\"Internet software & services\",\"Hardware\",\"Hardware\",\"Consumer & retail\",\"Artificial intelligence\",\"E-commerce & direct-to-consumer\",\"Supply chain, logistics, & delivery\",\"Internet software & services\",\"Internet software & services\",\"Cybersecurity\",\"Mobile & telecommunications\",\"Health\",\"Supply chain, logistics, & delivery\",\"Internet software & services\",\"Fintech\",\"Travel\",\"Hardware\",\"E-commerce & direct-to-consumer\",\"Fintech\",\"Internet software & services\",\"Fintech\",\"Data management & analytics\",\"Internet software & services\",\"Other\",\"Fintech\",\"Fintech\",\"Artificial intelligence\",\"Internet software & services\",\"Data management & analytics\",\"Mobile & telecommunications\",\"Health\",\"Cybersecurity\",\"Health\",\"Travel\",\"Consumer & retail\",\"Fintech\",\"Artificial intelligence\",\"Health\",\"Internet software & services\",\"E-commerce & direct-to-consumer\",\"Artificial intelligence\",\"Fintech\",\"Supply chain, logistics, & delivery\",\"Health\",\"Health\",\"Data management & analytics\",\"Mobile & telecommunications\",\"Hardware\",\"Fintech\",\"Artificial intelligence\",\"Health\",\"Auto & transportation\",\"Health\",\"E-commerce & direct-to-consumer\",\"Auto & transportation\",\"Internet software & services\",\"Artificial intelligence\",\"E-commerce & direct-to-consumer\",\"Fintech\",\"Edtech\",\"Fintech\",\"Edtech\",\"Fintech\",\"Supply chain, logistics, & delivery\",\"Internet software & services\",\"Supply chain, logistics, & delivery\",\"Supply chain, logistics, & delivery\",\"Other\",\"Mobile & telecommunications\",\"Fintech\",\"Health\",\"Other\",\"Internet software & services\",\"Edtech\",\"Internet software & services\",\"Auto & transportation\",\"Artificial Intelligence\",\"Health\",\"Other\",\"E-commerce & direct-to-consumer\",\"Fintech\",\"Mobile & telecommunications\",\"Artificial Intelligence\",\"Supply chain, logistics, & delivery\",\"Health\",\"Artificial intelligence\",\"Cybersecurity\",\"Mobile & telecommunications\",\"Fintech\",\"Internet software & services\",\"Fintech\",\"Internet software & services\",\"Supply chain, logistics, & delivery\",\"Supply chain, logistics, & delivery\",\"E-commerce & direct-to-consumer\",\"Other\",\"Auto & transportation\",\"E-commerce & direct-to-consumer\",\"Auto & transportation\",\"Consumer & retail\",\"Fintech\",\"Fintech\",\"Internet software & services\",\"Fintech\",\"Internet software & services\",\"Cybersecurity\",\"Mobile & telecommunications\",\"Fintech\",\"Health\",\"Data management & analytics\",\"E-commerce & direct-to-consumer\",\"E-commerce & direct-to-consumer\",\"Health\",\"E-commerce & direct-to-consumer\",\"Fintech\",\"Fintech\",\"Travel\",\"Consumer & retail\",\"Supply chain, logistics, & delivery\",\"Auto & transportation\",\"Cybersecurity\",\"Hardware\",\"E-commerce & direct-to-consumer\",\"Fintech\",\"Internet software & services\",\"Health\",\"Mobile & telecommunications\",\"E-commerce & direct-to-consumer\",\"Auto & transportation\",\"Health\",\"Internet software & services\",\"Internet software & services\",\"Edtech\",\"Fintech\",\"Internet software & services\",\"Internet software & services\",\"Internet software & services\",\"Data management & analytics\",\"Other\",\"Internet software & services\",\"Internet software & services\",\"E-commerce & direct-to-consumer\",\"Cybersecurity\",\"Health\",\"Health\",\"E-commerce & direct-to-consumer\",\"Cybersecurity\",\"Fintech\",\"Artificial intelligence\",\"Fintech\",\"Fintech\",\"Mobile & telecommunications\",\"Internet software & services\",\"Mobile & telecommunications\",\"Internet software & services\",\"Fintech\",\"E-commerce & direct-to-consumer\",\"Fintech\",\"Other\",\"Travel\",\"Health\",\"Fintech\",\"E-commerce & direct-to-consumer\",\"E-commerce & direct-to-consumer\",\"Health\",\"Other\",\"E-commerce & direct-to-consumer\",\"Cybersecurity\",\"Artificial intelligence\",\"Fintech\",\"Other\",\"Fintech\",\"Internet software & services\",\"Internet software & services\",\"Supply chain, logistics, & delivery\",\"Health\",\"Internet software & services\",\"Fintech\",\"Fintech\",\"Internet software & services\",\"Supply chain, logistics, & delivery\",\"Fintech\",\"Other\",\"Other\",\"Travel\",\"Data management & analytics\",\"Internet software & services\",\"Other\",\"Cybersecurity\",\"Fintech\",\"Internet software & services\",\"Internet software & services\",\"Cybersecurity\",\"Internet software & services\",\"Fintech\",\"Internet software & services\",\"Supply chain, logistics, & delivery\",\"Internet software & services\",\"Other\",\"Mobile & telecommunications\",\"Internet software & services\",\"Other\",\"Artificial intelligence\",\"Fintech\",\"Internet software & services\",\"Artificial intelligence\",\"E-commerce & direct-to-consumer\",\"Data management & analytics\",\"Fintech\",\"Fintech\",\"Internet software & services\",\"E-commerce & direct-to-consumer\",\"Internet software & services\",\"Other\",\"E-commerce & direct-to-consumer\",\"E-commerce & direct-to-consumer\",\"E-commerce & direct-to-consumer\",\"Internet software & services\",\"E-commerce & direct-to-consumer\",\"E-commerce & direct-to-consumer\",\"Internet software & services\",\"Fintech\",\"Fintech\",\"Health\",\"Fintech\",\"Data management & analytics\",\"Supply chain, logistics, & delivery\",\"Internet software & services\",\"Artificial Intelligence\",\"Internet software & services\",\"Edtech\",\"Internet software & services\",\"Supply chain, logistics, & delivery\",\"Consumer & retail\",\"Artificial intelligence\",\"Edtech\",\"Internet software & services\",\"Health\",\"Auto & transportation\",\"Data management & analytics\",\"Health\",\"Fintech\",\"Fintech\",\"Artificial intelligence\",\"Supply chain, logistics, & delivery\",\"Fintech\",\"Fintech\",\"Fintech\",\"Internet software & services\",\"Cybersecurity\",\"E-commerce & direct-to-consumer\",\"Other\",\"Fintech\",\"E-commerce & direct-to-consumer\",\"Internet software & services\",\"Cybersecurity\",\"Other\",\"Fintech\",\"Internet software & services\",\"Hardware\",\"Travel\",\"E-commerce & direct-to-consumer\",\"Fintech\",\"E-commerce & direct-to-consumer\",\"Internet software & services\",\"Edtech\",\"Data management & analytics\",\"Internet software & services\",\"E-commerce & direct-to-consumer\",\"Health\",\"Supply chain, logistics, & delivery\",\"Data management & analytics\",\"Internet software & services\",\"Fintech\",\"Mobile & telecommunications\",\"Fintech\",\"Fintech\",\"Internet software & services\",\"E-commerce & direct-to-consumer\",\"Fintech\",\"Supply chain, logistics, & delivery\",\"Other\",\"Auto & transportation\",\"Fintech\",\"Hardware\",\"Data management & analytics\",\"E-commerce & direct-to-consumer\",\"Fintech\",\"Internet software & services\",\"Mobile & telecommunications\",\"Artificial intelligence\",\"Auto & transportation\",\"Hardware\",\"Internet software & services\",\"Hardware\",\"Artificial intelligence\",\"Internet software & services\",\"Fintech\",\"Health\",\"Internet software & services\",\"Fintech\",\"Artificial intelligence\",\"Artificial Intelligence\",\"Internet software & services\",\"Cybersecurity\",\"Internet software & services\",\"Supply chain, logistics, & delivery\",\"Artificial intelligence\",\"Internet software & services\",\"Other\",\"Auto & transportation\",\"E-commerce & direct-to-consumer\",\"Artificial intelligence\",\"E-commerce & direct-to-consumer\",\"Artificial intelligence\",\"Hardware\",\"Supply chain, logistics, & delivery\",\"Artificial intelligence\",\"Cybersecurity\",\"Fintech\",\"Other\",\"Supply chain, logistics, & delivery\",\"Fintech\",\"Health\",\"Fintech\",\"Internet software & services\",\"Health\",\"Supply chain, logistics, & delivery\",\"E-commerce & direct-to-consumer\",\"Fintech\",\"Cybersecurity\",\"Data management & analytics\",\"E-commerce & direct-to-consumer\",\"Fintech\",\"Fintech\",\"Artificial Intelligence\",\"Cybersecurity\",\"Internet software & services\",\"Health\",\"E-commerce & direct-to-consumer\",\"Cybersecurity\",\"Internet software & services\",\"Data management & analytics\",\"Health\",\"Fintech\",\"Hardware\",\"Cybersecurity\",\"Other\",\"Fintech\",\"Health\",\"Cybersecurity\",\"Supply chain, logistics, & delivery\",\"Artificial intelligence\",\"Internet software & services\",\"Health\",\"Fintech\",\"Supply chain, logistics, & delivery\",\"Supply chain, logistics, & delivery\",\"Data management & analytics\",\"Fintech\",\"Mobile & telecommunications\",\"Fintech\",\"Hardware\",\"E-commerce & direct-to-consumer\",\"Fintech\",\"Internet software & services\",\"Artificial intelligence\",\"Artificial intelligence\",\"Artificial Intelligence\",\"Internet software & services\",\"Consumer & retail\",\"E-commerce & direct-to-consumer\",\"Mobile & telecommunications\",\"E-commerce & direct-to-consumer\",\"Edtech\",\"Fintech\",\"Fintech\",\"Artificial intelligence\",\"Supply chain, logistics, & delivery\",\"Other\",\"Mobile & telecommunications\",\"Fintech\",\"Artificial intelligence\",\"Fintech\",\"Data management & analytics\",\"Edtech\",\"Consumer & retail\",\"Supply chain, logistics, & delivery\",\"Edtech\",\"Consumer & retail\",\"E-commerce & direct-to-consumer\",\"Internet software & services\",\"Internet software & services\",\"Health\",\"E-commerce & direct-to-consumer\",\"Health\",\"Hardware\",\"Cybersecurity\",\"Fintech\",\"E-commerce & direct-to-consumer\",\"Mobile & telecommunications\",\"Health\",\"Fintech\",\"Health\",\"Internet software & services\",\"Artificial intelligence\",\"Other\",\"E-commerce & direct-to-consumer\",\"Data management & analytics\",\"Consumer & retail\",\"Internet software & services\",\"Artificial intelligence\",\"Internet software & services\",\"Mobile & telecommunications\",\"Internet software & services\",\"Other\",\"E-commerce & direct-to-consumer\",\"Internet software & services\",\"Internet software & services\",\"Fintech\",\"Internet software & services\",\"Cybersecurity\",\"Fintech\",\"Health\",\"Travel\",\"Internet software & services\",\"Internet software & services\",\"Hardware\",\"Health\",\"Fintech\",\"Artificial Intelligence\",\"Internet software & services\",\"Consumer & retail\",\"Internet software & services\",\"Fintech\",\"Cybersecurity\",\"E-commerce & direct-to-consumer\",\"Mobile & telecommunications\",\"Internet software & services\",\"Artificial intelligence\",\"Other\",\"Mobile & telecommunications\",\"Fintech\",\"Other\",\"Data management & analytics\",\"Edtech\",\"Internet software & services\",\"Consumer & retail\",\"Other\",\"Supply chain, logistics, & delivery\",\"Cybersecurity\",\"Other\",\"Consumer & retail\",\"Fintech\",\"E-commerce & direct-to-consumer\",\"Fintech\",\"Supply chain, logistics, & delivery\",\"Other\",\"Artificial intelligence\",\"Artificial intelligence\",\"Supply chain, logistics, & delivery\",\"Supply chain, logistics, & delivery\",\"Fintech\",\"Artificial intelligence\",\"Supply chain, logistics, & delivery\",\"Fintech\",\"Fintech\",\"Internet software & services\",\"Internet software & services\",\"Artificial intelligence\",\"Internet software & services\",\"Artificial intelligence\",\"Internet software & services\",\"Artificial intelligence\",\"Cybersecurity\",\"Fintech\",\"Mobile & telecommunications\",\"E-commerce & direct-to-consumer\",\"Artificial intelligence\",\"Hardware\",\"Internet software & services\",\"E-commerce & direct-to-consumer\",\"Health\",\"Fintech\",\"Internet software & services\",\"Artificial intelligence\",\"Fintech\",\"Health\",\"Fintech\",\"Artificial intelligence\",\"Internet software & services\",\"Edtech\",\"Internet software & services\",\"Fintech\",\"Internet software & services\",\"Travel\",\"Internet software & services\",\"Internet software & services\",\"Internet software & services\",\"Internet software & services\",\"Fintech\",\"E-commerce & direct-to-consumer\",\"Fintech\",\"Fintech\",\"Internet software & services\",\"Supply chain, logistics, & delivery\",\"Internet software & services\",\"Edtech\",\"E-commerce & direct-to-consumer\",\"E-commerce & direct-to-consumer\",\"Consumer & retail\",\"Fintech\",\"E-commerce & direct-to-consumer\"],\"legendgroup\":\"\",\"name\":\"\",\"showlegend\":true,\"type\":\"pie\"}],                        {\"template\":{\"data\":{\"histogram2dcontour\":[{\"type\":\"histogram2dcontour\",\"colorbar\":{\"outlinewidth\":0,\"ticks\":\"\"},\"colorscale\":[[0.0,\"#0d0887\"],[0.1111111111111111,\"#46039f\"],[0.2222222222222222,\"#7201a8\"],[0.3333333333333333,\"#9c179e\"],[0.4444444444444444,\"#bd3786\"],[0.5555555555555556,\"#d8576b\"],[0.6666666666666666,\"#ed7953\"],[0.7777777777777778,\"#fb9f3a\"],[0.8888888888888888,\"#fdca26\"],[1.0,\"#f0f921\"]]}],\"choropleth\":[{\"type\":\"choropleth\",\"colorbar\":{\"outlinewidth\":0,\"ticks\":\"\"}}],\"histogram2d\":[{\"type\":\"histogram2d\",\"colorbar\":{\"outlinewidth\":0,\"ticks\":\"\"},\"colorscale\":[[0.0,\"#0d0887\"],[0.1111111111111111,\"#46039f\"],[0.2222222222222222,\"#7201a8\"],[0.3333333333333333,\"#9c179e\"],[0.4444444444444444,\"#bd3786\"],[0.5555555555555556,\"#d8576b\"],[0.6666666666666666,\"#ed7953\"],[0.7777777777777778,\"#fb9f3a\"],[0.8888888888888888,\"#fdca26\"],[1.0,\"#f0f921\"]]}],\"heatmap\":[{\"type\":\"heatmap\",\"colorbar\":{\"outlinewidth\":0,\"ticks\":\"\"},\"colorscale\":[[0.0,\"#0d0887\"],[0.1111111111111111,\"#46039f\"],[0.2222222222222222,\"#7201a8\"],[0.3333333333333333,\"#9c179e\"],[0.4444444444444444,\"#bd3786\"],[0.5555555555555556,\"#d8576b\"],[0.6666666666666666,\"#ed7953\"],[0.7777777777777778,\"#fb9f3a\"],[0.8888888888888888,\"#fdca26\"],[1.0,\"#f0f921\"]]}],\"heatmapgl\":[{\"type\":\"heatmapgl\",\"colorbar\":{\"outlinewidth\":0,\"ticks\":\"\"},\"colorscale\":[[0.0,\"#0d0887\"],[0.1111111111111111,\"#46039f\"],[0.2222222222222222,\"#7201a8\"],[0.3333333333333333,\"#9c179e\"],[0.4444444444444444,\"#bd3786\"],[0.5555555555555556,\"#d8576b\"],[0.6666666666666666,\"#ed7953\"],[0.7777777777777778,\"#fb9f3a\"],[0.8888888888888888,\"#fdca26\"],[1.0,\"#f0f921\"]]}],\"contourcarpet\":[{\"type\":\"contourcarpet\",\"colorbar\":{\"outlinewidth\":0,\"ticks\":\"\"}}],\"contour\":[{\"type\":\"contour\",\"colorbar\":{\"outlinewidth\":0,\"ticks\":\"\"},\"colorscale\":[[0.0,\"#0d0887\"],[0.1111111111111111,\"#46039f\"],[0.2222222222222222,\"#7201a8\"],[0.3333333333333333,\"#9c179e\"],[0.4444444444444444,\"#bd3786\"],[0.5555555555555556,\"#d8576b\"],[0.6666666666666666,\"#ed7953\"],[0.7777777777777778,\"#fb9f3a\"],[0.8888888888888888,\"#fdca26\"],[1.0,\"#f0f921\"]]}],\"surface\":[{\"type\":\"surface\",\"colorbar\":{\"outlinewidth\":0,\"ticks\":\"\"},\"colorscale\":[[0.0,\"#0d0887\"],[0.1111111111111111,\"#46039f\"],[0.2222222222222222,\"#7201a8\"],[0.3333333333333333,\"#9c179e\"],[0.4444444444444444,\"#bd3786\"],[0.5555555555555556,\"#d8576b\"],[0.6666666666666666,\"#ed7953\"],[0.7777777777777778,\"#fb9f3a\"],[0.8888888888888888,\"#fdca26\"],[1.0,\"#f0f921\"]]}],\"mesh3d\":[{\"type\":\"mesh3d\",\"colorbar\":{\"outlinewidth\":0,\"ticks\":\"\"}}],\"scatter\":[{\"fillpattern\":{\"fillmode\":\"overlay\",\"size\":10,\"solidity\":0.2},\"type\":\"scatter\"}],\"parcoords\":[{\"type\":\"parcoords\",\"line\":{\"colorbar\":{\"outlinewidth\":0,\"ticks\":\"\"}}}],\"scatterpolargl\":[{\"type\":\"scatterpolargl\",\"marker\":{\"colorbar\":{\"outlinewidth\":0,\"ticks\":\"\"}}}],\"bar\":[{\"error_x\":{\"color\":\"#2a3f5f\"},\"error_y\":{\"color\":\"#2a3f5f\"},\"marker\":{\"line\":{\"color\":\"#E5ECF6\",\"width\":0.5},\"pattern\":{\"fillmode\":\"overlay\",\"size\":10,\"solidity\":0.2}},\"type\":\"bar\"}],\"scattergeo\":[{\"type\":\"scattergeo\",\"marker\":{\"colorbar\":{\"outlinewidth\":0,\"ticks\":\"\"}}}],\"scatterpolar\":[{\"type\":\"scatterpolar\",\"marker\":{\"colorbar\":{\"outlinewidth\":0,\"ticks\":\"\"}}}],\"histogram\":[{\"marker\":{\"pattern\":{\"fillmode\":\"overlay\",\"size\":10,\"solidity\":0.2}},\"type\":\"histogram\"}],\"scattergl\":[{\"type\":\"scattergl\",\"marker\":{\"colorbar\":{\"outlinewidth\":0,\"ticks\":\"\"}}}],\"scatter3d\":[{\"type\":\"scatter3d\",\"line\":{\"colorbar\":{\"outlinewidth\":0,\"ticks\":\"\"}},\"marker\":{\"colorbar\":{\"outlinewidth\":0,\"ticks\":\"\"}}}],\"scattermapbox\":[{\"type\":\"scattermapbox\",\"marker\":{\"colorbar\":{\"outlinewidth\":0,\"ticks\":\"\"}}}],\"scatterternary\":[{\"type\":\"scatterternary\",\"marker\":{\"colorbar\":{\"outlinewidth\":0,\"ticks\":\"\"}}}],\"scattercarpet\":[{\"type\":\"scattercarpet\",\"marker\":{\"colorbar\":{\"outlinewidth\":0,\"ticks\":\"\"}}}],\"carpet\":[{\"aaxis\":{\"endlinecolor\":\"#2a3f5f\",\"gridcolor\":\"white\",\"linecolor\":\"white\",\"minorgridcolor\":\"white\",\"startlinecolor\":\"#2a3f5f\"},\"baxis\":{\"endlinecolor\":\"#2a3f5f\",\"gridcolor\":\"white\",\"linecolor\":\"white\",\"minorgridcolor\":\"white\",\"startlinecolor\":\"#2a3f5f\"},\"type\":\"carpet\"}],\"table\":[{\"cells\":{\"fill\":{\"color\":\"#EBF0F8\"},\"line\":{\"color\":\"white\"}},\"header\":{\"fill\":{\"color\":\"#C8D4E3\"},\"line\":{\"color\":\"white\"}},\"type\":\"table\"}],\"barpolar\":[{\"marker\":{\"line\":{\"color\":\"#E5ECF6\",\"width\":0.5},\"pattern\":{\"fillmode\":\"overlay\",\"size\":10,\"solidity\":0.2}},\"type\":\"barpolar\"}],\"pie\":[{\"automargin\":true,\"type\":\"pie\"}]},\"layout\":{\"autotypenumbers\":\"strict\",\"colorway\":[\"#636efa\",\"#EF553B\",\"#00cc96\",\"#ab63fa\",\"#FFA15A\",\"#19d3f3\",\"#FF6692\",\"#B6E880\",\"#FF97FF\",\"#FECB52\"],\"font\":{\"color\":\"#2a3f5f\"},\"hovermode\":\"closest\",\"hoverlabel\":{\"align\":\"left\"},\"paper_bgcolor\":\"white\",\"plot_bgcolor\":\"#E5ECF6\",\"polar\":{\"bgcolor\":\"#E5ECF6\",\"angularaxis\":{\"gridcolor\":\"white\",\"linecolor\":\"white\",\"ticks\":\"\"},\"radialaxis\":{\"gridcolor\":\"white\",\"linecolor\":\"white\",\"ticks\":\"\"}},\"ternary\":{\"bgcolor\":\"#E5ECF6\",\"aaxis\":{\"gridcolor\":\"white\",\"linecolor\":\"white\",\"ticks\":\"\"},\"baxis\":{\"gridcolor\":\"white\",\"linecolor\":\"white\",\"ticks\":\"\"},\"caxis\":{\"gridcolor\":\"white\",\"linecolor\":\"white\",\"ticks\":\"\"}},\"coloraxis\":{\"colorbar\":{\"outlinewidth\":0,\"ticks\":\"\"}},\"colorscale\":{\"sequential\":[[0.0,\"#0d0887\"],[0.1111111111111111,\"#46039f\"],[0.2222222222222222,\"#7201a8\"],[0.3333333333333333,\"#9c179e\"],[0.4444444444444444,\"#bd3786\"],[0.5555555555555556,\"#d8576b\"],[0.6666666666666666,\"#ed7953\"],[0.7777777777777778,\"#fb9f3a\"],[0.8888888888888888,\"#fdca26\"],[1.0,\"#f0f921\"]],\"sequentialminus\":[[0.0,\"#0d0887\"],[0.1111111111111111,\"#46039f\"],[0.2222222222222222,\"#7201a8\"],[0.3333333333333333,\"#9c179e\"],[0.4444444444444444,\"#bd3786\"],[0.5555555555555556,\"#d8576b\"],[0.6666666666666666,\"#ed7953\"],[0.7777777777777778,\"#fb9f3a\"],[0.8888888888888888,\"#fdca26\"],[1.0,\"#f0f921\"]],\"diverging\":[[0,\"#8e0152\"],[0.1,\"#c51b7d\"],[0.2,\"#de77ae\"],[0.3,\"#f1b6da\"],[0.4,\"#fde0ef\"],[0.5,\"#f7f7f7\"],[0.6,\"#e6f5d0\"],[0.7,\"#b8e186\"],[0.8,\"#7fbc41\"],[0.9,\"#4d9221\"],[1,\"#276419\"]]},\"xaxis\":{\"gridcolor\":\"white\",\"linecolor\":\"white\",\"ticks\":\"\",\"title\":{\"standoff\":15},\"zerolinecolor\":\"white\",\"automargin\":true,\"zerolinewidth\":2},\"yaxis\":{\"gridcolor\":\"white\",\"linecolor\":\"white\",\"ticks\":\"\",\"title\":{\"standoff\":15},\"zerolinecolor\":\"white\",\"automargin\":true,\"zerolinewidth\":2},\"scene\":{\"xaxis\":{\"backgroundcolor\":\"#E5ECF6\",\"gridcolor\":\"white\",\"linecolor\":\"white\",\"showbackground\":true,\"ticks\":\"\",\"zerolinecolor\":\"white\",\"gridwidth\":2},\"yaxis\":{\"backgroundcolor\":\"#E5ECF6\",\"gridcolor\":\"white\",\"linecolor\":\"white\",\"showbackground\":true,\"ticks\":\"\",\"zerolinecolor\":\"white\",\"gridwidth\":2},\"zaxis\":{\"backgroundcolor\":\"#E5ECF6\",\"gridcolor\":\"white\",\"linecolor\":\"white\",\"showbackground\":true,\"ticks\":\"\",\"zerolinecolor\":\"white\",\"gridwidth\":2}},\"shapedefaults\":{\"line\":{\"color\":\"#2a3f5f\"}},\"annotationdefaults\":{\"arrowcolor\":\"#2a3f5f\",\"arrowhead\":0,\"arrowwidth\":1},\"geo\":{\"bgcolor\":\"white\",\"landcolor\":\"#E5ECF6\",\"subunitcolor\":\"white\",\"showland\":true,\"showlakes\":true,\"lakecolor\":\"white\"},\"title\":{\"x\":0.05},\"mapbox\":{\"style\":\"light\"}}},\"legend\":{\"tracegroupgap\":0},\"margin\":{\"t\":60}},                        {\"responsive\": true}                    ).then(function(){\n",
       "                            \n",
       "var gd = document.getElementById('e2702c87-3000-4133-ba39-7b7982968302');\n",
       "var x = new MutationObserver(function (mutations, observer) {{\n",
       "        var display = window.getComputedStyle(gd).display;\n",
       "        if (!display || display === 'none') {{\n",
       "            console.log([gd, 'removed!']);\n",
       "            Plotly.purge(gd);\n",
       "            observer.disconnect();\n",
       "        }}\n",
       "}});\n",
       "\n",
       "// Listen for the removal of the full notebook cells\n",
       "var notebookContainer = gd.closest('#notebook-container');\n",
       "if (notebookContainer) {{\n",
       "    x.observe(notebookContainer, {childList: true});\n",
       "}}\n",
       "\n",
       "// Listen for the clearing of the current output cell\n",
       "var outputEl = gd.closest('.output');\n",
       "if (outputEl) {{\n",
       "    x.observe(outputEl, {childList: true});\n",
       "}}\n",
       "\n",
       "                        })                };                });            </script>        </div>"
      ]
     },
     "metadata": {},
     "output_type": "display_data"
    }
   ],
   "source": [
    "fig = px.pie(df, names='Industry')\n",
    "fig.show()"
   ]
  },
  {
   "cell_type": "markdown",
   "id": "110ab2b5",
   "metadata": {},
   "source": [
    "## year wise company joined the unicorn club"
   ]
  },
  {
   "cell_type": "code",
   "execution_count": 95,
   "id": "dc417dc2",
   "metadata": {},
   "outputs": [
    {
     "data": {
      "application/vnd.plotly.v1+json": {
       "config": {
        "plotlyServerURL": "https://plot.ly"
       },
       "data": [
        {
         "hovertemplate": "Comapny=%{x}<br>Year founded=%{y}<extra></extra>",
         "legendgroup": "",
         "line": {
          "color": "#636efa",
          "dash": "solid"
         },
         "marker": {
          "symbol": "circle"
         },
         "mode": "lines",
         "name": "",
         "showlegend": false,
         "type": "scattergl",
         "x": [
          "Company",
          "Bytedance",
          "SpaceX",
          "SHEIN",
          "Stripe",
          "Klarna",
          "Canva",
          "Checkout.com",
          "Instacart",
          "JUUL Labs",
          "Databricks",
          "Revolut",
          "Epic Games",
          "FTX",
          "Fanatics",
          "Chime",
          "BYJU's",
          "J&T Express",
          "Xiaohongshu",
          "Miro",
          "Yuanfudao",
          "Rapyd",
          "Discord",
          "Genki Forest",
          "goPuff",
          "Blockchain.com",
          "Plaid",
          "Devoted Health",
          "OpenSea",
          "Grammarly",
          "Argo AI",
          "Northvolt",
          "Faire",
          "Airtable",
          "Brex",
          "Getir",
          "Biosplice Therapeutics",
          "Bitmain",
          "GoodLeap",
          "Xingsheng Selected",
          "ZongMu Technology",
          "Bolt",
          "Swiggy",
          "Weilong Foods",
          "Global Switch",
          "Bolt",
          "Celonis",
          "Zuoyebang",
          "Ripple",
          "OYO Rooms",
          "OutSystems",
          "ServiceTitan",
          "Alchemy",
          "Chehaoduo",
          "Digital Currency Group",
          "Figma",
          "Gusto",
          "Lalamove",
          "Notion Labs",
          "reddit",
          "Talkdesk",
          "Thrasio",
          "Dunamu",
          "Yanolja",
          "Pony.ai",
          "Nuro",
          "Snyk",
          "Kavak",
          "N26",
          "Klaviyo",
          "Niantic",
          "Tanium",
          "Dream11",
          "DJI Innovations",
          "Netskope",
          "Razorpay",
          "Dapper Labs",
          "Lacework",
          "Tipalti",
          "Hopin",
          "Caris Life Sciences",
          "Ramp",
          "Tempus",
          "Fireblocks",
          "Flexport",
          "National Stock Exchange of India",
          "Meicai",
          "Impossible Foods",
          "CRED",
          "Attentive",
          "Ola Cabs",
          "Rippling",
          "Carta",
          "Toss",
          "Ziroom",
          "Scale AI",
          "Gong",
          "TripActions",
          "1Password",
          "Automation Anywhere",
          "Gemini",
          "ConsenSys",
          "Ro",
          "Black Unicorn Factory",
          "Easyhome",
          "WeDoctor",
          "SVOLT",
          "Airwallex",
          "Deel",
          "Mambu",
          "Mollie",
          "Doctolib",
          "FiveTran",
          "Postman",
          "Back Market",
          "Cityblock Health",
          "DataRobot",
          "Personio",
          "RELEX Solutions",
          "Vice Media",
          "Workato",
          "Upgrade",
          "Lianjia",
          "Hinge Health",
          "Lyra Health",
          "Benchling",
          "Better.com",
          "iCapital Network",
          "Wiz",
          "DailyHunt",
          "Howden Group Holdings",
          "Meesho",
          "Meizu Technology",
          "CloudWalk Technology",
          "Royole Corporation",
          "Monzo",
          "Socure",
          "VIPKid",
          "Vinted",
          "Lendable",
          "UBTECH Robotics",
          "Anduril",
          "Checkr",
          "Color",
          "Dataiku",
          "BetterUp",
          "Pleo",
          "Trade Republic",
          "Chipone",
          "Collibra",
          "Rappi",
          "6Sense",
          "Cerebral",
          "Creditas",
          "OneTrust",
          "QuintoAndar",
          "C6 Bank",
          "Cockroach Labs",
          "Hopper",
          "Icertis",
          "Moon Active",
          "OfBusiness",
          "Ola Electric Mobility",
          "Pine Labs",
          "Qonto",
          "SambaNova Systems",
          "United Imaging Healthcare",
          "WM Motor",
          "ZEPZ",
          "Abogen",
          "Greensill",
          "HyalRoute",
          "Radiology Partners",
          "Yello Mobile",
          "Turing",
          "Lenskart",
          "Kraken",
          "Horizon Robotics",
          "MoonPay",
          "Celsius Network",
          "ChargeBee Technologies",
          "Coalition",
          "Commure",
          "Flock Safety",
          "Handshake",
          "Highspot",
          "Indigo Ag",
          "Mirakl",
          "Rec Room",
          "Tekion",
          "Otto Bock HealthCare",
          "Outreach",
          "WeRide",
          "Applied Intuition",
          "Course Hero",
          "Relativity",
          "Whoop",
          "Arctic Wolf Networks",
          "GOAT",
          "Noom",
          "Papaya Global",
          "Redwood Materials",
          "ShareChat",
          "Sorare",
          "VAST Data",
          "Articulate",
          "Dutchie",
          "FalconX",
          "Guild Education",
          "Chainalysis",
          "dbt Labs",
          "Globalization Partners",
          "Intarcia Therapeutics",
          "Relativity Space",
          "StockX",
          "ThoughtSpot",
          "SSENSE",
          "BitPanda",
          "Dataminr",
          "Weee!",
          "Medlinker",
          "Hozon Auto",
          "Aurora Solar",
          "Branch",
          "BrowserStack",
          "Cerebras Systems",
          "ClickUp",
          "Clubhouse",
          "Farmers Business Network",
          "Houzz",
          "MEGVII",
          "Melio",
          "Next Insurance",
          "Olive",
          "Patreon",
          "PointClickCare",
          "Rubrik",
          "Vuori",
          "Webflow",
          "Yuga Labs",
          "Zapier",
          "Dadi Cinema",
          "Kurly",
          "Moglix",
          "OpenAI",
          "Upstox",
          "Vista Global",
          "Yixia",
          "Automattic",
          "OakNorth Bank",
          "Worldcoin",
          "Hive Box",
          "Trax",
          "MessageBird",
          "Cohesity",
          "Cybereason",
          "A24 Films",
          "Acronis",
          "Aura",
          "BYTON",
          "Cato Networks",
          "Digit Insurance",
          "Fetch Rewards",
          "Games24x7",
          "GoStudent",
          "Immutable",
          "Infra.Market",
          "Side",
          "SiFive",
          "Somatus",
          "Sysdig",
          "Uniphore",
          "Varo Bank",
          "Vercel",
          "Oura",
          "Unacademy",
          "Axonius",
          "Clari",
          "ManoMano",
          "Pendo",
          "Plume",
          "JumpCloud",
          "Project44",
          "Sourcegraph",
          "OwnBackup",
          "Starburst",
          "Youxia Motors",
          "Zetwerk",
          "Cars24",
          "Ethos",
          "Komodo Health",
          "Nextiva",
          "o9 Solutions",
          "Scopely",
          "Sila Nanotechnologies",
          "Via",
          "Transmit Security",
          "BlockDaemon",
          "Convoy",
          "Dream Games",
          "Illumio",
          "MasterClass",
          "Graphcore",
          "ApplyBoard",
          "Blockstream",
          "Cedar",
          "ContentSquare",
          "Eruditus Executive Education",
          "Innovaccer",
          "Ironclad",
          "Skims",
          "Thumbtack",
          "Zipline",
          "BharatPe",
          "DriveWealth",
          "Flink Food",
          "PsiQuantum",
          "SpotOn",
          "Gorillas",
          "HighRadius",
          "Loft",
          "Nuvemshop",
          "Udaan",
          "Workrise",
          "ActiveCampaign",
          "Age of Learning",
          "Amber Group",
          "Anchorage Digital",
          "BlockFi",
          "Calendly",
          "Carbon Health",
          "Circle",
          "CMR Surgical",
          "Contentful",
          "Cross River Bank",
          "Delhivery",
          "FlixBus",
          "Flutterwave",
          "Forter",
          "Grafana Labs",
          "Groww",
          "Inxeption",
          "KK Group",
          "Lattice",
          "LaunchDarkly",
          "Lucid",
          "Outschool",
          "Podium",
          "Remote",
          "Seismic",
          "Sky Mavis",
          "SouChe Holdings",
          "TradingView",
          "Traveloka",
          "wefox",
          "Wildlife Studios",
          "1047 Games",
          "Baiwang",
          "Boba",
          "Bought By Many",
          "Cambridge Mobile Telematics",
          "Carzone",
          "CFGI",
          "Cgtz",
          "Changingedu",
          "eDaili",
          "ENOVATE",
          "Fenbi Education",
          "Hesai Tech",
          "Il Makiage",
          "Iluvatar CoreX",
          "Jusfoun Big Data",
          "Pagaya",
          "PolicyBazaar",
          "Promasidor Holdings",
          "Tubatu.com",
          "Ximalaya FM",
          "HEYTEA",
          "BGL Group",
          "Claroty",
          "Improbable",
          "InMobi",
          "MindMaze",
          "Ninja Van",
          "Pantheon Systems",
          "SellerX",
          "AppDirect",
          "BrewDog",
          "Enflame",
          "Tradeshift",
          "HeartFlow",
          "Extend",
          "Airbyte",
          "Andela",
          "Ascend Money",
          "Athelas",
          "Built",
          "candy.com",
          "Cognite",
          "CoinList",
          "Collective Health",
          "Culture Amp",
          "Devo",
          "ElasticRun",
          "Gett",
          "ID.me",
          "impact.com",
          "Ledger",
          "Lusha",
          "Matillion",
          "MOLOCO",
          "Mu Sigma",
          "Next Silicon",
          "NotCo",
          "Olist",
          "Pacaso",
          "Paradox",
          "Persona",
          "SmartRecruiters",
          "Snapdocs",
          "Solugen",
          "StoreDot",
          "Strava",
          "Temporal",
          "TuJia",
          "Uplight",
          "Veho",
          "Veriff",
          "Whatnot",
          "Zenoti",
          "Zeta",
          "Loom",
          "Mobile Premier League",
          "Uala",
          "Wenheyou",
          "Star Charge",
          "ABL Space Systems",
          "Afiniti",
          "ASAPP",
          "BitSight Technologies",
          "Cao Cao Mobility",
          "Capitolis",
          "Carbon",
          "Clio",
          "Cresta",
          "Exabeam",
          "ezCater",
          "HomeLight",
          "HoneyBook",
          "Infinidat",
          "Mercury",
          "Paxos",
          "SafetyCulture",
          "SmartHR",
          "Tonal",
          "Truepill",
          "Unite Us",
          "Verkada",
          "Wayflyer",
          "Zhubajie",
          "Transcarent",
          "Trader Interactive",
          "Glossier",
          "Hibob",
          "Jobandtalent",
          "Optimism",
          "solarisBank",
          "WEMAKEPRICE",
          "Alan",
          "Biren Technology",
          "Voodoo",
          "Carsome",
          "CircleCI",
          "DealShare",
          "DispatchHealth",
          "Dragos",
          "Gousto",
          "H2O.ai",
          "Harness",
          "Harry's",
          "PAX",
          "Productboard",
          "Reltio",
          "Spotter",
          "Vestiaire Collective",
          "Wave",
          "ZenBusiness",
          "Bowery Farming",
          "Greenlight",
          "KeepTruckin",
          "Odoo",
          "Skydance Media",
          "Uptake",
          "MoMo",
          "Algolia",
          "Pattern",
          "Spinny",
          "Trulioo",
          "Zume",
          "AIWAYS",
          "Bitso",
          "BloomReach",
          "Current",
          "Dialpad",
          "G7 Networks",
          "Gympass",
          "MUSINSA",
          "NuCom Group",
          "Reify Health",
          "Diamond Foundry",
          "FullStory",
          "Lightricks",
          "Opentrons",
          "ZocDoc",
          "Accelerant",
          "Huaqin Telecom Technology",
          "Addepar",
          "YITU Technology",
          "CloudWalk",
          "Retool",
          "Volocopter",
          "Acorns",
          "Aledade",
          "CoinSwitch Kuber",
          "ConcertAI",
          "Eightfold.ai",
          "FirstCry",
          "Forto",
          "GoCardless",
          "InVision",
          "Jeeves",
          "Medable",
          "Moveworks",
          "MX Technologies",
          "PayFit",
          "ReCharge",
          "Roofstock",
          "Urban Company",
          "Rokt",
          "Starling Bank",
          "Ankorstore",
          "4Paradigm",
          "Advance Intelligence Group",
          "Aiven",
          "Akulaku",
          "Apeel Sciences",
          "AppsFlyer",
          "Avant",
          "Aviatrix",
          "BlaBlaCar",
          "Black Sesame Technologies",
          "Bunq",
          "Calm",
          "Chipper Cash",
          "Clearco",
          "ClickHouse",
          "Clip",
          "Cloudinary",
          "Deliverr",
          "Divvy Homes",
          "Dremio",
          "Druva",
          "Everlaw",
          "Exotec",
          "Formlabs",
          "Guoquan Shihui",
          "Hive",
          "HuiMin",
          "ISN",
          "Iterable",
          "Kajabi",
          "Kaseya",
          "Keep",
          "KRY",
          "Loggi",
          "LTK",
          "Lunar",
          "Mafengwo",
          "Magic Leap",
          "Misfits Market",
          "Modern Treasury",
          "MURAL",
          "Mynt",
          "Neo4j",
          "Netlify",
          "OCSiAl",
          "Opay",
          "Pipe",
          "Preferred Networks",
          "Quora",
          "Redis Labs",
          "SmartNews",
          "Spring Health",
          "StarkWare",
          "SWORD Health",
          "Tier",
          "Trendy Group International",
          "Unqork",
          "VerbIT",
          "Virta Health",
          "Xinchao Media",
          "Xingyun Group",
          "XtalPi",
          "Zilch",
          "56PINGTAI",
          "Alzheon",
          "Aprogen",
          "Axtria",
          "Cell C",
          "China Cloud",
          "CredAvenue",
          "DeepBlue Technology",
          "dMed Biopharmaceutical",
          "Einride",
          "EQRx",
          "Everly Health",
          "Fair",
          "Flipboard",
          "Globality",
          "Hosjoy",
          "Huisuanzhang",
          "HuJiang",
          "Hyperchain",
          "iTutorGroup",
          "JimuBox",
          "Juma Peisong",
          "Justworks",
          "Keenon Robotics",
          "Kuaigou Dache",
          "LifeMiles",
          "LinkSure Network",
          "MobiKwik",
          "Modernizing Medicine",
          "OVH",
          "Phenom People",
          "Pipa Coding",
          "Qingting FM",
          "Rad Power Bikes",
          "Shukun Technology",
          "Shulan Health",
          "SITECH DEV",
          "Snapdeal",
          "SumUp",
          "TalkingData",
          "TUNGEE",
          "UISEE Technology",
          "Valgen Medtech",
          "Vectra Networks",
          "Venafi",
          "Wacai",
          "WeBull",
          "WTOIP",
          "Xiaobing",
          "Xiaoe Tech",
          "Yiguo",
          "Yimidida",
          "Yipin Shengxian",
          "Ynsect",
          "Hello TransTech",
          "Miaoshou Doctor",
          "ECARX",
          "Eat Just",
          "Trumid",
          "Qualia",
          "Beisen",
          "Earnix",
          "Kujiale",
          "Orca Security",
          "Apus Group",
          "Forte Labs",
          "CureFit",
          "DT Dream",
          "fabric",
          "JOLLY Information Technology",
          "K Health",
          "Mofang Living",
          "Spendesk",
          "TaxBit",
          "XiaoZhu",
          "Yijiupi",
          "YunQuNa",
          "Bordrin Motors",
          "Aleo",
          "Coocaa",
          "Gymshark",
          "M1 Finance",
          "Ouyeel",
          "SonderMind",
          "Astranis Space Technologies",
          "Away",
          "Cabify",
          "Clarify Health",
          "Coda",
          "Deezer",
          "Degreed",
          "Deliverect",
          "Envoy",
          "Epidemic Sound",
          "Figment",
          "Firebolt",
          "Five Star Business Finance",
          "GupShup",
          "Kong",
          "Koudai",
          "Panther Labs",
          "Papa",
          "Pristyn Care",
          "Rebel Foods",
          "Salt Security",
          "Scalable Capital",
          "SparkCognition",
          "Stash",
          "Symphony",
          "Tripledot",
          "VideoAmp",
          "Yidian Zixun",
          "Yotpo",
          "Neon",
          "Veepee",
          "Alloy",
          "Epirus",
          "Klook",
          "Yaoshibang",
          "Signifyd",
          "Motorway",
          "RIDI",
          "Athletic Greens",
          "GPclub",
          "Grove Collaborative",
          "Tongdun Technology",
          "Unisound",
          "Betterment",
          "Cava Group",
          "CoinTracker",
          "DistroKid",
          "Domestika",
          "Flock Freight",
          "InSightec",
          "Island",
          "iTrustCapital",
          "Konfio",
          "LinkTree",
          "Loadsmart",
          "Lukka",
          "Manner",
          "The Brandtech Group",
          "TravelPerk",
          "YugaByte",
          "Intercom",
          "OVO Energy",
          "BigID",
          "CaptivateIQ",
          "Flipdish",
          "Honor Technology",
          "Incode Technologies",
          "Kuaikan Manhua",
          "Marshmallow",
          "Mythical Games",
          "Route",
          "Tackle.io",
          "Nexii",
          "GalaxySpace",
          "Insider",
          "Spiber",
          "Ada Support",
          "AgentSync",
          "Alation",
          "BigPanda",
          "CarDekho",
          "Copado",
          "DailyPay",
          "FloQast",
          "Gem",
          "GrubMarket",
          "Helium Systems",
          "Inari",
          "Jokr",
          "LivSpace",
          "Merama",
          "MindTickle",
          "MyGlamm",
          "Oda",
          "Offchain Labs",
          "Phantom",
          "Pilot.com",
          "Prime Medicine",
          "Public",
          "Qumulo",
          "Rohlik",
          "SeekOut",
          "SmartMore",
          "Tealium",
          "UpGrad",
          "Workhuman",
          "Xpressbees",
          "L&P Cosmetic",
          "Mininglamp Technology",
          "Luoji Siwei",
          "IRL",
          "Modern Health",
          "Tuhu",
          "CloudBees",
          "Elemy",
          "Guideline",
          "Happy Money",
          "Rebellion Defense",
          "STORD",
          "At-Bay",
          "TELD",
          "Acko General Insurance",
          "apna",
          "Beyond Identity",
          "Carousell",
          "Chief",
          "CoinDCX",
          "Daily Harvest",
          "Enpal",
          "eSentire",
          "Firefly Aerospace",
          "Fundbox",
          "G2",
          "Gaussian Robotics",
          "GetYourGuide",
          "GlobalBees",
          "Ivalua",
          "Juanpi",
          "Karat",
          "LEAD School",
          "Nexthink",
          "People.ai",
          "Pharmapacks",
          "Rightway",
          "Sennder",
          "Sisense",
          "Staffbase",
          "Sunbit",
          "TangoMe",
          "The Bank of London",
          "Zego",
          "Nxin",
          "Mamaearth",
          "Radius Payment Solutions",
          "Rivigo",
          "Rubicon",
          "Socar",
          "MobileCoin",
          "Density",
          "Instabase",
          "Jiuxian",
          "Matrixport",
          "Mixpanel",
          "Sendbird",
          "OrCam Technologies",
          "Leap Motor",
          "1KMXC",
          "58 Daojia",
          "Agile Robots",
          "Aibee",
          "Aircall",
          "Ajaib",
          "Alto Pharmacy",
          "Amagi",
          "Amount",
          "Amperity",
          "Anyscale",
          "Aptos",
          "Aqua Security",
          "Assembly",
          "Assent",
          "Augury",
          "Axelar",
          "Axiom Space",
          "Banma Network Technologies",
          "BeiBei",
          "BenevolentAI",
          "Berlin Brands Group",
          "Betterfly",
          "BitFury",
          "BlackBuck",
          "Bluecore",
          "BlueVoyant",
          "bolttech",
          "Boom Supersonic",
          "Bringg",
          "C2FO",
          "Cadence",
          "CAIS",
          "Cameo",
          "Capsule",
          "CargoX",
          "Carro",
          "Carson Group",
          "CHEQ",
          "Chronosphere",
          "Cider",
          "Clara",
          "Clearcover",
          "CommerceIQ",
          "Contrast Security",
          "Darwinbox",
          "Dental Monitoring",
          "DianRong",
          "Drata",
          "DriveNets",
          "Dune Analytics",
          "Dxy.cn",
          "EBANX",
          "EcoFlow",
          "Electric",
          "Emerging Markets Property Group",
          "Esusu",
          "Evidation",
          "Expel",
          "Fabric",
          "Feedzai",
          "Fever Labs",
          "Fiture",
          "FLASH",
          "Flash Express",
          "FlashEx",
          "Fractal Analytics",
          "Freshbooks",
          "FXiaoKe",
          "Gauntlet Networks",
          "Geek+",
          "Gelato",
          "Glia",
          "GO1",
          "Groq",
          "Hailo",
          "Haomao.AI",
          "Hasura",
          "HAYDON",
          "Heyday",
          "HMD Global",
          "Hotmart",
          "Huike Group",
          "Human Interest",
          "Ibotta",
          "iCarbonX",
          "iFood",
          "InFarm",
          "Infobip",
          "Injective Protocol",
          "Intellifusion",
          "Interos",
          "Iodine Software",
          "JoyTunes",
          "Kendra Scott",
          "Kitopi",
          "KnowBox",
          "Kopi Kenangan",
          "Lamabang",
          "LayerZero Labs",
          "Lessen",
          "LetsGetChecked",
          "Licious",
          "LinkDoc Technology",
          "Locus Robotics",
          "Lookout",
          "Lydia",
          "MadeiraMadeira",
          "Maimai",
          "Mammoth Biosciences",
          "Masterworks",
          "Maven Clinic",
          "MediaMath",
          "Meero",
          "Mensa Brands",
          "Mia.com",
          "Minio",
          "Mobvoi",
          "Moka",
          "Momenta",
          "Morning Consult",
          "Movile",
          "Mux",
          "Nature's Fynd",
          "Newlink Group",
          "News Break",
          "Newsela",
          "NIUM",
          "NoBroker",
          "Noname Security",
          "Numbrs",
          "Omada Health",
          "Omio",
          "ONE",
          "OpenWeb",
          "Orbbec Technology",
          "Orca Bio",
          "Orchard",
          "Owkin",
          "PandaDoc",
          "Pat McGrath Labs",
          "PatSnap",
          "Payhawk",
          "Pentera",
          "Pet Circle",
          "PicsArt",
          "PLACE",
          "Placer.ai",
          "Playco",
          "Poizon",
          "PPRO",
          "Printful",
          "Quantum Metric",
          "Quizlet",
          "RapidAPI",
          "Razor",
          "Red Ventures",
          "REEF Technology",
          "ReliaQuest",
          "Revolution Precrafted",
          "Rothy's",
          "SaltPay",
          "Savage X Fenty",
          "Scalapay",
          "Scandit",
          "Sentry",
          "Shield AI",
          "Shift Technology",
          "ShipBob",
          "Shippo",
          "Sidecar Health",
          "Sift",
          "Skydio",
          "Slice",
          "SmartAsset",
          "SMS Assist",
          "SnapLogic",
          "Snorkel AI",
          "Solo.io",
          "SoundHound",
          "Splashtop",
          "Standard",
          "Stytch",
          "Swile",
          "Tarana Wireless",
          "TechStyle Fashion Group",
          "TensTorrent",
          "TERMINUS Technology",
          "Tezign",
          "The Zebra",
          "Thirty Madison",
          "Thought Machine",
          "Timescale",
          "Tractable",
          "Tresata",
          "TrialSpark",
          "TrueLayer",
          "Unico",
          "Vagaro",
          "Vedantu",
          "Veev",
          "Vise",
          "Visier",
          "VOI",
          "Vox Media",
          "VTS",
          "Watershed",
          "Weights & Biases",
          "WeLab",
          "Womai",
          "Wrapbook",
          "Xendit",
          "XForcePlus",
          "YH Global",
          "YipitData",
          "Yunxuetang",
          "Zhaogang",
          "Zhuan Zhuan",
          "Zihaiguo",
          "Zopa",
          "Zwift"
         ],
         "xaxis": "x",
         "y": [
          "Year Founded",
          2012,
          2002,
          2008,
          2010,
          2005,
          2012,
          2012,
          2012,
          2015,
          2013,
          2015,
          1991,
          2018,
          2002,
          2013,
          2008,
          2015,
          2013,
          2011,
          2012,
          2016,
          2012,
          2016,
          2013,
          2011,
          2012,
          2017,
          2017,
          2009,
          2016,
          2016,
          2017,
          2013,
          2017,
          2015,
          2008,
          2015,
          2003,
          2009,
          2013,
          2013,
          2014,
          1999,
          1998,
          2014,
          2011,
          2014,
          2012,
          2012,
          2001,
          2012,
          2017,
          2015,
          2015,
          2012,
          2011,
          2013,
          2016,
          2005,
          2011,
          2018,
          2012,
          2005,
          2016,
          2016,
          2015,
          2016,
          2013,
          2012,
          2015,
          2007,
          2007,
          2006,
          2012,
          2013,
          2018,
          2015,
          2010,
          2019,
          1996,
          2019,
          2015,
          2018,
          2013,
          1998,
          2014,
          2011,
          2018,
          2016,
          2010,
          2017,
          2012,
          2013,
          2011,
          2018,
          2015,
          2015,
          2005,
          2003,
          2015,
          2014,
          2017,
          2020,
          1999,
          2010,
          2018,
          2015,
          2018,
          2011,
          2004,
          2013,
          2012,
          2014,
          2014,
          2017,
          2012,
          2015,
          2005,
          1994,
          2013,
          2016,
          2001,
          2015,
          2015,
          2012,
          2018,
          2013,
          2020,
          2007,
          1994,
          2015,
          2003,
          2015,
          2012,
          2015,
          2012,
          2013,
          2008,
          2014,
          2012,
          2017,
          2014,
          2013,
          2013,
          2013,
          2015,
          2015,
          2008,
          2008,
          2015,
          2013,
          2020,
          2012,
          2016,
          2012,
          2018,
          2015,
          2007,
          2009,
          2011,
          2015,
          2019,
          1998,
          2016,
          2017,
          2011,
          2015,
          2010,
          2019,
          2011,
          2015,
          2012,
          2012,
          2018,
          2008,
          2011,
          2015,
          2019,
          2017,
          2011,
          2017,
          2017,
          2017,
          2014,
          2013,
          2014,
          2011,
          2016,
          2016,
          1919,
          2011,
          2017,
          2017,
          2006,
          2001,
          2012,
          2012,
          2015,
          2006,
          2016,
          2017,
          2015,
          2019,
          2016,
          2015,
          2017,
          2018,
          2015,
          2014,
          2016,
          2012,
          1995,
          2016,
          2016,
          2012,
          2003,
          2014,
          2009,
          2015,
          2014,
          2014,
          2013,
          2014,
          2011,
          2016,
          2017,
          2020,
          2014,
          2008,
          2011,
          2018,
          2016,
          2012,
          2013,
          2000,
          2014,
          2015,
          2012,
          2021,
          2011,
          2006,
          2014,
          2015,
          2015,
          2010,
          2004,
          2011,
          2005,
          2015,
          2019,
          2015,
          2010,
          2011,
          2013,
          2012,
          2012,
          2003,
          2019,
          2016,
          2015,
          2016,
          2014,
          2006,
          2017,
          2018,
          2016,
          2017,
          2015,
          2016,
          2013,
          2008,
          2015,
          2015,
          2013,
          2015,
          2017,
          2012,
          2013,
          2013,
          2015,
          2012,
          2014,
          2013,
          2015,
          1999,
          2014,
          2018,
          2015,
          2016,
          2014,
          2008,
          2009,
          2011,
          2011,
          2012,
          2014,
          2016,
          2015,
          2019,
          2013,
          2015,
          2016,
          2015,
          2014,
          2016,
          2012,
          2010,
          2014,
          2014,
          2019,
          2008,
          2014,
          2018,
          2012,
          2021,
          2016,
          2017,
          2020,
          2006,
          2018,
          2011,
          2016,
          2014,
          2003,
          2007,
          2015,
          2017,
          2017,
          2013,
          2015,
          2013,
          2014,
          2013,
          2008,
          2011,
          2013,
          2016,
          2013,
          2014,
          2017,
          2017,
          2014,
          2015,
          2014,
          2010,
          2015,
          2014,
          2016,
          2010,
          2019,
          2012,
          2011,
          2012,
          2014,
          2011,
          2017,
          2015,
          2018,
          2012,
          2010,
          1995,
          2000,
          2014,
          2014,
          2015,
          2015,
          2015,
          2013,
          2018,
          2015,
          2010,
          2015,
          2008,
          1979,
          2008,
          2012,
          2012,
          1992,
          2015,
          2012,
          2007,
          2012,
          2014,
          2010,
          2020,
          2009,
          2007,
          2018,
          2009,
          2007,
          2004,
          2020,
          2014,
          2013,
          2016,
          2015,
          2021,
          2016,
          2017,
          2013,
          2011,
          2011,
          2016,
          2010,
          2010,
          2008,
          2014,
          2016,
          2011,
          2013,
          2004,
          2018,
          2015,
          2015,
          2020,
          2016,
          2018,
          2010,
          2012,
          2016,
          2012,
          2009,
          2019,
          2011,
          2019,
          2016,
          2015,
          2019,
          2010,
          2015,
          2016,
          2018,
          2017,
          2013,
          2014,
          2017,
          2006,
          2014,
          2013,
          2015,
          2017,
          2013,
          2008,
          2017,
          2013,
          2007,
          2012,
          2013,
          2011,
          2019,
          2012,
          2004,
          2013,
          2015,
          2016,
          2014,
          2016,
          2019,
          2006,
          2020,
          2017,
          2014,
          2015,
          2009,
          2019,
          2016,
          2009,
          2016,
          2019,
          2013,
          2015,
          2011,
          2018,
          2013,
          2016,
          2012,
          2011,
          2016,
          2013,
          2007,
          2014,
          2011,
          2019,
          2009,
          2018,
          2015,
          2015,
          2014,
          2013,
          2005,
          2010,
          2014,
          2013,
          2012,
          2013,
          2015,
          2011,
          2015,
          2017,
          2014,
          2009,
          2015,
          2011,
          2006,
          2012,
          2001,
          2016,
          2012,
          2012,
          2014,
          2013,
          2016,
          2007,
          2018,
          2005,
          2009,
          2012,
          2015,
          2000,
          2011,
          2012,
          2014,
          2017,
          2018,
          2016,
          2010,
          2016,
          2011,
          2011,
          2019,
          2013,
          2016,
          2010,
          2016,
          2017,
          2015,
          2014,
          2012,
          2014,
          2019,
          2015,
          2016,
          2016,
          2014,
          2012,
          2011,
          2012,
          2014,
          2006,
          2016,
          2013,
          2012,
          2017,
          2015,
          2021,
          2012,
          2011,
          2017,
          2017,
          2015,
          2007,
          2010,
          2015,
          2011,
          2017,
          2013,
          2013,
          2001,
          2013,
          2010,
          2000,
          2014,
          2014,
          2013,
          2011,
          2015,
          2010,
          2010,
          2018,
          2018,
          2011,
          2015,
          2007,
          2014,
          2012,
          2018,
          2019,
          2014,
          2009,
          2011,
          2012,
          2016,
          2018,
          2015,
          2018,
          1999,
          2017,
          2016,
          2015,
          2007,
          2015,
          2014,
          2018,
          2013,
          2013,
          2000,
          2009,
          2000,
          2010,
          2017,
          2014,
          2016,
          2016,
          2020,
          2015,
          2016,
          2010,
          2015,
          2009,
          2015,
          2001,
          2016,
          1998,
          2013,
          2011,
          2012,
          2010,
          2014,
          2011,
          2013,
          2009,
          2010,
          1999,
          2011,
          2017,
          2011,
          2007,
          2017,
          2015,
          2017,
          2008,
          2011,
          2013,
          2016,
          2016,
          2015,
          2011,
          2000,
          2009,
          2016,
          2013,
          2020,
          2015,
          2005,
          2015,
          2017,
          2011,
          2016,
          2015,
          2016,
          2011,
          2014,
          2015,
          2002,
          2001,
          2011,
          2019,
          2014,
          2018,
          2016,
          2015,
          2017,
          2008,
          2016,
          2009,
          2015,
          2018,
          2012,
          2014,
          2015,
          2016,
          2019,
          2006,
          2012,
          2015,
          2015,
          2014,
          2015,
          2015,
          2011,
          2015,
          2014,
          2007,
          2012,
          2018,
          2013,
          2009,
          2018,
          2019,
          1984,
          2011,
          2007,
          2010,
          2018,
          2016,
          2018,
          2011,
          2016,
          2014,
          2013,
          2015,
          2014,
          2017,
          2014,
          2021,
          2011,
          2016,
          2001,
          2015,
          2018,
          2014,
          2015,
          2011,
          2017,
          2008,
          2010,
          2003,
          2016,
          2013,
          2012,
          2010,
          2010,
          2017,
          2013,
          2012,
          2015,
          1999,
          2020,
          2018,
          2013,
          2016,
          2014,
          2014,
          2015,
          2015,
          2015,
          2016,
          2011,
          2009,
          2015,
          2014,
          2015,
          2014,
          2015,
          2014,
          2017,
          2018,
          2018,
          2016,
          2020,
          2016,
          2012,
          2007,
          2016,
          2018,
          2012,
          2012,
          2008,
          2013,
          2016,
          2013,
          2017,
          2013,
          2013,
          2016,
          2021,
          2015,
          2020,
          2012,
          2015,
          2013,
          2018,
          2021,
          2016,
          2019,
          2008,
          2012,
          2019,
          2017,
          2019,
          2008,
          2015,
          1999,
          2012,
          2009,
          2014,
          2012,
          2017,
          2017,
          2011,
          2010,
          2019,
          2015,
          2009,
          2019,
          2015,
          2016,
          2014,
          2016,
          2019,
          2019,
          2012,
          2019,
          2017,
          2014,
          2017,
          2001,
          2014,
          2013,
          2012,
          2013,
          2009,
          2021,
          2000,
          2012,
          2014,
          2012,
          2004,
          2017,
          2010,
          2017,
          2015,
          2004,
          2014,
          2016,
          2009,
          2018,
          2016,
          2015,
          2016,
          1990,
          2014,
          2008,
          2012,
          2018,
          2014,
          2015,
          2009,
          2019,
          2009,
          2013,
          2010,
          2015,
          2014,
          2014,
          2018,
          2017,
          2014,
          2018,
          2015,
          2008,
          2019,
          2016,
          2019,
          2021,
          2015,
          2019,
          2010,
          2011,
          2020,
          2016,
          2015,
          2011,
          2013,
          2005,
          2018,
          2011,
          2015,
          2013,
          2017,
          2018,
          2014,
          2013,
          2008,
          2020,
          2009,
          2016,
          2016,
          2015,
          2015,
          2012,
          2014,
          2019,
          2020,
          2020,
          2016,
          2012,
          2014,
          2015,
          2014,
          2012,
          2020,
          2015,
          2018,
          2000,
          2012,
          2017,
          2016,
          2015,
          2015,
          2012,
          2016,
          2015,
          2009,
          2012,
          2019,
          2011,
          2017,
          2014,
          2000,
          2004,
          2011,
          2018,
          2015,
          2007,
          2012,
          2015,
          2016,
          2017,
          2019,
          2017,
          2020,
          2017,
          2016,
          2011,
          2010,
          2015,
          2011,
          2015,
          2011,
          2013,
          2006,
          2018,
          2014,
          2005,
          2010,
          2011,
          2002,
          2018,
          2014,
          2017,
          2011,
          2021,
          2019,
          2015,
          2015,
          2014,
          2014,
          2007,
          2011,
          2009,
          2013,
          2017,
          2017,
          2014,
          2007,
          2016,
          2021,
          2011,
          2014,
          2012,
          2015,
          2016,
          2014,
          1998,
          2015,
          2012,
          2016,
          2015,
          2013,
          2014,
          2014,
          2020,
          1999,
          2011,
          2013,
          2011,
          2012,
          2013,
          2016,
          2017,
          2016,
          2016,
          2016,
          2007,
          2018,
          2015,
          2011,
          2011,
          2020,
          2016,
          2020,
          2015,
          2006,
          2016,
          2015,
          2005,
          2015,
          2020,
          2000,
          2015,
          2007,
          2015,
          2016,
          2019,
          2018,
          2019,
          2009,
          2011,
          2015,
          2014,
          2014,
          2013,
          2018,
          2011,
          2014,
          2015,
          2012,
          2003,
          2006,
          2019,
          2017,
          2005,
          2006,
          2017,
          2020,
          2016,
          2009,
          2010,
          2016,
          2015,
          2015,
          2012,
          1993,
          2014,
          2015,
          2014,
          2011,
          2014,
          2016,
          2007,
          2009,
          2014,
          2008,
          2016,
          2010,
          2018,
          2011,
          2012,
          2019,
          2017,
          2013,
          2009,
          2018,
          2014,
          2015,
          1997,
          2008,
          2011,
          2012,
          2015,
          2018,
          2005,
          2014
         ],
         "yaxis": "y"
        }
       ],
       "layout": {
        "legend": {
         "tracegroupgap": 0
        },
        "template": {
         "data": {
          "bar": [
           {
            "error_x": {
             "color": "#2a3f5f"
            },
            "error_y": {
             "color": "#2a3f5f"
            },
            "marker": {
             "line": {
              "color": "#E5ECF6",
              "width": 0.5
             },
             "pattern": {
              "fillmode": "overlay",
              "size": 10,
              "solidity": 0.2
             }
            },
            "type": "bar"
           }
          ],
          "barpolar": [
           {
            "marker": {
             "line": {
              "color": "#E5ECF6",
              "width": 0.5
             },
             "pattern": {
              "fillmode": "overlay",
              "size": 10,
              "solidity": 0.2
             }
            },
            "type": "barpolar"
           }
          ],
          "carpet": [
           {
            "aaxis": {
             "endlinecolor": "#2a3f5f",
             "gridcolor": "white",
             "linecolor": "white",
             "minorgridcolor": "white",
             "startlinecolor": "#2a3f5f"
            },
            "baxis": {
             "endlinecolor": "#2a3f5f",
             "gridcolor": "white",
             "linecolor": "white",
             "minorgridcolor": "white",
             "startlinecolor": "#2a3f5f"
            },
            "type": "carpet"
           }
          ],
          "choropleth": [
           {
            "colorbar": {
             "outlinewidth": 0,
             "ticks": ""
            },
            "type": "choropleth"
           }
          ],
          "contour": [
           {
            "colorbar": {
             "outlinewidth": 0,
             "ticks": ""
            },
            "colorscale": [
             [
              0,
              "#0d0887"
             ],
             [
              0.1111111111111111,
              "#46039f"
             ],
             [
              0.2222222222222222,
              "#7201a8"
             ],
             [
              0.3333333333333333,
              "#9c179e"
             ],
             [
              0.4444444444444444,
              "#bd3786"
             ],
             [
              0.5555555555555556,
              "#d8576b"
             ],
             [
              0.6666666666666666,
              "#ed7953"
             ],
             [
              0.7777777777777778,
              "#fb9f3a"
             ],
             [
              0.8888888888888888,
              "#fdca26"
             ],
             [
              1,
              "#f0f921"
             ]
            ],
            "type": "contour"
           }
          ],
          "contourcarpet": [
           {
            "colorbar": {
             "outlinewidth": 0,
             "ticks": ""
            },
            "type": "contourcarpet"
           }
          ],
          "heatmap": [
           {
            "colorbar": {
             "outlinewidth": 0,
             "ticks": ""
            },
            "colorscale": [
             [
              0,
              "#0d0887"
             ],
             [
              0.1111111111111111,
              "#46039f"
             ],
             [
              0.2222222222222222,
              "#7201a8"
             ],
             [
              0.3333333333333333,
              "#9c179e"
             ],
             [
              0.4444444444444444,
              "#bd3786"
             ],
             [
              0.5555555555555556,
              "#d8576b"
             ],
             [
              0.6666666666666666,
              "#ed7953"
             ],
             [
              0.7777777777777778,
              "#fb9f3a"
             ],
             [
              0.8888888888888888,
              "#fdca26"
             ],
             [
              1,
              "#f0f921"
             ]
            ],
            "type": "heatmap"
           }
          ],
          "heatmapgl": [
           {
            "colorbar": {
             "outlinewidth": 0,
             "ticks": ""
            },
            "colorscale": [
             [
              0,
              "#0d0887"
             ],
             [
              0.1111111111111111,
              "#46039f"
             ],
             [
              0.2222222222222222,
              "#7201a8"
             ],
             [
              0.3333333333333333,
              "#9c179e"
             ],
             [
              0.4444444444444444,
              "#bd3786"
             ],
             [
              0.5555555555555556,
              "#d8576b"
             ],
             [
              0.6666666666666666,
              "#ed7953"
             ],
             [
              0.7777777777777778,
              "#fb9f3a"
             ],
             [
              0.8888888888888888,
              "#fdca26"
             ],
             [
              1,
              "#f0f921"
             ]
            ],
            "type": "heatmapgl"
           }
          ],
          "histogram": [
           {
            "marker": {
             "pattern": {
              "fillmode": "overlay",
              "size": 10,
              "solidity": 0.2
             }
            },
            "type": "histogram"
           }
          ],
          "histogram2d": [
           {
            "colorbar": {
             "outlinewidth": 0,
             "ticks": ""
            },
            "colorscale": [
             [
              0,
              "#0d0887"
             ],
             [
              0.1111111111111111,
              "#46039f"
             ],
             [
              0.2222222222222222,
              "#7201a8"
             ],
             [
              0.3333333333333333,
              "#9c179e"
             ],
             [
              0.4444444444444444,
              "#bd3786"
             ],
             [
              0.5555555555555556,
              "#d8576b"
             ],
             [
              0.6666666666666666,
              "#ed7953"
             ],
             [
              0.7777777777777778,
              "#fb9f3a"
             ],
             [
              0.8888888888888888,
              "#fdca26"
             ],
             [
              1,
              "#f0f921"
             ]
            ],
            "type": "histogram2d"
           }
          ],
          "histogram2dcontour": [
           {
            "colorbar": {
             "outlinewidth": 0,
             "ticks": ""
            },
            "colorscale": [
             [
              0,
              "#0d0887"
             ],
             [
              0.1111111111111111,
              "#46039f"
             ],
             [
              0.2222222222222222,
              "#7201a8"
             ],
             [
              0.3333333333333333,
              "#9c179e"
             ],
             [
              0.4444444444444444,
              "#bd3786"
             ],
             [
              0.5555555555555556,
              "#d8576b"
             ],
             [
              0.6666666666666666,
              "#ed7953"
             ],
             [
              0.7777777777777778,
              "#fb9f3a"
             ],
             [
              0.8888888888888888,
              "#fdca26"
             ],
             [
              1,
              "#f0f921"
             ]
            ],
            "type": "histogram2dcontour"
           }
          ],
          "mesh3d": [
           {
            "colorbar": {
             "outlinewidth": 0,
             "ticks": ""
            },
            "type": "mesh3d"
           }
          ],
          "parcoords": [
           {
            "line": {
             "colorbar": {
              "outlinewidth": 0,
              "ticks": ""
             }
            },
            "type": "parcoords"
           }
          ],
          "pie": [
           {
            "automargin": true,
            "type": "pie"
           }
          ],
          "scatter": [
           {
            "fillpattern": {
             "fillmode": "overlay",
             "size": 10,
             "solidity": 0.2
            },
            "type": "scatter"
           }
          ],
          "scatter3d": [
           {
            "line": {
             "colorbar": {
              "outlinewidth": 0,
              "ticks": ""
             }
            },
            "marker": {
             "colorbar": {
              "outlinewidth": 0,
              "ticks": ""
             }
            },
            "type": "scatter3d"
           }
          ],
          "scattercarpet": [
           {
            "marker": {
             "colorbar": {
              "outlinewidth": 0,
              "ticks": ""
             }
            },
            "type": "scattercarpet"
           }
          ],
          "scattergeo": [
           {
            "marker": {
             "colorbar": {
              "outlinewidth": 0,
              "ticks": ""
             }
            },
            "type": "scattergeo"
           }
          ],
          "scattergl": [
           {
            "marker": {
             "colorbar": {
              "outlinewidth": 0,
              "ticks": ""
             }
            },
            "type": "scattergl"
           }
          ],
          "scattermapbox": [
           {
            "marker": {
             "colorbar": {
              "outlinewidth": 0,
              "ticks": ""
             }
            },
            "type": "scattermapbox"
           }
          ],
          "scatterpolar": [
           {
            "marker": {
             "colorbar": {
              "outlinewidth": 0,
              "ticks": ""
             }
            },
            "type": "scatterpolar"
           }
          ],
          "scatterpolargl": [
           {
            "marker": {
             "colorbar": {
              "outlinewidth": 0,
              "ticks": ""
             }
            },
            "type": "scatterpolargl"
           }
          ],
          "scatterternary": [
           {
            "marker": {
             "colorbar": {
              "outlinewidth": 0,
              "ticks": ""
             }
            },
            "type": "scatterternary"
           }
          ],
          "surface": [
           {
            "colorbar": {
             "outlinewidth": 0,
             "ticks": ""
            },
            "colorscale": [
             [
              0,
              "#0d0887"
             ],
             [
              0.1111111111111111,
              "#46039f"
             ],
             [
              0.2222222222222222,
              "#7201a8"
             ],
             [
              0.3333333333333333,
              "#9c179e"
             ],
             [
              0.4444444444444444,
              "#bd3786"
             ],
             [
              0.5555555555555556,
              "#d8576b"
             ],
             [
              0.6666666666666666,
              "#ed7953"
             ],
             [
              0.7777777777777778,
              "#fb9f3a"
             ],
             [
              0.8888888888888888,
              "#fdca26"
             ],
             [
              1,
              "#f0f921"
             ]
            ],
            "type": "surface"
           }
          ],
          "table": [
           {
            "cells": {
             "fill": {
              "color": "#EBF0F8"
             },
             "line": {
              "color": "white"
             }
            },
            "header": {
             "fill": {
              "color": "#C8D4E3"
             },
             "line": {
              "color": "white"
             }
            },
            "type": "table"
           }
          ]
         },
         "layout": {
          "annotationdefaults": {
           "arrowcolor": "#2a3f5f",
           "arrowhead": 0,
           "arrowwidth": 1
          },
          "autotypenumbers": "strict",
          "coloraxis": {
           "colorbar": {
            "outlinewidth": 0,
            "ticks": ""
           }
          },
          "colorscale": {
           "diverging": [
            [
             0,
             "#8e0152"
            ],
            [
             0.1,
             "#c51b7d"
            ],
            [
             0.2,
             "#de77ae"
            ],
            [
             0.3,
             "#f1b6da"
            ],
            [
             0.4,
             "#fde0ef"
            ],
            [
             0.5,
             "#f7f7f7"
            ],
            [
             0.6,
             "#e6f5d0"
            ],
            [
             0.7,
             "#b8e186"
            ],
            [
             0.8,
             "#7fbc41"
            ],
            [
             0.9,
             "#4d9221"
            ],
            [
             1,
             "#276419"
            ]
           ],
           "sequential": [
            [
             0,
             "#0d0887"
            ],
            [
             0.1111111111111111,
             "#46039f"
            ],
            [
             0.2222222222222222,
             "#7201a8"
            ],
            [
             0.3333333333333333,
             "#9c179e"
            ],
            [
             0.4444444444444444,
             "#bd3786"
            ],
            [
             0.5555555555555556,
             "#d8576b"
            ],
            [
             0.6666666666666666,
             "#ed7953"
            ],
            [
             0.7777777777777778,
             "#fb9f3a"
            ],
            [
             0.8888888888888888,
             "#fdca26"
            ],
            [
             1,
             "#f0f921"
            ]
           ],
           "sequentialminus": [
            [
             0,
             "#0d0887"
            ],
            [
             0.1111111111111111,
             "#46039f"
            ],
            [
             0.2222222222222222,
             "#7201a8"
            ],
            [
             0.3333333333333333,
             "#9c179e"
            ],
            [
             0.4444444444444444,
             "#bd3786"
            ],
            [
             0.5555555555555556,
             "#d8576b"
            ],
            [
             0.6666666666666666,
             "#ed7953"
            ],
            [
             0.7777777777777778,
             "#fb9f3a"
            ],
            [
             0.8888888888888888,
             "#fdca26"
            ],
            [
             1,
             "#f0f921"
            ]
           ]
          },
          "colorway": [
           "#636efa",
           "#EF553B",
           "#00cc96",
           "#ab63fa",
           "#FFA15A",
           "#19d3f3",
           "#FF6692",
           "#B6E880",
           "#FF97FF",
           "#FECB52"
          ],
          "font": {
           "color": "#2a3f5f"
          },
          "geo": {
           "bgcolor": "white",
           "lakecolor": "white",
           "landcolor": "#E5ECF6",
           "showlakes": true,
           "showland": true,
           "subunitcolor": "white"
          },
          "hoverlabel": {
           "align": "left"
          },
          "hovermode": "closest",
          "mapbox": {
           "style": "light"
          },
          "paper_bgcolor": "white",
          "plot_bgcolor": "#E5ECF6",
          "polar": {
           "angularaxis": {
            "gridcolor": "white",
            "linecolor": "white",
            "ticks": ""
           },
           "bgcolor": "#E5ECF6",
           "radialaxis": {
            "gridcolor": "white",
            "linecolor": "white",
            "ticks": ""
           }
          },
          "scene": {
           "xaxis": {
            "backgroundcolor": "#E5ECF6",
            "gridcolor": "white",
            "gridwidth": 2,
            "linecolor": "white",
            "showbackground": true,
            "ticks": "",
            "zerolinecolor": "white"
           },
           "yaxis": {
            "backgroundcolor": "#E5ECF6",
            "gridcolor": "white",
            "gridwidth": 2,
            "linecolor": "white",
            "showbackground": true,
            "ticks": "",
            "zerolinecolor": "white"
           },
           "zaxis": {
            "backgroundcolor": "#E5ECF6",
            "gridcolor": "white",
            "gridwidth": 2,
            "linecolor": "white",
            "showbackground": true,
            "ticks": "",
            "zerolinecolor": "white"
           }
          },
          "shapedefaults": {
           "line": {
            "color": "#2a3f5f"
           }
          },
          "ternary": {
           "aaxis": {
            "gridcolor": "white",
            "linecolor": "white",
            "ticks": ""
           },
           "baxis": {
            "gridcolor": "white",
            "linecolor": "white",
            "ticks": ""
           },
           "bgcolor": "#E5ECF6",
           "caxis": {
            "gridcolor": "white",
            "linecolor": "white",
            "ticks": ""
           }
          },
          "title": {
           "x": 0.05
          },
          "xaxis": {
           "automargin": true,
           "gridcolor": "white",
           "linecolor": "white",
           "ticks": "",
           "title": {
            "standoff": 15
           },
           "zerolinecolor": "white",
           "zerolinewidth": 2
          },
          "yaxis": {
           "automargin": true,
           "gridcolor": "white",
           "linecolor": "white",
           "ticks": "",
           "title": {
            "standoff": 15
           },
           "zerolinecolor": "white",
           "zerolinewidth": 2
          }
         }
        },
        "title": {
         "text": "Year-wise company joined "
        },
        "xaxis": {
         "anchor": "y",
         "domain": [
          0,
          1
         ],
         "title": {
          "text": "Comapny"
         }
        },
        "yaxis": {
         "anchor": "x",
         "domain": [
          0,
          1
         ],
         "title": {
          "text": "Year founded"
         }
        }
       }
      },
      "text/html": [
       "<div>                            <div id=\"6588f0b7-2efc-4fef-b41d-a21dd65cd17a\" class=\"plotly-graph-div\" style=\"height:525px; width:100%;\"></div>            <script type=\"text/javascript\">                require([\"plotly\"], function(Plotly) {                    window.PLOTLYENV=window.PLOTLYENV || {};                                    if (document.getElementById(\"6588f0b7-2efc-4fef-b41d-a21dd65cd17a\")) {                    Plotly.newPlot(                        \"6588f0b7-2efc-4fef-b41d-a21dd65cd17a\",                        [{\"hovertemplate\":\"Comapny=%{x}<br>Year founded=%{y}<extra></extra>\",\"legendgroup\":\"\",\"line\":{\"color\":\"#636efa\",\"dash\":\"solid\"},\"marker\":{\"symbol\":\"circle\"},\"mode\":\"lines\",\"name\":\"\",\"showlegend\":false,\"x\":[\"Company\",\"Bytedance\",\"SpaceX\",\"SHEIN\",\"Stripe\",\"Klarna\",\"Canva\",\"Checkout.com\",\"Instacart\",\"JUUL Labs\",\"Databricks\",\"Revolut\",\"Epic Games\",\"FTX\",\"Fanatics\",\"Chime\",\"BYJU's\",\"J&T Express\",\"Xiaohongshu\",\"Miro\",\"Yuanfudao\",\"Rapyd\",\"Discord\",\"Genki Forest\",\"goPuff\",\"Blockchain.com\",\"Plaid\",\"Devoted Health\",\"OpenSea\",\"Grammarly\",\"Argo AI\",\"Northvolt\",\"Faire\",\"Airtable\",\"Brex\",\"Getir\",\"Biosplice Therapeutics\",\"Bitmain\",\"GoodLeap\",\"Xingsheng Selected\",\"ZongMu Technology\",\"Bolt\",\"Swiggy\",\"Weilong Foods\",\"Global Switch\",\"Bolt\",\"Celonis\",\"Zuoyebang\",\"Ripple\",\"OYO Rooms\",\"OutSystems\",\"ServiceTitan\",\"Alchemy\",\"Chehaoduo\",\"Digital Currency Group\",\"Figma\",\"Gusto\",\"Lalamove\",\"Notion Labs\",\"reddit\",\"Talkdesk\",\"Thrasio\",\"Dunamu\",\"Yanolja\",\"Pony.ai\",\"Nuro\",\"Snyk\",\"Kavak\",\"N26\",\"Klaviyo\",\"Niantic\",\"Tanium\",\"Dream11\",\"DJI Innovations\",\"Netskope\",\"Razorpay\",\"Dapper Labs\",\"Lacework\",\"Tipalti\",\"Hopin\",\"Caris Life Sciences\",\"Ramp\",\"Tempus\",\"Fireblocks\",\"Flexport\",\"National Stock Exchange of India\",\"Meicai\",\"Impossible Foods\",\"CRED\",\"Attentive\",\"Ola Cabs\",\"Rippling\",\"Carta\",\"Toss\",\"Ziroom\",\"Scale AI\",\"Gong\",\"TripActions\",\"1Password\",\"Automation Anywhere\",\"Gemini\",\"ConsenSys\",\"Ro\",\"Black Unicorn Factory\",\"Easyhome\",\"WeDoctor\",\"SVOLT\",\"Airwallex\",\"Deel\",\"Mambu\",\"Mollie\",\"Doctolib\",\"FiveTran\",\"Postman\",\"Back Market\",\"Cityblock Health\",\"DataRobot\",\"Personio\",\"RELEX Solutions\",\"Vice Media\",\"Workato\",\"Upgrade\",\"Lianjia\",\"Hinge Health\",\"Lyra Health\",\"Benchling\",\"Better.com\",\"iCapital Network\",\"Wiz\",\"DailyHunt\",\"Howden Group Holdings\",\"Meesho\",\"Meizu Technology\",\"CloudWalk Technology\",\"Royole Corporation\",\"Monzo\",\"Socure\",\"VIPKid\",\"Vinted\",\"Lendable\",\"UBTECH Robotics\",\"Anduril\",\"Checkr\",\"Color\",\"Dataiku\",\"BetterUp\",\"Pleo\",\"Trade Republic\",\"Chipone\",\"Collibra\",\"Rappi\",\"6Sense\",\"Cerebral\",\"Creditas\",\"OneTrust\",\"QuintoAndar\",\"C6 Bank\",\"Cockroach Labs\",\"Hopper\",\"Icertis\",\"Moon Active\",\"OfBusiness\",\"Ola Electric Mobility\",\"Pine Labs\",\"Qonto\",\"SambaNova Systems\",\"United Imaging Healthcare\",\"WM Motor\",\"ZEPZ\",\"Abogen\",\"Greensill\",\"HyalRoute\",\"Radiology Partners\",\"Yello Mobile\",\"Turing\",\"Lenskart\",\"Kraken\",\"Horizon Robotics\",\"MoonPay\",\"Celsius Network\",\"ChargeBee Technologies\",\"Coalition\",\"Commure\",\"Flock Safety\",\"Handshake\",\"Highspot\",\"Indigo Ag\",\"Mirakl\",\"Rec Room\",\"Tekion\",\"Otto Bock HealthCare\",\"Outreach\",\"WeRide\",\"Applied Intuition\",\"Course Hero\",\"Relativity\",\"Whoop\",\"Arctic Wolf Networks\",\"GOAT\",\"Noom\",\"Papaya Global\",\"Redwood Materials\",\"ShareChat\",\"Sorare\",\"VAST Data\",\"Articulate\",\"Dutchie\",\"FalconX\",\"Guild Education\",\"Chainalysis\",\"dbt Labs\",\"Globalization Partners\",\"Intarcia Therapeutics\",\"Relativity Space\",\"StockX\",\"ThoughtSpot\",\"SSENSE\",\"BitPanda\",\"Dataminr\",\"Weee!\",\"Medlinker\",\"Hozon Auto\",\"Aurora Solar\",\"Branch\",\"BrowserStack\",\"Cerebras Systems\",\"ClickUp\",\"Clubhouse\",\"Farmers Business Network\",\"Houzz\",\"MEGVII\",\"Melio\",\"Next Insurance\",\"Olive\",\"Patreon\",\"PointClickCare\",\"Rubrik\",\"Vuori\",\"Webflow\",\"Yuga Labs\",\"Zapier\",\"Dadi Cinema\",\"Kurly\",\"Moglix\",\"OpenAI\",\"Upstox\",\"Vista Global\",\"Yixia\",\"Automattic\",\"OakNorth Bank\",\"Worldcoin\",\"Hive Box\",\"Trax\",\"MessageBird\",\"Cohesity\",\"Cybereason\",\"A24 Films\",\"Acronis\",\"Aura\",\"BYTON\",\"Cato Networks\",\"Digit Insurance\",\"Fetch Rewards\",\"Games24x7\",\"GoStudent\",\"Immutable\",\"Infra.Market\",\"Side\",\"SiFive\",\"Somatus\",\"Sysdig\",\"Uniphore\",\"Varo Bank\",\"Vercel\",\"Oura\",\"Unacademy\",\"Axonius\",\"Clari\",\"ManoMano\",\"Pendo\",\"Plume\",\"JumpCloud\",\"Project44\",\"Sourcegraph\",\"OwnBackup\",\"Starburst\",\"Youxia Motors\",\"Zetwerk\",\"Cars24\",\"Ethos\",\"Komodo Health\",\"Nextiva\",\"o9 Solutions\",\"Scopely\",\"Sila Nanotechnologies\",\"Via\",\"Transmit Security\",\"BlockDaemon\",\"Convoy\",\"Dream Games\",\"Illumio\",\"MasterClass\",\"Graphcore\",\"ApplyBoard\",\"Blockstream\",\"Cedar\",\"ContentSquare\",\"Eruditus Executive Education\",\"Innovaccer\",\"Ironclad\",\"Skims\",\"Thumbtack\",\"Zipline\",\"BharatPe\",\"DriveWealth\",\"Flink Food\",\"PsiQuantum\",\"SpotOn\",\"Gorillas\",\"HighRadius\",\"Loft\",\"Nuvemshop\",\"Udaan\",\"Workrise\",\"ActiveCampaign\",\"Age of Learning\",\"Amber Group\",\"Anchorage Digital\",\"BlockFi\",\"Calendly\",\"Carbon Health\",\"Circle\",\"CMR Surgical\",\"Contentful\",\"Cross River Bank\",\"Delhivery\",\"FlixBus\",\"Flutterwave\",\"Forter\",\"Grafana Labs\",\"Groww\",\"Inxeption\",\"KK Group\",\"Lattice\",\"LaunchDarkly\",\"Lucid\",\"Outschool\",\"Podium\",\"Remote\",\"Seismic\",\"Sky Mavis\",\"SouChe Holdings\",\"TradingView\",\"Traveloka\",\"wefox\",\"Wildlife Studios\",\"1047 Games\",\"Baiwang\",\"Boba\",\"Bought By Many\",\"Cambridge Mobile Telematics\",\"Carzone\",\"CFGI\",\"Cgtz\",\"Changingedu\",\"eDaili\",\"ENOVATE\",\"Fenbi Education\",\"Hesai Tech\",\"Il Makiage\",\"Iluvatar CoreX\",\"Jusfoun Big Data\",\"Pagaya\",\"PolicyBazaar\",\"Promasidor Holdings\",\"Tubatu.com\",\"Ximalaya FM\",\"HEYTEA\",\"BGL Group\",\"Claroty\",\"Improbable\",\"InMobi\",\"MindMaze\",\"Ninja Van\",\"Pantheon Systems\",\"SellerX\",\"AppDirect\",\"BrewDog\",\"Enflame\",\"Tradeshift\",\"HeartFlow\",\"Extend\",\"Airbyte\",\"Andela\",\"Ascend Money\",\"Athelas\",\"Built\",\"candy.com\",\"Cognite\",\"CoinList\",\"Collective Health\",\"Culture Amp\",\"Devo\",\"ElasticRun\",\"Gett\",\"ID.me\",\"impact.com\",\"Ledger\",\"Lusha\",\"Matillion\",\"MOLOCO\",\"Mu Sigma\",\"Next Silicon\",\"NotCo\",\"Olist\",\"Pacaso\",\"Paradox\",\"Persona\",\"SmartRecruiters\",\"Snapdocs\",\"Solugen\",\"StoreDot\",\"Strava\",\"Temporal\",\"TuJia\",\"Uplight\",\"Veho\",\"Veriff\",\"Whatnot\",\"Zenoti\",\"Zeta\",\"Loom\",\"Mobile Premier League\",\"Uala\",\"Wenheyou\",\"Star Charge\",\"ABL Space Systems\",\"Afiniti\",\"ASAPP\",\"BitSight Technologies\",\"Cao Cao Mobility\",\"Capitolis\",\"Carbon\",\"Clio\",\"Cresta\",\"Exabeam\",\"ezCater\",\"HomeLight\",\"HoneyBook\",\"Infinidat\",\"Mercury\",\"Paxos\",\"SafetyCulture\",\"SmartHR\",\"Tonal\",\"Truepill\",\"Unite Us\",\"Verkada\",\"Wayflyer\",\"Zhubajie\",\"Transcarent\",\"Trader Interactive\",\"Glossier\",\"Hibob\",\"Jobandtalent\",\"Optimism\",\"solarisBank\",\"WEMAKEPRICE\",\"Alan\",\"Biren Technology\",\"Voodoo\",\"Carsome\",\"CircleCI\",\"DealShare\",\"DispatchHealth\",\"Dragos\",\"Gousto\",\"H2O.ai\",\"Harness\",\"Harry's\",\"PAX\",\"Productboard\",\"Reltio\",\"Spotter\",\"Vestiaire Collective\",\"Wave\",\"ZenBusiness\",\"Bowery Farming\",\"Greenlight\",\"KeepTruckin\",\"Odoo\",\"Skydance Media\",\"Uptake\",\"MoMo\",\"Algolia\",\"Pattern\",\"Spinny\",\"Trulioo\",\"Zume\",\"AIWAYS\",\"Bitso\",\"BloomReach\",\"Current\",\"Dialpad\",\"G7 Networks\",\"Gympass\",\"MUSINSA\",\"NuCom Group\",\"Reify Health\",\"Diamond Foundry\",\"FullStory\",\"Lightricks\",\"Opentrons\",\"ZocDoc\",\"Accelerant\",\"Huaqin Telecom Technology\",\"Addepar\",\"YITU Technology\",\"CloudWalk\",\"Retool\",\"Volocopter\",\"Acorns\",\"Aledade\",\"CoinSwitch Kuber\",\"ConcertAI\",\"Eightfold.ai\",\"FirstCry\",\"Forto\",\"GoCardless\",\"InVision\",\"Jeeves\",\"Medable\",\"Moveworks\",\"MX Technologies\",\"PayFit\",\"ReCharge\",\"Roofstock\",\"Urban Company\",\"Rokt\",\"Starling Bank\",\"Ankorstore\",\"4Paradigm\",\"Advance Intelligence Group\",\"Aiven\",\"Akulaku\",\"Apeel Sciences\",\"AppsFlyer\",\"Avant\",\"Aviatrix\",\"BlaBlaCar\",\"Black Sesame Technologies\",\"Bunq\",\"Calm\",\"Chipper Cash\",\"Clearco\",\"ClickHouse\",\"Clip\",\"Cloudinary\",\"Deliverr\",\"Divvy Homes\",\"Dremio\",\"Druva\",\"Everlaw\",\"Exotec\",\"Formlabs\",\"Guoquan Shihui\",\"Hive\",\"HuiMin\",\"ISN\",\"Iterable\",\"Kajabi\",\"Kaseya\",\"Keep\",\"KRY\",\"Loggi\",\"LTK\",\"Lunar\",\"Mafengwo\",\"Magic Leap\",\"Misfits Market\",\"Modern Treasury\",\"MURAL\",\"Mynt\",\"Neo4j\",\"Netlify\",\"OCSiAl\",\"Opay\",\"Pipe\",\"Preferred Networks\",\"Quora\",\"Redis Labs\",\"SmartNews\",\"Spring Health\",\"StarkWare\",\"SWORD Health\",\"Tier\",\"Trendy Group International\",\"Unqork\",\"VerbIT\",\"Virta Health\",\"Xinchao Media\",\"Xingyun Group\",\"XtalPi\",\"Zilch\",\"56PINGTAI\",\"Alzheon\",\"Aprogen\",\"Axtria\",\"Cell C\",\"China Cloud\",\"CredAvenue\",\"DeepBlue Technology\",\"dMed Biopharmaceutical\",\"Einride\",\"EQRx\",\"Everly Health\",\"Fair\",\"Flipboard\",\"Globality\",\"Hosjoy\",\"Huisuanzhang\",\"HuJiang\",\"Hyperchain\",\"iTutorGroup\",\"JimuBox\",\"Juma Peisong\",\"Justworks\",\"Keenon Robotics\",\"Kuaigou Dache\",\"LifeMiles\",\"LinkSure Network\",\"MobiKwik\",\"Modernizing Medicine\",\"OVH\",\"Phenom People\",\"Pipa Coding\",\"Qingting FM\",\"Rad Power Bikes\",\"Shukun Technology\",\"Shulan Health\",\"SITECH DEV\",\"Snapdeal\",\"SumUp\",\"TalkingData\",\"TUNGEE\",\"UISEE Technology\",\"Valgen Medtech\",\"Vectra Networks\",\"Venafi\",\"Wacai\",\"WeBull\",\"WTOIP\",\"Xiaobing\",\"Xiaoe Tech\",\"Yiguo\",\"Yimidida\",\"Yipin Shengxian\",\"Ynsect\",\"Hello TransTech\",\"Miaoshou Doctor\",\"ECARX\",\"Eat Just\",\"Trumid\",\"Qualia\",\"Beisen\",\"Earnix\",\"Kujiale\",\"Orca Security\",\"Apus Group\",\"Forte Labs\",\"CureFit\",\"DT Dream\",\"fabric\",\"JOLLY Information Technology\",\"K Health\",\"Mofang Living\",\"Spendesk\",\"TaxBit\",\"XiaoZhu\",\"Yijiupi\",\"YunQuNa\",\"Bordrin Motors\",\"Aleo\",\"Coocaa\",\"Gymshark\",\"M1 Finance\",\"Ouyeel\",\"SonderMind\",\"Astranis Space Technologies\",\"Away\",\"Cabify\",\"Clarify Health\",\"Coda\",\"Deezer\",\"Degreed\",\"Deliverect\",\"Envoy\",\"Epidemic Sound\",\"Figment\",\"Firebolt\",\"Five Star Business Finance\",\"GupShup\",\"Kong\",\"Koudai\",\"Panther Labs\",\"Papa\",\"Pristyn Care\",\"Rebel Foods\",\"Salt Security\",\"Scalable Capital\",\"SparkCognition\",\"Stash\",\"Symphony\",\"Tripledot\",\"VideoAmp\",\"Yidian Zixun\",\"Yotpo\",\"Neon\",\"Veepee\",\"Alloy\",\"Epirus\",\"Klook\",\"Yaoshibang\",\"Signifyd\",\"Motorway\",\"RIDI\",\"Athletic Greens\",\"GPclub\",\"Grove Collaborative\",\"Tongdun Technology\",\"Unisound\",\"Betterment\",\"Cava Group\",\"CoinTracker\",\"DistroKid\",\"Domestika\",\"Flock Freight\",\"InSightec\",\"Island\",\"iTrustCapital\",\"Konfio\",\"LinkTree\",\"Loadsmart\",\"Lukka\",\"Manner\",\"The Brandtech Group\",\"TravelPerk\",\"YugaByte\",\"Intercom\",\"OVO Energy\",\"BigID\",\"CaptivateIQ\",\"Flipdish\",\"Honor Technology\",\"Incode Technologies\",\"Kuaikan Manhua\",\"Marshmallow\",\"Mythical Games\",\"Route\",\"Tackle.io\",\"Nexii\",\"GalaxySpace\",\"Insider\",\"Spiber\",\"Ada Support\",\"AgentSync\",\"Alation\",\"BigPanda\",\"CarDekho\",\"Copado\",\"DailyPay\",\"FloQast\",\"Gem\",\"GrubMarket\",\"Helium Systems\",\"Inari\",\"Jokr\",\"LivSpace\",\"Merama\",\"MindTickle\",\"MyGlamm\",\"Oda\",\"Offchain Labs\",\"Phantom\",\"Pilot.com\",\"Prime Medicine\",\"Public\",\"Qumulo\",\"Rohlik\",\"SeekOut\",\"SmartMore\",\"Tealium\",\"UpGrad\",\"Workhuman\",\"Xpressbees\",\"L&P Cosmetic\",\"Mininglamp Technology\",\"Luoji Siwei\",\"IRL\",\"Modern Health\",\"Tuhu\",\"CloudBees\",\"Elemy\",\"Guideline\",\"Happy Money\",\"Rebellion Defense\",\"STORD\",\"At-Bay\",\"TELD\",\"Acko General Insurance\",\"apna\",\"Beyond Identity\",\"Carousell\",\"Chief\",\"CoinDCX\",\"Daily Harvest\",\"Enpal\",\"eSentire\",\"Firefly Aerospace\",\"Fundbox\",\"G2\",\"Gaussian Robotics\",\"GetYourGuide\",\"GlobalBees\",\"Ivalua\",\"Juanpi\",\"Karat\",\"LEAD School\",\"Nexthink\",\"People.ai\",\"Pharmapacks\",\"Rightway\",\"Sennder\",\"Sisense\",\"Staffbase\",\"Sunbit\",\"TangoMe\",\"The Bank of London\",\"Zego\",\"Nxin\",\"Mamaearth\",\"Radius Payment Solutions\",\"Rivigo\",\"Rubicon\",\"Socar\",\"MobileCoin\",\"Density\",\"Instabase\",\"Jiuxian\",\"Matrixport\",\"Mixpanel\",\"Sendbird\",\"OrCam Technologies\",\"Leap Motor\",\"1KMXC\",\"58 Daojia\",\"Agile Robots\",\"Aibee\",\"Aircall\",\"Ajaib\",\"Alto Pharmacy\",\"Amagi\",\"Amount\",\"Amperity\",\"Anyscale\",\"Aptos\",\"Aqua Security\",\"Assembly\",\"Assent\",\"Augury\",\"Axelar\",\"Axiom Space\",\"Banma Network Technologies\",\"BeiBei\",\"BenevolentAI\",\"Berlin Brands Group\",\"Betterfly\",\"BitFury\",\"BlackBuck\",\"Bluecore\",\"BlueVoyant\",\"bolttech\",\"Boom Supersonic\",\"Bringg\",\"C2FO\",\"Cadence\",\"CAIS\",\"Cameo\",\"Capsule\",\"CargoX\",\"Carro\",\"Carson Group\",\"CHEQ\",\"Chronosphere\",\"Cider\",\"Clara\",\"Clearcover\",\"CommerceIQ\",\"Contrast Security\",\"Darwinbox\",\"Dental Monitoring\",\"DianRong\",\"Drata\",\"DriveNets\",\"Dune Analytics\",\"Dxy.cn\",\"EBANX\",\"EcoFlow\",\"Electric\",\"Emerging Markets Property Group\",\"Esusu\",\"Evidation\",\"Expel\",\"Fabric\",\"Feedzai\",\"Fever Labs\",\"Fiture\",\"FLASH\",\"Flash Express\",\"FlashEx\",\"Fractal Analytics\",\"Freshbooks\",\"FXiaoKe\",\"Gauntlet Networks\",\"Geek+\",\"Gelato\",\"Glia\",\"GO1\",\"Groq\",\"Hailo\",\"Haomao.AI\",\"Hasura\",\"HAYDON\",\"Heyday\",\"HMD Global\",\"Hotmart\",\"Huike Group\",\"Human Interest\",\"Ibotta\",\"iCarbonX\",\"iFood\",\"InFarm\",\"Infobip\",\"Injective Protocol\",\"Intellifusion\",\"Interos\",\"Iodine Software\",\"JoyTunes\",\"Kendra Scott\",\"Kitopi\",\"KnowBox\",\"Kopi Kenangan\",\"Lamabang\",\"LayerZero Labs\",\"Lessen\",\"LetsGetChecked\",\"Licious\",\"LinkDoc Technology\",\"Locus Robotics\",\"Lookout\",\"Lydia\",\"MadeiraMadeira\",\"Maimai\",\"Mammoth Biosciences\",\"Masterworks\",\"Maven Clinic\",\"MediaMath\",\"Meero\",\"Mensa Brands\",\"Mia.com\",\"Minio\",\"Mobvoi\",\"Moka\",\"Momenta\",\"Morning Consult\",\"Movile\",\"Mux\",\"Nature's Fynd\",\"Newlink Group\",\"News Break\",\"Newsela\",\"NIUM\",\"NoBroker\",\"Noname Security\",\"Numbrs\",\"Omada Health\",\"Omio\",\"ONE\",\"OpenWeb\",\"Orbbec Technology\",\"Orca Bio\",\"Orchard\",\"Owkin\",\"PandaDoc\",\"Pat McGrath Labs\",\"PatSnap\",\"Payhawk\",\"Pentera\",\"Pet Circle\",\"PicsArt\",\"PLACE\",\"Placer.ai\",\"Playco\",\"Poizon\",\"PPRO\",\"Printful\",\"Quantum Metric\",\"Quizlet\",\"RapidAPI\",\"Razor\",\"Red Ventures\",\"REEF Technology\",\"ReliaQuest\",\"Revolution Precrafted\",\"Rothy's\",\"SaltPay\",\"Savage X Fenty\",\"Scalapay\",\"Scandit\",\"Sentry\",\"Shield AI\",\"Shift Technology\",\"ShipBob\",\"Shippo\",\"Sidecar Health\",\"Sift\",\"Skydio\",\"Slice\",\"SmartAsset\",\"SMS Assist\",\"SnapLogic\",\"Snorkel AI\",\"Solo.io\",\"SoundHound\",\"Splashtop\",\"Standard\",\"Stytch\",\"Swile\",\"Tarana Wireless\",\"TechStyle Fashion Group\",\"TensTorrent\",\"TERMINUS Technology\",\"Tezign\",\"The Zebra\",\"Thirty Madison\",\"Thought Machine\",\"Timescale\",\"Tractable\",\"Tresata\",\"TrialSpark\",\"TrueLayer\",\"Unico\",\"Vagaro\",\"Vedantu\",\"Veev\",\"Vise\",\"Visier\",\"VOI\",\"Vox Media\",\"VTS\",\"Watershed\",\"Weights & Biases\",\"WeLab\",\"Womai\",\"Wrapbook\",\"Xendit\",\"XForcePlus\",\"YH Global\",\"YipitData\",\"Yunxuetang\",\"Zhaogang\",\"Zhuan Zhuan\",\"Zihaiguo\",\"Zopa\",\"Zwift\"],\"xaxis\":\"x\",\"y\":[\"Year Founded\",2012,2002,2008,2010,2005,2012,2012,2012,2015,2013,2015,1991,2018,2002,2013,2008,2015,2013,2011,2012,2016,2012,2016,2013,2011,2012,2017,2017,2009,2016,2016,2017,2013,2017,2015,2008,2015,2003,2009,2013,2013,2014,1999,1998,2014,2011,2014,2012,2012,2001,2012,2017,2015,2015,2012,2011,2013,2016,2005,2011,2018,2012,2005,2016,2016,2015,2016,2013,2012,2015,2007,2007,2006,2012,2013,2018,2015,2010,2019,1996,2019,2015,2018,2013,1998,2014,2011,2018,2016,2010,2017,2012,2013,2011,2018,2015,2015,2005,2003,2015,2014,2017,2020,1999,2010,2018,2015,2018,2011,2004,2013,2012,2014,2014,2017,2012,2015,2005,1994,2013,2016,2001,2015,2015,2012,2018,2013,2020,2007,1994,2015,2003,2015,2012,2015,2012,2013,2008,2014,2012,2017,2014,2013,2013,2013,2015,2015,2008,2008,2015,2013,2020,2012,2016,2012,2018,2015,2007,2009,2011,2015,2019,1998,2016,2017,2011,2015,2010,2019,2011,2015,2012,2012,2018,2008,2011,2015,2019,2017,2011,2017,2017,2017,2014,2013,2014,2011,2016,2016,1919,2011,2017,2017,2006,2001,2012,2012,2015,2006,2016,2017,2015,2019,2016,2015,2017,2018,2015,2014,2016,2012,1995,2016,2016,2012,2003,2014,2009,2015,2014,2014,2013,2014,2011,2016,2017,2020,2014,2008,2011,2018,2016,2012,2013,2000,2014,2015,2012,2021,2011,2006,2014,2015,2015,2010,2004,2011,2005,2015,2019,2015,2010,2011,2013,2012,2012,2003,2019,2016,2015,2016,2014,2006,2017,2018,2016,2017,2015,2016,2013,2008,2015,2015,2013,2015,2017,2012,2013,2013,2015,2012,2014,2013,2015,1999,2014,2018,2015,2016,2014,2008,2009,2011,2011,2012,2014,2016,2015,2019,2013,2015,2016,2015,2014,2016,2012,2010,2014,2014,2019,2008,2014,2018,2012,2021,2016,2017,2020,2006,2018,2011,2016,2014,2003,2007,2015,2017,2017,2013,2015,2013,2014,2013,2008,2011,2013,2016,2013,2014,2017,2017,2014,2015,2014,2010,2015,2014,2016,2010,2019,2012,2011,2012,2014,2011,2017,2015,2018,2012,2010,1995,2000,2014,2014,2015,2015,2015,2013,2018,2015,2010,2015,2008,1979,2008,2012,2012,1992,2015,2012,2007,2012,2014,2010,2020,2009,2007,2018,2009,2007,2004,2020,2014,2013,2016,2015,2021,2016,2017,2013,2011,2011,2016,2010,2010,2008,2014,2016,2011,2013,2004,2018,2015,2015,2020,2016,2018,2010,2012,2016,2012,2009,2019,2011,2019,2016,2015,2019,2010,2015,2016,2018,2017,2013,2014,2017,2006,2014,2013,2015,2017,2013,2008,2017,2013,2007,2012,2013,2011,2019,2012,2004,2013,2015,2016,2014,2016,2019,2006,2020,2017,2014,2015,2009,2019,2016,2009,2016,2019,2013,2015,2011,2018,2013,2016,2012,2011,2016,2013,2007,2014,2011,2019,2009,2018,2015,2015,2014,2013,2005,2010,2014,2013,2012,2013,2015,2011,2015,2017,2014,2009,2015,2011,2006,2012,2001,2016,2012,2012,2014,2013,2016,2007,2018,2005,2009,2012,2015,2000,2011,2012,2014,2017,2018,2016,2010,2016,2011,2011,2019,2013,2016,2010,2016,2017,2015,2014,2012,2014,2019,2015,2016,2016,2014,2012,2011,2012,2014,2006,2016,2013,2012,2017,2015,2021,2012,2011,2017,2017,2015,2007,2010,2015,2011,2017,2013,2013,2001,2013,2010,2000,2014,2014,2013,2011,2015,2010,2010,2018,2018,2011,2015,2007,2014,2012,2018,2019,2014,2009,2011,2012,2016,2018,2015,2018,1999,2017,2016,2015,2007,2015,2014,2018,2013,2013,2000,2009,2000,2010,2017,2014,2016,2016,2020,2015,2016,2010,2015,2009,2015,2001,2016,1998,2013,2011,2012,2010,2014,2011,2013,2009,2010,1999,2011,2017,2011,2007,2017,2015,2017,2008,2011,2013,2016,2016,2015,2011,2000,2009,2016,2013,2020,2015,2005,2015,2017,2011,2016,2015,2016,2011,2014,2015,2002,2001,2011,2019,2014,2018,2016,2015,2017,2008,2016,2009,2015,2018,2012,2014,2015,2016,2019,2006,2012,2015,2015,2014,2015,2015,2011,2015,2014,2007,2012,2018,2013,2009,2018,2019,1984,2011,2007,2010,2018,2016,2018,2011,2016,2014,2013,2015,2014,2017,2014,2021,2011,2016,2001,2015,2018,2014,2015,2011,2017,2008,2010,2003,2016,2013,2012,2010,2010,2017,2013,2012,2015,1999,2020,2018,2013,2016,2014,2014,2015,2015,2015,2016,2011,2009,2015,2014,2015,2014,2015,2014,2017,2018,2018,2016,2020,2016,2012,2007,2016,2018,2012,2012,2008,2013,2016,2013,2017,2013,2013,2016,2021,2015,2020,2012,2015,2013,2018,2021,2016,2019,2008,2012,2019,2017,2019,2008,2015,1999,2012,2009,2014,2012,2017,2017,2011,2010,2019,2015,2009,2019,2015,2016,2014,2016,2019,2019,2012,2019,2017,2014,2017,2001,2014,2013,2012,2013,2009,2021,2000,2012,2014,2012,2004,2017,2010,2017,2015,2004,2014,2016,2009,2018,2016,2015,2016,1990,2014,2008,2012,2018,2014,2015,2009,2019,2009,2013,2010,2015,2014,2014,2018,2017,2014,2018,2015,2008,2019,2016,2019,2021,2015,2019,2010,2011,2020,2016,2015,2011,2013,2005,2018,2011,2015,2013,2017,2018,2014,2013,2008,2020,2009,2016,2016,2015,2015,2012,2014,2019,2020,2020,2016,2012,2014,2015,2014,2012,2020,2015,2018,2000,2012,2017,2016,2015,2015,2012,2016,2015,2009,2012,2019,2011,2017,2014,2000,2004,2011,2018,2015,2007,2012,2015,2016,2017,2019,2017,2020,2017,2016,2011,2010,2015,2011,2015,2011,2013,2006,2018,2014,2005,2010,2011,2002,2018,2014,2017,2011,2021,2019,2015,2015,2014,2014,2007,2011,2009,2013,2017,2017,2014,2007,2016,2021,2011,2014,2012,2015,2016,2014,1998,2015,2012,2016,2015,2013,2014,2014,2020,1999,2011,2013,2011,2012,2013,2016,2017,2016,2016,2016,2007,2018,2015,2011,2011,2020,2016,2020,2015,2006,2016,2015,2005,2015,2020,2000,2015,2007,2015,2016,2019,2018,2019,2009,2011,2015,2014,2014,2013,2018,2011,2014,2015,2012,2003,2006,2019,2017,2005,2006,2017,2020,2016,2009,2010,2016,2015,2015,2012,1993,2014,2015,2014,2011,2014,2016,2007,2009,2014,2008,2016,2010,2018,2011,2012,2019,2017,2013,2009,2018,2014,2015,1997,2008,2011,2012,2015,2018,2005,2014],\"yaxis\":\"y\",\"type\":\"scattergl\"}],                        {\"template\":{\"data\":{\"histogram2dcontour\":[{\"type\":\"histogram2dcontour\",\"colorbar\":{\"outlinewidth\":0,\"ticks\":\"\"},\"colorscale\":[[0.0,\"#0d0887\"],[0.1111111111111111,\"#46039f\"],[0.2222222222222222,\"#7201a8\"],[0.3333333333333333,\"#9c179e\"],[0.4444444444444444,\"#bd3786\"],[0.5555555555555556,\"#d8576b\"],[0.6666666666666666,\"#ed7953\"],[0.7777777777777778,\"#fb9f3a\"],[0.8888888888888888,\"#fdca26\"],[1.0,\"#f0f921\"]]}],\"choropleth\":[{\"type\":\"choropleth\",\"colorbar\":{\"outlinewidth\":0,\"ticks\":\"\"}}],\"histogram2d\":[{\"type\":\"histogram2d\",\"colorbar\":{\"outlinewidth\":0,\"ticks\":\"\"},\"colorscale\":[[0.0,\"#0d0887\"],[0.1111111111111111,\"#46039f\"],[0.2222222222222222,\"#7201a8\"],[0.3333333333333333,\"#9c179e\"],[0.4444444444444444,\"#bd3786\"],[0.5555555555555556,\"#d8576b\"],[0.6666666666666666,\"#ed7953\"],[0.7777777777777778,\"#fb9f3a\"],[0.8888888888888888,\"#fdca26\"],[1.0,\"#f0f921\"]]}],\"heatmap\":[{\"type\":\"heatmap\",\"colorbar\":{\"outlinewidth\":0,\"ticks\":\"\"},\"colorscale\":[[0.0,\"#0d0887\"],[0.1111111111111111,\"#46039f\"],[0.2222222222222222,\"#7201a8\"],[0.3333333333333333,\"#9c179e\"],[0.4444444444444444,\"#bd3786\"],[0.5555555555555556,\"#d8576b\"],[0.6666666666666666,\"#ed7953\"],[0.7777777777777778,\"#fb9f3a\"],[0.8888888888888888,\"#fdca26\"],[1.0,\"#f0f921\"]]}],\"heatmapgl\":[{\"type\":\"heatmapgl\",\"colorbar\":{\"outlinewidth\":0,\"ticks\":\"\"},\"colorscale\":[[0.0,\"#0d0887\"],[0.1111111111111111,\"#46039f\"],[0.2222222222222222,\"#7201a8\"],[0.3333333333333333,\"#9c179e\"],[0.4444444444444444,\"#bd3786\"],[0.5555555555555556,\"#d8576b\"],[0.6666666666666666,\"#ed7953\"],[0.7777777777777778,\"#fb9f3a\"],[0.8888888888888888,\"#fdca26\"],[1.0,\"#f0f921\"]]}],\"contourcarpet\":[{\"type\":\"contourcarpet\",\"colorbar\":{\"outlinewidth\":0,\"ticks\":\"\"}}],\"contour\":[{\"type\":\"contour\",\"colorbar\":{\"outlinewidth\":0,\"ticks\":\"\"},\"colorscale\":[[0.0,\"#0d0887\"],[0.1111111111111111,\"#46039f\"],[0.2222222222222222,\"#7201a8\"],[0.3333333333333333,\"#9c179e\"],[0.4444444444444444,\"#bd3786\"],[0.5555555555555556,\"#d8576b\"],[0.6666666666666666,\"#ed7953\"],[0.7777777777777778,\"#fb9f3a\"],[0.8888888888888888,\"#fdca26\"],[1.0,\"#f0f921\"]]}],\"surface\":[{\"type\":\"surface\",\"colorbar\":{\"outlinewidth\":0,\"ticks\":\"\"},\"colorscale\":[[0.0,\"#0d0887\"],[0.1111111111111111,\"#46039f\"],[0.2222222222222222,\"#7201a8\"],[0.3333333333333333,\"#9c179e\"],[0.4444444444444444,\"#bd3786\"],[0.5555555555555556,\"#d8576b\"],[0.6666666666666666,\"#ed7953\"],[0.7777777777777778,\"#fb9f3a\"],[0.8888888888888888,\"#fdca26\"],[1.0,\"#f0f921\"]]}],\"mesh3d\":[{\"type\":\"mesh3d\",\"colorbar\":{\"outlinewidth\":0,\"ticks\":\"\"}}],\"scatter\":[{\"fillpattern\":{\"fillmode\":\"overlay\",\"size\":10,\"solidity\":0.2},\"type\":\"scatter\"}],\"parcoords\":[{\"type\":\"parcoords\",\"line\":{\"colorbar\":{\"outlinewidth\":0,\"ticks\":\"\"}}}],\"scatterpolargl\":[{\"type\":\"scatterpolargl\",\"marker\":{\"colorbar\":{\"outlinewidth\":0,\"ticks\":\"\"}}}],\"bar\":[{\"error_x\":{\"color\":\"#2a3f5f\"},\"error_y\":{\"color\":\"#2a3f5f\"},\"marker\":{\"line\":{\"color\":\"#E5ECF6\",\"width\":0.5},\"pattern\":{\"fillmode\":\"overlay\",\"size\":10,\"solidity\":0.2}},\"type\":\"bar\"}],\"scattergeo\":[{\"type\":\"scattergeo\",\"marker\":{\"colorbar\":{\"outlinewidth\":0,\"ticks\":\"\"}}}],\"scatterpolar\":[{\"type\":\"scatterpolar\",\"marker\":{\"colorbar\":{\"outlinewidth\":0,\"ticks\":\"\"}}}],\"histogram\":[{\"marker\":{\"pattern\":{\"fillmode\":\"overlay\",\"size\":10,\"solidity\":0.2}},\"type\":\"histogram\"}],\"scattergl\":[{\"type\":\"scattergl\",\"marker\":{\"colorbar\":{\"outlinewidth\":0,\"ticks\":\"\"}}}],\"scatter3d\":[{\"type\":\"scatter3d\",\"line\":{\"colorbar\":{\"outlinewidth\":0,\"ticks\":\"\"}},\"marker\":{\"colorbar\":{\"outlinewidth\":0,\"ticks\":\"\"}}}],\"scattermapbox\":[{\"type\":\"scattermapbox\",\"marker\":{\"colorbar\":{\"outlinewidth\":0,\"ticks\":\"\"}}}],\"scatterternary\":[{\"type\":\"scatterternary\",\"marker\":{\"colorbar\":{\"outlinewidth\":0,\"ticks\":\"\"}}}],\"scattercarpet\":[{\"type\":\"scattercarpet\",\"marker\":{\"colorbar\":{\"outlinewidth\":0,\"ticks\":\"\"}}}],\"carpet\":[{\"aaxis\":{\"endlinecolor\":\"#2a3f5f\",\"gridcolor\":\"white\",\"linecolor\":\"white\",\"minorgridcolor\":\"white\",\"startlinecolor\":\"#2a3f5f\"},\"baxis\":{\"endlinecolor\":\"#2a3f5f\",\"gridcolor\":\"white\",\"linecolor\":\"white\",\"minorgridcolor\":\"white\",\"startlinecolor\":\"#2a3f5f\"},\"type\":\"carpet\"}],\"table\":[{\"cells\":{\"fill\":{\"color\":\"#EBF0F8\"},\"line\":{\"color\":\"white\"}},\"header\":{\"fill\":{\"color\":\"#C8D4E3\"},\"line\":{\"color\":\"white\"}},\"type\":\"table\"}],\"barpolar\":[{\"marker\":{\"line\":{\"color\":\"#E5ECF6\",\"width\":0.5},\"pattern\":{\"fillmode\":\"overlay\",\"size\":10,\"solidity\":0.2}},\"type\":\"barpolar\"}],\"pie\":[{\"automargin\":true,\"type\":\"pie\"}]},\"layout\":{\"autotypenumbers\":\"strict\",\"colorway\":[\"#636efa\",\"#EF553B\",\"#00cc96\",\"#ab63fa\",\"#FFA15A\",\"#19d3f3\",\"#FF6692\",\"#B6E880\",\"#FF97FF\",\"#FECB52\"],\"font\":{\"color\":\"#2a3f5f\"},\"hovermode\":\"closest\",\"hoverlabel\":{\"align\":\"left\"},\"paper_bgcolor\":\"white\",\"plot_bgcolor\":\"#E5ECF6\",\"polar\":{\"bgcolor\":\"#E5ECF6\",\"angularaxis\":{\"gridcolor\":\"white\",\"linecolor\":\"white\",\"ticks\":\"\"},\"radialaxis\":{\"gridcolor\":\"white\",\"linecolor\":\"white\",\"ticks\":\"\"}},\"ternary\":{\"bgcolor\":\"#E5ECF6\",\"aaxis\":{\"gridcolor\":\"white\",\"linecolor\":\"white\",\"ticks\":\"\"},\"baxis\":{\"gridcolor\":\"white\",\"linecolor\":\"white\",\"ticks\":\"\"},\"caxis\":{\"gridcolor\":\"white\",\"linecolor\":\"white\",\"ticks\":\"\"}},\"coloraxis\":{\"colorbar\":{\"outlinewidth\":0,\"ticks\":\"\"}},\"colorscale\":{\"sequential\":[[0.0,\"#0d0887\"],[0.1111111111111111,\"#46039f\"],[0.2222222222222222,\"#7201a8\"],[0.3333333333333333,\"#9c179e\"],[0.4444444444444444,\"#bd3786\"],[0.5555555555555556,\"#d8576b\"],[0.6666666666666666,\"#ed7953\"],[0.7777777777777778,\"#fb9f3a\"],[0.8888888888888888,\"#fdca26\"],[1.0,\"#f0f921\"]],\"sequentialminus\":[[0.0,\"#0d0887\"],[0.1111111111111111,\"#46039f\"],[0.2222222222222222,\"#7201a8\"],[0.3333333333333333,\"#9c179e\"],[0.4444444444444444,\"#bd3786\"],[0.5555555555555556,\"#d8576b\"],[0.6666666666666666,\"#ed7953\"],[0.7777777777777778,\"#fb9f3a\"],[0.8888888888888888,\"#fdca26\"],[1.0,\"#f0f921\"]],\"diverging\":[[0,\"#8e0152\"],[0.1,\"#c51b7d\"],[0.2,\"#de77ae\"],[0.3,\"#f1b6da\"],[0.4,\"#fde0ef\"],[0.5,\"#f7f7f7\"],[0.6,\"#e6f5d0\"],[0.7,\"#b8e186\"],[0.8,\"#7fbc41\"],[0.9,\"#4d9221\"],[1,\"#276419\"]]},\"xaxis\":{\"gridcolor\":\"white\",\"linecolor\":\"white\",\"ticks\":\"\",\"title\":{\"standoff\":15},\"zerolinecolor\":\"white\",\"automargin\":true,\"zerolinewidth\":2},\"yaxis\":{\"gridcolor\":\"white\",\"linecolor\":\"white\",\"ticks\":\"\",\"title\":{\"standoff\":15},\"zerolinecolor\":\"white\",\"automargin\":true,\"zerolinewidth\":2},\"scene\":{\"xaxis\":{\"backgroundcolor\":\"#E5ECF6\",\"gridcolor\":\"white\",\"linecolor\":\"white\",\"showbackground\":true,\"ticks\":\"\",\"zerolinecolor\":\"white\",\"gridwidth\":2},\"yaxis\":{\"backgroundcolor\":\"#E5ECF6\",\"gridcolor\":\"white\",\"linecolor\":\"white\",\"showbackground\":true,\"ticks\":\"\",\"zerolinecolor\":\"white\",\"gridwidth\":2},\"zaxis\":{\"backgroundcolor\":\"#E5ECF6\",\"gridcolor\":\"white\",\"linecolor\":\"white\",\"showbackground\":true,\"ticks\":\"\",\"zerolinecolor\":\"white\",\"gridwidth\":2}},\"shapedefaults\":{\"line\":{\"color\":\"#2a3f5f\"}},\"annotationdefaults\":{\"arrowcolor\":\"#2a3f5f\",\"arrowhead\":0,\"arrowwidth\":1},\"geo\":{\"bgcolor\":\"white\",\"landcolor\":\"#E5ECF6\",\"subunitcolor\":\"white\",\"showland\":true,\"showlakes\":true,\"lakecolor\":\"white\"},\"title\":{\"x\":0.05},\"mapbox\":{\"style\":\"light\"}}},\"xaxis\":{\"anchor\":\"y\",\"domain\":[0.0,1.0],\"title\":{\"text\":\"Comapny\"}},\"yaxis\":{\"anchor\":\"x\",\"domain\":[0.0,1.0],\"title\":{\"text\":\"Year founded\"}},\"legend\":{\"tracegroupgap\":0},\"title\":{\"text\":\"Year-wise company joined \"}},                        {\"responsive\": true}                    ).then(function(){\n",
       "                            \n",
       "var gd = document.getElementById('6588f0b7-2efc-4fef-b41d-a21dd65cd17a');\n",
       "var x = new MutationObserver(function (mutations, observer) {{\n",
       "        var display = window.getComputedStyle(gd).display;\n",
       "        if (!display || display === 'none') {{\n",
       "            console.log([gd, 'removed!']);\n",
       "            Plotly.purge(gd);\n",
       "            observer.disconnect();\n",
       "        }}\n",
       "}});\n",
       "\n",
       "// Listen for the removal of the full notebook cells\n",
       "var notebookContainer = gd.closest('#notebook-container');\n",
       "if (notebookContainer) {{\n",
       "    x.observe(notebookContainer, {childList: true});\n",
       "}}\n",
       "\n",
       "// Listen for the clearing of the current output cell\n",
       "var outputEl = gd.closest('.output');\n",
       "if (outputEl) {{\n",
       "    x.observe(outputEl, {childList: true});\n",
       "}}\n",
       "\n",
       "                        })                };                });            </script>        </div>"
      ]
     },
     "metadata": {},
     "output_type": "display_data"
    }
   ],
   "source": [
    "fig2=px.line(df,x='Comapny',y='Year founded',title='Year-wise company joined ')\n",
    "fig2.show()"
   ]
  },
  {
   "cell_type": "markdown",
   "id": "8daf487d",
   "metadata": {},
   "source": [
    "## Country based start up valuation"
   ]
  },
  {
   "cell_type": "code",
   "execution_count": 25,
   "id": "2476b26b",
   "metadata": {},
   "outputs": [
    {
     "data": {
      "application/vnd.plotly.v1+json": {
       "config": {
        "plotlyServerURL": "https://plot.ly"
       },
       "data": [
        {
         "alignmentgroup": "True",
         "hovertemplate": "Country=%{x}<br>Valuation=%{y}<extra></extra>",
         "legendgroup": "",
         "marker": {
          "color": "#636efa",
          "pattern": {
           "shape": ""
          }
         },
         "name": "",
         "offsetgroup": "",
         "orientation": "v",
         "showlegend": false,
         "textposition": "auto",
         "type": "bar",
         "x": [
          "China",
          "United States",
          "China",
          "United States",
          "Sweden",
          "Australia",
          "United Kingdom",
          "United States",
          "United States",
          "United States",
          "United Kingdom",
          "United States",
          "Bahamas",
          "United States",
          "United States",
          "India",
          "Indonesia",
          "China",
          "United States",
          "China",
          "United Kingdom",
          "United States",
          "China",
          "United States",
          "United Kingdom",
          "United States",
          "United States",
          "United States",
          "United States",
          "United States",
          "Sweden",
          "United States",
          "United States",
          "United States",
          "Turkey",
          "United States",
          "China",
          "United States",
          "China",
          "China",
          "Estonia",
          "India",
          "China",
          "United Kingdom",
          "United States",
          "Germany",
          "China",
          "United States",
          "India",
          "United States",
          "United States",
          "United States",
          "China",
          "United States",
          "United States",
          "United States",
          "Hong Kong",
          "United States",
          "United States",
          "United States",
          "United States",
          "South Korea",
          "South Korea",
          "United States",
          "United States",
          "United States",
          "Mexico",
          "Germany",
          "United States",
          "United States",
          "United States",
          "India",
          "China",
          "United States",
          "India",
          "Canada",
          "United States",
          "United States",
          "United Kingdom",
          "United States",
          "United States",
          "United States",
          "United States",
          "United States",
          "India",
          "China",
          "United States",
          "India",
          "United States",
          "India",
          "United States",
          "United States",
          "South Korea",
          "China",
          "United States",
          "United States",
          "United States",
          "Canada",
          "United States",
          "United States",
          "United States",
          "United States",
          "United States",
          "China",
          "China",
          "China",
          "Australia",
          "United States",
          "Netherlands",
          "Netherlands",
          "France",
          "United States",
          "United States",
          "France",
          "United States",
          "United States",
          "Germany",
          "Finland",
          "United States",
          "United States",
          "United States",
          "China",
          "United States",
          "United States",
          "United States",
          "United States",
          "United States",
          "Israel",
          "India",
          "United Kingdom",
          "India",
          "China",
          "China",
          "China",
          "United Kingdom",
          "United States",
          "China",
          "Lithuania",
          "United Kingdom",
          "China",
          "United States",
          "United States",
          "United States",
          "United States",
          "United States",
          "Denmark",
          "Germany",
          "China",
          "Belgium",
          "Colombia",
          "United States",
          "United States",
          "Brazil",
          "United States",
          "Brazil",
          "Brazil",
          "United States",
          "Canada",
          "United States",
          "Israel",
          "India",
          "India",
          "India",
          "France",
          "United States",
          "China",
          "China",
          "United Kingdom",
          "China",
          "United Kingdom",
          "Singapore",
          "United States",
          "South Korea",
          "United States",
          "India",
          "United States",
          "China",
          "United States",
          "United States",
          "United States",
          "United States",
          "United States",
          "United States",
          "United States",
          "United States",
          "United States",
          "France",
          "United States",
          "United States",
          "Germany",
          "United States",
          "China",
          "United States",
          "United States",
          "United States",
          "United States",
          "United States",
          "United States",
          "United States",
          "United States",
          "United States",
          "India",
          "France",
          "United States",
          "United States",
          "United States",
          "United States",
          "United States",
          "United States",
          "United States",
          "United States",
          "United States",
          "United States",
          "United States",
          "United States",
          "Canada",
          "Austria",
          "United States",
          "United States",
          "China",
          "China",
          "United States",
          "United States",
          "Ireland",
          "United States",
          "United States",
          "United States",
          "United States",
          "United States",
          "China",
          "United States",
          "United States",
          "United States",
          "United States",
          "Canada",
          "United States",
          "United States",
          "United States",
          "United States",
          "United States",
          "China",
          "South Korea",
          "Singapore",
          "United States",
          "India",
          "United Arab Emirates",
          "China",
          "United States",
          "United Kingdom",
          "United States",
          "China",
          "Singapore",
          "Netherlands",
          "United States",
          "United States",
          "United States",
          "Switzerland",
          "United States",
          "China",
          "Israel",
          "India",
          "United States",
          "India",
          "Austria",
          "Australia",
          "India",
          "United States",
          "United States",
          "United States",
          "United States",
          "United States",
          "United States",
          "United States",
          "Finland",
          "India",
          "United States",
          "United States",
          "France",
          "United States",
          "United States",
          "United States",
          "United States",
          "United States",
          "United States",
          "United States",
          "China",
          "India",
          "India",
          "United States",
          "United States",
          "United States",
          "United States",
          "United States",
          "United States",
          "United States",
          "Israel",
          "United States",
          "United States",
          "Turkey",
          "United States",
          "United States",
          "United Kingdom",
          "Canada",
          "Canada",
          "United States",
          "France",
          "India",
          "United States",
          "United States",
          "United States",
          "United States",
          "United States",
          "India",
          "United States",
          "Germany",
          "United States",
          "United States",
          "Germany",
          "United States",
          "Brazil",
          "Brazil",
          "India",
          "United States",
          "United States",
          "United States",
          "Hong Kong",
          "United States",
          "United States",
          "United States",
          "United States",
          "United States",
          "United Kingdom",
          "Germany",
          "United States",
          "India",
          "Germany",
          "United States",
          "United States",
          "United States",
          "India",
          "United States",
          "China",
          "United States",
          "United States",
          "United States",
          "United States",
          "United States",
          "United States",
          "United States",
          "Vietnam",
          "China",
          "United States",
          "Indonesia",
          "Germany",
          "Brazil",
          "United States",
          "China",
          "United States",
          "United Kingdom",
          "United States",
          "China",
          "United States",
          "China",
          "China",
          "China",
          "China",
          "China",
          "China",
          "United States",
          "China",
          "China",
          "Israel",
          "India",
          "South Africa",
          "China",
          "China",
          "China",
          "United Kingdom",
          "United States",
          "United Kingdom",
          "India",
          "Switzerland",
          "Singapore",
          "United States",
          "Germany",
          "United States",
          "United Kingdom",
          "China",
          "United States",
          "United States",
          "United States",
          "United States",
          "United States",
          "Thailand",
          "United States",
          "United States",
          "United States",
          "Norway",
          "United States",
          "United States",
          "Australia",
          "United States",
          "India",
          "United Kingdom",
          "United States",
          "United States",
          "France",
          "United States",
          "United Kingdom",
          "United States",
          "United States",
          "Israel",
          "Chile",
          "Brazil",
          "United States",
          "United States",
          "United States",
          "United States",
          "United States",
          "United States",
          "Israel",
          "United States",
          "United States",
          "China",
          "United States",
          "United States",
          "Estonia",
          "United States",
          "United States",
          "United States",
          "United States",
          "India",
          "Argentina",
          "China",
          "China",
          "United States",
          "Bermuda",
          "United States",
          "United States",
          "China",
          "United States",
          "United States",
          "Canada",
          "United States",
          "United States",
          "United States",
          "United States",
          "United States",
          "United States",
          "United States",
          "United States",
          "Australia",
          "Japan",
          "United States",
          "United States",
          "United States",
          "United States",
          "Ireland",
          "China",
          "United States",
          "United States",
          "United States",
          "Israel",
          "Spain",
          "United States",
          "Germany",
          "South Korea",
          "France",
          "China",
          "France",
          "Malaysia",
          "United States",
          "India",
          "United States",
          "United States",
          "United Kingdom",
          "United States",
          "United States",
          "United States",
          "United States",
          "United States",
          "United States",
          "United States",
          "France",
          "Senegal",
          "United States",
          "United States",
          "United States",
          "United States",
          "Belgium",
          "United States",
          "United States",
          "Vietnam",
          "United States",
          "United States",
          "India",
          "Canada",
          "United States",
          "China",
          "Mexico",
          "United States",
          "United States",
          "United States",
          "China",
          "United States",
          "South Korea",
          "Germany",
          "United States",
          "United States",
          "United States",
          "Israel",
          "United States",
          "United States",
          "United Kingdom",
          "China",
          "United States",
          "China",
          "Brazil",
          "United States",
          "Germany",
          "United States",
          "United States",
          "India",
          "United States",
          "United States",
          "India",
          "Germany",
          "United Kingdom",
          "United States",
          "United States",
          "United States",
          "United States",
          "United States",
          "United Kingdom",
          "United States",
          "United States",
          "India",
          "United States",
          "United Kingdom",
          "France",
          "China",
          "Singapore",
          "Finland",
          "Indonesia",
          "United States",
          "United States",
          "United States",
          "United States",
          "France",
          "China",
          "Netherlands",
          "United States",
          "United States",
          "Canada",
          "United States",
          "Mexico",
          "United States",
          "United States",
          "United States",
          "United States",
          "United States",
          "United States",
          "France",
          "United States",
          "China",
          "United States",
          "China",
          "United States",
          "United States",
          "United States",
          "United States",
          "China",
          "Sweden",
          "Brazil",
          "United States",
          "Denmark",
          "China",
          "United States",
          "United States",
          "United States",
          "United States",
          "Philippines",
          "United States",
          "United States",
          "Luxembourg",
          "Nigeria",
          "United States",
          "Japan",
          "United States",
          "United States",
          "Japan",
          "United States",
          "Israel",
          "United States",
          "Germany",
          "Hong Kong",
          "United States",
          "United States",
          "United States",
          "China",
          "China",
          "China",
          "United Kingdom",
          "China",
          "United States",
          "South Korea",
          "United States",
          "South Africa",
          "China",
          "India",
          "China",
          "China",
          "Sweden",
          "United States",
          "United States",
          "United States",
          "United States",
          "United States",
          "China",
          "China",
          "China",
          "China",
          "China",
          "China",
          "China",
          "United States",
          "China",
          "China",
          "Colombia",
          "China",
          "India",
          "United States",
          "France",
          "United States",
          "China",
          "China",
          "United States",
          "China",
          "China",
          "China",
          "India",
          "United Kingdom",
          "China",
          "China",
          "China",
          "China",
          "United States",
          "United States",
          "China",
          "China",
          "China",
          "China",
          "China",
          "China",
          "China",
          "China",
          "France",
          "China",
          "China",
          "China",
          "United States",
          "United States",
          "United States",
          "China",
          "Israel",
          "China",
          "United States",
          "China",
          "United States",
          "India",
          "China",
          "United States",
          "China",
          "United States",
          "China",
          "France",
          "United States",
          "China",
          "China",
          "China",
          "China",
          "United States",
          "China",
          "United Kingdom",
          "United States",
          "China",
          "United States",
          "United States",
          "United States",
          "Spain",
          "United States",
          "United States",
          "France",
          "United States",
          "Belgium",
          "United States",
          "Sweden",
          "Canada",
          "Israel",
          "India",
          "United States",
          "United States",
          "China",
          "United States",
          "United States",
          "India",
          "India",
          "United States",
          "Germany",
          "United States",
          "United States",
          "United States",
          "United Kingdom",
          "United States",
          "China",
          "United States",
          "Brazil",
          "France",
          "United States",
          "United States",
          "Hong Kong",
          "China",
          "United States",
          "United Kingdom",
          "South Korea",
          "United States",
          "South Korea",
          "United States",
          "China",
          "China",
          "United States",
          "United States",
          "United States",
          "United States",
          "United States",
          "United States",
          "Israel",
          "United States",
          "United States",
          "Mexico",
          "Australia",
          "United States",
          "United States",
          "China",
          "United States",
          "Spain",
          "United States",
          "United States",
          "United Kingdom",
          "United States",
          "United States",
          "Ireland",
          "United States",
          "United States",
          "China",
          "United Kingdom",
          "United States",
          "United States",
          "United States",
          "Canada",
          "China",
          "Turkey",
          "Japan",
          "Canada",
          "United States",
          "United States",
          "United States",
          "India",
          "United States",
          "United States",
          "United States",
          "United States",
          "United States",
          "United States",
          "United States",
          "United States",
          "India",
          "Mexico",
          "United States",
          "India",
          "Norway",
          "United States",
          "United States",
          "United States",
          "United States",
          "United States",
          "United States",
          "Czech Republic",
          "United States",
          "China",
          "United States",
          "India",
          "Ireland",
          "India",
          "South Korea",
          "China",
          "China",
          "United States",
          "United States",
          "China",
          "United States",
          "United States",
          "United States",
          "United States",
          "United States",
          "United States",
          "United States",
          "China",
          "India",
          "India",
          "United States",
          "Singapore",
          "United States",
          "India",
          "United States",
          "Germany",
          "Canada",
          "United States",
          "United States",
          "United States",
          "China",
          "Germany",
          "India",
          "United States",
          "China",
          "United States",
          "India",
          "Switzerland",
          "United States",
          "United States",
          "United States",
          "Germany",
          "United States",
          "Germany",
          "United States",
          "United States",
          "United Kingdom",
          "United Kingdom",
          "China",
          "India",
          "United Kingdom",
          "India",
          "United States",
          "South Korea",
          "United States",
          "United States",
          "United States",
          "China",
          "Singapore",
          "United States",
          "United States",
          "Israel",
          "China",
          "China",
          "China",
          "Germany",
          "China",
          "United States",
          "Indonesia",
          "United States",
          "India",
          "United States",
          "United States",
          "United States",
          "United States",
          "Israel",
          "United States",
          "Canada",
          "United States",
          "Canada",
          "United States",
          "China",
          "China",
          "United Kingdom",
          "Germany",
          "Chile",
          "Netherlands",
          "India",
          "United States",
          "United States",
          "Singapore",
          "United States",
          "Israel",
          "United States",
          "United States",
          "United States",
          "United States",
          "United States",
          "Brazil",
          "Singapore",
          "United States",
          "United States",
          "United States",
          "Hong Kong",
          "Mexico",
          "United States",
          "United States",
          "United States",
          "India",
          "France",
          "China",
          "United States",
          "Israel",
          "Norway",
          "China",
          "Brazil",
          "China",
          "United States",
          "United Arab Emirates",
          "United States",
          "United States",
          "United States",
          "United States",
          "United States",
          "United States",
          "China",
          "United States",
          "Thailand",
          "China",
          "India",
          "Canada",
          "China",
          "United States",
          "China",
          "Norway",
          "United States",
          "Australia",
          "United States",
          "Israel",
          "China",
          "India",
          "China",
          "United States",
          "Finland",
          "Netherlands",
          "China",
          "United States",
          "United States",
          "China",
          "Brazil",
          "Germany",
          "Croatia",
          "United States",
          "China",
          "United States",
          "United States",
          "Israel",
          "United States",
          "United Arab Emirates",
          "China",
          "Indonesia",
          "China",
          "United States",
          "United States",
          "Ireland",
          "India",
          "China",
          "United States",
          "United States",
          "France",
          "Brazil",
          "China",
          "United States",
          "United States",
          "United States",
          "United States",
          "France",
          "India",
          "China",
          "United States",
          "China",
          "China",
          "China",
          "United States",
          "Brazil",
          "United States",
          "United States",
          "China",
          "United States",
          "United States",
          "Singapore",
          "India",
          "United States",
          "Switzerland",
          "United States",
          "Germany",
          "Singapore",
          "United States",
          "China",
          "United States",
          "United States",
          "United States",
          "United States",
          "United States",
          "Singapore",
          "United Kingdom",
          "Israel",
          "Australia",
          "United States",
          "United States",
          "United States",
          "Japan",
          "China",
          "United Kingdom",
          "United States",
          "United States",
          "United States",
          "United States",
          "Germany",
          "United States",
          "United States",
          "United States",
          "Philippines",
          "United States",
          "United Kingdom",
          "United States",
          "Italy",
          "Switzerland",
          "United States",
          "United States",
          "France",
          "United States",
          "United States",
          "United States",
          "United States",
          "United States",
          "India",
          "United States",
          "United States",
          "United States",
          "United States",
          "United States",
          "United States",
          "United States",
          "United States",
          "United States",
          "France",
          "United States",
          "United States",
          "Canada",
          "China",
          "China",
          "United States",
          "United States",
          "United Kingdom",
          "United States",
          "United Kingdom",
          "United States",
          "United States",
          "United Kingdom",
          "Brazil",
          "United States",
          "India",
          "United States",
          "United States",
          "Canada",
          "Sweden",
          "United States",
          "United States",
          "United States",
          "United States",
          "Hong Kong",
          "China",
          "United States",
          "Indonesia",
          "China",
          "China",
          "United States",
          "China",
          "China",
          "China",
          "China",
          "United Kingdom",
          "United States"
         ],
         "xaxis": "x",
         "y": [
          "$180B",
          "$100B",
          "$100B",
          "$95B",
          "$46B",
          "$40B",
          "$40B",
          "$39B",
          "$38B",
          "$38B",
          "$33B",
          "$32B",
          "$32B",
          "$27B",
          "$25B",
          "$22B",
          "$20B",
          "$20B",
          "$18B",
          "$17B",
          "$15B",
          "$15B",
          "$15B",
          "$15B",
          "$14B",
          "$13B",
          "$13B",
          "$13B",
          "$13B",
          "$12B",
          "$12B",
          "$12B",
          "$12B",
          "$12B",
          "$12B",
          "$12B",
          "$12B",
          "$12B",
          "$12B",
          "$11B",
          "$11B",
          "$11B",
          "$11B",
          "$11B",
          "$11B",
          "$11B",
          "$10B",
          "$10B",
          "$10B",
          "$10B",
          "$10B",
          "$10B",
          "$10B",
          "$10B",
          "$10B",
          "$10B",
          "$10B",
          "$10B",
          "$10B",
          "$10B",
          "$10B",
          "$9B",
          "$9B",
          "$9B",
          "$9B",
          "$9B",
          "$9B",
          "$9B",
          "$9B",
          "$9B",
          "$9B",
          "$8B",
          "$8B",
          "$8B",
          "$8B",
          "$8B",
          "$8B",
          "$8B",
          "$8B",
          "$8B",
          "$8B",
          "$8B",
          "$8B",
          "$8B",
          "$7B",
          "$7B",
          "$7B",
          "$7B",
          "$7B",
          "$7B",
          "$7B",
          "$7B",
          "$7B",
          "$7B",
          "$7B",
          "$7B",
          "$7B",
          "$7B",
          "$7B",
          "$7B",
          "$7B",
          "$7B",
          "$6B",
          "$6B",
          "$6B",
          "$6B",
          "$6B",
          "$6B",
          "$6B",
          "$6B",
          "$6B",
          "$6B",
          "$6B",
          "$6B",
          "$6B",
          "$6B",
          "$6B",
          "$6B",
          "$6B",
          "$6B",
          "$6B",
          "$6B",
          "$6B",
          "$6B",
          "$6B",
          "$6B",
          "$6B",
          "$6B",
          "$5B",
          "$5B",
          "$5B",
          "$5B",
          "$5B",
          "$5B",
          "$5B",
          "$5B",
          "$5B",
          "$5B",
          "$5B",
          "$5B",
          "$5B",
          "$5B",
          "$5B",
          "$5B",
          "$5B",
          "$5B",
          "$5B",
          "$5B",
          "$5B",
          "$5B",
          "$5B",
          "$5B",
          "$5B",
          "$5B",
          "$5B",
          "$5B",
          "$5B",
          "$5B",
          "$5B",
          "$5B",
          "$5B",
          "$5B",
          "$5B",
          "$5B",
          "$5B",
          "$5B",
          "$5B",
          "$5B",
          "$4B",
          "$4B",
          "$4B",
          "$4B",
          "$4B",
          "$4B",
          "$4B",
          "$4B",
          "$4B",
          "$4B",
          "$4B",
          "$4B",
          "$4B",
          "$4B",
          "$4B",
          "$4B",
          "$4B",
          "$4B",
          "$4B",
          "$4B",
          "$4B",
          "$4B",
          "$4B",
          "$4B",
          "$4B",
          "$4B",
          "$4B",
          "$4B",
          "$4B",
          "$4B",
          "$4B",
          "$4B",
          "$4B",
          "$4B",
          "$4B",
          "$4B",
          "$4B",
          "$4B",
          "$4B",
          "$4B",
          "$4B",
          "$4B",
          "$4B",
          "$4B",
          "$4B",
          "$4B",
          "$4B",
          "$4B",
          "$4B",
          "$4B",
          "$4B",
          "$4B",
          "$4B",
          "$4B",
          "$4B",
          "$4B",
          "$4B",
          "$4B",
          "$4B",
          "$4B",
          "$4B",
          "$4B",
          "$4B",
          "$4B",
          "$4B",
          "$4B",
          "$4B",
          "$4B",
          "$4B",
          "$4B",
          "$4B",
          "$4B",
          "$3B",
          "$3B",
          "$3B",
          "$3B",
          "$3B",
          "$3B",
          "$3B",
          "$3B",
          "$3B",
          "$3B",
          "$3B",
          "$3B",
          "$3B",
          "$3B",
          "$3B",
          "$3B",
          "$3B",
          "$3B",
          "$3B",
          "$3B",
          "$3B",
          "$3B",
          "$3B",
          "$3B",
          "$3B",
          "$3B",
          "$3B",
          "$3B",
          "$3B",
          "$3B",
          "$3B",
          "$3B",
          "$3B",
          "$3B",
          "$3B",
          "$3B",
          "$3B",
          "$3B",
          "$3B",
          "$3B",
          "$3B",
          "$3B",
          "$3B",
          "$3B",
          "$3B",
          "$3B",
          "$3B",
          "$3B",
          "$3B",
          "$3B",
          "$3B",
          "$3B",
          "$3B",
          "$3B",
          "$3B",
          "$3B",
          "$3B",
          "$3B",
          "$3B",
          "$3B",
          "$3B",
          "$3B",
          "$3B",
          "$3B",
          "$3B",
          "$3B",
          "$3B",
          "$3B",
          "$3B",
          "$3B",
          "$3B",
          "$3B",
          "$3B",
          "$3B",
          "$3B",
          "$3B",
          "$3B",
          "$3B",
          "$3B",
          "$3B",
          "$3B",
          "$3B",
          "$3B",
          "$3B",
          "$3B",
          "$3B",
          "$3B",
          "$3B",
          "$3B",
          "$3B",
          "$3B",
          "$3B",
          "$3B",
          "$3B",
          "$3B",
          "$3B",
          "$3B",
          "$3B",
          "$3B",
          "$3B",
          "$3B",
          "$3B",
          "$3B",
          "$3B",
          "$3B",
          "$3B",
          "$3B",
          "$3B",
          "$3B",
          "$3B",
          "$3B",
          "$3B",
          "$3B",
          "$3B",
          "$3B",
          "$2B",
          "$2B",
          "$2B",
          "$2B",
          "$2B",
          "$2B",
          "$2B",
          "$2B",
          "$2B",
          "$2B",
          "$2B",
          "$2B",
          "$2B",
          "$2B",
          "$2B",
          "$2B",
          "$2B",
          "$2B",
          "$2B",
          "$2B",
          "$2B",
          "$2B",
          "$2B",
          "$2B",
          "$2B",
          "$2B",
          "$2B",
          "$2B",
          "$2B",
          "$2B",
          "$2B",
          "$2B",
          "$2B",
          "$2B",
          "$2B",
          "$2B",
          "$2B",
          "$2B",
          "$2B",
          "$2B",
          "$2B",
          "$2B",
          "$2B",
          "$2B",
          "$2B",
          "$2B",
          "$2B",
          "$2B",
          "$2B",
          "$2B",
          "$2B",
          "$2B",
          "$2B",
          "$2B",
          "$2B",
          "$2B",
          "$2B",
          "$2B",
          "$2B",
          "$2B",
          "$2B",
          "$2B",
          "$2B",
          "$2B",
          "$2B",
          "$2B",
          "$2B",
          "$2B",
          "$2B",
          "$2B",
          "$2B",
          "$2B",
          "$2B",
          "$2B",
          "$2B",
          "$2B",
          "$2B",
          "$2B",
          "$2B",
          "$2B",
          "$2B",
          "$2B",
          "$2B",
          "$2B",
          "$2B",
          "$2B",
          "$2B",
          "$2B",
          "$2B",
          "$2B",
          "$2B",
          "$2B",
          "$2B",
          "$2B",
          "$2B",
          "$2B",
          "$2B",
          "$2B",
          "$2B",
          "$2B",
          "$2B",
          "$2B",
          "$2B",
          "$2B",
          "$2B",
          "$2B",
          "$2B",
          "$2B",
          "$2B",
          "$2B",
          "$2B",
          "$2B",
          "$2B",
          "$2B",
          "$2B",
          "$2B",
          "$2B",
          "$2B",
          "$2B",
          "$2B",
          "$2B",
          "$2B",
          "$2B",
          "$2B",
          "$2B",
          "$2B",
          "$2B",
          "$2B",
          "$2B",
          "$2B",
          "$2B",
          "$2B",
          "$2B",
          "$2B",
          "$2B",
          "$2B",
          "$2B",
          "$2B",
          "$2B",
          "$2B",
          "$2B",
          "$2B",
          "$2B",
          "$2B",
          "$2B",
          "$2B",
          "$2B",
          "$2B",
          "$2B",
          "$2B",
          "$2B",
          "$2B",
          "$2B",
          "$2B",
          "$2B",
          "$2B",
          "$2B",
          "$2B",
          "$2B",
          "$2B",
          "$2B",
          "$2B",
          "$2B",
          "$2B",
          "$2B",
          "$2B",
          "$2B",
          "$2B",
          "$2B",
          "$2B",
          "$2B",
          "$2B",
          "$2B",
          "$2B",
          "$2B",
          "$2B",
          "$2B",
          "$2B",
          "$2B",
          "$2B",
          "$2B",
          "$2B",
          "$2B",
          "$2B",
          "$2B",
          "$2B",
          "$2B",
          "$2B",
          "$2B",
          "$2B",
          "$2B",
          "$2B",
          "$2B",
          "$2B",
          "$2B",
          "$2B",
          "$2B",
          "$2B",
          "$2B",
          "$2B",
          "$2B",
          "$2B",
          "$2B",
          "$2B",
          "$2B",
          "$2B",
          "$2B",
          "$2B",
          "$2B",
          "$2B",
          "$2B",
          "$2B",
          "$2B",
          "$2B",
          "$2B",
          "$2B",
          "$2B",
          "$2B",
          "$2B",
          "$2B",
          "$2B",
          "$2B",
          "$2B",
          "$2B",
          "$2B",
          "$2B",
          "$2B",
          "$2B",
          "$2B",
          "$2B",
          "$2B",
          "$2B",
          "$2B",
          "$2B",
          "$2B",
          "$2B",
          "$2B",
          "$2B",
          "$2B",
          "$2B",
          "$2B",
          "$2B",
          "$2B",
          "$2B",
          "$2B",
          "$2B",
          "$2B",
          "$2B",
          "$1B",
          "$1B",
          "$1B",
          "$1B",
          "$1B",
          "$1B",
          "$1B",
          "$1B",
          "$1B",
          "$1B",
          "$1B",
          "$1B",
          "$1B",
          "$1B",
          "$1B",
          "$1B",
          "$1B",
          "$1B",
          "$1B",
          "$1B",
          "$1B",
          "$1B",
          "$1B",
          "$1B",
          "$1B",
          "$1B",
          "$1B",
          "$1B",
          "$1B",
          "$1B",
          "$1B",
          "$1B",
          "$1B",
          "$1B",
          "$1B",
          "$1B",
          "$1B",
          "$1B",
          "$1B",
          "$1B",
          "$1B",
          "$1B",
          "$1B",
          "$1B",
          "$1B",
          "$1B",
          "$1B",
          "$1B",
          "$1B",
          "$1B",
          "$1B",
          "$1B",
          "$1B",
          "$1B",
          "$1B",
          "$1B",
          "$1B",
          "$1B",
          "$1B",
          "$1B",
          "$1B",
          "$1B",
          "$1B",
          "$1B",
          "$1B",
          "$1B",
          "$1B",
          "$1B",
          "$1B",
          "$1B",
          "$1B",
          "$1B",
          "$1B",
          "$1B",
          "$1B",
          "$1B",
          "$1B",
          "$1B",
          "$1B",
          "$1B",
          "$1B",
          "$1B",
          "$1B",
          "$1B",
          "$1B",
          "$1B",
          "$1B",
          "$1B",
          "$1B",
          "$1B",
          "$1B",
          "$1B",
          "$1B",
          "$1B",
          "$1B",
          "$1B",
          "$1B",
          "$1B",
          "$1B",
          "$1B",
          "$1B",
          "$1B",
          "$1B",
          "$1B",
          "$1B",
          "$1B",
          "$1B",
          "$1B",
          "$1B",
          "$1B",
          "$1B",
          "$1B",
          "$1B",
          "$1B",
          "$1B",
          "$1B",
          "$1B",
          "$1B",
          "$1B",
          "$1B",
          "$1B",
          "$1B",
          "$1B",
          "$1B",
          "$1B",
          "$1B",
          "$1B",
          "$1B",
          "$1B",
          "$1B",
          "$1B",
          "$1B",
          "$1B",
          "$1B",
          "$1B",
          "$1B",
          "$1B",
          "$1B",
          "$1B",
          "$1B",
          "$1B",
          "$1B",
          "$1B",
          "$1B",
          "$1B",
          "$1B",
          "$1B",
          "$1B",
          "$1B",
          "$1B",
          "$1B",
          "$1B",
          "$1B",
          "$1B",
          "$1B",
          "$1B",
          "$1B",
          "$1B",
          "$1B",
          "$1B",
          "$1B",
          "$1B",
          "$1B",
          "$1B",
          "$1B",
          "$1B",
          "$1B",
          "$1B",
          "$1B",
          "$1B",
          "$1B",
          "$1B",
          "$1B",
          "$1B",
          "$1B",
          "$1B",
          "$1B",
          "$1B",
          "$1B",
          "$1B",
          "$1B",
          "$1B",
          "$1B",
          "$1B",
          "$1B",
          "$1B",
          "$1B",
          "$1B",
          "$1B",
          "$1B",
          "$1B",
          "$1B",
          "$1B",
          "$1B",
          "$1B",
          "$1B",
          "$1B",
          "$1B",
          "$1B",
          "$1B",
          "$1B",
          "$1B",
          "$1B",
          "$1B",
          "$1B",
          "$1B",
          "$1B",
          "$1B",
          "$1B",
          "$1B",
          "$1B",
          "$1B",
          "$1B",
          "$1B",
          "$1B",
          "$1B",
          "$1B",
          "$1B",
          "$1B",
          "$1B",
          "$1B",
          "$1B",
          "$1B",
          "$1B",
          "$1B",
          "$1B",
          "$1B",
          "$1B",
          "$1B",
          "$1B",
          "$1B",
          "$1B",
          "$1B",
          "$1B",
          "$1B",
          "$1B",
          "$1B",
          "$1B",
          "$1B",
          "$1B",
          "$1B",
          "$1B",
          "$1B",
          "$1B",
          "$1B",
          "$1B",
          "$1B",
          "$1B",
          "$1B",
          "$1B",
          "$1B",
          "$1B",
          "$1B",
          "$1B",
          "$1B",
          "$1B",
          "$1B",
          "$1B",
          "$1B",
          "$1B",
          "$1B",
          "$1B",
          "$1B",
          "$1B",
          "$1B",
          "$1B",
          "$1B",
          "$1B",
          "$1B",
          "$1B",
          "$1B",
          "$1B",
          "$1B",
          "$1B",
          "$1B",
          "$1B",
          "$1B",
          "$1B",
          "$1B",
          "$1B",
          "$1B",
          "$1B",
          "$1B",
          "$1B",
          "$1B",
          "$1B",
          "$1B",
          "$1B",
          "$1B",
          "$1B",
          "$1B",
          "$1B",
          "$1B",
          "$1B",
          "$1B",
          "$1B",
          "$1B",
          "$1B",
          "$1B",
          "$1B",
          "$1B",
          "$1B",
          "$1B",
          "$1B",
          "$1B",
          "$1B",
          "$1B",
          "$1B",
          "$1B",
          "$1B",
          "$1B",
          "$1B",
          "$1B",
          "$1B",
          "$1B",
          "$1B",
          "$1B",
          "$1B",
          "$1B",
          "$1B",
          "$1B",
          "$1B",
          "$1B",
          "$1B",
          "$1B",
          "$1B",
          "$1B",
          "$1B",
          "$1B",
          "$1B",
          "$1B",
          "$1B",
          "$1B",
          "$1B",
          "$1B",
          "$1B",
          "$1B",
          "$1B",
          "$1B",
          "$1B",
          "$1B",
          "$1B",
          "$1B",
          "$1B",
          "$1B",
          "$1B",
          "$1B",
          "$1B",
          "$1B",
          "$1B",
          "$1B",
          "$1B",
          "$1B",
          "$1B",
          "$1B",
          "$1B",
          "$1B",
          "$1B",
          "$1B",
          "$1B",
          "$1B",
          "$1B",
          "$1B",
          "$1B",
          "$1B",
          "$1B",
          "$1B",
          "$1B",
          "$1B",
          "$1B",
          "$1B",
          "$1B",
          "$1B",
          "$1B",
          "$1B",
          "$1B",
          "$1B",
          "$1B",
          "$1B",
          "$1B",
          "$1B",
          "$1B",
          "$1B",
          "$1B",
          "$1B",
          "$1B",
          "$1B",
          "$1B",
          "$1B",
          "$1B",
          "$1B",
          "$1B",
          "$1B",
          "$1B",
          "$1B",
          "$1B",
          "$1B",
          "$1B",
          "$1B",
          "$1B",
          "$1B",
          "$1B",
          "$1B",
          "$1B",
          "$1B",
          "$1B",
          "$1B",
          "$1B",
          "$1B",
          "$1B",
          "$1B",
          "$1B",
          "$1B",
          "$1B",
          "$1B",
          "$1B",
          "$1B",
          "$1B",
          "$1B",
          "$1B",
          "$1B",
          "$1B",
          "$1B",
          "$1B",
          "$1B",
          "$1B",
          "$1B",
          "$1B",
          "$1B",
          "$1B",
          "$1B",
          "$1B",
          "$1B",
          "$1B",
          "$1B",
          "$1B",
          "$1B",
          "$1B",
          "$1B",
          "$1B",
          "$1B",
          "$1B",
          "$1B",
          "$1B",
          "$1B",
          "$1B",
          "$1B",
          "$1B",
          "$1B",
          "$1B",
          "$1B",
          "$1B",
          "$1B",
          "$1B",
          "$1B",
          "$1B",
          "$1B",
          "$1B",
          "$1B",
          "$1B",
          "$1B",
          "$1B",
          "$1B",
          "$1B",
          "$1B",
          "$1B",
          "$1B",
          "$1B",
          "$1B",
          "$1B",
          "$1B"
         ],
         "yaxis": "y"
        }
       ],
       "layout": {
        "barmode": "relative",
        "legend": {
         "tracegroupgap": 0
        },
        "margin": {
         "t": 60
        },
        "template": {
         "data": {
          "bar": [
           {
            "error_x": {
             "color": "#2a3f5f"
            },
            "error_y": {
             "color": "#2a3f5f"
            },
            "marker": {
             "line": {
              "color": "#E5ECF6",
              "width": 0.5
             },
             "pattern": {
              "fillmode": "overlay",
              "size": 10,
              "solidity": 0.2
             }
            },
            "type": "bar"
           }
          ],
          "barpolar": [
           {
            "marker": {
             "line": {
              "color": "#E5ECF6",
              "width": 0.5
             },
             "pattern": {
              "fillmode": "overlay",
              "size": 10,
              "solidity": 0.2
             }
            },
            "type": "barpolar"
           }
          ],
          "carpet": [
           {
            "aaxis": {
             "endlinecolor": "#2a3f5f",
             "gridcolor": "white",
             "linecolor": "white",
             "minorgridcolor": "white",
             "startlinecolor": "#2a3f5f"
            },
            "baxis": {
             "endlinecolor": "#2a3f5f",
             "gridcolor": "white",
             "linecolor": "white",
             "minorgridcolor": "white",
             "startlinecolor": "#2a3f5f"
            },
            "type": "carpet"
           }
          ],
          "choropleth": [
           {
            "colorbar": {
             "outlinewidth": 0,
             "ticks": ""
            },
            "type": "choropleth"
           }
          ],
          "contour": [
           {
            "colorbar": {
             "outlinewidth": 0,
             "ticks": ""
            },
            "colorscale": [
             [
              0,
              "#0d0887"
             ],
             [
              0.1111111111111111,
              "#46039f"
             ],
             [
              0.2222222222222222,
              "#7201a8"
             ],
             [
              0.3333333333333333,
              "#9c179e"
             ],
             [
              0.4444444444444444,
              "#bd3786"
             ],
             [
              0.5555555555555556,
              "#d8576b"
             ],
             [
              0.6666666666666666,
              "#ed7953"
             ],
             [
              0.7777777777777778,
              "#fb9f3a"
             ],
             [
              0.8888888888888888,
              "#fdca26"
             ],
             [
              1,
              "#f0f921"
             ]
            ],
            "type": "contour"
           }
          ],
          "contourcarpet": [
           {
            "colorbar": {
             "outlinewidth": 0,
             "ticks": ""
            },
            "type": "contourcarpet"
           }
          ],
          "heatmap": [
           {
            "colorbar": {
             "outlinewidth": 0,
             "ticks": ""
            },
            "colorscale": [
             [
              0,
              "#0d0887"
             ],
             [
              0.1111111111111111,
              "#46039f"
             ],
             [
              0.2222222222222222,
              "#7201a8"
             ],
             [
              0.3333333333333333,
              "#9c179e"
             ],
             [
              0.4444444444444444,
              "#bd3786"
             ],
             [
              0.5555555555555556,
              "#d8576b"
             ],
             [
              0.6666666666666666,
              "#ed7953"
             ],
             [
              0.7777777777777778,
              "#fb9f3a"
             ],
             [
              0.8888888888888888,
              "#fdca26"
             ],
             [
              1,
              "#f0f921"
             ]
            ],
            "type": "heatmap"
           }
          ],
          "heatmapgl": [
           {
            "colorbar": {
             "outlinewidth": 0,
             "ticks": ""
            },
            "colorscale": [
             [
              0,
              "#0d0887"
             ],
             [
              0.1111111111111111,
              "#46039f"
             ],
             [
              0.2222222222222222,
              "#7201a8"
             ],
             [
              0.3333333333333333,
              "#9c179e"
             ],
             [
              0.4444444444444444,
              "#bd3786"
             ],
             [
              0.5555555555555556,
              "#d8576b"
             ],
             [
              0.6666666666666666,
              "#ed7953"
             ],
             [
              0.7777777777777778,
              "#fb9f3a"
             ],
             [
              0.8888888888888888,
              "#fdca26"
             ],
             [
              1,
              "#f0f921"
             ]
            ],
            "type": "heatmapgl"
           }
          ],
          "histogram": [
           {
            "marker": {
             "pattern": {
              "fillmode": "overlay",
              "size": 10,
              "solidity": 0.2
             }
            },
            "type": "histogram"
           }
          ],
          "histogram2d": [
           {
            "colorbar": {
             "outlinewidth": 0,
             "ticks": ""
            },
            "colorscale": [
             [
              0,
              "#0d0887"
             ],
             [
              0.1111111111111111,
              "#46039f"
             ],
             [
              0.2222222222222222,
              "#7201a8"
             ],
             [
              0.3333333333333333,
              "#9c179e"
             ],
             [
              0.4444444444444444,
              "#bd3786"
             ],
             [
              0.5555555555555556,
              "#d8576b"
             ],
             [
              0.6666666666666666,
              "#ed7953"
             ],
             [
              0.7777777777777778,
              "#fb9f3a"
             ],
             [
              0.8888888888888888,
              "#fdca26"
             ],
             [
              1,
              "#f0f921"
             ]
            ],
            "type": "histogram2d"
           }
          ],
          "histogram2dcontour": [
           {
            "colorbar": {
             "outlinewidth": 0,
             "ticks": ""
            },
            "colorscale": [
             [
              0,
              "#0d0887"
             ],
             [
              0.1111111111111111,
              "#46039f"
             ],
             [
              0.2222222222222222,
              "#7201a8"
             ],
             [
              0.3333333333333333,
              "#9c179e"
             ],
             [
              0.4444444444444444,
              "#bd3786"
             ],
             [
              0.5555555555555556,
              "#d8576b"
             ],
             [
              0.6666666666666666,
              "#ed7953"
             ],
             [
              0.7777777777777778,
              "#fb9f3a"
             ],
             [
              0.8888888888888888,
              "#fdca26"
             ],
             [
              1,
              "#f0f921"
             ]
            ],
            "type": "histogram2dcontour"
           }
          ],
          "mesh3d": [
           {
            "colorbar": {
             "outlinewidth": 0,
             "ticks": ""
            },
            "type": "mesh3d"
           }
          ],
          "parcoords": [
           {
            "line": {
             "colorbar": {
              "outlinewidth": 0,
              "ticks": ""
             }
            },
            "type": "parcoords"
           }
          ],
          "pie": [
           {
            "automargin": true,
            "type": "pie"
           }
          ],
          "scatter": [
           {
            "fillpattern": {
             "fillmode": "overlay",
             "size": 10,
             "solidity": 0.2
            },
            "type": "scatter"
           }
          ],
          "scatter3d": [
           {
            "line": {
             "colorbar": {
              "outlinewidth": 0,
              "ticks": ""
             }
            },
            "marker": {
             "colorbar": {
              "outlinewidth": 0,
              "ticks": ""
             }
            },
            "type": "scatter3d"
           }
          ],
          "scattercarpet": [
           {
            "marker": {
             "colorbar": {
              "outlinewidth": 0,
              "ticks": ""
             }
            },
            "type": "scattercarpet"
           }
          ],
          "scattergeo": [
           {
            "marker": {
             "colorbar": {
              "outlinewidth": 0,
              "ticks": ""
             }
            },
            "type": "scattergeo"
           }
          ],
          "scattergl": [
           {
            "marker": {
             "colorbar": {
              "outlinewidth": 0,
              "ticks": ""
             }
            },
            "type": "scattergl"
           }
          ],
          "scattermapbox": [
           {
            "marker": {
             "colorbar": {
              "outlinewidth": 0,
              "ticks": ""
             }
            },
            "type": "scattermapbox"
           }
          ],
          "scatterpolar": [
           {
            "marker": {
             "colorbar": {
              "outlinewidth": 0,
              "ticks": ""
             }
            },
            "type": "scatterpolar"
           }
          ],
          "scatterpolargl": [
           {
            "marker": {
             "colorbar": {
              "outlinewidth": 0,
              "ticks": ""
             }
            },
            "type": "scatterpolargl"
           }
          ],
          "scatterternary": [
           {
            "marker": {
             "colorbar": {
              "outlinewidth": 0,
              "ticks": ""
             }
            },
            "type": "scatterternary"
           }
          ],
          "surface": [
           {
            "colorbar": {
             "outlinewidth": 0,
             "ticks": ""
            },
            "colorscale": [
             [
              0,
              "#0d0887"
             ],
             [
              0.1111111111111111,
              "#46039f"
             ],
             [
              0.2222222222222222,
              "#7201a8"
             ],
             [
              0.3333333333333333,
              "#9c179e"
             ],
             [
              0.4444444444444444,
              "#bd3786"
             ],
             [
              0.5555555555555556,
              "#d8576b"
             ],
             [
              0.6666666666666666,
              "#ed7953"
             ],
             [
              0.7777777777777778,
              "#fb9f3a"
             ],
             [
              0.8888888888888888,
              "#fdca26"
             ],
             [
              1,
              "#f0f921"
             ]
            ],
            "type": "surface"
           }
          ],
          "table": [
           {
            "cells": {
             "fill": {
              "color": "#EBF0F8"
             },
             "line": {
              "color": "white"
             }
            },
            "header": {
             "fill": {
              "color": "#C8D4E3"
             },
             "line": {
              "color": "white"
             }
            },
            "type": "table"
           }
          ]
         },
         "layout": {
          "annotationdefaults": {
           "arrowcolor": "#2a3f5f",
           "arrowhead": 0,
           "arrowwidth": 1
          },
          "autotypenumbers": "strict",
          "coloraxis": {
           "colorbar": {
            "outlinewidth": 0,
            "ticks": ""
           }
          },
          "colorscale": {
           "diverging": [
            [
             0,
             "#8e0152"
            ],
            [
             0.1,
             "#c51b7d"
            ],
            [
             0.2,
             "#de77ae"
            ],
            [
             0.3,
             "#f1b6da"
            ],
            [
             0.4,
             "#fde0ef"
            ],
            [
             0.5,
             "#f7f7f7"
            ],
            [
             0.6,
             "#e6f5d0"
            ],
            [
             0.7,
             "#b8e186"
            ],
            [
             0.8,
             "#7fbc41"
            ],
            [
             0.9,
             "#4d9221"
            ],
            [
             1,
             "#276419"
            ]
           ],
           "sequential": [
            [
             0,
             "#0d0887"
            ],
            [
             0.1111111111111111,
             "#46039f"
            ],
            [
             0.2222222222222222,
             "#7201a8"
            ],
            [
             0.3333333333333333,
             "#9c179e"
            ],
            [
             0.4444444444444444,
             "#bd3786"
            ],
            [
             0.5555555555555556,
             "#d8576b"
            ],
            [
             0.6666666666666666,
             "#ed7953"
            ],
            [
             0.7777777777777778,
             "#fb9f3a"
            ],
            [
             0.8888888888888888,
             "#fdca26"
            ],
            [
             1,
             "#f0f921"
            ]
           ],
           "sequentialminus": [
            [
             0,
             "#0d0887"
            ],
            [
             0.1111111111111111,
             "#46039f"
            ],
            [
             0.2222222222222222,
             "#7201a8"
            ],
            [
             0.3333333333333333,
             "#9c179e"
            ],
            [
             0.4444444444444444,
             "#bd3786"
            ],
            [
             0.5555555555555556,
             "#d8576b"
            ],
            [
             0.6666666666666666,
             "#ed7953"
            ],
            [
             0.7777777777777778,
             "#fb9f3a"
            ],
            [
             0.8888888888888888,
             "#fdca26"
            ],
            [
             1,
             "#f0f921"
            ]
           ]
          },
          "colorway": [
           "#636efa",
           "#EF553B",
           "#00cc96",
           "#ab63fa",
           "#FFA15A",
           "#19d3f3",
           "#FF6692",
           "#B6E880",
           "#FF97FF",
           "#FECB52"
          ],
          "font": {
           "color": "#2a3f5f"
          },
          "geo": {
           "bgcolor": "white",
           "lakecolor": "white",
           "landcolor": "#E5ECF6",
           "showlakes": true,
           "showland": true,
           "subunitcolor": "white"
          },
          "hoverlabel": {
           "align": "left"
          },
          "hovermode": "closest",
          "mapbox": {
           "style": "light"
          },
          "paper_bgcolor": "white",
          "plot_bgcolor": "#E5ECF6",
          "polar": {
           "angularaxis": {
            "gridcolor": "white",
            "linecolor": "white",
            "ticks": ""
           },
           "bgcolor": "#E5ECF6",
           "radialaxis": {
            "gridcolor": "white",
            "linecolor": "white",
            "ticks": ""
           }
          },
          "scene": {
           "xaxis": {
            "backgroundcolor": "#E5ECF6",
            "gridcolor": "white",
            "gridwidth": 2,
            "linecolor": "white",
            "showbackground": true,
            "ticks": "",
            "zerolinecolor": "white"
           },
           "yaxis": {
            "backgroundcolor": "#E5ECF6",
            "gridcolor": "white",
            "gridwidth": 2,
            "linecolor": "white",
            "showbackground": true,
            "ticks": "",
            "zerolinecolor": "white"
           },
           "zaxis": {
            "backgroundcolor": "#E5ECF6",
            "gridcolor": "white",
            "gridwidth": 2,
            "linecolor": "white",
            "showbackground": true,
            "ticks": "",
            "zerolinecolor": "white"
           }
          },
          "shapedefaults": {
           "line": {
            "color": "#2a3f5f"
           }
          },
          "ternary": {
           "aaxis": {
            "gridcolor": "white",
            "linecolor": "white",
            "ticks": ""
           },
           "baxis": {
            "gridcolor": "white",
            "linecolor": "white",
            "ticks": ""
           },
           "bgcolor": "#E5ECF6",
           "caxis": {
            "gridcolor": "white",
            "linecolor": "white",
            "ticks": ""
           }
          },
          "title": {
           "x": 0.05
          },
          "xaxis": {
           "automargin": true,
           "gridcolor": "white",
           "linecolor": "white",
           "ticks": "",
           "title": {
            "standoff": 15
           },
           "zerolinecolor": "white",
           "zerolinewidth": 2
          },
          "yaxis": {
           "automargin": true,
           "gridcolor": "white",
           "linecolor": "white",
           "ticks": "",
           "title": {
            "standoff": 15
           },
           "zerolinecolor": "white",
           "zerolinewidth": 2
          }
         }
        },
        "xaxis": {
         "anchor": "y",
         "domain": [
          0,
          1
         ],
         "title": {
          "text": "Country"
         }
        },
        "yaxis": {
         "anchor": "x",
         "domain": [
          0,
          1
         ],
         "title": {
          "text": "Valuation"
         }
        }
       }
      },
      "text/html": [
       "<div>                            <div id=\"8b1be7cb-f6f8-48b1-8a82-eebdd8b04d76\" class=\"plotly-graph-div\" style=\"height:525px; width:100%;\"></div>            <script type=\"text/javascript\">                require([\"plotly\"], function(Plotly) {                    window.PLOTLYENV=window.PLOTLYENV || {};                                    if (document.getElementById(\"8b1be7cb-f6f8-48b1-8a82-eebdd8b04d76\")) {                    Plotly.newPlot(                        \"8b1be7cb-f6f8-48b1-8a82-eebdd8b04d76\",                        [{\"alignmentgroup\":\"True\",\"hovertemplate\":\"Country=%{x}<br>Valuation=%{y}<extra></extra>\",\"legendgroup\":\"\",\"marker\":{\"color\":\"#636efa\",\"pattern\":{\"shape\":\"\"}},\"name\":\"\",\"offsetgroup\":\"\",\"orientation\":\"v\",\"showlegend\":false,\"textposition\":\"auto\",\"x\":[\"China\",\"United States\",\"China\",\"United States\",\"Sweden\",\"Australia\",\"United Kingdom\",\"United States\",\"United States\",\"United States\",\"United Kingdom\",\"United States\",\"Bahamas\",\"United States\",\"United States\",\"India\",\"Indonesia\",\"China\",\"United States\",\"China\",\"United Kingdom\",\"United States\",\"China\",\"United States\",\"United Kingdom\",\"United States\",\"United States\",\"United States\",\"United States\",\"United States\",\"Sweden\",\"United States\",\"United States\",\"United States\",\"Turkey\",\"United States\",\"China\",\"United States\",\"China\",\"China\",\"Estonia\",\"India\",\"China\",\"United Kingdom\",\"United States\",\"Germany\",\"China\",\"United States\",\"India\",\"United States\",\"United States\",\"United States\",\"China\",\"United States\",\"United States\",\"United States\",\"Hong Kong\",\"United States\",\"United States\",\"United States\",\"United States\",\"South Korea\",\"South Korea\",\"United States\",\"United States\",\"United States\",\"Mexico\",\"Germany\",\"United States\",\"United States\",\"United States\",\"India\",\"China\",\"United States\",\"India\",\"Canada\",\"United States\",\"United States\",\"United Kingdom\",\"United States\",\"United States\",\"United States\",\"United States\",\"United States\",\"India\",\"China\",\"United States\",\"India\",\"United States\",\"India\",\"United States\",\"United States\",\"South Korea\",\"China\",\"United States\",\"United States\",\"United States\",\"Canada\",\"United States\",\"United States\",\"United States\",\"United States\",\"United States\",\"China\",\"China\",\"China\",\"Australia\",\"United States\",\"Netherlands\",\"Netherlands\",\"France\",\"United States\",\"United States\",\"France\",\"United States\",\"United States\",\"Germany\",\"Finland\",\"United States\",\"United States\",\"United States\",\"China\",\"United States\",\"United States\",\"United States\",\"United States\",\"United States\",\"Israel\",\"India\",\"United Kingdom\",\"India\",\"China\",\"China\",\"China\",\"United Kingdom\",\"United States\",\"China\",\"Lithuania\",\"United Kingdom\",\"China\",\"United States\",\"United States\",\"United States\",\"United States\",\"United States\",\"Denmark\",\"Germany\",\"China\",\"Belgium\",\"Colombia\",\"United States\",\"United States\",\"Brazil\",\"United States\",\"Brazil\",\"Brazil\",\"United States\",\"Canada\",\"United States\",\"Israel\",\"India\",\"India\",\"India\",\"France\",\"United States\",\"China\",\"China\",\"United Kingdom\",\"China\",\"United Kingdom\",\"Singapore\",\"United States\",\"South Korea\",\"United States\",\"India\",\"United States\",\"China\",\"United States\",\"United States\",\"United States\",\"United States\",\"United States\",\"United States\",\"United States\",\"United States\",\"United States\",\"France\",\"United States\",\"United States\",\"Germany\",\"United States\",\"China\",\"United States\",\"United States\",\"United States\",\"United States\",\"United States\",\"United States\",\"United States\",\"United States\",\"United States\",\"India\",\"France\",\"United States\",\"United States\",\"United States\",\"United States\",\"United States\",\"United States\",\"United States\",\"United States\",\"United States\",\"United States\",\"United States\",\"United States\",\"Canada\",\"Austria\",\"United States\",\"United States\",\"China\",\"China\",\"United States\",\"United States\",\"Ireland\",\"United States\",\"United States\",\"United States\",\"United States\",\"United States\",\"China\",\"United States\",\"United States\",\"United States\",\"United States\",\"Canada\",\"United States\",\"United States\",\"United States\",\"United States\",\"United States\",\"China\",\"South Korea\",\"Singapore\",\"United States\",\"India\",\"United Arab Emirates\",\"China\",\"United States\",\"United Kingdom\",\"United States\",\"China\",\"Singapore\",\"Netherlands\",\"United States\",\"United States\",\"United States\",\"Switzerland\",\"United States\",\"China\",\"Israel\",\"India\",\"United States\",\"India\",\"Austria\",\"Australia\",\"India\",\"United States\",\"United States\",\"United States\",\"United States\",\"United States\",\"United States\",\"United States\",\"Finland\",\"India\",\"United States\",\"United States\",\"France\",\"United States\",\"United States\",\"United States\",\"United States\",\"United States\",\"United States\",\"United States\",\"China\",\"India\",\"India\",\"United States\",\"United States\",\"United States\",\"United States\",\"United States\",\"United States\",\"United States\",\"Israel\",\"United States\",\"United States\",\"Turkey\",\"United States\",\"United States\",\"United Kingdom\",\"Canada\",\"Canada\",\"United States\",\"France\",\"India\",\"United States\",\"United States\",\"United States\",\"United States\",\"United States\",\"India\",\"United States\",\"Germany\",\"United States\",\"United States\",\"Germany\",\"United States\",\"Brazil\",\"Brazil\",\"India\",\"United States\",\"United States\",\"United States\",\"Hong Kong\",\"United States\",\"United States\",\"United States\",\"United States\",\"United States\",\"United Kingdom\",\"Germany\",\"United States\",\"India\",\"Germany\",\"United States\",\"United States\",\"United States\",\"India\",\"United States\",\"China\",\"United States\",\"United States\",\"United States\",\"United States\",\"United States\",\"United States\",\"United States\",\"Vietnam\",\"China\",\"United States\",\"Indonesia\",\"Germany\",\"Brazil\",\"United States\",\"China\",\"United States\",\"United Kingdom\",\"United States\",\"China\",\"United States\",\"China\",\"China\",\"China\",\"China\",\"China\",\"China\",\"United States\",\"China\",\"China\",\"Israel\",\"India\",\"South Africa\",\"China\",\"China\",\"China\",\"United Kingdom\",\"United States\",\"United Kingdom\",\"India\",\"Switzerland\",\"Singapore\",\"United States\",\"Germany\",\"United States\",\"United Kingdom\",\"China\",\"United States\",\"United States\",\"United States\",\"United States\",\"United States\",\"Thailand\",\"United States\",\"United States\",\"United States\",\"Norway\",\"United States\",\"United States\",\"Australia\",\"United States\",\"India\",\"United Kingdom\",\"United States\",\"United States\",\"France\",\"United States\",\"United Kingdom\",\"United States\",\"United States\",\"Israel\",\"Chile\",\"Brazil\",\"United States\",\"United States\",\"United States\",\"United States\",\"United States\",\"United States\",\"Israel\",\"United States\",\"United States\",\"China\",\"United States\",\"United States\",\"Estonia\",\"United States\",\"United States\",\"United States\",\"United States\",\"India\",\"Argentina\",\"China\",\"China\",\"United States\",\"Bermuda\",\"United States\",\"United States\",\"China\",\"United States\",\"United States\",\"Canada\",\"United States\",\"United States\",\"United States\",\"United States\",\"United States\",\"United States\",\"United States\",\"United States\",\"Australia\",\"Japan\",\"United States\",\"United States\",\"United States\",\"United States\",\"Ireland\",\"China\",\"United States\",\"United States\",\"United States\",\"Israel\",\"Spain\",\"United States\",\"Germany\",\"South Korea\",\"France\",\"China\",\"France\",\"Malaysia\",\"United States\",\"India\",\"United States\",\"United States\",\"United Kingdom\",\"United States\",\"United States\",\"United States\",\"United States\",\"United States\",\"United States\",\"United States\",\"France\",\"Senegal\",\"United States\",\"United States\",\"United States\",\"United States\",\"Belgium\",\"United States\",\"United States\",\"Vietnam\",\"United States\",\"United States\",\"India\",\"Canada\",\"United States\",\"China\",\"Mexico\",\"United States\",\"United States\",\"United States\",\"China\",\"United States\",\"South Korea\",\"Germany\",\"United States\",\"United States\",\"United States\",\"Israel\",\"United States\",\"United States\",\"United Kingdom\",\"China\",\"United States\",\"China\",\"Brazil\",\"United States\",\"Germany\",\"United States\",\"United States\",\"India\",\"United States\",\"United States\",\"India\",\"Germany\",\"United Kingdom\",\"United States\",\"United States\",\"United States\",\"United States\",\"United States\",\"United Kingdom\",\"United States\",\"United States\",\"India\",\"United States\",\"United Kingdom\",\"France\",\"China\",\"Singapore\",\"Finland\",\"Indonesia\",\"United States\",\"United States\",\"United States\",\"United States\",\"France\",\"China\",\"Netherlands\",\"United States\",\"United States\",\"Canada\",\"United States\",\"Mexico\",\"United States\",\"United States\",\"United States\",\"United States\",\"United States\",\"United States\",\"France\",\"United States\",\"China\",\"United States\",\"China\",\"United States\",\"United States\",\"United States\",\"United States\",\"China\",\"Sweden\",\"Brazil\",\"United States\",\"Denmark\",\"China\",\"United States\",\"United States\",\"United States\",\"United States\",\"Philippines\",\"United States\",\"United States\",\"Luxembourg\",\"Nigeria\",\"United States\",\"Japan\",\"United States\",\"United States\",\"Japan\",\"United States\",\"Israel\",\"United States\",\"Germany\",\"Hong Kong\",\"United States\",\"United States\",\"United States\",\"China\",\"China\",\"China\",\"United Kingdom\",\"China\",\"United States\",\"South Korea\",\"United States\",\"South Africa\",\"China\",\"India\",\"China\",\"China\",\"Sweden\",\"United States\",\"United States\",\"United States\",\"United States\",\"United States\",\"China\",\"China\",\"China\",\"China\",\"China\",\"China\",\"China\",\"United States\",\"China\",\"China\",\"Colombia\",\"China\",\"India\",\"United States\",\"France\",\"United States\",\"China\",\"China\",\"United States\",\"China\",\"China\",\"China\",\"India\",\"United Kingdom\",\"China\",\"China\",\"China\",\"China\",\"United States\",\"United States\",\"China\",\"China\",\"China\",\"China\",\"China\",\"China\",\"China\",\"China\",\"France\",\"China\",\"China\",\"China\",\"United States\",\"United States\",\"United States\",\"China\",\"Israel\",\"China\",\"United States\",\"China\",\"United States\",\"India\",\"China\",\"United States\",\"China\",\"United States\",\"China\",\"France\",\"United States\",\"China\",\"China\",\"China\",\"China\",\"United States\",\"China\",\"United Kingdom\",\"United States\",\"China\",\"United States\",\"United States\",\"United States\",\"Spain\",\"United States\",\"United States\",\"France\",\"United States\",\"Belgium\",\"United States\",\"Sweden\",\"Canada\",\"Israel\",\"India\",\"United States\",\"United States\",\"China\",\"United States\",\"United States\",\"India\",\"India\",\"United States\",\"Germany\",\"United States\",\"United States\",\"United States\",\"United Kingdom\",\"United States\",\"China\",\"United States\",\"Brazil\",\"France\",\"United States\",\"United States\",\"Hong Kong\",\"China\",\"United States\",\"United Kingdom\",\"South Korea\",\"United States\",\"South Korea\",\"United States\",\"China\",\"China\",\"United States\",\"United States\",\"United States\",\"United States\",\"United States\",\"United States\",\"Israel\",\"United States\",\"United States\",\"Mexico\",\"Australia\",\"United States\",\"United States\",\"China\",\"United States\",\"Spain\",\"United States\",\"United States\",\"United Kingdom\",\"United States\",\"United States\",\"Ireland\",\"United States\",\"United States\",\"China\",\"United Kingdom\",\"United States\",\"United States\",\"United States\",\"Canada\",\"China\",\"Turkey\",\"Japan\",\"Canada\",\"United States\",\"United States\",\"United States\",\"India\",\"United States\",\"United States\",\"United States\",\"United States\",\"United States\",\"United States\",\"United States\",\"United States\",\"India\",\"Mexico\",\"United States\",\"India\",\"Norway\",\"United States\",\"United States\",\"United States\",\"United States\",\"United States\",\"United States\",\"Czech Republic\",\"United States\",\"China\",\"United States\",\"India\",\"Ireland\",\"India\",\"South Korea\",\"China\",\"China\",\"United States\",\"United States\",\"China\",\"United States\",\"United States\",\"United States\",\"United States\",\"United States\",\"United States\",\"United States\",\"China\",\"India\",\"India\",\"United States\",\"Singapore\",\"United States\",\"India\",\"United States\",\"Germany\",\"Canada\",\"United States\",\"United States\",\"United States\",\"China\",\"Germany\",\"India\",\"United States\",\"China\",\"United States\",\"India\",\"Switzerland\",\"United States\",\"United States\",\"United States\",\"Germany\",\"United States\",\"Germany\",\"United States\",\"United States\",\"United Kingdom\",\"United Kingdom\",\"China\",\"India\",\"United Kingdom\",\"India\",\"United States\",\"South Korea\",\"United States\",\"United States\",\"United States\",\"China\",\"Singapore\",\"United States\",\"United States\",\"Israel\",\"China\",\"China\",\"China\",\"Germany\",\"China\",\"United States\",\"Indonesia\",\"United States\",\"India\",\"United States\",\"United States\",\"United States\",\"United States\",\"Israel\",\"United States\",\"Canada\",\"United States\",\"Canada\",\"United States\",\"China\",\"China\",\"United Kingdom\",\"Germany\",\"Chile\",\"Netherlands\",\"India\",\"United States\",\"United States\",\"Singapore\",\"United States\",\"Israel\",\"United States\",\"United States\",\"United States\",\"United States\",\"United States\",\"Brazil\",\"Singapore\",\"United States\",\"United States\",\"United States\",\"Hong Kong\",\"Mexico\",\"United States\",\"United States\",\"United States\",\"India\",\"France\",\"China\",\"United States\",\"Israel\",\"Norway\",\"China\",\"Brazil\",\"China\",\"United States\",\"United Arab Emirates\",\"United States\",\"United States\",\"United States\",\"United States\",\"United States\",\"United States\",\"China\",\"United States\",\"Thailand\",\"China\",\"India\",\"Canada\",\"China\",\"United States\",\"China\",\"Norway\",\"United States\",\"Australia\",\"United States\",\"Israel\",\"China\",\"India\",\"China\",\"United States\",\"Finland\",\"Netherlands\",\"China\",\"United States\",\"United States\",\"China\",\"Brazil\",\"Germany\",\"Croatia\",\"United States\",\"China\",\"United States\",\"United States\",\"Israel\",\"United States\",\"United Arab Emirates\",\"China\",\"Indonesia\",\"China\",\"United States\",\"United States\",\"Ireland\",\"India\",\"China\",\"United States\",\"United States\",\"France\",\"Brazil\",\"China\",\"United States\",\"United States\",\"United States\",\"United States\",\"France\",\"India\",\"China\",\"United States\",\"China\",\"China\",\"China\",\"United States\",\"Brazil\",\"United States\",\"United States\",\"China\",\"United States\",\"United States\",\"Singapore\",\"India\",\"United States\",\"Switzerland\",\"United States\",\"Germany\",\"Singapore\",\"United States\",\"China\",\"United States\",\"United States\",\"United States\",\"United States\",\"United States\",\"Singapore\",\"United Kingdom\",\"Israel\",\"Australia\",\"United States\",\"United States\",\"United States\",\"Japan\",\"China\",\"United Kingdom\",\"United States\",\"United States\",\"United States\",\"United States\",\"Germany\",\"United States\",\"United States\",\"United States\",\"Philippines\",\"United States\",\"United Kingdom\",\"United States\",\"Italy\",\"Switzerland\",\"United States\",\"United States\",\"France\",\"United States\",\"United States\",\"United States\",\"United States\",\"United States\",\"India\",\"United States\",\"United States\",\"United States\",\"United States\",\"United States\",\"United States\",\"United States\",\"United States\",\"United States\",\"France\",\"United States\",\"United States\",\"Canada\",\"China\",\"China\",\"United States\",\"United States\",\"United Kingdom\",\"United States\",\"United Kingdom\",\"United States\",\"United States\",\"United Kingdom\",\"Brazil\",\"United States\",\"India\",\"United States\",\"United States\",\"Canada\",\"Sweden\",\"United States\",\"United States\",\"United States\",\"United States\",\"Hong Kong\",\"China\",\"United States\",\"Indonesia\",\"China\",\"China\",\"United States\",\"China\",\"China\",\"China\",\"China\",\"United Kingdom\",\"United States\"],\"xaxis\":\"x\",\"y\":[\"$180B\",\"$100B\",\"$100B\",\"$95B\",\"$46B\",\"$40B\",\"$40B\",\"$39B\",\"$38B\",\"$38B\",\"$33B\",\"$32B\",\"$32B\",\"$27B\",\"$25B\",\"$22B\",\"$20B\",\"$20B\",\"$18B\",\"$17B\",\"$15B\",\"$15B\",\"$15B\",\"$15B\",\"$14B\",\"$13B\",\"$13B\",\"$13B\",\"$13B\",\"$12B\",\"$12B\",\"$12B\",\"$12B\",\"$12B\",\"$12B\",\"$12B\",\"$12B\",\"$12B\",\"$12B\",\"$11B\",\"$11B\",\"$11B\",\"$11B\",\"$11B\",\"$11B\",\"$11B\",\"$10B\",\"$10B\",\"$10B\",\"$10B\",\"$10B\",\"$10B\",\"$10B\",\"$10B\",\"$10B\",\"$10B\",\"$10B\",\"$10B\",\"$10B\",\"$10B\",\"$10B\",\"$9B\",\"$9B\",\"$9B\",\"$9B\",\"$9B\",\"$9B\",\"$9B\",\"$9B\",\"$9B\",\"$9B\",\"$8B\",\"$8B\",\"$8B\",\"$8B\",\"$8B\",\"$8B\",\"$8B\",\"$8B\",\"$8B\",\"$8B\",\"$8B\",\"$8B\",\"$8B\",\"$7B\",\"$7B\",\"$7B\",\"$7B\",\"$7B\",\"$7B\",\"$7B\",\"$7B\",\"$7B\",\"$7B\",\"$7B\",\"$7B\",\"$7B\",\"$7B\",\"$7B\",\"$7B\",\"$7B\",\"$7B\",\"$6B\",\"$6B\",\"$6B\",\"$6B\",\"$6B\",\"$6B\",\"$6B\",\"$6B\",\"$6B\",\"$6B\",\"$6B\",\"$6B\",\"$6B\",\"$6B\",\"$6B\",\"$6B\",\"$6B\",\"$6B\",\"$6B\",\"$6B\",\"$6B\",\"$6B\",\"$6B\",\"$6B\",\"$6B\",\"$6B\",\"$5B\",\"$5B\",\"$5B\",\"$5B\",\"$5B\",\"$5B\",\"$5B\",\"$5B\",\"$5B\",\"$5B\",\"$5B\",\"$5B\",\"$5B\",\"$5B\",\"$5B\",\"$5B\",\"$5B\",\"$5B\",\"$5B\",\"$5B\",\"$5B\",\"$5B\",\"$5B\",\"$5B\",\"$5B\",\"$5B\",\"$5B\",\"$5B\",\"$5B\",\"$5B\",\"$5B\",\"$5B\",\"$5B\",\"$5B\",\"$5B\",\"$5B\",\"$5B\",\"$5B\",\"$5B\",\"$5B\",\"$4B\",\"$4B\",\"$4B\",\"$4B\",\"$4B\",\"$4B\",\"$4B\",\"$4B\",\"$4B\",\"$4B\",\"$4B\",\"$4B\",\"$4B\",\"$4B\",\"$4B\",\"$4B\",\"$4B\",\"$4B\",\"$4B\",\"$4B\",\"$4B\",\"$4B\",\"$4B\",\"$4B\",\"$4B\",\"$4B\",\"$4B\",\"$4B\",\"$4B\",\"$4B\",\"$4B\",\"$4B\",\"$4B\",\"$4B\",\"$4B\",\"$4B\",\"$4B\",\"$4B\",\"$4B\",\"$4B\",\"$4B\",\"$4B\",\"$4B\",\"$4B\",\"$4B\",\"$4B\",\"$4B\",\"$4B\",\"$4B\",\"$4B\",\"$4B\",\"$4B\",\"$4B\",\"$4B\",\"$4B\",\"$4B\",\"$4B\",\"$4B\",\"$4B\",\"$4B\",\"$4B\",\"$4B\",\"$4B\",\"$4B\",\"$4B\",\"$4B\",\"$4B\",\"$4B\",\"$4B\",\"$4B\",\"$4B\",\"$4B\",\"$3B\",\"$3B\",\"$3B\",\"$3B\",\"$3B\",\"$3B\",\"$3B\",\"$3B\",\"$3B\",\"$3B\",\"$3B\",\"$3B\",\"$3B\",\"$3B\",\"$3B\",\"$3B\",\"$3B\",\"$3B\",\"$3B\",\"$3B\",\"$3B\",\"$3B\",\"$3B\",\"$3B\",\"$3B\",\"$3B\",\"$3B\",\"$3B\",\"$3B\",\"$3B\",\"$3B\",\"$3B\",\"$3B\",\"$3B\",\"$3B\",\"$3B\",\"$3B\",\"$3B\",\"$3B\",\"$3B\",\"$3B\",\"$3B\",\"$3B\",\"$3B\",\"$3B\",\"$3B\",\"$3B\",\"$3B\",\"$3B\",\"$3B\",\"$3B\",\"$3B\",\"$3B\",\"$3B\",\"$3B\",\"$3B\",\"$3B\",\"$3B\",\"$3B\",\"$3B\",\"$3B\",\"$3B\",\"$3B\",\"$3B\",\"$3B\",\"$3B\",\"$3B\",\"$3B\",\"$3B\",\"$3B\",\"$3B\",\"$3B\",\"$3B\",\"$3B\",\"$3B\",\"$3B\",\"$3B\",\"$3B\",\"$3B\",\"$3B\",\"$3B\",\"$3B\",\"$3B\",\"$3B\",\"$3B\",\"$3B\",\"$3B\",\"$3B\",\"$3B\",\"$3B\",\"$3B\",\"$3B\",\"$3B\",\"$3B\",\"$3B\",\"$3B\",\"$3B\",\"$3B\",\"$3B\",\"$3B\",\"$3B\",\"$3B\",\"$3B\",\"$3B\",\"$3B\",\"$3B\",\"$3B\",\"$3B\",\"$3B\",\"$3B\",\"$3B\",\"$3B\",\"$3B\",\"$3B\",\"$3B\",\"$2B\",\"$2B\",\"$2B\",\"$2B\",\"$2B\",\"$2B\",\"$2B\",\"$2B\",\"$2B\",\"$2B\",\"$2B\",\"$2B\",\"$2B\",\"$2B\",\"$2B\",\"$2B\",\"$2B\",\"$2B\",\"$2B\",\"$2B\",\"$2B\",\"$2B\",\"$2B\",\"$2B\",\"$2B\",\"$2B\",\"$2B\",\"$2B\",\"$2B\",\"$2B\",\"$2B\",\"$2B\",\"$2B\",\"$2B\",\"$2B\",\"$2B\",\"$2B\",\"$2B\",\"$2B\",\"$2B\",\"$2B\",\"$2B\",\"$2B\",\"$2B\",\"$2B\",\"$2B\",\"$2B\",\"$2B\",\"$2B\",\"$2B\",\"$2B\",\"$2B\",\"$2B\",\"$2B\",\"$2B\",\"$2B\",\"$2B\",\"$2B\",\"$2B\",\"$2B\",\"$2B\",\"$2B\",\"$2B\",\"$2B\",\"$2B\",\"$2B\",\"$2B\",\"$2B\",\"$2B\",\"$2B\",\"$2B\",\"$2B\",\"$2B\",\"$2B\",\"$2B\",\"$2B\",\"$2B\",\"$2B\",\"$2B\",\"$2B\",\"$2B\",\"$2B\",\"$2B\",\"$2B\",\"$2B\",\"$2B\",\"$2B\",\"$2B\",\"$2B\",\"$2B\",\"$2B\",\"$2B\",\"$2B\",\"$2B\",\"$2B\",\"$2B\",\"$2B\",\"$2B\",\"$2B\",\"$2B\",\"$2B\",\"$2B\",\"$2B\",\"$2B\",\"$2B\",\"$2B\",\"$2B\",\"$2B\",\"$2B\",\"$2B\",\"$2B\",\"$2B\",\"$2B\",\"$2B\",\"$2B\",\"$2B\",\"$2B\",\"$2B\",\"$2B\",\"$2B\",\"$2B\",\"$2B\",\"$2B\",\"$2B\",\"$2B\",\"$2B\",\"$2B\",\"$2B\",\"$2B\",\"$2B\",\"$2B\",\"$2B\",\"$2B\",\"$2B\",\"$2B\",\"$2B\",\"$2B\",\"$2B\",\"$2B\",\"$2B\",\"$2B\",\"$2B\",\"$2B\",\"$2B\",\"$2B\",\"$2B\",\"$2B\",\"$2B\",\"$2B\",\"$2B\",\"$2B\",\"$2B\",\"$2B\",\"$2B\",\"$2B\",\"$2B\",\"$2B\",\"$2B\",\"$2B\",\"$2B\",\"$2B\",\"$2B\",\"$2B\",\"$2B\",\"$2B\",\"$2B\",\"$2B\",\"$2B\",\"$2B\",\"$2B\",\"$2B\",\"$2B\",\"$2B\",\"$2B\",\"$2B\",\"$2B\",\"$2B\",\"$2B\",\"$2B\",\"$2B\",\"$2B\",\"$2B\",\"$2B\",\"$2B\",\"$2B\",\"$2B\",\"$2B\",\"$2B\",\"$2B\",\"$2B\",\"$2B\",\"$2B\",\"$2B\",\"$2B\",\"$2B\",\"$2B\",\"$2B\",\"$2B\",\"$2B\",\"$2B\",\"$2B\",\"$2B\",\"$2B\",\"$2B\",\"$2B\",\"$2B\",\"$2B\",\"$2B\",\"$2B\",\"$2B\",\"$2B\",\"$2B\",\"$2B\",\"$2B\",\"$2B\",\"$2B\",\"$2B\",\"$2B\",\"$2B\",\"$2B\",\"$2B\",\"$2B\",\"$2B\",\"$2B\",\"$2B\",\"$2B\",\"$2B\",\"$2B\",\"$2B\",\"$2B\",\"$2B\",\"$2B\",\"$2B\",\"$2B\",\"$2B\",\"$2B\",\"$2B\",\"$2B\",\"$2B\",\"$2B\",\"$2B\",\"$2B\",\"$2B\",\"$2B\",\"$2B\",\"$2B\",\"$2B\",\"$2B\",\"$1B\",\"$1B\",\"$1B\",\"$1B\",\"$1B\",\"$1B\",\"$1B\",\"$1B\",\"$1B\",\"$1B\",\"$1B\",\"$1B\",\"$1B\",\"$1B\",\"$1B\",\"$1B\",\"$1B\",\"$1B\",\"$1B\",\"$1B\",\"$1B\",\"$1B\",\"$1B\",\"$1B\",\"$1B\",\"$1B\",\"$1B\",\"$1B\",\"$1B\",\"$1B\",\"$1B\",\"$1B\",\"$1B\",\"$1B\",\"$1B\",\"$1B\",\"$1B\",\"$1B\",\"$1B\",\"$1B\",\"$1B\",\"$1B\",\"$1B\",\"$1B\",\"$1B\",\"$1B\",\"$1B\",\"$1B\",\"$1B\",\"$1B\",\"$1B\",\"$1B\",\"$1B\",\"$1B\",\"$1B\",\"$1B\",\"$1B\",\"$1B\",\"$1B\",\"$1B\",\"$1B\",\"$1B\",\"$1B\",\"$1B\",\"$1B\",\"$1B\",\"$1B\",\"$1B\",\"$1B\",\"$1B\",\"$1B\",\"$1B\",\"$1B\",\"$1B\",\"$1B\",\"$1B\",\"$1B\",\"$1B\",\"$1B\",\"$1B\",\"$1B\",\"$1B\",\"$1B\",\"$1B\",\"$1B\",\"$1B\",\"$1B\",\"$1B\",\"$1B\",\"$1B\",\"$1B\",\"$1B\",\"$1B\",\"$1B\",\"$1B\",\"$1B\",\"$1B\",\"$1B\",\"$1B\",\"$1B\",\"$1B\",\"$1B\",\"$1B\",\"$1B\",\"$1B\",\"$1B\",\"$1B\",\"$1B\",\"$1B\",\"$1B\",\"$1B\",\"$1B\",\"$1B\",\"$1B\",\"$1B\",\"$1B\",\"$1B\",\"$1B\",\"$1B\",\"$1B\",\"$1B\",\"$1B\",\"$1B\",\"$1B\",\"$1B\",\"$1B\",\"$1B\",\"$1B\",\"$1B\",\"$1B\",\"$1B\",\"$1B\",\"$1B\",\"$1B\",\"$1B\",\"$1B\",\"$1B\",\"$1B\",\"$1B\",\"$1B\",\"$1B\",\"$1B\",\"$1B\",\"$1B\",\"$1B\",\"$1B\",\"$1B\",\"$1B\",\"$1B\",\"$1B\",\"$1B\",\"$1B\",\"$1B\",\"$1B\",\"$1B\",\"$1B\",\"$1B\",\"$1B\",\"$1B\",\"$1B\",\"$1B\",\"$1B\",\"$1B\",\"$1B\",\"$1B\",\"$1B\",\"$1B\",\"$1B\",\"$1B\",\"$1B\",\"$1B\",\"$1B\",\"$1B\",\"$1B\",\"$1B\",\"$1B\",\"$1B\",\"$1B\",\"$1B\",\"$1B\",\"$1B\",\"$1B\",\"$1B\",\"$1B\",\"$1B\",\"$1B\",\"$1B\",\"$1B\",\"$1B\",\"$1B\",\"$1B\",\"$1B\",\"$1B\",\"$1B\",\"$1B\",\"$1B\",\"$1B\",\"$1B\",\"$1B\",\"$1B\",\"$1B\",\"$1B\",\"$1B\",\"$1B\",\"$1B\",\"$1B\",\"$1B\",\"$1B\",\"$1B\",\"$1B\",\"$1B\",\"$1B\",\"$1B\",\"$1B\",\"$1B\",\"$1B\",\"$1B\",\"$1B\",\"$1B\",\"$1B\",\"$1B\",\"$1B\",\"$1B\",\"$1B\",\"$1B\",\"$1B\",\"$1B\",\"$1B\",\"$1B\",\"$1B\",\"$1B\",\"$1B\",\"$1B\",\"$1B\",\"$1B\",\"$1B\",\"$1B\",\"$1B\",\"$1B\",\"$1B\",\"$1B\",\"$1B\",\"$1B\",\"$1B\",\"$1B\",\"$1B\",\"$1B\",\"$1B\",\"$1B\",\"$1B\",\"$1B\",\"$1B\",\"$1B\",\"$1B\",\"$1B\",\"$1B\",\"$1B\",\"$1B\",\"$1B\",\"$1B\",\"$1B\",\"$1B\",\"$1B\",\"$1B\",\"$1B\",\"$1B\",\"$1B\",\"$1B\",\"$1B\",\"$1B\",\"$1B\",\"$1B\",\"$1B\",\"$1B\",\"$1B\",\"$1B\",\"$1B\",\"$1B\",\"$1B\",\"$1B\",\"$1B\",\"$1B\",\"$1B\",\"$1B\",\"$1B\",\"$1B\",\"$1B\",\"$1B\",\"$1B\",\"$1B\",\"$1B\",\"$1B\",\"$1B\",\"$1B\",\"$1B\",\"$1B\",\"$1B\",\"$1B\",\"$1B\",\"$1B\",\"$1B\",\"$1B\",\"$1B\",\"$1B\",\"$1B\",\"$1B\",\"$1B\",\"$1B\",\"$1B\",\"$1B\",\"$1B\",\"$1B\",\"$1B\",\"$1B\",\"$1B\",\"$1B\",\"$1B\",\"$1B\",\"$1B\",\"$1B\",\"$1B\",\"$1B\",\"$1B\",\"$1B\",\"$1B\",\"$1B\",\"$1B\",\"$1B\",\"$1B\",\"$1B\",\"$1B\",\"$1B\",\"$1B\",\"$1B\",\"$1B\",\"$1B\",\"$1B\",\"$1B\",\"$1B\",\"$1B\",\"$1B\",\"$1B\",\"$1B\",\"$1B\",\"$1B\",\"$1B\",\"$1B\",\"$1B\",\"$1B\",\"$1B\",\"$1B\",\"$1B\",\"$1B\",\"$1B\",\"$1B\",\"$1B\",\"$1B\",\"$1B\",\"$1B\",\"$1B\",\"$1B\",\"$1B\",\"$1B\",\"$1B\",\"$1B\",\"$1B\",\"$1B\",\"$1B\",\"$1B\",\"$1B\",\"$1B\",\"$1B\",\"$1B\",\"$1B\",\"$1B\",\"$1B\",\"$1B\",\"$1B\",\"$1B\",\"$1B\",\"$1B\",\"$1B\",\"$1B\",\"$1B\",\"$1B\",\"$1B\",\"$1B\",\"$1B\",\"$1B\",\"$1B\",\"$1B\",\"$1B\",\"$1B\",\"$1B\",\"$1B\",\"$1B\",\"$1B\",\"$1B\",\"$1B\",\"$1B\",\"$1B\",\"$1B\",\"$1B\",\"$1B\",\"$1B\",\"$1B\",\"$1B\",\"$1B\",\"$1B\",\"$1B\",\"$1B\",\"$1B\",\"$1B\",\"$1B\",\"$1B\",\"$1B\",\"$1B\",\"$1B\",\"$1B\",\"$1B\",\"$1B\",\"$1B\",\"$1B\",\"$1B\",\"$1B\",\"$1B\",\"$1B\",\"$1B\",\"$1B\",\"$1B\",\"$1B\",\"$1B\",\"$1B\",\"$1B\",\"$1B\",\"$1B\",\"$1B\",\"$1B\",\"$1B\",\"$1B\",\"$1B\",\"$1B\",\"$1B\",\"$1B\",\"$1B\",\"$1B\",\"$1B\",\"$1B\",\"$1B\",\"$1B\",\"$1B\",\"$1B\",\"$1B\",\"$1B\",\"$1B\",\"$1B\",\"$1B\",\"$1B\",\"$1B\",\"$1B\",\"$1B\",\"$1B\",\"$1B\",\"$1B\",\"$1B\",\"$1B\",\"$1B\",\"$1B\",\"$1B\",\"$1B\",\"$1B\"],\"yaxis\":\"y\",\"type\":\"bar\"}],                        {\"template\":{\"data\":{\"histogram2dcontour\":[{\"type\":\"histogram2dcontour\",\"colorbar\":{\"outlinewidth\":0,\"ticks\":\"\"},\"colorscale\":[[0.0,\"#0d0887\"],[0.1111111111111111,\"#46039f\"],[0.2222222222222222,\"#7201a8\"],[0.3333333333333333,\"#9c179e\"],[0.4444444444444444,\"#bd3786\"],[0.5555555555555556,\"#d8576b\"],[0.6666666666666666,\"#ed7953\"],[0.7777777777777778,\"#fb9f3a\"],[0.8888888888888888,\"#fdca26\"],[1.0,\"#f0f921\"]]}],\"choropleth\":[{\"type\":\"choropleth\",\"colorbar\":{\"outlinewidth\":0,\"ticks\":\"\"}}],\"histogram2d\":[{\"type\":\"histogram2d\",\"colorbar\":{\"outlinewidth\":0,\"ticks\":\"\"},\"colorscale\":[[0.0,\"#0d0887\"],[0.1111111111111111,\"#46039f\"],[0.2222222222222222,\"#7201a8\"],[0.3333333333333333,\"#9c179e\"],[0.4444444444444444,\"#bd3786\"],[0.5555555555555556,\"#d8576b\"],[0.6666666666666666,\"#ed7953\"],[0.7777777777777778,\"#fb9f3a\"],[0.8888888888888888,\"#fdca26\"],[1.0,\"#f0f921\"]]}],\"heatmap\":[{\"type\":\"heatmap\",\"colorbar\":{\"outlinewidth\":0,\"ticks\":\"\"},\"colorscale\":[[0.0,\"#0d0887\"],[0.1111111111111111,\"#46039f\"],[0.2222222222222222,\"#7201a8\"],[0.3333333333333333,\"#9c179e\"],[0.4444444444444444,\"#bd3786\"],[0.5555555555555556,\"#d8576b\"],[0.6666666666666666,\"#ed7953\"],[0.7777777777777778,\"#fb9f3a\"],[0.8888888888888888,\"#fdca26\"],[1.0,\"#f0f921\"]]}],\"heatmapgl\":[{\"type\":\"heatmapgl\",\"colorbar\":{\"outlinewidth\":0,\"ticks\":\"\"},\"colorscale\":[[0.0,\"#0d0887\"],[0.1111111111111111,\"#46039f\"],[0.2222222222222222,\"#7201a8\"],[0.3333333333333333,\"#9c179e\"],[0.4444444444444444,\"#bd3786\"],[0.5555555555555556,\"#d8576b\"],[0.6666666666666666,\"#ed7953\"],[0.7777777777777778,\"#fb9f3a\"],[0.8888888888888888,\"#fdca26\"],[1.0,\"#f0f921\"]]}],\"contourcarpet\":[{\"type\":\"contourcarpet\",\"colorbar\":{\"outlinewidth\":0,\"ticks\":\"\"}}],\"contour\":[{\"type\":\"contour\",\"colorbar\":{\"outlinewidth\":0,\"ticks\":\"\"},\"colorscale\":[[0.0,\"#0d0887\"],[0.1111111111111111,\"#46039f\"],[0.2222222222222222,\"#7201a8\"],[0.3333333333333333,\"#9c179e\"],[0.4444444444444444,\"#bd3786\"],[0.5555555555555556,\"#d8576b\"],[0.6666666666666666,\"#ed7953\"],[0.7777777777777778,\"#fb9f3a\"],[0.8888888888888888,\"#fdca26\"],[1.0,\"#f0f921\"]]}],\"surface\":[{\"type\":\"surface\",\"colorbar\":{\"outlinewidth\":0,\"ticks\":\"\"},\"colorscale\":[[0.0,\"#0d0887\"],[0.1111111111111111,\"#46039f\"],[0.2222222222222222,\"#7201a8\"],[0.3333333333333333,\"#9c179e\"],[0.4444444444444444,\"#bd3786\"],[0.5555555555555556,\"#d8576b\"],[0.6666666666666666,\"#ed7953\"],[0.7777777777777778,\"#fb9f3a\"],[0.8888888888888888,\"#fdca26\"],[1.0,\"#f0f921\"]]}],\"mesh3d\":[{\"type\":\"mesh3d\",\"colorbar\":{\"outlinewidth\":0,\"ticks\":\"\"}}],\"scatter\":[{\"fillpattern\":{\"fillmode\":\"overlay\",\"size\":10,\"solidity\":0.2},\"type\":\"scatter\"}],\"parcoords\":[{\"type\":\"parcoords\",\"line\":{\"colorbar\":{\"outlinewidth\":0,\"ticks\":\"\"}}}],\"scatterpolargl\":[{\"type\":\"scatterpolargl\",\"marker\":{\"colorbar\":{\"outlinewidth\":0,\"ticks\":\"\"}}}],\"bar\":[{\"error_x\":{\"color\":\"#2a3f5f\"},\"error_y\":{\"color\":\"#2a3f5f\"},\"marker\":{\"line\":{\"color\":\"#E5ECF6\",\"width\":0.5},\"pattern\":{\"fillmode\":\"overlay\",\"size\":10,\"solidity\":0.2}},\"type\":\"bar\"}],\"scattergeo\":[{\"type\":\"scattergeo\",\"marker\":{\"colorbar\":{\"outlinewidth\":0,\"ticks\":\"\"}}}],\"scatterpolar\":[{\"type\":\"scatterpolar\",\"marker\":{\"colorbar\":{\"outlinewidth\":0,\"ticks\":\"\"}}}],\"histogram\":[{\"marker\":{\"pattern\":{\"fillmode\":\"overlay\",\"size\":10,\"solidity\":0.2}},\"type\":\"histogram\"}],\"scattergl\":[{\"type\":\"scattergl\",\"marker\":{\"colorbar\":{\"outlinewidth\":0,\"ticks\":\"\"}}}],\"scatter3d\":[{\"type\":\"scatter3d\",\"line\":{\"colorbar\":{\"outlinewidth\":0,\"ticks\":\"\"}},\"marker\":{\"colorbar\":{\"outlinewidth\":0,\"ticks\":\"\"}}}],\"scattermapbox\":[{\"type\":\"scattermapbox\",\"marker\":{\"colorbar\":{\"outlinewidth\":0,\"ticks\":\"\"}}}],\"scatterternary\":[{\"type\":\"scatterternary\",\"marker\":{\"colorbar\":{\"outlinewidth\":0,\"ticks\":\"\"}}}],\"scattercarpet\":[{\"type\":\"scattercarpet\",\"marker\":{\"colorbar\":{\"outlinewidth\":0,\"ticks\":\"\"}}}],\"carpet\":[{\"aaxis\":{\"endlinecolor\":\"#2a3f5f\",\"gridcolor\":\"white\",\"linecolor\":\"white\",\"minorgridcolor\":\"white\",\"startlinecolor\":\"#2a3f5f\"},\"baxis\":{\"endlinecolor\":\"#2a3f5f\",\"gridcolor\":\"white\",\"linecolor\":\"white\",\"minorgridcolor\":\"white\",\"startlinecolor\":\"#2a3f5f\"},\"type\":\"carpet\"}],\"table\":[{\"cells\":{\"fill\":{\"color\":\"#EBF0F8\"},\"line\":{\"color\":\"white\"}},\"header\":{\"fill\":{\"color\":\"#C8D4E3\"},\"line\":{\"color\":\"white\"}},\"type\":\"table\"}],\"barpolar\":[{\"marker\":{\"line\":{\"color\":\"#E5ECF6\",\"width\":0.5},\"pattern\":{\"fillmode\":\"overlay\",\"size\":10,\"solidity\":0.2}},\"type\":\"barpolar\"}],\"pie\":[{\"automargin\":true,\"type\":\"pie\"}]},\"layout\":{\"autotypenumbers\":\"strict\",\"colorway\":[\"#636efa\",\"#EF553B\",\"#00cc96\",\"#ab63fa\",\"#FFA15A\",\"#19d3f3\",\"#FF6692\",\"#B6E880\",\"#FF97FF\",\"#FECB52\"],\"font\":{\"color\":\"#2a3f5f\"},\"hovermode\":\"closest\",\"hoverlabel\":{\"align\":\"left\"},\"paper_bgcolor\":\"white\",\"plot_bgcolor\":\"#E5ECF6\",\"polar\":{\"bgcolor\":\"#E5ECF6\",\"angularaxis\":{\"gridcolor\":\"white\",\"linecolor\":\"white\",\"ticks\":\"\"},\"radialaxis\":{\"gridcolor\":\"white\",\"linecolor\":\"white\",\"ticks\":\"\"}},\"ternary\":{\"bgcolor\":\"#E5ECF6\",\"aaxis\":{\"gridcolor\":\"white\",\"linecolor\":\"white\",\"ticks\":\"\"},\"baxis\":{\"gridcolor\":\"white\",\"linecolor\":\"white\",\"ticks\":\"\"},\"caxis\":{\"gridcolor\":\"white\",\"linecolor\":\"white\",\"ticks\":\"\"}},\"coloraxis\":{\"colorbar\":{\"outlinewidth\":0,\"ticks\":\"\"}},\"colorscale\":{\"sequential\":[[0.0,\"#0d0887\"],[0.1111111111111111,\"#46039f\"],[0.2222222222222222,\"#7201a8\"],[0.3333333333333333,\"#9c179e\"],[0.4444444444444444,\"#bd3786\"],[0.5555555555555556,\"#d8576b\"],[0.6666666666666666,\"#ed7953\"],[0.7777777777777778,\"#fb9f3a\"],[0.8888888888888888,\"#fdca26\"],[1.0,\"#f0f921\"]],\"sequentialminus\":[[0.0,\"#0d0887\"],[0.1111111111111111,\"#46039f\"],[0.2222222222222222,\"#7201a8\"],[0.3333333333333333,\"#9c179e\"],[0.4444444444444444,\"#bd3786\"],[0.5555555555555556,\"#d8576b\"],[0.6666666666666666,\"#ed7953\"],[0.7777777777777778,\"#fb9f3a\"],[0.8888888888888888,\"#fdca26\"],[1.0,\"#f0f921\"]],\"diverging\":[[0,\"#8e0152\"],[0.1,\"#c51b7d\"],[0.2,\"#de77ae\"],[0.3,\"#f1b6da\"],[0.4,\"#fde0ef\"],[0.5,\"#f7f7f7\"],[0.6,\"#e6f5d0\"],[0.7,\"#b8e186\"],[0.8,\"#7fbc41\"],[0.9,\"#4d9221\"],[1,\"#276419\"]]},\"xaxis\":{\"gridcolor\":\"white\",\"linecolor\":\"white\",\"ticks\":\"\",\"title\":{\"standoff\":15},\"zerolinecolor\":\"white\",\"automargin\":true,\"zerolinewidth\":2},\"yaxis\":{\"gridcolor\":\"white\",\"linecolor\":\"white\",\"ticks\":\"\",\"title\":{\"standoff\":15},\"zerolinecolor\":\"white\",\"automargin\":true,\"zerolinewidth\":2},\"scene\":{\"xaxis\":{\"backgroundcolor\":\"#E5ECF6\",\"gridcolor\":\"white\",\"linecolor\":\"white\",\"showbackground\":true,\"ticks\":\"\",\"zerolinecolor\":\"white\",\"gridwidth\":2},\"yaxis\":{\"backgroundcolor\":\"#E5ECF6\",\"gridcolor\":\"white\",\"linecolor\":\"white\",\"showbackground\":true,\"ticks\":\"\",\"zerolinecolor\":\"white\",\"gridwidth\":2},\"zaxis\":{\"backgroundcolor\":\"#E5ECF6\",\"gridcolor\":\"white\",\"linecolor\":\"white\",\"showbackground\":true,\"ticks\":\"\",\"zerolinecolor\":\"white\",\"gridwidth\":2}},\"shapedefaults\":{\"line\":{\"color\":\"#2a3f5f\"}},\"annotationdefaults\":{\"arrowcolor\":\"#2a3f5f\",\"arrowhead\":0,\"arrowwidth\":1},\"geo\":{\"bgcolor\":\"white\",\"landcolor\":\"#E5ECF6\",\"subunitcolor\":\"white\",\"showland\":true,\"showlakes\":true,\"lakecolor\":\"white\"},\"title\":{\"x\":0.05},\"mapbox\":{\"style\":\"light\"}}},\"xaxis\":{\"anchor\":\"y\",\"domain\":[0.0,1.0],\"title\":{\"text\":\"Country\"}},\"yaxis\":{\"anchor\":\"x\",\"domain\":[0.0,1.0],\"title\":{\"text\":\"Valuation\"}},\"legend\":{\"tracegroupgap\":0},\"margin\":{\"t\":60},\"barmode\":\"relative\"},                        {\"responsive\": true}                    ).then(function(){\n",
       "                            \n",
       "var gd = document.getElementById('8b1be7cb-f6f8-48b1-8a82-eebdd8b04d76');\n",
       "var x = new MutationObserver(function (mutations, observer) {{\n",
       "        var display = window.getComputedStyle(gd).display;\n",
       "        if (!display || display === 'none') {{\n",
       "            console.log([gd, 'removed!']);\n",
       "            Plotly.purge(gd);\n",
       "            observer.disconnect();\n",
       "        }}\n",
       "}});\n",
       "\n",
       "// Listen for the removal of the full notebook cells\n",
       "var notebookContainer = gd.closest('#notebook-container');\n",
       "if (notebookContainer) {{\n",
       "    x.observe(notebookContainer, {childList: true});\n",
       "}}\n",
       "\n",
       "// Listen for the clearing of the current output cell\n",
       "var outputEl = gd.closest('.output');\n",
       "if (outputEl) {{\n",
       "    x.observe(outputEl, {childList: true});\n",
       "}}\n",
       "\n",
       "                        })                };                });            </script>        </div>"
      ]
     },
     "metadata": {},
     "output_type": "display_data"
    }
   ],
   "source": [
    "valuation_Country =px.bar(df,x='Country',y='Valuation')\n",
    "valuation_Country.show()"
   ]
  },
  {
   "cell_type": "markdown",
   "id": "13250f62",
   "metadata": {},
   "source": [
    "## 10 companies have the most unicorn companies"
   ]
  },
  {
   "cell_type": "code",
   "execution_count": 29,
   "id": "4375a0be",
   "metadata": {},
   "outputs": [
    {
     "data": {
      "text/plain": [
       "Text(0.5, 1.0, '10 Countries having the most unicorn companies')"
      ]
     },
     "execution_count": 29,
     "metadata": {},
     "output_type": "execute_result"
    },
    {
     "data": {
      "image/png": "[encoded data removed]",
      "text/plain": [
       "<Figure size 640x480 with 1 Axes>"
      ]
     },
     "metadata": {},
     "output_type": "display_data"
    }
   ],
   "source": [
    "df['Country'].value_counts()[:10].plot(kind='bar')\n",
    "plt.title(\"10 Countries having the most unicorn companies\")"
   ]
  },
  {
   "cell_type": "markdown",
   "id": "38f4a55c",
   "metadata": {},
   "source": [
    "## Continent-wise distribution"
   ]
  },
  {
   "cell_type": "code",
   "execution_count": 31,
   "id": "046826cb",
   "metadata": {},
   "outputs": [],
   "source": [
    "values =df['Continent'].value_counts().values\n",
    "index=df['Continent'].value_counts().index\n"
   ]
  },
  {
   "cell_type": "code",
   "execution_count": 34,
   "id": "546dd686",
   "metadata": {},
   "outputs": [
    {
     "data": {
      "application/vnd.plotly.v1+json": {
       "config": {
        "plotlyServerURL": "https://plot.ly"
       },
       "data": [
        {
         "domain": {
          "x": [
           0,
           1
          ],
          "y": [
           0,
           1
          ]
         },
         "hovertemplate": "label=%{label}<br>value=%{value}<extra></extra>",
         "labels": [
          "North America",
          "Asia",
          "Europe",
          "South America",
          "Oceania",
          "Africa"
         ],
         "legendgroup": "",
         "name": "",
         "showlegend": true,
         "type": "pie",
         "values": [
          589,
          310,
          143,
          21,
          8,
          3
         ]
        }
       ],
       "layout": {
        "legend": {
         "tracegroupgap": 0
        },
        "template": {
         "data": {
          "bar": [
           {
            "error_x": {
             "color": "#2a3f5f"
            },
            "error_y": {
             "color": "#2a3f5f"
            },
            "marker": {
             "line": {
              "color": "#E5ECF6",
              "width": 0.5
             },
             "pattern": {
              "fillmode": "overlay",
              "size": 10,
              "solidity": 0.2
             }
            },
            "type": "bar"
           }
          ],
          "barpolar": [
           {
            "marker": {
             "line": {
              "color": "#E5ECF6",
              "width": 0.5
             },
             "pattern": {
              "fillmode": "overlay",
              "size": 10,
              "solidity": 0.2
             }
            },
            "type": "barpolar"
           }
          ],
          "carpet": [
           {
            "aaxis": {
             "endlinecolor": "#2a3f5f",
             "gridcolor": "white",
             "linecolor": "white",
             "minorgridcolor": "white",
             "startlinecolor": "#2a3f5f"
            },
            "baxis": {
             "endlinecolor": "#2a3f5f",
             "gridcolor": "white",
             "linecolor": "white",
             "minorgridcolor": "white",
             "startlinecolor": "#2a3f5f"
            },
            "type": "carpet"
           }
          ],
          "choropleth": [
           {
            "colorbar": {
             "outlinewidth": 0,
             "ticks": ""
            },
            "type": "choropleth"
           }
          ],
          "contour": [
           {
            "colorbar": {
             "outlinewidth": 0,
             "ticks": ""
            },
            "colorscale": [
             [
              0,
              "#0d0887"
             ],
             [
              0.1111111111111111,
              "#46039f"
             ],
             [
              0.2222222222222222,
              "#7201a8"
             ],
             [
              0.3333333333333333,
              "#9c179e"
             ],
             [
              0.4444444444444444,
              "#bd3786"
             ],
             [
              0.5555555555555556,
              "#d8576b"
             ],
             [
              0.6666666666666666,
              "#ed7953"
             ],
             [
              0.7777777777777778,
              "#fb9f3a"
             ],
             [
              0.8888888888888888,
              "#fdca26"
             ],
             [
              1,
              "#f0f921"
             ]
            ],
            "type": "contour"
           }
          ],
          "contourcarpet": [
           {
            "colorbar": {
             "outlinewidth": 0,
             "ticks": ""
            },
            "type": "contourcarpet"
           }
          ],
          "heatmap": [
           {
            "colorbar": {
             "outlinewidth": 0,
             "ticks": ""
            },
            "colorscale": [
             [
              0,
              "#0d0887"
             ],
             [
              0.1111111111111111,
              "#46039f"
             ],
             [
              0.2222222222222222,
              "#7201a8"
             ],
             [
              0.3333333333333333,
              "#9c179e"
             ],
             [
              0.4444444444444444,
              "#bd3786"
             ],
             [
              0.5555555555555556,
              "#d8576b"
             ],
             [
              0.6666666666666666,
              "#ed7953"
             ],
             [
              0.7777777777777778,
              "#fb9f3a"
             ],
             [
              0.8888888888888888,
              "#fdca26"
             ],
             [
              1,
              "#f0f921"
             ]
            ],
            "type": "heatmap"
           }
          ],
          "heatmapgl": [
           {
            "colorbar": {
             "outlinewidth": 0,
             "ticks": ""
            },
            "colorscale": [
             [
              0,
              "#0d0887"
             ],
             [
              0.1111111111111111,
              "#46039f"
             ],
             [
              0.2222222222222222,
              "#7201a8"
             ],
             [
              0.3333333333333333,
              "#9c179e"
             ],
             [
              0.4444444444444444,
              "#bd3786"
             ],
             [
              0.5555555555555556,
              "#d8576b"
             ],
             [
              0.6666666666666666,
              "#ed7953"
             ],
             [
              0.7777777777777778,
              "#fb9f3a"
             ],
             [
              0.8888888888888888,
              "#fdca26"
             ],
             [
              1,
              "#f0f921"
             ]
            ],
            "type": "heatmapgl"
           }
          ],
          "histogram": [
           {
            "marker": {
             "pattern": {
              "fillmode": "overlay",
              "size": 10,
              "solidity": 0.2
             }
            },
            "type": "histogram"
           }
          ],
          "histogram2d": [
           {
            "colorbar": {
             "outlinewidth": 0,
             "ticks": ""
            },
            "colorscale": [
             [
              0,
              "#0d0887"
             ],
             [
              0.1111111111111111,
              "#46039f"
             ],
             [
              0.2222222222222222,
              "#7201a8"
             ],
             [
              0.3333333333333333,
              "#9c179e"
             ],
             [
              0.4444444444444444,
              "#bd3786"
             ],
             [
              0.5555555555555556,
              "#d8576b"
             ],
             [
              0.6666666666666666,
              "#ed7953"
             ],
             [
              0.7777777777777778,
              "#fb9f3a"
             ],
             [
              0.8888888888888888,
              "#fdca26"
             ],
             [
              1,
              "#f0f921"
             ]
            ],
            "type": "histogram2d"
           }
          ],
          "histogram2dcontour": [
           {
            "colorbar": {
             "outlinewidth": 0,
             "ticks": ""
            },
            "colorscale": [
             [
              0,
              "#0d0887"
             ],
             [
              0.1111111111111111,
              "#46039f"
             ],
             [
              0.2222222222222222,
              "#7201a8"
             ],
             [
              0.3333333333333333,
              "#9c179e"
             ],
             [
              0.4444444444444444,
              "#bd3786"
             ],
             [
              0.5555555555555556,
              "#d8576b"
             ],
             [
              0.6666666666666666,
              "#ed7953"
             ],
             [
              0.7777777777777778,
              "#fb9f3a"
             ],
             [
              0.8888888888888888,
              "#fdca26"
             ],
             [
              1,
              "#f0f921"
             ]
            ],
            "type": "histogram2dcontour"
           }
          ],
          "mesh3d": [
           {
            "colorbar": {
             "outlinewidth": 0,
             "ticks": ""
            },
            "type": "mesh3d"
           }
          ],
          "parcoords": [
           {
            "line": {
             "colorbar": {
              "outlinewidth": 0,
              "ticks": ""
             }
            },
            "type": "parcoords"
           }
          ],
          "pie": [
           {
            "automargin": true,
            "type": "pie"
           }
          ],
          "scatter": [
           {
            "fillpattern": {
             "fillmode": "overlay",
             "size": 10,
             "solidity": 0.2
            },
            "type": "scatter"
           }
          ],
          "scatter3d": [
           {
            "line": {
             "colorbar": {
              "outlinewidth": 0,
              "ticks": ""
             }
            },
            "marker": {
             "colorbar": {
              "outlinewidth": 0,
              "ticks": ""
             }
            },
            "type": "scatter3d"
           }
          ],
          "scattercarpet": [
           {
            "marker": {
             "colorbar": {
              "outlinewidth": 0,
              "ticks": ""
             }
            },
            "type": "scattercarpet"
           }
          ],
          "scattergeo": [
           {
            "marker": {
             "colorbar": {
              "outlinewidth": 0,
              "ticks": ""
             }
            },
            "type": "scattergeo"
           }
          ],
          "scattergl": [
           {
            "marker": {
             "colorbar": {
              "outlinewidth": 0,
              "ticks": ""
             }
            },
            "type": "scattergl"
           }
          ],
          "scattermapbox": [
           {
            "marker": {
             "colorbar": {
              "outlinewidth": 0,
              "ticks": ""
             }
            },
            "type": "scattermapbox"
           }
          ],
          "scatterpolar": [
           {
            "marker": {
             "colorbar": {
              "outlinewidth": 0,
              "ticks": ""
             }
            },
            "type": "scatterpolar"
           }
          ],
          "scatterpolargl": [
           {
            "marker": {
             "colorbar": {
              "outlinewidth": 0,
              "ticks": ""
             }
            },
            "type": "scatterpolargl"
           }
          ],
          "scatterternary": [
           {
            "marker": {
             "colorbar": {
              "outlinewidth": 0,
              "ticks": ""
             }
            },
            "type": "scatterternary"
           }
          ],
          "surface": [
           {
            "colorbar": {
             "outlinewidth": 0,
             "ticks": ""
            },
            "colorscale": [
             [
              0,
              "#0d0887"
             ],
             [
              0.1111111111111111,
              "#46039f"
             ],
             [
              0.2222222222222222,
              "#7201a8"
             ],
             [
              0.3333333333333333,
              "#9c179e"
             ],
             [
              0.4444444444444444,
              "#bd3786"
             ],
             [
              0.5555555555555556,
              "#d8576b"
             ],
             [
              0.6666666666666666,
              "#ed7953"
             ],
             [
              0.7777777777777778,
              "#fb9f3a"
             ],
             [
              0.8888888888888888,
              "#fdca26"
             ],
             [
              1,
              "#f0f921"
             ]
            ],
            "type": "surface"
           }
          ],
          "table": [
           {
            "cells": {
             "fill": {
              "color": "#EBF0F8"
             },
             "line": {
              "color": "white"
             }
            },
            "header": {
             "fill": {
              "color": "#C8D4E3"
             },
             "line": {
              "color": "white"
             }
            },
            "type": "table"
           }
          ]
         },
         "layout": {
          "annotationdefaults": {
           "arrowcolor": "#2a3f5f",
           "arrowhead": 0,
           "arrowwidth": 1
          },
          "autotypenumbers": "strict",
          "coloraxis": {
           "colorbar": {
            "outlinewidth": 0,
            "ticks": ""
           }
          },
          "colorscale": {
           "diverging": [
            [
             0,
             "#8e0152"
            ],
            [
             0.1,
             "#c51b7d"
            ],
            [
             0.2,
             "#de77ae"
            ],
            [
             0.3,
             "#f1b6da"
            ],
            [
             0.4,
             "#fde0ef"
            ],
            [
             0.5,
             "#f7f7f7"
            ],
            [
             0.6,
             "#e6f5d0"
            ],
            [
             0.7,
             "#b8e186"
            ],
            [
             0.8,
             "#7fbc41"
            ],
            [
             0.9,
             "#4d9221"
            ],
            [
             1,
             "#276419"
            ]
           ],
           "sequential": [
            [
             0,
             "#0d0887"
            ],
            [
             0.1111111111111111,
             "#46039f"
            ],
            [
             0.2222222222222222,
             "#7201a8"
            ],
            [
             0.3333333333333333,
             "#9c179e"
            ],
            [
             0.4444444444444444,
             "#bd3786"
            ],
            [
             0.5555555555555556,
             "#d8576b"
            ],
            [
             0.6666666666666666,
             "#ed7953"
            ],
            [
             0.7777777777777778,
             "#fb9f3a"
            ],
            [
             0.8888888888888888,
             "#fdca26"
            ],
            [
             1,
             "#f0f921"
            ]
           ],
           "sequentialminus": [
            [
             0,
             "#0d0887"
            ],
            [
             0.1111111111111111,
             "#46039f"
            ],
            [
             0.2222222222222222,
             "#7201a8"
            ],
            [
             0.3333333333333333,
             "#9c179e"
            ],
            [
             0.4444444444444444,
             "#bd3786"
            ],
            [
             0.5555555555555556,
             "#d8576b"
            ],
            [
             0.6666666666666666,
             "#ed7953"
            ],
            [
             0.7777777777777778,
             "#fb9f3a"
            ],
            [
             0.8888888888888888,
             "#fdca26"
            ],
            [
             1,
             "#f0f921"
            ]
           ]
          },
          "colorway": [
           "#636efa",
           "#EF553B",
           "#00cc96",
           "#ab63fa",
           "#FFA15A",
           "#19d3f3",
           "#FF6692",
           "#B6E880",
           "#FF97FF",
           "#FECB52"
          ],
          "font": {
           "color": "#2a3f5f"
          },
          "geo": {
           "bgcolor": "white",
           "lakecolor": "white",
           "landcolor": "#E5ECF6",
           "showlakes": true,
           "showland": true,
           "subunitcolor": "white"
          },
          "hoverlabel": {
           "align": "left"
          },
          "hovermode": "closest",
          "mapbox": {
           "style": "light"
          },
          "paper_bgcolor": "white",
          "plot_bgcolor": "#E5ECF6",
          "polar": {
           "angularaxis": {
            "gridcolor": "white",
            "linecolor": "white",
            "ticks": ""
           },
           "bgcolor": "#E5ECF6",
           "radialaxis": {
            "gridcolor": "white",
            "linecolor": "white",
            "ticks": ""
           }
          },
          "scene": {
           "xaxis": {
            "backgroundcolor": "#E5ECF6",
            "gridcolor": "white",
            "gridwidth": 2,
            "linecolor": "white",
            "showbackground": true,
            "ticks": "",
            "zerolinecolor": "white"
           },
           "yaxis": {
            "backgroundcolor": "#E5ECF6",
            "gridcolor": "white",
            "gridwidth": 2,
            "linecolor": "white",
            "showbackground": true,
            "ticks": "",
            "zerolinecolor": "white"
           },
           "zaxis": {
            "backgroundcolor": "#E5ECF6",
            "gridcolor": "white",
            "gridwidth": 2,
            "linecolor": "white",
            "showbackground": true,
            "ticks": "",
            "zerolinecolor": "white"
           }
          },
          "shapedefaults": {
           "line": {
            "color": "#2a3f5f"
           }
          },
          "ternary": {
           "aaxis": {
            "gridcolor": "white",
            "linecolor": "white",
            "ticks": ""
           },
           "baxis": {
            "gridcolor": "white",
            "linecolor": "white",
            "ticks": ""
           },
           "bgcolor": "#E5ECF6",
           "caxis": {
            "gridcolor": "white",
            "linecolor": "white",
            "ticks": ""
           }
          },
          "title": {
           "x": 0.05
          },
          "xaxis": {
           "automargin": true,
           "gridcolor": "white",
           "linecolor": "white",
           "ticks": "",
           "title": {
            "standoff": 15
           },
           "zerolinecolor": "white",
           "zerolinewidth": 2
          },
          "yaxis": {
           "automargin": true,
           "gridcolor": "white",
           "linecolor": "white",
           "ticks": "",
           "title": {
            "standoff": 15
           },
           "zerolinecolor": "white",
           "zerolinewidth": 2
          }
         }
        },
        "title": {
         "text": "Continent-Wise distribution"
        }
       }
      },
      "text/html": [
       "<div>                            <div id=\"dd0e0e01-d716-46ac-9ef8-a72505b8161a\" class=\"plotly-graph-div\" style=\"height:525px; width:100%;\"></div>            <script type=\"text/javascript\">                require([\"plotly\"], function(Plotly) {                    window.PLOTLYENV=window.PLOTLYENV || {};                                    if (document.getElementById(\"dd0e0e01-d716-46ac-9ef8-a72505b8161a\")) {                    Plotly.newPlot(                        \"dd0e0e01-d716-46ac-9ef8-a72505b8161a\",                        [{\"domain\":{\"x\":[0.0,1.0],\"y\":[0.0,1.0]},\"hovertemplate\":\"label=%{label}<br>value=%{value}<extra></extra>\",\"labels\":[\"North America\",\"Asia\",\"Europe\",\"South America\",\"Oceania\",\"Africa\"],\"legendgroup\":\"\",\"name\":\"\",\"showlegend\":true,\"values\":[589,310,143,21,8,3],\"type\":\"pie\"}],                        {\"template\":{\"data\":{\"histogram2dcontour\":[{\"type\":\"histogram2dcontour\",\"colorbar\":{\"outlinewidth\":0,\"ticks\":\"\"},\"colorscale\":[[0.0,\"#0d0887\"],[0.1111111111111111,\"#46039f\"],[0.2222222222222222,\"#7201a8\"],[0.3333333333333333,\"#9c179e\"],[0.4444444444444444,\"#bd3786\"],[0.5555555555555556,\"#d8576b\"],[0.6666666666666666,\"#ed7953\"],[0.7777777777777778,\"#fb9f3a\"],[0.8888888888888888,\"#fdca26\"],[1.0,\"#f0f921\"]]}],\"choropleth\":[{\"type\":\"choropleth\",\"colorbar\":{\"outlinewidth\":0,\"ticks\":\"\"}}],\"histogram2d\":[{\"type\":\"histogram2d\",\"colorbar\":{\"outlinewidth\":0,\"ticks\":\"\"},\"colorscale\":[[0.0,\"#0d0887\"],[0.1111111111111111,\"#46039f\"],[0.2222222222222222,\"#7201a8\"],[0.3333333333333333,\"#9c179e\"],[0.4444444444444444,\"#bd3786\"],[0.5555555555555556,\"#d8576b\"],[0.6666666666666666,\"#ed7953\"],[0.7777777777777778,\"#fb9f3a\"],[0.8888888888888888,\"#fdca26\"],[1.0,\"#f0f921\"]]}],\"heatmap\":[{\"type\":\"heatmap\",\"colorbar\":{\"outlinewidth\":0,\"ticks\":\"\"},\"colorscale\":[[0.0,\"#0d0887\"],[0.1111111111111111,\"#46039f\"],[0.2222222222222222,\"#7201a8\"],[0.3333333333333333,\"#9c179e\"],[0.4444444444444444,\"#bd3786\"],[0.5555555555555556,\"#d8576b\"],[0.6666666666666666,\"#ed7953\"],[0.7777777777777778,\"#fb9f3a\"],[0.8888888888888888,\"#fdca26\"],[1.0,\"#f0f921\"]]}],\"heatmapgl\":[{\"type\":\"heatmapgl\",\"colorbar\":{\"outlinewidth\":0,\"ticks\":\"\"},\"colorscale\":[[0.0,\"#0d0887\"],[0.1111111111111111,\"#46039f\"],[0.2222222222222222,\"#7201a8\"],[0.3333333333333333,\"#9c179e\"],[0.4444444444444444,\"#bd3786\"],[0.5555555555555556,\"#d8576b\"],[0.6666666666666666,\"#ed7953\"],[0.7777777777777778,\"#fb9f3a\"],[0.8888888888888888,\"#fdca26\"],[1.0,\"#f0f921\"]]}],\"contourcarpet\":[{\"type\":\"contourcarpet\",\"colorbar\":{\"outlinewidth\":0,\"ticks\":\"\"}}],\"contour\":[{\"type\":\"contour\",\"colorbar\":{\"outlinewidth\":0,\"ticks\":\"\"},\"colorscale\":[[0.0,\"#0d0887\"],[0.1111111111111111,\"#46039f\"],[0.2222222222222222,\"#7201a8\"],[0.3333333333333333,\"#9c179e\"],[0.4444444444444444,\"#bd3786\"],[0.5555555555555556,\"#d8576b\"],[0.6666666666666666,\"#ed7953\"],[0.7777777777777778,\"#fb9f3a\"],[0.8888888888888888,\"#fdca26\"],[1.0,\"#f0f921\"]]}],\"surface\":[{\"type\":\"surface\",\"colorbar\":{\"outlinewidth\":0,\"ticks\":\"\"},\"colorscale\":[[0.0,\"#0d0887\"],[0.1111111111111111,\"#46039f\"],[0.2222222222222222,\"#7201a8\"],[0.3333333333333333,\"#9c179e\"],[0.4444444444444444,\"#bd3786\"],[0.5555555555555556,\"#d8576b\"],[0.6666666666666666,\"#ed7953\"],[0.7777777777777778,\"#fb9f3a\"],[0.8888888888888888,\"#fdca26\"],[1.0,\"#f0f921\"]]}],\"mesh3d\":[{\"type\":\"mesh3d\",\"colorbar\":{\"outlinewidth\":0,\"ticks\":\"\"}}],\"scatter\":[{\"fillpattern\":{\"fillmode\":\"overlay\",\"size\":10,\"solidity\":0.2},\"type\":\"scatter\"}],\"parcoords\":[{\"type\":\"parcoords\",\"line\":{\"colorbar\":{\"outlinewidth\":0,\"ticks\":\"\"}}}],\"scatterpolargl\":[{\"type\":\"scatterpolargl\",\"marker\":{\"colorbar\":{\"outlinewidth\":0,\"ticks\":\"\"}}}],\"bar\":[{\"error_x\":{\"color\":\"#2a3f5f\"},\"error_y\":{\"color\":\"#2a3f5f\"},\"marker\":{\"line\":{\"color\":\"#E5ECF6\",\"width\":0.5},\"pattern\":{\"fillmode\":\"overlay\",\"size\":10,\"solidity\":0.2}},\"type\":\"bar\"}],\"scattergeo\":[{\"type\":\"scattergeo\",\"marker\":{\"colorbar\":{\"outlinewidth\":0,\"ticks\":\"\"}}}],\"scatterpolar\":[{\"type\":\"scatterpolar\",\"marker\":{\"colorbar\":{\"outlinewidth\":0,\"ticks\":\"\"}}}],\"histogram\":[{\"marker\":{\"pattern\":{\"fillmode\":\"overlay\",\"size\":10,\"solidity\":0.2}},\"type\":\"histogram\"}],\"scattergl\":[{\"type\":\"scattergl\",\"marker\":{\"colorbar\":{\"outlinewidth\":0,\"ticks\":\"\"}}}],\"scatter3d\":[{\"type\":\"scatter3d\",\"line\":{\"colorbar\":{\"outlinewidth\":0,\"ticks\":\"\"}},\"marker\":{\"colorbar\":{\"outlinewidth\":0,\"ticks\":\"\"}}}],\"scattermapbox\":[{\"type\":\"scattermapbox\",\"marker\":{\"colorbar\":{\"outlinewidth\":0,\"ticks\":\"\"}}}],\"scatterternary\":[{\"type\":\"scatterternary\",\"marker\":{\"colorbar\":{\"outlinewidth\":0,\"ticks\":\"\"}}}],\"scattercarpet\":[{\"type\":\"scattercarpet\",\"marker\":{\"colorbar\":{\"outlinewidth\":0,\"ticks\":\"\"}}}],\"carpet\":[{\"aaxis\":{\"endlinecolor\":\"#2a3f5f\",\"gridcolor\":\"white\",\"linecolor\":\"white\",\"minorgridcolor\":\"white\",\"startlinecolor\":\"#2a3f5f\"},\"baxis\":{\"endlinecolor\":\"#2a3f5f\",\"gridcolor\":\"white\",\"linecolor\":\"white\",\"minorgridcolor\":\"white\",\"startlinecolor\":\"#2a3f5f\"},\"type\":\"carpet\"}],\"table\":[{\"cells\":{\"fill\":{\"color\":\"#EBF0F8\"},\"line\":{\"color\":\"white\"}},\"header\":{\"fill\":{\"color\":\"#C8D4E3\"},\"line\":{\"color\":\"white\"}},\"type\":\"table\"}],\"barpolar\":[{\"marker\":{\"line\":{\"color\":\"#E5ECF6\",\"width\":0.5},\"pattern\":{\"fillmode\":\"overlay\",\"size\":10,\"solidity\":0.2}},\"type\":\"barpolar\"}],\"pie\":[{\"automargin\":true,\"type\":\"pie\"}]},\"layout\":{\"autotypenumbers\":\"strict\",\"colorway\":[\"#636efa\",\"#EF553B\",\"#00cc96\",\"#ab63fa\",\"#FFA15A\",\"#19d3f3\",\"#FF6692\",\"#B6E880\",\"#FF97FF\",\"#FECB52\"],\"font\":{\"color\":\"#2a3f5f\"},\"hovermode\":\"closest\",\"hoverlabel\":{\"align\":\"left\"},\"paper_bgcolor\":\"white\",\"plot_bgcolor\":\"#E5ECF6\",\"polar\":{\"bgcolor\":\"#E5ECF6\",\"angularaxis\":{\"gridcolor\":\"white\",\"linecolor\":\"white\",\"ticks\":\"\"},\"radialaxis\":{\"gridcolor\":\"white\",\"linecolor\":\"white\",\"ticks\":\"\"}},\"ternary\":{\"bgcolor\":\"#E5ECF6\",\"aaxis\":{\"gridcolor\":\"white\",\"linecolor\":\"white\",\"ticks\":\"\"},\"baxis\":{\"gridcolor\":\"white\",\"linecolor\":\"white\",\"ticks\":\"\"},\"caxis\":{\"gridcolor\":\"white\",\"linecolor\":\"white\",\"ticks\":\"\"}},\"coloraxis\":{\"colorbar\":{\"outlinewidth\":0,\"ticks\":\"\"}},\"colorscale\":{\"sequential\":[[0.0,\"#0d0887\"],[0.1111111111111111,\"#46039f\"],[0.2222222222222222,\"#7201a8\"],[0.3333333333333333,\"#9c179e\"],[0.4444444444444444,\"#bd3786\"],[0.5555555555555556,\"#d8576b\"],[0.6666666666666666,\"#ed7953\"],[0.7777777777777778,\"#fb9f3a\"],[0.8888888888888888,\"#fdca26\"],[1.0,\"#f0f921\"]],\"sequentialminus\":[[0.0,\"#0d0887\"],[0.1111111111111111,\"#46039f\"],[0.2222222222222222,\"#7201a8\"],[0.3333333333333333,\"#9c179e\"],[0.4444444444444444,\"#bd3786\"],[0.5555555555555556,\"#d8576b\"],[0.6666666666666666,\"#ed7953\"],[0.7777777777777778,\"#fb9f3a\"],[0.8888888888888888,\"#fdca26\"],[1.0,\"#f0f921\"]],\"diverging\":[[0,\"#8e0152\"],[0.1,\"#c51b7d\"],[0.2,\"#de77ae\"],[0.3,\"#f1b6da\"],[0.4,\"#fde0ef\"],[0.5,\"#f7f7f7\"],[0.6,\"#e6f5d0\"],[0.7,\"#b8e186\"],[0.8,\"#7fbc41\"],[0.9,\"#4d9221\"],[1,\"#276419\"]]},\"xaxis\":{\"gridcolor\":\"white\",\"linecolor\":\"white\",\"ticks\":\"\",\"title\":{\"standoff\":15},\"zerolinecolor\":\"white\",\"automargin\":true,\"zerolinewidth\":2},\"yaxis\":{\"gridcolor\":\"white\",\"linecolor\":\"white\",\"ticks\":\"\",\"title\":{\"standoff\":15},\"zerolinecolor\":\"white\",\"automargin\":true,\"zerolinewidth\":2},\"scene\":{\"xaxis\":{\"backgroundcolor\":\"#E5ECF6\",\"gridcolor\":\"white\",\"linecolor\":\"white\",\"showbackground\":true,\"ticks\":\"\",\"zerolinecolor\":\"white\",\"gridwidth\":2},\"yaxis\":{\"backgroundcolor\":\"#E5ECF6\",\"gridcolor\":\"white\",\"linecolor\":\"white\",\"showbackground\":true,\"ticks\":\"\",\"zerolinecolor\":\"white\",\"gridwidth\":2},\"zaxis\":{\"backgroundcolor\":\"#E5ECF6\",\"gridcolor\":\"white\",\"linecolor\":\"white\",\"showbackground\":true,\"ticks\":\"\",\"zerolinecolor\":\"white\",\"gridwidth\":2}},\"shapedefaults\":{\"line\":{\"color\":\"#2a3f5f\"}},\"annotationdefaults\":{\"arrowcolor\":\"#2a3f5f\",\"arrowhead\":0,\"arrowwidth\":1},\"geo\":{\"bgcolor\":\"white\",\"landcolor\":\"#E5ECF6\",\"subunitcolor\":\"white\",\"showland\":true,\"showlakes\":true,\"lakecolor\":\"white\"},\"title\":{\"x\":0.05},\"mapbox\":{\"style\":\"light\"}}},\"legend\":{\"tracegroupgap\":0},\"title\":{\"text\":\"Continent-Wise distribution\"}},                        {\"responsive\": true}                    ).then(function(){\n",
       "                            \n",
       "var gd = document.getElementById('dd0e0e01-d716-46ac-9ef8-a72505b8161a');\n",
       "var x = new MutationObserver(function (mutations, observer) {{\n",
       "        var display = window.getComputedStyle(gd).display;\n",
       "        if (!display || display === 'none') {{\n",
       "            console.log([gd, 'removed!']);\n",
       "            Plotly.purge(gd);\n",
       "            observer.disconnect();\n",
       "        }}\n",
       "}});\n",
       "\n",
       "// Listen for the removal of the full notebook cells\n",
       "var notebookContainer = gd.closest('#notebook-container');\n",
       "if (notebookContainer) {{\n",
       "    x.observe(notebookContainer, {childList: true});\n",
       "}}\n",
       "\n",
       "// Listen for the clearing of the current output cell\n",
       "var outputEl = gd.closest('.output');\n",
       "if (outputEl) {{\n",
       "    x.observe(outputEl, {childList: true});\n",
       "}}\n",
       "\n",
       "                        })                };                });            </script>        </div>"
      ]
     },
     "metadata": {},
     "output_type": "display_data"
    }
   ],
   "source": [
    "fig = px.pie(df,values=values,names=index ,title=\"Continent-Wise distribution\")\n",
    "\n",
    "fig.show()"
   ]
  },
  {
   "cell_type": "markdown",
   "id": "013c8c93",
   "metadata": {},
   "source": [
    "## Industries-wise distribution of unicorn Comapnies in INDIA"
   ]
  },
  {
   "cell_type": "code",
   "execution_count": 70,
   "id": "2fa148a9",
   "metadata": {},
   "outputs": [
    {
     "data": {
      "text/plain": [
       "Index(['Comapny', 'Valuation', 'Date of Joining', 'Industry', 'City',\n",
       "       'Country', 'Continent', 'Year founded', 'Funding', 'Investors'],\n",
       "      dtype='object')"
      ]
     },
     "execution_count": 70,
     "metadata": {},
     "output_type": "execute_result"
    }
   ],
   "source": [
    "df.columns"
   ]
  },
  {
   "cell_type": "code",
   "execution_count": 57,
   "id": "f4df4214",
   "metadata": {},
   "outputs": [
    {
     "data": {
      "text/plain": [
       "Text(0.5, 1.0, 'Industy wise distribution of unicorn companies in INDIA')"
      ]
     },
     "execution_count": 57,
     "metadata": {},
     "output_type": "execute_result"
    },
    {
     "data": {
      "image/png": "[encoded data removed]",
      "text/plain": [
       "<Figure size 640x480 with 1 Axes>"
      ]
     },
     "metadata": {},
     "output_type": "display_data"
    }
   ],
   "source": [
    "df['Industry'].value_counts().plot(kind='bar')\n",
    "plt.title(\"Industy wise distribution of unicorn companies in INDIA\")"
   ]
  },
  {
   "cell_type": "code",
   "execution_count": null,
   "id": "83f80be0",
   "metadata": {},
   "outputs": [],
   "source": []
  },
  {
   "cell_type": "code",
   "execution_count": null,
   "id": "922319a9",
   "metadata": {},
   "outputs": [],
   "source": []
  }
 ],
 "metadata": {
  "kernelspec": {
   "display_name": "Python 3 (ipykernel)",
   "language": "python",
   "name": "python3"
  },
  "language_info": {
   "codemirror_mode": {
    "name": "ipython",
    "version": 3
   },
   "file_extension": ".py",
   "mimetype": "text/x-python",
   "name": "python",
   "nbconvert_exporter": "python",
   "pygments_lexer": "ipython3",
   "version": "3.10.9"
  }
 },
 "nbformat": 4,
 "nbformat_minor": 5
}
